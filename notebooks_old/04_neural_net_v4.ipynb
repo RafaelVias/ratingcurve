{
 "cells": [
  {
   "cell_type": "code",
   "execution_count": 3,
   "id": "0e1246b4",
   "metadata": {},
   "outputs": [],
   "source": [
    "# implement custom segment layer, which replaces standard neurons with stream segmenet equation\n",
    "\n",
    "# see https://link.springer.com/article/10.1007/s00477-008-0248-0 equation 3"
   ]
  },
  {
   "cell_type": "code",
   "execution_count": 1,
   "id": "291d8e6f",
   "metadata": {},
   "outputs": [],
   "source": [
    "#https://xuwd11.github.io/Dropout_Tutorial_in_PyTorch/\n",
    "%matplotlib inline\n",
    "import numpy as np\n",
    "import torch\n",
    "import torch.optim as optim\n",
    "from torch.autograd import Variable\n",
    "import torch.nn as nn\n",
    "import torch.nn.functional as F\n",
    "torch.set_printoptions(edgeitems=2, linewidth=75)"
   ]
  },
  {
   "cell_type": "code",
   "execution_count": 7,
   "id": "b98c50c9",
   "metadata": {},
   "outputs": [
    {
     "data": {
      "text/plain": [
       "\u001b[1;31mDocstring:\u001b[0m\n",
       "subtract(input, other, *, alpha=1, out=None) -> Tensor\n",
       "\n",
       "Alias for :func:`torch.sub`.\n",
       "\u001b[1;31mType:\u001b[0m      builtin_function_or_method\n"
      ]
     },
     "metadata": {},
     "output_type": "display_data"
    }
   ],
   "source": [
    "torch.subtract?"
   ]
  },
  {
   "cell_type": "code",
   "execution_count": 93,
   "id": "c08ecd78",
   "metadata": {},
   "outputs": [
    {
     "name": "stderr",
     "output_type": "stream",
     "text": [
      "<ipython-input-93-e78e5230d07a>:1: RuntimeWarning: invalid value encountered in log\n",
      "  np.log(-2)\n"
     ]
    },
    {
     "data": {
      "text/plain": [
       "nan"
      ]
     },
     "execution_count": 93,
     "metadata": {},
     "output_type": "execute_result"
    }
   ],
   "source": [
    "x -"
   ]
  },
  {
   "cell_type": "code",
   "execution_count": 84,
   "id": "29bf3ce5",
   "metadata": {},
   "outputs": [
    {
     "data": {
      "text/plain": [
       "tensor([[1.0986,    nan],\n",
       "        [1.0986,    nan],\n",
       "        [1.0986,    nan],\n",
       "        [1.0986,    nan],\n",
       "        [1.0986,    nan]])"
      ]
     },
     "execution_count": 84,
     "metadata": {},
     "output_type": "execute_result"
    }
   ],
   "source": [
    "i= 2\n",
    "o= 5\n",
    "x = torch.tensor([3, 2])\n",
    "h = \n",
    "#h = torch.Tensor(o, i)\n",
    "#x = torch.Tensor(i,1)\n",
    "w = torch.Tensor(o, i)\n",
    "w = torch.tensor([1,1])\n",
    "x_t = x - h\n",
    "#x_t\n",
    "torch.mul(torch.log(x_t), w)\n",
    "\n",
    "# set all nans to zero\n",
    "\n",
    "# sum\n"
   ]
  },
  {
   "cell_type": "code",
   "execution_count": 87,
   "id": "382d351f",
   "metadata": {},
   "outputs": [
    {
     "ename": "TypeError",
     "evalue": "relu(): argument 'input' (position 1) must be Tensor, not float",
     "output_type": "error",
     "traceback": [
      "\u001b[1;31m---------------------------------------------------------------------------\u001b[0m",
      "\u001b[1;31mTypeError\u001b[0m                                 Traceback (most recent call last)",
      "\u001b[1;32m<ipython-input-87-f6771e4df5cd>\u001b[0m in \u001b[0;36m<module>\u001b[1;34m\u001b[0m\n\u001b[0;32m      1\u001b[0m \u001b[0mact\u001b[0m \u001b[1;33m=\u001b[0m \u001b[0mnn\u001b[0m\u001b[1;33m.\u001b[0m\u001b[0mReLU\u001b[0m\u001b[1;33m(\u001b[0m\u001b[1;33m)\u001b[0m\u001b[1;33m\u001b[0m\u001b[1;33m\u001b[0m\u001b[0m\n\u001b[1;32m----> 2\u001b[1;33m \u001b[0mact\u001b[0m\u001b[1;33m(\u001b[0m\u001b[0mnp\u001b[0m\u001b[1;33m.\u001b[0m\u001b[0mnan\u001b[0m\u001b[1;33m)\u001b[0m\u001b[1;33m\u001b[0m\u001b[1;33m\u001b[0m\u001b[0m\n\u001b[0m",
      "\u001b[1;32mc:\\users\\thodson\\appdata\\local\\programs\\python\\python39\\lib\\site-packages\\torch\\nn\\modules\\module.py\u001b[0m in \u001b[0;36m_call_impl\u001b[1;34m(self, *input, **kwargs)\u001b[0m\n\u001b[0;32m   1049\u001b[0m         if not (self._backward_hooks or self._forward_hooks or self._forward_pre_hooks or _global_backward_hooks\n\u001b[0;32m   1050\u001b[0m                 or _global_forward_hooks or _global_forward_pre_hooks):\n\u001b[1;32m-> 1051\u001b[1;33m             \u001b[1;32mreturn\u001b[0m \u001b[0mforward_call\u001b[0m\u001b[1;33m(\u001b[0m\u001b[1;33m*\u001b[0m\u001b[0minput\u001b[0m\u001b[1;33m,\u001b[0m \u001b[1;33m**\u001b[0m\u001b[0mkwargs\u001b[0m\u001b[1;33m)\u001b[0m\u001b[1;33m\u001b[0m\u001b[1;33m\u001b[0m\u001b[0m\n\u001b[0m\u001b[0;32m   1052\u001b[0m         \u001b[1;31m# Do not call functions when jit is used\u001b[0m\u001b[1;33m\u001b[0m\u001b[1;33m\u001b[0m\u001b[1;33m\u001b[0m\u001b[0m\n\u001b[0;32m   1053\u001b[0m         \u001b[0mfull_backward_hooks\u001b[0m\u001b[1;33m,\u001b[0m \u001b[0mnon_full_backward_hooks\u001b[0m \u001b[1;33m=\u001b[0m \u001b[1;33m[\u001b[0m\u001b[1;33m]\u001b[0m\u001b[1;33m,\u001b[0m \u001b[1;33m[\u001b[0m\u001b[1;33m]\u001b[0m\u001b[1;33m\u001b[0m\u001b[1;33m\u001b[0m\u001b[0m\n",
      "\u001b[1;32mc:\\users\\thodson\\appdata\\local\\programs\\python\\python39\\lib\\site-packages\\torch\\nn\\modules\\activation.py\u001b[0m in \u001b[0;36mforward\u001b[1;34m(self, input)\u001b[0m\n\u001b[0;32m    100\u001b[0m \u001b[1;33m\u001b[0m\u001b[0m\n\u001b[0;32m    101\u001b[0m     \u001b[1;32mdef\u001b[0m \u001b[0mforward\u001b[0m\u001b[1;33m(\u001b[0m\u001b[0mself\u001b[0m\u001b[1;33m,\u001b[0m \u001b[0minput\u001b[0m\u001b[1;33m:\u001b[0m \u001b[0mTensor\u001b[0m\u001b[1;33m)\u001b[0m \u001b[1;33m->\u001b[0m \u001b[0mTensor\u001b[0m\u001b[1;33m:\u001b[0m\u001b[1;33m\u001b[0m\u001b[1;33m\u001b[0m\u001b[0m\n\u001b[1;32m--> 102\u001b[1;33m         \u001b[1;32mreturn\u001b[0m \u001b[0mF\u001b[0m\u001b[1;33m.\u001b[0m\u001b[0mrelu\u001b[0m\u001b[1;33m(\u001b[0m\u001b[0minput\u001b[0m\u001b[1;33m,\u001b[0m \u001b[0minplace\u001b[0m\u001b[1;33m=\u001b[0m\u001b[0mself\u001b[0m\u001b[1;33m.\u001b[0m\u001b[0minplace\u001b[0m\u001b[1;33m)\u001b[0m\u001b[1;33m\u001b[0m\u001b[1;33m\u001b[0m\u001b[0m\n\u001b[0m\u001b[0;32m    103\u001b[0m \u001b[1;33m\u001b[0m\u001b[0m\n\u001b[0;32m    104\u001b[0m     \u001b[1;32mdef\u001b[0m \u001b[0mextra_repr\u001b[0m\u001b[1;33m(\u001b[0m\u001b[0mself\u001b[0m\u001b[1;33m)\u001b[0m \u001b[1;33m->\u001b[0m \u001b[0mstr\u001b[0m\u001b[1;33m:\u001b[0m\u001b[1;33m\u001b[0m\u001b[1;33m\u001b[0m\u001b[0m\n",
      "\u001b[1;32mc:\\users\\thodson\\appdata\\local\\programs\\python\\python39\\lib\\site-packages\\torch\\nn\\functional.py\u001b[0m in \u001b[0;36mrelu\u001b[1;34m(input, inplace)\u001b[0m\n\u001b[0;32m   1296\u001b[0m         \u001b[0mresult\u001b[0m \u001b[1;33m=\u001b[0m \u001b[0mtorch\u001b[0m\u001b[1;33m.\u001b[0m\u001b[0mrelu_\u001b[0m\u001b[1;33m(\u001b[0m\u001b[0minput\u001b[0m\u001b[1;33m)\u001b[0m\u001b[1;33m\u001b[0m\u001b[1;33m\u001b[0m\u001b[0m\n\u001b[0;32m   1297\u001b[0m     \u001b[1;32melse\u001b[0m\u001b[1;33m:\u001b[0m\u001b[1;33m\u001b[0m\u001b[1;33m\u001b[0m\u001b[0m\n\u001b[1;32m-> 1298\u001b[1;33m         \u001b[0mresult\u001b[0m \u001b[1;33m=\u001b[0m \u001b[0mtorch\u001b[0m\u001b[1;33m.\u001b[0m\u001b[0mrelu\u001b[0m\u001b[1;33m(\u001b[0m\u001b[0minput\u001b[0m\u001b[1;33m)\u001b[0m\u001b[1;33m\u001b[0m\u001b[1;33m\u001b[0m\u001b[0m\n\u001b[0m\u001b[0;32m   1299\u001b[0m     \u001b[1;32mreturn\u001b[0m \u001b[0mresult\u001b[0m\u001b[1;33m\u001b[0m\u001b[1;33m\u001b[0m\u001b[0m\n\u001b[0;32m   1300\u001b[0m \u001b[1;33m\u001b[0m\u001b[0m\n",
      "\u001b[1;31mTypeError\u001b[0m: relu(): argument 'input' (position 1) must be Tensor, not float"
     ]
    }
   ],
   "source": [
    "act = nn.ReLU()\n",
    "act(np.nan)"
   ]
  },
  {
   "cell_type": "code",
   "execution_count": 63,
   "id": "9c73c817",
   "metadata": {},
   "outputs": [
    {
     "data": {
      "text/plain": [
       "torch.Size([5, 2])"
      ]
     },
     "execution_count": 63,
     "metadata": {},
     "output_type": "execute_result"
    }
   ],
   "source": [
    "w.shape"
   ]
  },
  {
   "cell_type": "code",
   "execution_count": 43,
   "id": "ccb576a7",
   "metadata": {},
   "outputs": [
    {
     "data": {
      "text/plain": [
       "tensor([[0.0000e+00, 0.0000e+00, 4.2039e-45, 1.9323e-20, 0.0000e+00],\n",
       "        [0.0000e+00, 0.0000e+00, 4.2039e-45, 1.9323e-20, 0.0000e+00],\n",
       "        [0.0000e+00, 0.0000e+00, 4.2039e-45, 1.9323e-20, 0.0000e+00],\n",
       "        [0.0000e+00, 0.0000e+00, 4.2039e-45, 1.9323e-20, 0.0000e+00],\n",
       "        [0.0000e+00, 0.0000e+00, 4.2039e-45, 1.9323e-20, 0.0000e+00]])"
      ]
     },
     "execution_count": 43,
     "metadata": {},
     "output_type": "execute_result"
    }
   ],
   "source": [
    "torch.mm(x_t, w.t())"
   ]
  },
  {
   "cell_type": "code",
   "execution_count": 28,
   "id": "5b316310",
   "metadata": {},
   "outputs": [
    {
     "data": {
      "text/plain": [
       "tensor([[       -inf,        -inf,        -inf,        -inf, -3.9643e+17]])"
      ]
     },
     "execution_count": 28,
     "metadata": {},
     "output_type": "execute_result"
    }
   ],
   "source": [
    "i= 1\n",
    "o= 5\n",
    "\n",
    "h = torch.Tensor(o, i)\n",
    "x = torch.Tensor(i,1)\n",
    "w = torch.Tensor(o, i)\n",
    "torch.mm(x, w.t())"
   ]
  },
  {
   "cell_type": "code",
   "execution_count": 18,
   "id": "e54bae72",
   "metadata": {},
   "outputs": [
    {
     "ename": "TypeError",
     "evalue": "log() missing 1 required positional arguments: \"input\"",
     "output_type": "error",
     "traceback": [
      "\u001b[1;31m---------------------------------------------------------------------------\u001b[0m",
      "\u001b[1;31mTypeError\u001b[0m                                 Traceback (most recent call last)",
      "\u001b[1;32m<ipython-input-18-07238b2ceefc>\u001b[0m in \u001b[0;36m<module>\u001b[1;34m\u001b[0m\n\u001b[1;32m----> 1\u001b[1;33m \u001b[0mtorch\u001b[0m\u001b[1;33m.\u001b[0m\u001b[0mlog\u001b[0m\u001b[1;33m(\u001b[0m\u001b[1;33m)\u001b[0m\u001b[1;33m\u001b[0m\u001b[1;33m\u001b[0m\u001b[0m\n\u001b[0m",
      "\u001b[1;31mTypeError\u001b[0m: log() missing 1 required positional arguments: \"input\""
     ]
    }
   ],
   "source": [
    "torch.log()"
   ]
  },
  {
   "cell_type": "code",
   "execution_count": null,
   "id": "7b51ce26",
   "metadata": {},
   "outputs": [],
   "source": [
    "class RatingLayer(nn.Module):\n",
    "    \"\"\" Mimic structure of stream rating \"\"\"\n",
    "    def __init__(self, size_in, size_out, stage_min, stage_max):\n",
    "        super().__init__()\n",
    "        self.size_in, self.size_out = size_in, size_out\n",
    "        weights = torch.Tensor(size_out, size_in)\n",
    "        self.weights = nn.Parameter(weights)  # nn.Parameter is a Tensor that's a module parameter.\n",
    "        bias = torch.Tensor(size_out)\n",
    "        self.bias = nn.Parameter(bias)\n",
    "        offsets = torch.Tensor(size_out, size_in) #cease-to-flow stage\n",
    "        self.offsets = nn.Parameter(offsets)\n",
    "\n",
    "        # initialize weights and biases\n",
    "        nn.init.kaiming_uniform_(self.weights, a=math.sqrt(5)) # weight init \n",
    "        fan_in, _ = nn.init._calculate_fan_in_and_fan_out(self.weights)\n",
    "        bound = 1 / math.sqrt(fan_in)\n",
    "        nn.init.uniform_(self.bias, -bound, bound)  # bias init\n",
    "        \n",
    "        # bayesian initialization\n",
    "        nn.init.uniform_(weights, a=.0, b=1.0)\n",
    "        nn.init.uniform_(offsets, a=)\n",
    "        \n",
    "\n",
    "\n",
    "    def forward(self, x):\n",
    "        x_t = torch.log(x - h0)\n",
    "        w_times_x= torch.mm(x_t, self.weights.t())\n",
    "        return torch.add(w_times_x, self.bias)  # w times x + b"
   ]
  },
  {
   "cell_type": "code",
   "execution_count": 180,
   "id": "074dfc7a",
   "metadata": {},
   "outputs": [],
   "source": [
    "import math\n",
    "\n",
    "class RatingLayer(nn.Module):\n",
    "    def __init__(self, width, stage_max):\n",
    "        super().__init__()\n",
    "        self.width = width\n",
    "        self.stage_max = stage_max\n",
    "        weights = torch.Tensor(width, 1) # can remove widhts if not using kaiming \n",
    "        self.weights = nn.Parameter(weights)\n",
    "        offsets = torch.Tensor(width, 1)\n",
    "        self.offsets = nn.Parameter(offsets)\n",
    "        bias = torch.Tensor(width, 1)\n",
    "        self.bias = nn.Parameter(bias)\n",
    "        \n",
    "        # initialize weights and biases\n",
    "        # bayesian initialization\n",
    "        nn.init.uniform_(self.offsets, a=.0, b=self.stage_max * 1.2) #\n",
    "       \n",
    "        # XXX improve\n",
    "        nn.init.kaiming_uniform_(self.weights, a=math.sqrt(5)) # weight init \n",
    "        fan_in, _ = nn.init._calculate_fan_in_and_fan_out(self.weights)\n",
    "        bound = 1 / math.sqrt(fan_in)\n",
    "        nn.init.uniform_(self.bias, -bound, bound)  # bias init\n",
    "\n",
    "    \n",
    "    def forward(self, x):\n",
    "        #import pdb; pdb.set_trace()\n",
    "        x_o = torch.relu(x - self.offsets)\n",
    "        x_ol = torch.relu(torch.log(x_o))\n",
    "        \n",
    "        #w_times_x = torch.mm(x_ol, self.weights.t())\n",
    "        w_times_x = torch.multiply(x_ol, self.weights)\n",
    "        q_l = torch.sum(torch.add(w_times_x, self.bias))\n",
    "        return torch.exp(q_l) # - 1\n",
    "        \n",
    "        \n",
    "        "
   ]
  },
  {
   "cell_type": "code",
   "execution_count": 221,
   "id": "56917bf2",
   "metadata": {},
   "outputs": [],
   "source": [
    "class RatingLayer(nn.Module):\n",
    "    \"\"\" Custom Linear layer but mimics a standard linear layer \"\"\"\n",
    "    def __init__(self, size_in, size_out):\n",
    "        super().__init__()\n",
    "        self.size_in, self.size_out = size_in, size_out\n",
    "        weights = torch.Tensor(size_out, size_in)\n",
    "        self.weights = nn.Parameter(weights)  # nn.Parameter is a Tensor that's a module parameter.\n",
    "        bias = torch.Tensor(size_out)\n",
    "        self.bias = nn.Parameter(bias)\n",
    "\n",
    "        # initialize weights and biases\n",
    "        nn.init.kaiming_uniform_(self.weights, a=math.sqrt(5)) # weight init\n",
    "        fan_in, _ = nn.init._calculate_fan_in_and_fan_out(self.weights)\n",
    "        bound = 1 / math.sqrt(fan_in)\n",
    "        nn.init.uniform_(self.bias, -bound, bound)  # bias init\n",
    "\n",
    "    def forward(self, x):\n",
    "        import pdb; pdb.set_trace()\n",
    "        w_times_x= torch.mm(x, self.weights.t())\n",
    "        out= torch.add(w_times_x, self.bias)  # w times x + b\n",
    "        return out\n"
   ]
  },
  {
   "cell_type": "code",
   "execution_count": 442,
   "id": "13ed7278",
   "metadata": {},
   "outputs": [],
   "source": [
    "# corrected\n",
    "import math\n",
    "\n",
    "class RatingLayer(nn.Module):\n",
    "    def __init__(self, width, stage_max):\n",
    "        super().__init__()\n",
    "        self.width = width\n",
    "        self.stage_max = stage_max\n",
    "        weights = torch.Tensor(width, 1) # can remove widhts if not using kaiming \n",
    "        self.weights = nn.Parameter(weights)\n",
    "        offsets = torch.Tensor(width, 1)\n",
    "        self.offsets = nn.Parameter(offsets)\n",
    "        bias = torch.Tensor(width, 1)\n",
    "        self.bias = nn.Parameter(bias)\n",
    "        \n",
    "        # initialize weights and biases\n",
    "        # bayesian initialization\n",
    "        nn.init.uniform_(self.offsets, a=.0, b=self.stage_max * 1.2) #\n",
    "       \n",
    "        # XXX improve\n",
    "        nn.init.kaiming_uniform_(self.weights, a=math.sqrt(5)) # weight init \n",
    "        fan_in, _ = nn.init._calculate_fan_in_and_fan_out(self.weights)\n",
    "        bound = 1 / math.sqrt(fan_in)\n",
    "        nn.init.uniform_(self.bias, -bound, bound)  # bias init\n",
    "        \n",
    "        self.ones = torch.ones(width, 1)\n",
    "    \n",
    "    def forward(self, x):\n",
    "        \n",
    "        x_o = torch.relu(x - self.offsets.t())\n",
    "        x_ol = torch.relu(torch.log(x_o))\n",
    "        #x_ol = torch.log(x_o)\n",
    "        #import pdb; pdb.set_trace()\n",
    "        #w_times_x = torch.mm(x_ol, self.weights.t())\n",
    "        w_times_x = torch.multiply(x_ol, self.weights.t())\n",
    "        q_l = torch.add(w_times_x, self.bias.t())\n",
    "        # XXX exp order correct?\n",
    "        # this way failed\n",
    "        q = torch.exp(q_l)\n",
    "        #import pdb; pdb.set_trace()\n",
    "        return  torch.mm(q, self.ones)\n",
    "        #return torch.sum(q, 1)\n",
    "        #XXX try sum then exp\n",
    "        #q_ls = torch.sum(q_l, 1)\n",
    "        #return torch.exp(q_ls)\n",
    "\n",
    "        "
   ]
  },
  {
   "cell_type": "code",
   "execution_count": 574,
   "id": "229e4690",
   "metadata": {},
   "outputs": [
    {
     "data": {
      "text/html": [
       "<div>\n",
       "<style scoped>\n",
       "    .dataframe tbody tr th:only-of-type {\n",
       "        vertical-align: middle;\n",
       "    }\n",
       "\n",
       "    .dataframe tbody tr th {\n",
       "        vertical-align: top;\n",
       "    }\n",
       "\n",
       "    .dataframe thead th {\n",
       "        text-align: right;\n",
       "    }\n",
       "</style>\n",
       "<table border=\"1\" class=\"dataframe\">\n",
       "  <thead>\n",
       "    <tr style=\"text-align: right;\">\n",
       "      <th></th>\n",
       "      <th>datetime</th>\n",
       "      <th>stage</th>\n",
       "      <th>q</th>\n",
       "      <th>q_sigma</th>\n",
       "    </tr>\n",
       "  </thead>\n",
       "  <tbody>\n",
       "    <tr>\n",
       "      <th>0</th>\n",
       "      <td>2020-05-21 14:13:41 [UTC-07:00]</td>\n",
       "      <td>7.04</td>\n",
       "      <td>12199.342</td>\n",
       "      <td>199.172931</td>\n",
       "    </tr>\n",
       "    <tr>\n",
       "      <th>1</th>\n",
       "      <td>2020-04-16 14:55:31 [UTC-07:00]</td>\n",
       "      <td>4.43</td>\n",
       "      <td>4921.953</td>\n",
       "      <td>95.425619</td>\n",
       "    </tr>\n",
       "    <tr>\n",
       "      <th>2</th>\n",
       "      <td>2020-03-04 13:54:10 [UTC-07:00]</td>\n",
       "      <td>2.99</td>\n",
       "      <td>2331.665</td>\n",
       "      <td>61.860500</td>\n",
       "    </tr>\n",
       "    <tr>\n",
       "      <th>3</th>\n",
       "      <td>2020-03-04 13:16:51 [UTC-07:00]</td>\n",
       "      <td>2.94</td>\n",
       "      <td>2289.220</td>\n",
       "      <td>47.886745</td>\n",
       "    </tr>\n",
       "    <tr>\n",
       "      <th>4</th>\n",
       "      <td>2020-01-23 11:04:32 [UTC-07:00]</td>\n",
       "      <td>2.96</td>\n",
       "      <td>2408.210</td>\n",
       "      <td>99.522964</td>\n",
       "    </tr>\n",
       "  </tbody>\n",
       "</table>\n",
       "</div>"
      ],
      "text/plain": [
       "                          datetime  stage          q     q_sigma\n",
       "0  2020-05-21 14:13:41 [UTC-07:00]   7.04  12199.342  199.172931\n",
       "1  2020-04-16 14:55:31 [UTC-07:00]   4.43   4921.953   95.425619\n",
       "2  2020-03-04 13:54:10 [UTC-07:00]   2.99   2331.665   61.860500\n",
       "3  2020-03-04 13:16:51 [UTC-07:00]   2.94   2289.220   47.886745\n",
       "4  2020-01-23 11:04:32 [UTC-07:00]   2.96   2408.210   99.522964"
      ]
     },
     "execution_count": 574,
     "metadata": {},
     "output_type": "execute_result"
    }
   ],
   "source": [
    "# import training data\n",
    "import  pandas as pd\n",
    "#data = pd.read_csv('../data/co_channel.csv')\n",
    "data = pd.read_csv('../data/green_channel.csv')\n",
    "\n",
    "data.head()"
   ]
  },
  {
   "cell_type": "code",
   "execution_count": 575,
   "id": "31f3cd2b",
   "metadata": {},
   "outputs": [
    {
     "data": {
      "text/plain": [
       "torch.Size([36, 1])"
      ]
     },
     "execution_count": 575,
     "metadata": {},
     "output_type": "execute_result"
    }
   ],
   "source": [
    "#observations\n",
    "t_s = torch.tensor(data['stage']).float().unsqueeze(1)\n",
    "t_q = torch.tensor(data['q']).float().unsqueeze(1)\n",
    "\n",
    "#uncertainties\n",
    "t_q_sigma = torch.tensor(data['q_sigma']).float().unsqueeze(1)\n",
    "t_s_sigma = torch.tensor([0.01]).float().unsqueeze(1)\n",
    "\n",
    "t_q.shape"
   ]
  },
  {
   "cell_type": "code",
   "execution_count": null,
   "id": "7373138f",
   "metadata": {},
   "outputs": [],
   "source": []
  },
  {
   "cell_type": "code",
   "execution_count": 547,
   "id": "444d2a40",
   "metadata": {},
   "outputs": [
    {
     "data": {
      "text/plain": [
       "tensor([[21.6459]], grad_fn=<MmBackward>)"
      ]
     },
     "execution_count": 547,
     "metadata": {},
     "output_type": "execute_result"
    }
   ],
   "source": [
    "# smoke test\n",
    "test = RatingLayer(width=10, stage_max=t_s.max())\n",
    "\n",
    "test(torch.tensor([10.0]).unsqueeze(1))"
   ]
  },
  {
   "cell_type": "code",
   "execution_count": 514,
   "id": "2c49ad31",
   "metadata": {},
   "outputs": [],
   "source": [
    "def MSLELoss(y, x):\n",
    "    squared_diffs = torch.log(y/x)**2\n",
    "    return squared_diffs.mean()"
   ]
  },
  {
   "cell_type": "code",
   "execution_count": 515,
   "id": "ce7a4a26",
   "metadata": {},
   "outputs": [],
   "source": [
    "def training_loop_noval(n_epochs, optimizer, model, loss_fn, t_y_train,\n",
    "                  t_x_train):\n",
    "    for epoch in range(1, n_epochs + 1):\n",
    "        t_p_train = model(t_x_train) # <1>\n",
    "        loss_train = loss_fn(t_p_train, t_y_train)\n",
    "\n",
    "        #t_p_val = model(t_u_val) # <1>\n",
    "        #loss_val = loss_fn(t_p_val, t_c_val)\n",
    "        \n",
    "        optimizer.zero_grad()\n",
    "        loss_train.backward() # <2>\n",
    "        optimizer.step()\n",
    "        #print(f\"Epoch {epoch}, Training loss {loss_train.item():.4f},\")\n",
    "        if epoch == 1 or epoch % 1000 == 0:\n",
    "            print(f\"Epoch {epoch}, Training loss {loss_train.item():.4f},\")"
   ]
  },
  {
   "cell_type": "code",
   "execution_count": 635,
   "id": "12ff90dc",
   "metadata": {},
   "outputs": [],
   "source": [
    "def training_loop_constrained_noval(n_epochs, optimizer, model, loss_fn, t_y_train,\n",
    "                  t_x_train):\n",
    "    for epoch in range(1, n_epochs + 1):\n",
    "        t_p_train = model(t_x_train) # <1>\n",
    "        #loss_train = loss_fn(t_p_train, t_y_train) + model(1.0)/(1e6) #should be zero\n",
    "        loss_train = loss_fn(t_p_train, t_y_train) + loss_fn(model(1e-6),1e-6)/1e6\n",
    "\n",
    "        #t_p_val = model(t_u_val) # <1>\n",
    "        #loss_val = loss_fn(t_p_val, t_c_val)\n",
    "        \n",
    "        optimizer.zero_grad()\n",
    "        loss_train.backward() # <2>\n",
    "        optimizer.step()\n",
    "        #print(f\"Epoch {epoch}, Training loss {loss_train.item():.4f},\")\n",
    "        if epoch == 1 or epoch % 1000 == 0:\n",
    "            print(f\"Epoch {epoch}, Training loss {loss_train.item():.4f},\")"
   ]
  },
  {
   "cell_type": "code",
   "execution_count": 626,
   "id": "a037dadc",
   "metadata": {},
   "outputs": [
    {
     "data": {
      "text/plain": [
       "tensor(inf)"
      ]
     },
     "execution_count": 626,
     "metadata": {},
     "output_type": "execute_result"
    }
   ],
   "source": [
    "MSLELoss(torch.tensor([1e-6]), 0)"
   ]
  },
  {
   "cell_type": "code",
   "execution_count": 438,
   "id": "a5c6ff09",
   "metadata": {},
   "outputs": [],
   "source": [
    "#t_sn = t_s/t_s.max()\n",
    "#t_qn = t_q/t_q.max()"
   ]
  },
  {
   "cell_type": "code",
   "execution_count": 612,
   "id": "05084e64",
   "metadata": {},
   "outputs": [
    {
     "data": {
      "text/plain": [
       "tensor([[0.0014]], grad_fn=<DivBackward0>)"
      ]
     },
     "execution_count": 612,
     "metadata": {},
     "output_type": "execute_result"
    }
   ],
   "source": [
    "model(2.1)/1e6"
   ]
  },
  {
   "cell_type": "code",
   "execution_count": 439,
   "id": "68454506",
   "metadata": {},
   "outputs": [
    {
     "data": {
      "text/plain": [
       "tensor([[-1.8670],\n",
       "        [-2.7588],\n",
       "        [-2.8611],\n",
       "        [-2.6369],\n",
       "        [-2.6978],\n",
       "        [-2.8541],\n",
       "        [-2.7695],\n",
       "        [-0.9249],\n",
       "        [-1.5581],\n",
       "        [-2.6303],\n",
       "        [-2.5267],\n",
       "        [ 0.0000],\n",
       "        [-0.4106],\n",
       "        [-0.3292],\n",
       "        [-0.5522]])"
      ]
     },
     "execution_count": 439,
     "metadata": {},
     "output_type": "execute_result"
    }
   ],
   "source": [
    "torch.log(t_qn)"
   ]
  },
  {
   "cell_type": "code",
   "execution_count": null,
   "id": "5108acdd",
   "metadata": {},
   "outputs": [],
   "source": [
    "def MSLELoss(y, x):\n",
    "    squared_diffs = torch.log(y/x)**2\n",
    "    return squared_diffs.mean()\n",
    "\n",
    "def special_MSLELoss(y, x):\n",
    "    squared_diffs = torch.log(y/x)**2\n",
    "    return squared_diffs.mean()"
   ]
  },
  {
   "cell_type": "code",
   "execution_count": 648,
   "id": "9e1b99f7",
   "metadata": {},
   "outputs": [
    {
     "name": "stdout",
     "output_type": "stream",
     "text": [
      "Epoch 1, Training loss 44.8400,\n",
      "Epoch 1000, Training loss 28.0081,\n",
      "Epoch 2000, Training loss 3.8316,\n",
      "Epoch 3000, Training loss 0.0936,\n",
      "Epoch 4000, Training loss 0.0058,\n",
      "Epoch 5000, Training loss 0.0056,\n",
      "Epoch 6000, Training loss 0.0056,\n",
      "Epoch 7000, Training loss 0.0055,\n",
      "Epoch 8000, Training loss 0.0054,\n",
      "Epoch 9000, Training loss 0.0054,\n",
      "Epoch 10000, Training loss 0.0053,\n",
      "Epoch 11000, Training loss 0.0053,\n",
      "Epoch 12000, Training loss 0.0053,\n",
      "Epoch 13000, Training loss 0.0052,\n",
      "Epoch 14000, Training loss 0.0051,\n",
      "Epoch 15000, Training loss 0.0049,\n",
      "Epoch 16000, Training loss 0.0045,\n",
      "Epoch 17000, Training loss 0.0040,\n",
      "Epoch 18000, Training loss 0.0031,\n",
      "Epoch 19000, Training loss 0.0022,\n",
      "Epoch 20000, Training loss 0.0014,\n",
      "Epoch 21000, Training loss 0.0012,\n",
      "Epoch 22000, Training loss 0.0011,\n",
      "Epoch 23000, Training loss 0.0010,\n",
      "Epoch 24000, Training loss 0.0006,\n",
      "Epoch 25000, Training loss 0.0004,\n",
      "Epoch 26000, Training loss 0.0004,\n",
      "Epoch 27000, Training loss 0.0004,\n",
      "Epoch 28000, Training loss 0.0004,\n",
      "Epoch 29000, Training loss 0.0004,\n",
      "Epoch 30000, Training loss 0.0004,\n",
      "Epoch 31000, Training loss 0.0004,\n",
      "Epoch 32000, Training loss 0.0003,\n",
      "Epoch 33000, Training loss 0.0003,\n",
      "Epoch 34000, Training loss 0.0003,\n",
      "Epoch 35000, Training loss 0.0003,\n",
      "Epoch 36000, Training loss 0.0003,\n",
      "Epoch 37000, Training loss 0.0003,\n",
      "Epoch 38000, Training loss 0.0003,\n",
      "Epoch 39000, Training loss 0.0003,\n",
      "Epoch 40000, Training loss 0.0003,\n",
      "Epoch 41000, Training loss 0.0003,\n",
      "Epoch 42000, Training loss 0.0003,\n",
      "Epoch 43000, Training loss 0.0003,\n",
      "Epoch 44000, Training loss 0.0003,\n",
      "Epoch 45000, Training loss 0.0003,\n",
      "Epoch 46000, Training loss 0.0003,\n",
      "Epoch 47000, Training loss 0.0003,\n",
      "Epoch 48000, Training loss 0.0003,\n",
      "Epoch 49000, Training loss 0.0003,\n",
      "Epoch 50000, Training loss 0.0003,\n"
     ]
    }
   ],
   "source": [
    "#model = RatingLayer(1, 100)\n",
    "#model = RatingLayer(width=1024, stage_max=t_s.max())\n",
    "model = RatingLayer(width=4, stage_max=t_s.max())\n",
    "optimizer = optim.Adam(model.parameters(), weight_decay=1e-6) #weight_decay default was 1e-6 # weight decay sometimes fixes flat lining at low values!# with = 0.0002\n",
    "optimizer = optim.Adam(model.parameters())\n",
    "#optimizer = optim.LBFGS(model.parameters())\n",
    "\n",
    "#optimizer = optim.SGD(model.parameters(), lr=1e-3)\n",
    "training_loop_noval(\n",
    "#training_loop_constrained_noval(\n",
    "    n_epochs = 50000,\n",
    "    optimizer = optimizer,\n",
    "    model = model,\n",
    "    #loss_fn = nn.MSELoss(),\n",
    "    loss_fn = MSLELoss,\n",
    "    t_y_train = t_q,\n",
    "    t_x_train = t_s,\n",
    ")"
   ]
  },
  {
   "cell_type": "code",
   "execution_count": 649,
   "id": "5d0a6c7b",
   "metadata": {},
   "outputs": [
    {
     "name": "stdout",
     "output_type": "stream",
     "text": [
      "Epoch 1, Training loss 3.3935,\n",
      "Epoch 1000, Training loss 0.1944,\n",
      "Epoch 2000, Training loss 0.0153,\n",
      "Epoch 3000, Training loss 0.0072,\n",
      "Epoch 4000, Training loss 0.0052,\n"
     ]
    },
    {
     "ename": "KeyboardInterrupt",
     "evalue": "",
     "output_type": "error",
     "traceback": [
      "\u001b[1;31m---------------------------------------------------------------------------\u001b[0m",
      "\u001b[1;31mKeyboardInterrupt\u001b[0m                         Traceback (most recent call last)",
      "\u001b[1;32m<ipython-input-649-14447061f92a>\u001b[0m in \u001b[0;36m<module>\u001b[1;34m\u001b[0m\n\u001b[0;32m      5\u001b[0m \u001b[0moptimizer\u001b[0m \u001b[1;33m=\u001b[0m \u001b[0moptim\u001b[0m\u001b[1;33m.\u001b[0m\u001b[0mAdam\u001b[0m\u001b[1;33m(\u001b[0m\u001b[0mmodel\u001b[0m\u001b[1;33m.\u001b[0m\u001b[0mparameters\u001b[0m\u001b[1;33m(\u001b[0m\u001b[1;33m)\u001b[0m\u001b[1;33m)\u001b[0m\u001b[1;33m\u001b[0m\u001b[1;33m\u001b[0m\u001b[0m\n\u001b[0;32m      6\u001b[0m \u001b[1;31m#optimizer = optim.SGD(model.parameters(), lr=1e-3)\u001b[0m\u001b[1;33m\u001b[0m\u001b[1;33m\u001b[0m\u001b[1;33m\u001b[0m\u001b[0m\n\u001b[1;32m----> 7\u001b[1;33m training_loop_noval(\n\u001b[0m\u001b[0;32m      8\u001b[0m     \u001b[0mn_epochs\u001b[0m \u001b[1;33m=\u001b[0m \u001b[1;36m30000\u001b[0m\u001b[1;33m,\u001b[0m\u001b[1;33m\u001b[0m\u001b[1;33m\u001b[0m\u001b[0m\n\u001b[0;32m      9\u001b[0m     \u001b[0moptimizer\u001b[0m \u001b[1;33m=\u001b[0m \u001b[0moptimizer\u001b[0m\u001b[1;33m,\u001b[0m\u001b[1;33m\u001b[0m\u001b[1;33m\u001b[0m\u001b[0m\n",
      "\u001b[1;32m<ipython-input-515-c0f5d41d6888>\u001b[0m in \u001b[0;36mtraining_loop_noval\u001b[1;34m(n_epochs, optimizer, model, loss_fn, t_y_train, t_x_train)\u001b[0m\n\u001b[0;32m      9\u001b[0m \u001b[1;33m\u001b[0m\u001b[0m\n\u001b[0;32m     10\u001b[0m         \u001b[0moptimizer\u001b[0m\u001b[1;33m.\u001b[0m\u001b[0mzero_grad\u001b[0m\u001b[1;33m(\u001b[0m\u001b[1;33m)\u001b[0m\u001b[1;33m\u001b[0m\u001b[1;33m\u001b[0m\u001b[0m\n\u001b[1;32m---> 11\u001b[1;33m         \u001b[0mloss_train\u001b[0m\u001b[1;33m.\u001b[0m\u001b[0mbackward\u001b[0m\u001b[1;33m(\u001b[0m\u001b[1;33m)\u001b[0m \u001b[1;31m# <2>\u001b[0m\u001b[1;33m\u001b[0m\u001b[1;33m\u001b[0m\u001b[0m\n\u001b[0m\u001b[0;32m     12\u001b[0m         \u001b[0moptimizer\u001b[0m\u001b[1;33m.\u001b[0m\u001b[0mstep\u001b[0m\u001b[1;33m(\u001b[0m\u001b[1;33m)\u001b[0m\u001b[1;33m\u001b[0m\u001b[1;33m\u001b[0m\u001b[0m\n\u001b[0;32m     13\u001b[0m         \u001b[1;31m#print(f\"Epoch {epoch}, Training loss {loss_train.item():.4f},\")\u001b[0m\u001b[1;33m\u001b[0m\u001b[1;33m\u001b[0m\u001b[1;33m\u001b[0m\u001b[0m\n",
      "\u001b[1;32mc:\\users\\thodson\\appdata\\local\\programs\\python\\python39\\lib\\site-packages\\torch\\_tensor.py\u001b[0m in \u001b[0;36mbackward\u001b[1;34m(self, gradient, retain_graph, create_graph, inputs)\u001b[0m\n\u001b[0;32m    253\u001b[0m                 \u001b[0mcreate_graph\u001b[0m\u001b[1;33m=\u001b[0m\u001b[0mcreate_graph\u001b[0m\u001b[1;33m,\u001b[0m\u001b[1;33m\u001b[0m\u001b[1;33m\u001b[0m\u001b[0m\n\u001b[0;32m    254\u001b[0m                 inputs=inputs)\n\u001b[1;32m--> 255\u001b[1;33m         \u001b[0mtorch\u001b[0m\u001b[1;33m.\u001b[0m\u001b[0mautograd\u001b[0m\u001b[1;33m.\u001b[0m\u001b[0mbackward\u001b[0m\u001b[1;33m(\u001b[0m\u001b[0mself\u001b[0m\u001b[1;33m,\u001b[0m \u001b[0mgradient\u001b[0m\u001b[1;33m,\u001b[0m \u001b[0mretain_graph\u001b[0m\u001b[1;33m,\u001b[0m \u001b[0mcreate_graph\u001b[0m\u001b[1;33m,\u001b[0m \u001b[0minputs\u001b[0m\u001b[1;33m=\u001b[0m\u001b[0minputs\u001b[0m\u001b[1;33m)\u001b[0m\u001b[1;33m\u001b[0m\u001b[1;33m\u001b[0m\u001b[0m\n\u001b[0m\u001b[0;32m    256\u001b[0m \u001b[1;33m\u001b[0m\u001b[0m\n\u001b[0;32m    257\u001b[0m     \u001b[1;32mdef\u001b[0m \u001b[0mregister_hook\u001b[0m\u001b[1;33m(\u001b[0m\u001b[0mself\u001b[0m\u001b[1;33m,\u001b[0m \u001b[0mhook\u001b[0m\u001b[1;33m)\u001b[0m\u001b[1;33m:\u001b[0m\u001b[1;33m\u001b[0m\u001b[1;33m\u001b[0m\u001b[0m\n",
      "\u001b[1;32mc:\\users\\thodson\\appdata\\local\\programs\\python\\python39\\lib\\site-packages\\torch\\autograd\\__init__.py\u001b[0m in \u001b[0;36mbackward\u001b[1;34m(tensors, grad_tensors, retain_graph, create_graph, grad_variables, inputs)\u001b[0m\n\u001b[0;32m    145\u001b[0m         \u001b[0mretain_graph\u001b[0m \u001b[1;33m=\u001b[0m \u001b[0mcreate_graph\u001b[0m\u001b[1;33m\u001b[0m\u001b[1;33m\u001b[0m\u001b[0m\n\u001b[0;32m    146\u001b[0m \u001b[1;33m\u001b[0m\u001b[0m\n\u001b[1;32m--> 147\u001b[1;33m     Variable._execution_engine.run_backward(\n\u001b[0m\u001b[0;32m    148\u001b[0m         \u001b[0mtensors\u001b[0m\u001b[1;33m,\u001b[0m \u001b[0mgrad_tensors_\u001b[0m\u001b[1;33m,\u001b[0m \u001b[0mretain_graph\u001b[0m\u001b[1;33m,\u001b[0m \u001b[0mcreate_graph\u001b[0m\u001b[1;33m,\u001b[0m \u001b[0minputs\u001b[0m\u001b[1;33m,\u001b[0m\u001b[1;33m\u001b[0m\u001b[1;33m\u001b[0m\u001b[0m\n\u001b[0;32m    149\u001b[0m         allow_unreachable=True, accumulate_grad=True)  # allow_unreachable flag\n",
      "\u001b[1;31mKeyboardInterrupt\u001b[0m: "
     ]
    }
   ],
   "source": [
    "#model = RatingLayer(1, 100)\n",
    "#model = RatingLayer(width=128, stage_max=t_s.max())\n",
    "model = RatingLayer(width=528, stage_max=t_s.max())\n",
    "#optimizer = optim.Adam(model.parameters(), lr=0.0001, weight_decay=1e-6)\n",
    "optimizer = optim.Adam(model.parameters())\n",
    "#optimizer = optim.SGD(model.parameters(), lr=1e-3)\n",
    "training_loop_noval(\n",
    "    n_epochs = 30000,\n",
    "    optimizer = optimizer,\n",
    "    model = model,\n",
    "    #loss_fn = nn.MSELoss(),\n",
    "    loss_fn = MSLELoss,\n",
    "    t_y_train = t_q,\n",
    "    t_x_train = t_s,\n",
    ")"
   ]
  },
  {
   "cell_type": "code",
   "execution_count": 530,
   "id": "a4cac465",
   "metadata": {},
   "outputs": [
    {
     "data": {
      "text/plain": [
       "tensor(0.0003, grad_fn=<MeanBackward0>)"
      ]
     },
     "execution_count": 530,
     "metadata": {},
     "output_type": "execute_result"
    }
   ],
   "source": [
    "MSLELoss(model(t_s), t_q)"
   ]
  },
  {
   "cell_type": "code",
   "execution_count": 531,
   "id": "905a3672",
   "metadata": {},
   "outputs": [],
   "source": [
    "#s_range"
   ]
  },
  {
   "cell_type": "code",
   "execution_count": 652,
   "id": "bcf48260",
   "metadata": {},
   "outputs": [
    {
     "data": {
      "text/plain": [
       "[<matplotlib.lines.Line2D at 0x2bd87f0e310>]"
      ]
     },
     "execution_count": 652,
     "metadata": {},
     "output_type": "execute_result"
    },
    {
     "data": {
      "image/png": "[encoded data removed]",
      "text/plain": [
       "<Figure size 900x600 with 1 Axes>"
      ]
     },
     "metadata": {
      "needs_background": "light"
     },
     "output_type": "display_data"
    }
   ],
   "source": [
    "from matplotlib import pyplot as plt\n",
    "\n",
    "#s_range = torch.arange(t_s.min()*0.9, t_s.max()*1.1).unsqueeze(1)\n",
    "s_range = torch.linspace(t_s.min()*0.7, t_s.max()*1.1, steps=400).unsqueeze(1)\n",
    "fig = plt.figure(dpi=150)\n",
    "plt.xlabel(\"Stage\")\n",
    "plt.ylabel(\"Discharge\")\n",
    "#plt.ylim(0,6000)\n",
    "#plt.xlim(2.0,6.5)\n",
    "plt.plot(t_s.numpy(), t_q.numpy(), 'o')\n",
    "plt.plot(s_range.numpy(), model(s_range).detach().numpy(), 'c-')\n",
    "#plt.plot(t_u.numpy(), seq_model(0.1 * t_u).detach().numpy(), 'kx')"
   ]
  },
  {
   "cell_type": "code",
   "execution_count": 617,
   "id": "68fb8c9e",
   "metadata": {},
   "outputs": [
    {
     "data": {
      "text/plain": [
       "tensor(2.2100)"
      ]
     },
     "execution_count": 617,
     "metadata": {},
     "output_type": "execute_result"
    }
   ],
   "source": [
    "t_s.min()"
   ]
  },
  {
   "cell_type": "code",
   "execution_count": 620,
   "id": "ea61b41e",
   "metadata": {},
   "outputs": [
    {
     "data": {
      "text/plain": [
       "tensor([[646.4855]], grad_fn=<MmBackward>)"
      ]
     },
     "execution_count": 620,
     "metadata": {},
     "output_type": "execute_result"
    }
   ],
   "source": [
    "model(0.0)"
   ]
  },
  {
   "cell_type": "code",
   "execution_count": 616,
   "id": "f23490e4",
   "metadata": {},
   "outputs": [
    {
     "name": "stdout",
     "output_type": "stream",
     "text": [
      "weights tensor([[ 1.3449],\n",
      "        [ 1.3443],\n",
      "        [ 1.6703],\n",
      "        [-1.5198]])\n",
      "offsets tensor([[2.4964],\n",
      "        [2.4994],\n",
      "        [0.3607],\n",
      "        [6.4121]])\n",
      "bias tensor([[ 4.5313],\n",
      "        [ 4.8441],\n",
      "        [ 6.0559],\n",
      "        [-6.6554]])\n"
     ]
    }
   ],
   "source": [
    "for name, param in model.named_parameters():\n",
    "    if param.requires_grad:\n",
    "        print(name, param.data)"
   ]
  },
  {
   "cell_type": "code",
   "execution_count": 219,
   "id": "d02d0f0b",
   "metadata": {},
   "outputs": [
    {
     "data": {
      "text/plain": [
       "tensor(5.4215, grad_fn=<ExpBackward>)"
      ]
     },
     "execution_count": 219,
     "metadata": {},
     "output_type": "execute_result"
    }
   ],
   "source": [
    "model(torch.tensor([-1]))"
   ]
  },
  {
   "cell_type": "code",
   "execution_count": null,
   "id": "f051d370",
   "metadata": {},
   "outputs": [],
   "source": [
    "class RatingRegressor: #Rename RatingModel\n",
    "    def __init__(self, width=10, droprate=0.2, \\\n",
    "                 max_epoch=5000, lr=0.0001, weight_decay=1e-6):\n",
    "        self.max_epoch = max_epoch\n",
    "        self.lr = lr\n",
    "        self.model = Rating_Layer(hidden_layers=hidden_layers, droprate=droprate, activation=activation)\n",
    "        #self.model.cuda() #check if cuda available\n",
    "        self.criterion = nn.MSELoss()#.cuda()\n",
    "        self.optimizer = optim.Adam(self.model.parameters(), lr=lr, weight_decay=weight_decay)\n",
    "        \n",
    "    def fit(self, x_train, y_train, x_sigma=torch.tensor(0.), y_sigma=torch.tensor(0.), verbose=True, log=True):\n",
    "        # TODO assert correct dimensions\n",
    "        # TODO verify noise is working as expected, if not move tranform outside of loop\n",
    "        # TOOD cuda-fy (#print warning if no GPU found and verbose)\n",
    "        \n",
    "        # Setup transformations\n",
    "        self.x_transform = Transform(x_train, log=log)\n",
    "        self.y_transform = Transform(y_train, log=log)\n",
    "\n",
    "        #X = Variable(torch.from_numpy(X_train).type(torch.FloatTensor))#.cuda()\n",
    "        #y = Variable(torch.from_numpy(y_train).type(torch.FloatTensor))#.cuda()\n",
    "        print(self.model)\n",
    "        \n",
    "        for epoch in range(1,self.max_epoch+1):\n",
    "            self.optimizer.zero_grad()\n",
    "            # add measurement uncertainty\n",
    "            x = self.x_transform.transform(x_train + x_sigma*torch.randn(x_train.shape))\n",
    "            y = self.y_transform.transform(y_train + y_sigma*torch.randn(y_train.shape)) #set type and send to cuda?\n",
    "            \n",
    "            outputs = self.model(x) #XXX TODO verify that this is making a difference\n",
    "            loss = self.criterion(outputs, y) #XXX verify this too\n",
    "            loss.backward()\n",
    "            self.optimizer.step()\n",
    "            if verbose:\n",
    "                #if epoch == 3000:\n",
    "                    #import pdb; pdb.set_trace()\n",
    "                if epoch == 1 or epoch % 1000 == 0:\n",
    "                    print('Epoch {} loss: {}'.format(epoch, loss.data))##[0]))\n",
    "        return self"
   ]
  },
  {
   "cell_type": "code",
   "execution_count": null,
   "id": "c5df7002",
   "metadata": {},
   "outputs": [],
   "source": []
  },
  {
   "cell_type": "code",
   "execution_count": null,
   "id": "799c9999",
   "metadata": {},
   "outputs": [],
   "source": []
  },
  {
   "cell_type": "code",
   "execution_count": null,
   "id": "843a3d7a",
   "metadata": {},
   "outputs": [],
   "source": []
  },
  {
   "cell_type": "code",
   "execution_count": null,
   "id": "93a1ec22",
   "metadata": {},
   "outputs": [],
   "source": []
  },
  {
   "cell_type": "code",
   "execution_count": null,
   "id": "a5e3c0a5",
   "metadata": {},
   "outputs": [],
   "source": []
  },
  {
   "cell_type": "code",
   "execution_count": null,
   "id": "42b2979a",
   "metadata": {},
   "outputs": [],
   "source": []
  },
  {
   "cell_type": "code",
   "execution_count": 160,
   "id": "5c702d47",
   "metadata": {},
   "outputs": [],
   "source": [
    "t_s_ln = normalize(t_s.log())\n",
    "t_q_ln = normalize(t_q.log())"
   ]
  },
  {
   "cell_type": "code",
   "execution_count": 161,
   "id": "23205aec",
   "metadata": {},
   "outputs": [
    {
     "data": {
      "text/plain": [
       "tensor(0.)"
      ]
     },
     "execution_count": 161,
     "metadata": {},
     "output_type": "execute_result"
    }
   ],
   "source": [
    "torch.tensor(0.)"
   ]
  },
  {
   "cell_type": "code",
   "execution_count": null,
   "id": "28c3969a",
   "metadata": {},
   "outputs": [],
   "source": []
  },
  {
   "cell_type": "code",
   "execution_count": 202,
   "id": "168d7ebe",
   "metadata": {},
   "outputs": [],
   "source": [
    "# TODO fix loss function and forward\n",
    "class MLP(nn.Module):\n",
    "    def __init__(self, hidden_layers=[528, 528, 528], droprate=0.2, activation='relu'):\n",
    "        super(MLP, self).__init__()\n",
    "        self.model = nn.Sequential()\n",
    "        self.model.add_module('input', nn.Linear(1, hidden_layers[0]))\n",
    "        if activation == 'relu':\n",
    "            self.model.add_module('relu0', nn.ReLU())\n",
    "        elif activation == 'tanh':\n",
    "            self.model.add_module('tanh0', nn.Tanh())\n",
    "        for i in range(len(hidden_layers)-1):\n",
    "            self.model.add_module('dropout'+str(i+1), nn.Dropout(p=droprate))\n",
    "            self.model.add_module('hidden'+str(i+1), nn.Linear(hidden_layers[i], hidden_layers[i+1]))\n",
    "            if activation == 'relu':\n",
    "                self.model.add_module('relu'+str(i+1), nn.ReLU())\n",
    "            elif activation == 'tanh':\n",
    "                self.model.add_module('tanh'+str(i+1), nn.Tanh())\n",
    "        self.model.add_module('dropout'+str(i+2), nn.Dropout(p=droprate))\n",
    "        self.model.add_module('final', nn.Linear(hidden_layers[i+1], 1))\n",
    "        \n",
    "    def forward(self, x):\n",
    "        # XXX probably need to move transformations here\n",
    "        return self.model(x)\n",
    "\n",
    "class Transform():\n",
    "    # XXX fix\n",
    "    def __init__(self, x, log=True):\n",
    "        self.log = log\n",
    "        \n",
    "        if self.log:\n",
    "            x_t = torch.log(x)\n",
    "        else:\n",
    "            x_t = x\n",
    "        \n",
    "        self.mean = x_t.mean()\n",
    "        self.std = x_t.std()\n",
    "\n",
    "    \n",
    "    def transform(self, x):\n",
    "        if self.log:\n",
    "            x_t = torch.log(x)\n",
    "        else:\n",
    "            x_t = x\n",
    "            \n",
    "        return (x_t - self.mean) / self.std\n",
    "    \n",
    "    def untransform(self, x_t):\n",
    "        #return (torch.exp(x_t) * self.std) + self.mean\n",
    "        x = x_t * self.std + self.mean\n",
    "        \n",
    "        if self.log:\n",
    "            x = torch.exp(x)\n",
    "        \n",
    "        return x\n",
    "        \n",
    "    \n",
    "class MLPRegressor: #Rename RatingModel\n",
    "    def __init__(self, hidden_layers=[528, 528, 528], droprate=0.2, activation='relu', \\\n",
    "                 max_epoch=10000, lr=0.0001, weight_decay=1e-6):\n",
    "        self.max_epoch = max_epoch\n",
    "        self.lr = lr\n",
    "        self.model = MLP(hidden_layers=hidden_layers, droprate=droprate, activation=activation)\n",
    "        #self.model.cuda() #check if cuda available\n",
    "        self.criterion = nn.MSELoss()#.cuda()\n",
    "        self.optimizer = optim.Adam(self.model.parameters(), lr=lr, weight_decay=weight_decay)\n",
    "        \n",
    "    def fit(self, x_train, y_train, x_sigma=torch.tensor(0.), y_sigma=torch.tensor(0.), verbose=True, log=True):\n",
    "        # TODO assert correct dimensions\n",
    "        # TODO verify noise is working as expected, if not move tranform outside of loop\n",
    "        # TOOD cuda-fy (#print warning if no GPU found and verbose)\n",
    "        \n",
    "        # Setup transformations\n",
    "        self.x_transform = Transform(x_train, log=log)\n",
    "        self.y_transform = Transform(y_train, log=log)\n",
    "\n",
    "        #X = Variable(torch.from_numpy(X_train).type(torch.FloatTensor))#.cuda()\n",
    "        #y = Variable(torch.from_numpy(y_train).type(torch.FloatTensor))#.cuda()\n",
    "        print(self.model)\n",
    "        \n",
    "        for epoch in range(1,self.max_epoch+1):\n",
    "            self.optimizer.zero_grad()\n",
    "            # add measurement uncertainty\n",
    "            x = self.x_transform.transform(x_train + x_sigma*torch.randn(x_train.shape))\n",
    "            y = self.y_transform.transform(y_train + y_sigma*torch.randn(y_train.shape)) #set type and send to cuda?\n",
    "            \n",
    "            outputs = self.model(x) #XXX TODO verify that this is making a difference\n",
    "            loss = self.criterion(outputs, y) #XXX verify this too\n",
    "            loss.backward()\n",
    "            self.optimizer.step()\n",
    "            if verbose:\n",
    "                #if epoch == 3000:\n",
    "                    #import pdb; pdb.set_trace()\n",
    "                if epoch == 1 or epoch % 1000 == 0:\n",
    "                    print('Epoch {} loss: {}'.format(epoch, loss.data))##[0]))\n",
    "        return self\n",
    "    \n",
    "    def predict(self, x, n=1000, on='cpu'):\n",
    "        # run on cpu by default\n",
    "        self.model.train() # should I overwrite?\n",
    "        x_t = self.x_transform.transform(x)\n",
    "        #y_t_hat = np.array([self.model(x_t).data.cpu().numpy() for _ in range(n)]).squeeze()\n",
    "        y_t_hat = torch.tensor([self.model(x_t).data.cpu().numpy() for _ in range(n)]).squeeze()\n",
    "        self.model.eval()\n",
    "        #y_t_mle = self.model(x_t).data.cpu().numpy()\n",
    "        y_t_mle = self.model(x_t).data.cpu()\n",
    "        self.model.train()\n",
    "        y_hat = self.y_transform.untransform(y_t_hat).numpy() #transform expects tensor, so transform then convert to numpy\n",
    "        y_mle = self.y_transform.untransform(y_t_mle).numpy()\n",
    "        return y_hat#, y_mle\n",
    "        \n",
    "    def load(self, filename):\n",
    "        return\n",
    "    "
   ]
  },
  {
   "cell_type": "code",
   "execution_count": null,
   "id": "39d1422e",
   "metadata": {},
   "outputs": [],
   "source": []
  },
  {
   "cell_type": "code",
   "execution_count": 207,
   "id": "6783b1a6",
   "metadata": {},
   "outputs": [
    {
     "name": "stdout",
     "output_type": "stream",
     "text": [
      "MLP(\n",
      "  (model): Sequential(\n",
      "    (input): Linear(in_features=1, out_features=1054, bias=True)\n",
      "    (relu0): ReLU()\n",
      "    (dropout1): Dropout(p=0.2, inplace=False)\n",
      "    (hidden1): Linear(in_features=1054, out_features=1054, bias=True)\n",
      "    (relu1): ReLU()\n",
      "    (dropout2): Dropout(p=0.2, inplace=False)\n",
      "    (hidden2): Linear(in_features=1054, out_features=1054, bias=True)\n",
      "    (relu2): ReLU()\n",
      "    (dropout3): Dropout(p=0.2, inplace=False)\n",
      "    (final): Linear(in_features=1054, out_features=1, bias=True)\n",
      "  )\n",
      ")\n",
      "Epoch 1 loss: 0.9985376596450806\n",
      "Epoch 1000 loss: 0.0035758940503001213\n",
      "Epoch 2000 loss: 0.009635384194552898\n",
      "Epoch 3000 loss: 0.0014826484257355332\n",
      "Epoch 4000 loss: 0.004357919562608004\n",
      "Epoch 5000 loss: 0.001417858642525971\n"
     ]
    },
    {
     "data": {
      "text/plain": [
       "<__main__.MLPRegressor at 0x1e6411778b0>"
      ]
     },
     "execution_count": 207,
     "metadata": {},
     "output_type": "execute_result"
    }
   ],
   "source": [
    "### Below is training code, uncomment to train your own model... ###\n",
    "### Note: You need GPU and CUDA to run this section ###\n",
    "'''\n",
    "# Define networks\n",
    "mlp2 = [MLP2Regressor(activation='relu'),\n",
    "        MLP2Regressor(activation='tanh')]\n",
    "        \n",
    "# Training, set verbose=True to see loss after each epoch.\n",
    "[mlp.fit(X_train, y_train,verbose=False) for mlp in mlp2]\n",
    "\n",
    "# Save torch models\n",
    "for ind, mlp in enumerate(mlp2):\n",
    "    torch.save(mlp.model, 'co2_mlp2_'+str(ind)+'.pth')\n",
    "'''\n",
    "\n",
    "#hidden_layers = [528, 256, 256]\n",
    "width = 528\n",
    "width = 1054\n",
    "#mpl2 = MLP2Regressor(hidden_layers=[528,528,528], droprate=0.2, max_epoch=5000, activation='relu')\n",
    "#mpl2 = MLPRegressor(hidden_layers=[528,528,528,528], droprate=0.2, max_epoch=5000, activation='relu')\n",
    "mpl2 = MLPRegressor(hidden_layers=[width, width, width], droprate=0.2, max_epoch=5000, activation='relu')\n",
    "mpl2.fit(t_s, t_q,verbose=True, log=False) #XXX move log to regressor\n",
    "\n",
    "#torch.save(mlp2.model, 'filename')"
   ]
  },
  {
   "cell_type": "code",
   "execution_count": 208,
   "id": "cbcb9c6f",
   "metadata": {},
   "outputs": [
    {
     "data": {
      "text/plain": [
       "<matplotlib.collections.PolyCollection at 0x1e6411d63a0>"
      ]
     },
     "execution_count": 208,
     "metadata": {},
     "output_type": "execute_result"
    },
    {
     "data": {
      "image/png": "[encoded data removed]",
      "text/plain": [
       "<Figure size 900x600 with 1 Axes>"
      ]
     },
     "metadata": {
      "needs_background": "light"
     },
     "output_type": "display_data"
    }
   ],
   "source": [
    "# plot\n",
    "# colorado river\n",
    "from matplotlib import pyplot as plt\n",
    "s_n_range = torch.linspace(t_s.min()*0.9, t_s.max()*1.1, steps=20).unsqueeze(1)\n",
    "\n",
    "y_hat = mpl2.predict(s_n_range, n=1000)\n",
    "y = y_hat.mean(axis=0)\n",
    "y_upper = np.quantile(y_hat, 0.975, axis=0)\n",
    "y_lower = np.quantile(y_hat, 0.025, axis=0)\n",
    "\n",
    "fig = plt.figure(dpi=150)\n",
    "plt.xlabel(\"Stage\")\n",
    "plt.ylabel(\"Discharge\")\n",
    "\n",
    "\n",
    "plt.plot(t_s.numpy(), t_q.numpy(), 'o', ms=3)\n",
    "plt.plot(s_n_range.numpy(), y, 'c-')\n",
    "plt.fill_between(s_n_range.numpy().flatten(), y1=y_upper, y2=y_lower, alpha=0.5, color='c')\n",
    "#y_relu_mc_std = y_hat.std(axis=0)"
   ]
  },
  {
   "cell_type": "code",
   "execution_count": 234,
   "id": "1024b5ed",
   "metadata": {},
   "outputs": [],
   "source": [
    "stage = data['stage']"
   ]
  },
  {
   "cell_type": "code",
   "execution_count": 241,
   "id": "a3ce0d7f",
   "metadata": {},
   "outputs": [
    {
     "data": {
      "text/plain": [
       "20.95"
      ]
     },
     "execution_count": 241,
     "metadata": {},
     "output_type": "execute_result"
    }
   ],
   "source": [
    "stage.max()"
   ]
  },
  {
   "cell_type": "code",
   "execution_count": 320,
   "id": "c3e07dbc",
   "metadata": {},
   "outputs": [
    {
     "name": "stdout",
     "output_type": "stream",
     "text": [
      "MLP(\n",
      "  (model): Sequential(\n",
      "    (input): Linear(in_features=1, out_features=3000, bias=True)\n",
      "    (relu0): ReLU()\n",
      "    (dropout1): Dropout(p=0.2, inplace=False)\n",
      "    (hidden1): Linear(in_features=3000, out_features=3000, bias=True)\n",
      "    (relu1): ReLU()\n",
      "    (dropout2): Dropout(p=0.2, inplace=False)\n",
      "    (final): Linear(in_features=3000, out_features=1, bias=True)\n",
      "  )\n",
      ")\n",
      "Epoch 1 loss: 0.9256328344345093\n",
      "Epoch 1000 loss: 0.005467010196298361\n",
      "Epoch 2000 loss: 0.0009506205096840858\n",
      "Epoch 3000 loss: 0.0008461237302981317\n",
      "Epoch 4000 loss: 0.00038290367228910327\n",
      "Epoch 5000 loss: 0.0024151750840246677\n"
     ]
    },
    {
     "data": {
      "text/plain": [
       "<__main__.MLPRegressor at 0x1e6659e9100>"
      ]
     },
     "execution_count": 320,
     "metadata": {},
     "output_type": "execute_result"
    }
   ],
   "source": [
    "## fake some data\n",
    "import  pandas as pd\n",
    "data = pd.read_csv('../data/co_channel.csv')\n",
    "t_s = torch.tensor(data['stage']).float().unsqueeze(1)\n",
    "t_q = torch.tensor(data['q']).float().unsqueeze(1)\n",
    "\n",
    "#hidden_layers = [528, 256, 256]\n",
    "# best so far is 528*2 yields 0.002 score\n",
    "width = 3000 #528 seems best\n",
    "depth = 2\n",
    "dropout = 0.2\n",
    "hidden_layers = [width] * depth\n",
    "\n",
    "#mpl2 = MLP2Regressor(hidden_layers=[528,528,528], droprate=0.2, max_epoch=5000, activation='relu')\n",
    "mpl2 = MLPRegressor(hidden_layers=hidden_layers, droprate=dropout, max_epoch=5000, activation='relu')\n",
    "mpl2.fit(t_s, t_q,verbose=True, log=True) #XXX move log to regressor\n"
   ]
  },
  {
   "cell_type": "code",
   "execution_count": 321,
   "id": "fb634070",
   "metadata": {},
   "outputs": [
    {
     "data": {
      "text/plain": [
       "(array([1.000e+00, 1.000e+00, 1.000e+00, 3.000e+00, 4.000e+00, 1.000e+00,\n",
       "        1.100e+01, 1.100e+01, 1.900e+01, 3.000e+01, 3.600e+01, 5.500e+01,\n",
       "        7.500e+01, 6.200e+01, 9.900e+01, 1.290e+02, 1.770e+02, 2.300e+02,\n",
       "        3.240e+02, 4.120e+02, 5.270e+02, 7.110e+02, 8.440e+02, 1.054e+03,\n",
       "        1.337e+03, 1.423e+03, 1.422e+03, 1.384e+03, 1.142e+03, 9.110e+02,\n",
       "        7.330e+02, 5.140e+02, 4.050e+02, 3.090e+02, 2.090e+02, 1.380e+02,\n",
       "        9.400e+01, 5.200e+01, 3.800e+01, 2.600e+01, 1.500e+01, 8.000e+00,\n",
       "        8.000e+00, 4.000e+00, 4.000e+00, 2.000e+00, 3.000e+00, 1.000e+00,\n",
       "        0.000e+00, 1.000e+00]),\n",
       " array([-0.210392  , -0.20223504, -0.1940781 , -0.18592115, -0.1777642 ,\n",
       "        -0.16960725, -0.16145031, -0.15329336, -0.14513642, -0.13697946,\n",
       "        -0.12882252, -0.12066557, -0.11250862, -0.10435167, -0.09619472,\n",
       "        -0.08803777, -0.07988083, -0.07172388, -0.06356693, -0.05540998,\n",
       "        -0.04725304, -0.03909609, -0.03093914, -0.02278219, -0.01462524,\n",
       "        -0.0064683 ,  0.00168865,  0.0098456 ,  0.01800255,  0.0261595 ,\n",
       "         0.03431644,  0.04247339,  0.05063034,  0.05878729,  0.06694423,\n",
       "         0.07510118,  0.08325813,  0.09141508,  0.09957203,  0.10772898,\n",
       "         0.11588593,  0.12404288,  0.13219982,  0.14035676,  0.14851372,\n",
       "         0.15667066,  0.16482762,  0.17298456,  0.18114151,  0.18929845,\n",
       "         0.1974554 ], dtype=float32),\n",
       " <BarContainer object of 50 artists>)"
      ]
     },
     "execution_count": 321,
     "metadata": {},
     "output_type": "execute_result"
    },
    {
     "data": {
      "image/png": "[encoded data removed]",
      "text/plain": [
       "<Figure size 432x288 with 1 Axes>"
      ]
     },
     "metadata": {
      "needs_background": "light"
     },
     "output_type": "display_data"
    }
   ],
   "source": [
    "# plot\n",
    "\n",
    "from matplotlib import pyplot as plt\n",
    "s_n_range = t_s\n",
    "y_hat = mpl2.predict(s_n_range, n=1000)\n",
    "y = y_hat.mean(axis=0)\n",
    "\n",
    "#XXX TODO transform to Z scores\n",
    "error = torch.log(t_q) - np.log(y_hat.T)\n",
    "out = error.flatten().numpy()\n",
    "plt.hist(out, bins=50)"
   ]
  },
  {
   "cell_type": "code",
   "execution_count": 322,
   "id": "074bce36",
   "metadata": {},
   "outputs": [
    {
     "data": {
      "text/plain": [
       "0.0"
      ]
     },
     "execution_count": 322,
     "metadata": {},
     "output_type": "execute_result"
    }
   ],
   "source": [
    "n"
   ]
  },
  {
   "cell_type": "code",
   "execution_count": 323,
   "id": "7f7fee85",
   "metadata": {},
   "outputs": [
    {
     "data": {
      "text/plain": [
       "<matplotlib.collections.PolyCollection at 0x1e66a245400>"
      ]
     },
     "execution_count": 323,
     "metadata": {},
     "output_type": "execute_result"
    },
    {
     "data": {
      "image/png": "[encoded data removed]",
      "text/plain": [
       "<Figure size 900x600 with 1 Axes>"
      ]
     },
     "metadata": {
      "needs_background": "light"
     },
     "output_type": "display_data"
    }
   ],
   "source": [
    "# plot\n",
    "# colorado river\n",
    "from matplotlib import pyplot as plt\n",
    "s_n_range = torch.linspace(t_s.min()*0.9, t_s.max()*1.1, steps=20).unsqueeze(1)\n",
    "\n",
    "y_hat = mpl2.predict(s_n_range, n=1000)\n",
    "y = y_hat.mean(axis=0)\n",
    "y_upper = np.quantile(y_hat, 0.975, axis=0)\n",
    "y_lower = np.quantile(y_hat, 0.025, axis=0)\n",
    "\n",
    "fig = plt.figure(dpi=150)\n",
    "plt.xlabel(\"Stage\")\n",
    "plt.ylabel(\"Discharge\")\n",
    "\n",
    "#plt.xlim(5,10)\n",
    "#plt.ylim(0,10000)\n",
    "\n",
    "plt.plot(t_s.numpy(), t_q.numpy(), 'o', ms=3)\n",
    "plt.plot(s_n_range.numpy(), y, 'c-')\n",
    "plt.fill_between(s_n_range.numpy().flatten(), y1=y_upper, y2=y_lower, alpha=0.5, color='c')\n",
    "#y_relu_mc_std = y_hat.std(axis=0)"
   ]
  },
  {
   "cell_type": "code",
   "execution_count": 292,
   "id": "f704190d",
   "metadata": {},
   "outputs": [
    {
     "data": {
      "text/plain": [
       "<matplotlib.collections.PolyCollection at 0x1e663fb5220>"
      ]
     },
     "execution_count": 292,
     "metadata": {},
     "output_type": "execute_result"
    },
    {
     "data": {
      "image/png": "[encoded data removed]",
      "text/plain": [
       "<Figure size 900x600 with 1 Axes>"
      ]
     },
     "metadata": {
      "needs_background": "light"
     },
     "output_type": "display_data"
    }
   ],
   "source": [
    "# plot\n",
    "# colorado river fake\n",
    "from matplotlib import pyplot as plt\n",
    "s_n_range = torch.linspace(t_s.min()*0.9, t_s.max()*1.1, steps=20).unsqueeze(1)\n",
    "\n",
    "y_hat = mpl2.predict(s_n_range, n=1000)\n",
    "y = y_hat.mean(axis=0)\n",
    "y_upper = np.quantile(y_hat, 0.975, axis=0)\n",
    "y_lower = np.quantile(y_hat, 0.025, axis=0)\n",
    "\n",
    "fig = plt.figure(dpi=150)\n",
    "plt.xlabel(\"Stage\")\n",
    "plt.ylabel(\"Discharge\")\n",
    "\n",
    "#plt.xlim(5,10)\n",
    "#plt.ylim(0,10000)\n",
    "plt.plot(t_s.numpy(), t_q.numpy(), 'o', ms=3)\n",
    "plt.plot(s_n_range.numpy(), y, 'c-')\n",
    "plt.fill_between(s_n_range.numpy().flatten(), y1=y_upper, y2=y_lower, alpha=0.5, color='c')\n",
    "#y_relu_mc_std = y_hat.std(axis=0)"
   ]
  },
  {
   "cell_type": "code",
   "execution_count": 174,
   "id": "cd05a2af",
   "metadata": {},
   "outputs": [
    {
     "data": {
      "text/plain": [
       "<matplotlib.collections.PolyCollection at 0x1e63d2b8be0>"
      ]
     },
     "execution_count": 174,
     "metadata": {},
     "output_type": "execute_result"
    },
    {
     "data": {
      "image/png": "[encoded data removed]",
      "text/plain": [
       "<Figure size 900x600 with 1 Axes>"
      ]
     },
     "metadata": {
      "needs_background": "light"
     },
     "output_type": "display_data"
    }
   ],
   "source": [
    "# plot\n",
    "# green reiver\n",
    "from matplotlib import pyplot as plt\n",
    "s_n_range = torch.linspace(t_s.min()*0.9, t_s.max()*1.1, steps=50).unsqueeze(1)\n",
    "\n",
    "y_hat = mpl2.predict(s_n_range, n=2000)\n",
    "y = y_hat.mean(axis=0)\n",
    "y_upper = np.quantile(y_hat, 0.975, axis=0)\n",
    "y_lower = np.quantile(y_hat, 0.025, axis=0)\n",
    "\n",
    "fig = plt.figure(dpi=150)\n",
    "plt.xlabel(\"Stage\")\n",
    "plt.ylabel(\"Discharge\")\n",
    "\n",
    "\n",
    "plt.plot(t_s.numpy(), t_q.numpy(), 'o', ms=3)\n",
    "plt.plot(s_n_range.numpy(), y, 'c-')\n",
    "plt.fill_between(s_n_range.numpy().flatten(), y1=y_upper, y2=y_lower, alpha=0.5, color='c')\n",
    "#y_relu_mc_std = y_hat.std(axis=0)"
   ]
  },
  {
   "cell_type": "code",
   "execution_count": null,
   "id": "f6701a62",
   "metadata": {},
   "outputs": [],
   "source": []
  },
  {
   "cell_type": "code",
   "execution_count": 146,
   "id": "aa169409",
   "metadata": {},
   "outputs": [
    {
     "data": {
      "text/plain": [
       "array([12329.015 ,  4993.4385,  2351.3577,  2295.0469,  2316.6318,\n",
       "        2489.3545,  1697.4719,  1800.7755,  2177.0637,  3101.916 ,\n",
       "       20763.828 ,  8240.167 ,  1413.3885,  2593.006 ,  2490.9766,\n",
       "        1745.3494,  1930.5486,  2344.73  ,  2413.9739, 11079.205 ,\n",
       "        3801.328 ,  2272.4402,  2262.6296,  3481.9944,  3064.5178,\n",
       "        3499.2156,  2540.7517,  3349.8096, 18693.09  , 12510.251 ,\n",
       "        8729.963 ,  2726.037 ,  2390.0684,  1746.8278,  1672.9391,\n",
       "       30386.836 ], dtype=float32)"
      ]
     },
     "execution_count": 146,
     "metadata": {},
     "output_type": "execute_result"
    }
   ],
   "source": [
    "\n",
    "\n",
    "s_n_range = torch.linspace(t_s_ln.min()*0.9, t_s_ln.max()*1.1, steps=20).unsqueeze(1)\n",
    "s_n_relu_pred, y_hat = predict_reg(mpl2, s_n_range)\n",
    "y_mu = y_hat.mean(axis=0)\n",
    "y_std = y_hat.std(axis=0)\n",
    "\n",
    "fig = plt.figure(dpi=150)\n",
    "plt.xlabel(\"Stage\")\n",
    "plt.ylabel(\"Discharge\")\n",
    "\n",
    "\n",
    "plt.plot(t_s_ln.numpy(), t_q_ln.numpy(), 'o')\n",
    "plt.plot(s_n_range.numpy(), y_mu, 'c-')\n",
    "plt.fill_between(s_n_range.numpy().flatten(), y1=y_mu + 1.96*y_std, y2=y_mu - 1.96*y_std, alpha=0.5, color='c')\n",
    "#plt.plot(t_u.numpy(), seq_model(0.1 * t_u).detach().numpy(), 'kx')"
   ]
  },
  {
   "cell_type": "code",
   "execution_count": 149,
   "id": "c434eb79",
   "metadata": {},
   "outputs": [
    {
     "data": {
      "text/plain": [
       "array([13805.77941895,  5298.10837402,  2457.41132202,  2398.14725952,\n",
       "        2412.6605896 ,  2580.81318359,  1840.11071472,  1930.12709351,\n",
       "        2309.08330688,  3210.98812866, 24981.15014648,  9283.04909668,\n",
       "        1561.77999878,  2691.88939209,  2588.52041016,  1872.53797302,\n",
       "        2064.54838867,  2459.57628174,  2529.86872559, 12418.2579834 ,\n",
       "        3962.15195923,  2405.98359985,  2372.31858521,  3641.43936768,\n",
       "        3195.0928894 ,  3680.50001831,  2665.67998657,  3492.81826782,\n",
       "       22336.69912109, 14175.86547852,  9618.21203613,  2831.75936279,\n",
       "        2498.38477173,  1858.44941406,  1829.84346619, 38268.34316406])"
      ]
     },
     "execution_count": 149,
     "metadata": {},
     "output_type": "execute_result"
    }
   ],
   "source": [
    "np.quantile(y_hat, 0.975, axis=0)"
   ]
  },
  {
   "cell_type": "code",
   "execution_count": 117,
   "id": "034f5dcf",
   "metadata": {},
   "outputs": [
    {
     "data": {
      "text/plain": [
       "array([11.7325   ,  9.374648 ,  8.65147  ,  8.635521 ,  8.639269 ,\n",
       "        8.687706 ,  8.490656 ,  8.50947  ,  8.60193  ,  8.852864 ,\n",
       "       15.1019945, 10.354536 ,  8.425782 ,  8.716981 ,  8.685675 ,\n",
       "        8.500274 ,  8.53742  ,  8.647137 ,  8.663926 , 11.315566 ,\n",
       "        9.036872 ,  8.627061 ,  8.626301 ,  8.959358 ,  8.833855 ,\n",
       "        8.962076 ,  8.696872 ,  8.933007 , 13.995409 , 11.794818 ,\n",
       "       10.478416 ,  8.747455 ,  8.659281 ,  8.49631  ,  8.484071 ,\n",
       "       19.167538 ], dtype=float32)"
      ]
     },
     "execution_count": 117,
     "metadata": {},
     "output_type": "execute_result"
    }
   ],
   "source": [
    "y"
   ]
  },
  {
   "cell_type": "code",
   "execution_count": 109,
   "id": "1005d911",
   "metadata": {},
   "outputs": [
    {
     "data": {
      "text/plain": [
       "array([1.3016149e+05, 1.1654950e+04, 5.7210679e+03, 5.6165903e+03,\n",
       "       5.6471836e+03, 5.9187280e+03, 4.8682832e+03, 4.9671191e+03,\n",
       "       5.4510435e+03, 7.0206377e+03, 3.1214400e+06, 3.0856477e+04,\n",
       "       4.5526108e+03, 6.0833467e+03, 5.9279131e+03, 4.8963506e+03,\n",
       "       5.0940312e+03, 5.7030264e+03, 5.7920459e+03, 8.4614383e+04,\n",
       "       8.4348789e+03, 5.5832339e+03, 5.5744341e+03, 7.7915303e+03,\n",
       "       6.8946431e+03, 7.8348887e+03, 5.9842886e+03, 7.5720386e+03,\n",
       "       1.3960022e+06, 1.2450694e+05, 3.6865199e+04, 6.2891914e+03,\n",
       "       5.7482710e+03, 4.8917393e+03, 4.8482168e+03, 2.1885384e+08],\n",
       "      dtype=float32)"
      ]
     },
     "execution_count": 109,
     "metadata": {},
     "output_type": "execute_result"
    }
   ],
   "source": [
    "np.exp(y)"
   ]
  },
  {
   "cell_type": "code",
   "execution_count": 104,
   "id": "5399a60d",
   "metadata": {},
   "outputs": [
    {
     "data": {
      "text/plain": [
       "array([11.776531 ,  9.363486 ,  8.651911 ,  8.63348  ,  8.638912 ,\n",
       "        8.685877 ,  8.490497 ,  8.510595 ,  8.603562 ,  8.856609 ,\n",
       "       14.953805 , 10.337102 ,  8.423456 ,  8.71331  ,  8.6874275,\n",
       "        8.496245 ,  8.535825 ,  8.648752 ,  8.664241 , 11.34586  ,\n",
       "        9.040131 ,  8.627523 ,  8.625946 ,  8.960793 ,  8.8385   ,\n",
       "        8.966342 ,  8.696893 ,  8.932218 , 14.149123 , 11.732117 ,\n",
       "       10.515023 ,  8.746588 ,  8.656654 ,  8.495303 ,  8.486366 ,\n",
       "       19.203915 ], dtype=float32)"
      ]
     },
     "execution_count": 104,
     "metadata": {},
     "output_type": "execute_result"
    }
   ],
   "source": [
    "y"
   ]
  },
  {
   "cell_type": "code",
   "execution_count": null,
   "id": "7be8f32e",
   "metadata": {},
   "outputs": [],
   "source": [
    "# plot\n",
    "\n"
   ]
  },
  {
   "cell_type": "code",
   "execution_count": 83,
   "id": "be0be517",
   "metadata": {},
   "outputs": [
    {
     "name": "stdout",
     "output_type": "stream",
     "text": [
      "MLP(\n",
      "  (model): Sequential(\n",
      "    (input): Linear(in_features=1, out_features=528, bias=True)\n",
      "    (relu0): ReLU()\n",
      "    (dropout1): Dropout(p=0.2, inplace=False)\n",
      "    (hidden1): Linear(in_features=528, out_features=528, bias=True)\n",
      "    (relu1): ReLU()\n",
      "    (dropout2): Dropout(p=0.2, inplace=False)\n",
      "    (hidden2): Linear(in_features=528, out_features=528, bias=True)\n",
      "    (relu2): ReLU()\n",
      "    (dropout3): Dropout(p=0.2, inplace=False)\n",
      "    (final): Linear(in_features=528, out_features=1, bias=True)\n",
      "  )\n",
      ")\n",
      "Epoch 2 loss: 0.9237725734710693\n",
      "Epoch 1001 loss: 0.00326955015771091\n",
      "Epoch 2001 loss: 0.004237708169966936\n",
      "Epoch 3001 loss: 0.006592483725398779\n",
      "Epoch 4001 loss: 0.0031828221399337053\n",
      "Epoch 5001 loss: 0.002376909600570798\n"
     ]
    },
    {
     "data": {
      "text/plain": [
       "<__main__.MLPRegressor at 0x1e62ba25370>"
      ]
     },
     "execution_count": 83,
     "metadata": {},
     "output_type": "execute_result"
    }
   ],
   "source": [
    "mpl1 = MLPRegressor(hidden_layers=[528,528,528], droprate=0.2, max_epoch=5000, activation='relu')\n",
    "mpl1.fit(t_s, t_q,verbose=True)"
   ]
  },
  {
   "cell_type": "code",
   "execution_count": 49,
   "id": "fa767f5b",
   "metadata": {},
   "outputs": [
    {
     "data": {
      "text/plain": [
       "\u001b[1;31mSignature:\u001b[0m \u001b[0mmpl2\u001b[0m\u001b[1;33m.\u001b[0m\u001b[0mmodel\u001b[0m\u001b[1;33m.\u001b[0m\u001b[0meval\u001b[0m\u001b[1;33m(\u001b[0m\u001b[1;33m)\u001b[0m \u001b[1;33m->\u001b[0m \u001b[1;33m~\u001b[0m\u001b[0mT\u001b[0m\u001b[1;33m\u001b[0m\u001b[1;33m\u001b[0m\u001b[0m\n",
       "\u001b[1;31mDocstring:\u001b[0m\n",
       "Sets the module in evaluation mode.\n",
       "\n",
       "This has any effect only on certain modules. See documentations of\n",
       "particular modules for details of their behaviors in training/evaluation\n",
       "mode, if they are affected, e.g. :class:`Dropout`, :class:`BatchNorm`,\n",
       "etc.\n",
       "\n",
       "This is equivalent with :meth:`self.train(False) <torch.nn.Module.train>`.\n",
       "\n",
       "See :ref:`locally-disable-grad-doc` for a comparison between\n",
       "`.eval()` and several similar mechanisms that may be confused with it.\n",
       "\n",
       "Returns:\n",
       "    Module: self\n",
       "\u001b[1;31mFile:\u001b[0m      c:\\users\\thodson\\appdata\\local\\programs\\python\\python39\\lib\\site-packages\\torch\\nn\\modules\\module.py\n",
       "\u001b[1;31mType:\u001b[0m      method\n"
      ]
     },
     "metadata": {},
     "output_type": "display_data"
    }
   ],
   "source": [
    "mpl2.model.eval?"
   ]
  },
  {
   "cell_type": "code",
   "execution_count": 44,
   "id": "b71245ba",
   "metadata": {},
   "outputs": [],
   "source": [
    "s_transform = Transform(t_s)"
   ]
  },
  {
   "cell_type": "code",
   "execution_count": 45,
   "id": "76b126c7",
   "metadata": {},
   "outputs": [
    {
     "data": {
      "text/plain": [
       "tensor([[ 1.4826e+00],\n",
       "        [ 4.0433e-01],\n",
       "        [-5.1076e-01],\n",
       "        [-5.5001e-01],\n",
       "        [-5.3423e-01],\n",
       "        [-4.3418e-01],\n",
       "        [-9.6493e-01],\n",
       "        [-8.9043e-01],\n",
       "        [-6.1423e-01],\n",
       "        [-1.2430e-01],\n",
       "        [ 2.2045e+00],\n",
       "        [ 9.4155e-01],\n",
       "        [-1.2144e+00],\n",
       "        [-3.7469e-01],\n",
       "        [-4.3418e-01],\n",
       "        [-9.2738e-01],\n",
       "        [-7.9175e-01],\n",
       "        [-5.1856e-01],\n",
       "        [-4.7983e-01],\n",
       "        [ 1.3323e+00],\n",
       "        [ 1.1963e-01],\n",
       "        [-5.5795e-01],\n",
       "        [-5.6590e-01],\n",
       "        [-2.2673e-03],\n",
       "        [-1.4417e-01],\n",
       "        [ 3.9817e-03],\n",
       "        [-4.1169e-01],\n",
       "        [-4.0117e-02],\n",
       "        [ 2.0517e+00],\n",
       "        [ 1.4792e+00],\n",
       "        [ 9.9923e-01],\n",
       "        [-3.0239e-01],\n",
       "        [-4.9524e-01],\n",
       "        [-9.3671e-01],\n",
       "        [-9.8393e-01],\n",
       "        [ 2.7852e+00]])"
      ]
     },
     "execution_count": 45,
     "metadata": {},
     "output_type": "execute_result"
    }
   ],
   "source": [
    "s_transform.transform(t_s)"
   ]
  },
  {
   "cell_type": "code",
   "execution_count": 88,
   "id": "d137f84c",
   "metadata": {},
   "outputs": [],
   "source": [
    "def predict_reg(model, X, T=1000):\n",
    "    #X = Variable(torch.from_numpy(X).type(torch.FloatTensor).cuda())\n",
    "    model = model.model\n",
    "    model = model.train()\n",
    "    Yt_hat = np.array([model(X).data.cpu().numpy() for _ in range(T)]).squeeze()\n",
    "    model = model.eval()\n",
    "    y_pred = model(X).data.cpu().numpy() #MLE estimate\n",
    "    model = model.train()\n",
    "    return y_pred, Yt_hat"
   ]
  },
  {
   "cell_type": "code",
   "execution_count": 89,
   "id": "2810c017",
   "metadata": {},
   "outputs": [],
   "source": [
    "y_relu_pred, y_hat = predict_reg(mpl2, t_s_ln)\n",
    "y_relu_mc = y_hat.mean(axis=0)\n",
    "y_relu_mc_std = y_hat.std(axis=0)"
   ]
  },
  {
   "cell_type": "code",
   "execution_count": 90,
   "id": "72718dbe",
   "metadata": {},
   "outputs": [
    {
     "data": {
      "text/plain": [
       "array([-0.7526815 , -0.50778115, -0.2628808 , -0.01798046,  0.22691989,\n",
       "        0.47182024,  0.7167206 ,  0.9616209 ,  1.2065213 ,  1.4514216 ,\n",
       "        1.696322  ,  1.9412223 ,  2.1861227 ,  2.4310231 ,  2.6759233 ,\n",
       "        2.9208236 ,  3.1657243 ,  3.4106247 ,  3.6555252 ,  3.9004254 ],\n",
       "      dtype=float32)"
      ]
     },
     "execution_count": 90,
     "metadata": {},
     "output_type": "execute_result"
    }
   ],
   "source": [
    "s_n_range.numpy().flatten()"
   ]
  },
  {
   "cell_type": "code",
   "execution_count": 29,
   "id": "1548df0e",
   "metadata": {},
   "outputs": [
    {
     "ename": "NameError",
     "evalue": "name 'predict_reg' is not defined",
     "output_type": "error",
     "traceback": [
      "\u001b[1;31m---------------------------------------------------------------------------\u001b[0m",
      "\u001b[1;31mNameError\u001b[0m                                 Traceback (most recent call last)",
      "\u001b[1;32m<ipython-input-29-96ed64a4edf2>\u001b[0m in \u001b[0;36m<module>\u001b[1;34m\u001b[0m\n\u001b[0;32m      2\u001b[0m \u001b[1;33m\u001b[0m\u001b[0m\n\u001b[0;32m      3\u001b[0m \u001b[0ms_n_range\u001b[0m \u001b[1;33m=\u001b[0m \u001b[0mtorch\u001b[0m\u001b[1;33m.\u001b[0m\u001b[0mlinspace\u001b[0m\u001b[1;33m(\u001b[0m\u001b[0mt_s_ln\u001b[0m\u001b[1;33m.\u001b[0m\u001b[0mmin\u001b[0m\u001b[1;33m(\u001b[0m\u001b[1;33m)\u001b[0m\u001b[1;33m*\u001b[0m\u001b[1;36m0.9\u001b[0m\u001b[1;33m,\u001b[0m \u001b[0mt_s_ln\u001b[0m\u001b[1;33m.\u001b[0m\u001b[0mmax\u001b[0m\u001b[1;33m(\u001b[0m\u001b[1;33m)\u001b[0m\u001b[1;33m*\u001b[0m\u001b[1;36m1.1\u001b[0m\u001b[1;33m,\u001b[0m \u001b[0msteps\u001b[0m\u001b[1;33m=\u001b[0m\u001b[1;36m20\u001b[0m\u001b[1;33m)\u001b[0m\u001b[1;33m.\u001b[0m\u001b[0munsqueeze\u001b[0m\u001b[1;33m(\u001b[0m\u001b[1;36m1\u001b[0m\u001b[1;33m)\u001b[0m\u001b[1;33m\u001b[0m\u001b[1;33m\u001b[0m\u001b[0m\n\u001b[1;32m----> 4\u001b[1;33m \u001b[0ms_n_relu_pred\u001b[0m\u001b[1;33m,\u001b[0m \u001b[0my_hat\u001b[0m \u001b[1;33m=\u001b[0m \u001b[0mpredict_reg\u001b[0m\u001b[1;33m(\u001b[0m\u001b[0mmpl2\u001b[0m\u001b[1;33m,\u001b[0m \u001b[0ms_n_range\u001b[0m\u001b[1;33m)\u001b[0m\u001b[1;33m\u001b[0m\u001b[1;33m\u001b[0m\u001b[0m\n\u001b[0m\u001b[0;32m      5\u001b[0m \u001b[0my_mu\u001b[0m \u001b[1;33m=\u001b[0m \u001b[0my_hat\u001b[0m\u001b[1;33m.\u001b[0m\u001b[0mmean\u001b[0m\u001b[1;33m(\u001b[0m\u001b[0maxis\u001b[0m\u001b[1;33m=\u001b[0m\u001b[1;36m0\u001b[0m\u001b[1;33m)\u001b[0m\u001b[1;33m\u001b[0m\u001b[1;33m\u001b[0m\u001b[0m\n\u001b[0;32m      6\u001b[0m \u001b[0my_std\u001b[0m \u001b[1;33m=\u001b[0m \u001b[0my_hat\u001b[0m\u001b[1;33m.\u001b[0m\u001b[0mstd\u001b[0m\u001b[1;33m(\u001b[0m\u001b[0maxis\u001b[0m\u001b[1;33m=\u001b[0m\u001b[1;36m0\u001b[0m\u001b[1;33m)\u001b[0m\u001b[1;33m\u001b[0m\u001b[1;33m\u001b[0m\u001b[0m\n",
      "\u001b[1;31mNameError\u001b[0m: name 'predict_reg' is not defined"
     ]
    }
   ],
   "source": [
    "from matplotlib import pyplot as plt\n",
    "\n",
    "s_n_range = torch.linspace(t_s_ln.min()*0.9, t_s_ln.max()*1.1, steps=20).unsqueeze(1)\n",
    "s_n_relu_pred, y_hat = predict_reg(mpl2, s_n_range)\n",
    "y_mu = y_hat.mean(axis=0)\n",
    "y_std = y_hat.std(axis=0)\n",
    "\n",
    "fig = plt.figure(dpi=150)\n",
    "plt.xlabel(\"Stage\")\n",
    "plt.ylabel(\"Discharge\")\n",
    "\n",
    "\n",
    "plt.plot(t_s_ln.numpy(), t_q_ln.numpy(), 'o')\n",
    "plt.plot(s_n_range.numpy(), y_mu, 'c-')\n",
    "plt.fill_between(s_n_range.numpy().flatten(), y1=y_mu + 1.96*y_std, y2=y_mu - 1.96*y_std, alpha=0.5, color='c')\n",
    "#plt.plot(t_u.numpy(), seq_model(0.1 * t_u).detach().numpy(), 'kx')"
   ]
  },
  {
   "cell_type": "code",
   "execution_count": 1,
   "id": "d3f2481b",
   "metadata": {},
   "outputs": [
    {
     "ename": "NameError",
     "evalue": "name 'normalize' is not defined",
     "output_type": "error",
     "traceback": [
      "\u001b[1;31m---------------------------------------------------------------------------\u001b[0m",
      "\u001b[1;31mNameError\u001b[0m                                 Traceback (most recent call last)",
      "\u001b[1;32m<ipython-input-1-a380bbfdc036>\u001b[0m in \u001b[0;36m<module>\u001b[1;34m\u001b[0m\n\u001b[0;32m      1\u001b[0m \u001b[1;31m#t_s_ln = normalize(t_s.log())\u001b[0m\u001b[1;33m\u001b[0m\u001b[1;33m\u001b[0m\u001b[1;33m\u001b[0m\u001b[0m\n\u001b[0;32m      2\u001b[0m \u001b[1;31m#t_q_ln = normalize(t_q.log())\u001b[0m\u001b[1;33m\u001b[0m\u001b[1;33m\u001b[0m\u001b[1;33m\u001b[0m\u001b[0m\n\u001b[1;32m----> 3\u001b[1;33m \u001b[0mt_s_ln\u001b[0m \u001b[1;33m=\u001b[0m \u001b[0mnormalize\u001b[0m\u001b[1;33m(\u001b[0m\u001b[0mt_s\u001b[0m\u001b[1;33m)\u001b[0m\u001b[1;33m\u001b[0m\u001b[1;33m\u001b[0m\u001b[0m\n\u001b[0m\u001b[0;32m      4\u001b[0m \u001b[0mt_q_ln\u001b[0m \u001b[1;33m=\u001b[0m \u001b[0mnormalize\u001b[0m\u001b[1;33m(\u001b[0m\u001b[0mt_q\u001b[0m\u001b[1;33m)\u001b[0m\u001b[1;33m\u001b[0m\u001b[1;33m\u001b[0m\u001b[0m\n",
      "\u001b[1;31mNameError\u001b[0m: name 'normalize' is not defined"
     ]
    }
   ],
   "source": [
    "#t_s_ln = normalize(t_s.log())\n",
    "#t_q_ln = normalize(t_q.log())\n",
    "t_s_ln = normalize(t_s)\n",
    "t_q_ln = normalize(t_q)"
   ]
  },
  {
   "cell_type": "code",
   "execution_count": 110,
   "id": "8a71fdcb",
   "metadata": {},
   "outputs": [
    {
     "name": "stdout",
     "output_type": "stream",
     "text": [
      "MLP2(\n",
      "  (model): Sequential(\n",
      "    (input): Linear(in_features=1, out_features=528, bias=True)\n",
      "    (relu0): ReLU()\n",
      "    (dropout1): Dropout(p=0.2, inplace=False)\n",
      "    (hidden1): Linear(in_features=528, out_features=528, bias=True)\n",
      "    (relu1): ReLU()\n",
      "    (dropout2): Dropout(p=0.2, inplace=False)\n",
      "    (hidden2): Linear(in_features=528, out_features=528, bias=True)\n",
      "    (relu2): ReLU()\n",
      "    (dropout3): Dropout(p=0.2, inplace=False)\n",
      "    (final): Linear(in_features=528, out_features=1, bias=True)\n",
      "  )\n",
      ")\n",
      "Epoch 1 loss: 1.0849120616912842\n",
      "Epoch 2 loss: 0.9725840091705322\n",
      "Epoch 1001 loss: 0.006579444278031588\n",
      "Epoch 2001 loss: 0.00392288388684392\n",
      "Epoch 3001 loss: 0.005625448189675808\n",
      "Epoch 4001 loss: 0.00488757761195302\n"
     ]
    },
    {
     "data": {
      "text/plain": [
       "<__main__.MLP2Regressor at 0x1fa1f63fd00>"
      ]
     },
     "execution_count": 110,
     "metadata": {},
     "output_type": "execute_result"
    }
   ],
   "source": [
    "\n",
    "#hidden_layers = [256, 256, 256]\n",
    "hidden_layers = [1056, 1056] # loss 0.0028\n",
    "hidden_layers = [528, 528, 528]\n",
    "mpl2 = MLP2Regressor(hidden_layers=hidden_layers, droprate=0.2, max_epoch=5000, activation='relu')\n",
    "mpl2.fit(t_s_ln, t_q_ln,verbose=True)"
   ]
  },
  {
   "cell_type": "code",
   "execution_count": 111,
   "id": "144a978f",
   "metadata": {},
   "outputs": [
    {
     "data": {
      "text/plain": [
       "<matplotlib.collections.PolyCollection at 0x1fa202bc190>"
      ]
     },
     "execution_count": 111,
     "metadata": {},
     "output_type": "execute_result"
    },
    {
     "data": {
      "image/png": "[encoded data removed]",
      "text/plain": [
       "<Figure size 900x600 with 1 Axes>"
      ]
     },
     "metadata": {
      "needs_background": "light"
     },
     "output_type": "display_data"
    }
   ],
   "source": [
    "y_relu_pred, y_hat = predict_reg(mpl2, t_s_ln)\n",
    "y_relu_mc = y_hat.mean(axis=0)\n",
    "y_relu_mc_std = y_hat.std(axis=0)\n",
    "\n",
    "from matplotlib import pyplot as plt\n",
    "\n",
    "s_n_range = torch.linspace(t_s_ln.min()*0.9, t_s_ln.max()*1.1, steps=20).unsqueeze(1)\n",
    "s_n_relu_pred, y_hat = predict_reg(mpl2, s_n_range)\n",
    "y_mu = y_hat.mean(axis=0)\n",
    "y_std = y_hat.std(axis=0)\n",
    "\n",
    "fig = plt.figure(dpi=150)\n",
    "plt.xlabel(\"Stage\")\n",
    "plt.ylabel(\"Discharge\")\n",
    "\n",
    "\n",
    "plt.plot(t_s_ln.numpy(), t_q_ln.numpy(), 'o')\n",
    "plt.plot(s_n_range.numpy(), y_mu, 'c-')\n",
    "plt.fill_between(s_n_range.numpy().flatten(), y1=y_mu + 1.96*y_std, y2=y_mu - 1.96*y_std, alpha=0.5, color='c')\n",
    "#plt.plot(t_u.numpy(), seq_model(0.1 * t_u).detach().numpy(), 'kx')"
   ]
  },
  {
   "cell_type": "code",
   "execution_count": null,
   "id": "e551cb29",
   "metadata": {},
   "outputs": [],
   "source": []
  }
 ],
 "metadata": {
  "kernelspec": {
   "display_name": "Python 3",
   "language": "python",
   "name": "python3"
  },
  "language_info": {
   "codemirror_mode": {
    "name": "ipython",
    "version": 3
   },
   "file_extension": ".py",
   "mimetype": "text/x-python",
   "name": "python",
   "nbconvert_exporter": "python",
   "pygments_lexer": "ipython3",
   "version": "3.9.2"
  }
 },
 "nbformat": 4,
 "nbformat_minor": 5
}
