{
 "cells": [
  {
   "cell_type": "code",
   "execution_count": 24,
   "id": "6f851517",
   "metadata": {},
   "outputs": [],
   "source": [
    "#https://xuwd11.github.io/Dropout_Tutorial_in_PyTorch/\n",
    "%matplotlib inline\n",
    "import numpy as np\n",
    "import torch\n",
    "import torch.optim as optim\n",
    "from torch.autograd import Variable\n",
    "import torch.nn as nn\n",
    "import torch.nn.functional as F\n",
    "torch.set_printoptions(edgeitems=2, linewidth=75)"
   ]
  },
  {
   "cell_type": "code",
   "execution_count": 3,
   "id": "980648eb",
   "metadata": {},
   "outputs": [
    {
     "data": {
      "text/html": [
       "<div>\n",
       "<style scoped>\n",
       "    .dataframe tbody tr th:only-of-type {\n",
       "        vertical-align: middle;\n",
       "    }\n",
       "\n",
       "    .dataframe tbody tr th {\n",
       "        vertical-align: top;\n",
       "    }\n",
       "\n",
       "    .dataframe thead th {\n",
       "        text-align: right;\n",
       "    }\n",
       "</style>\n",
       "<table border=\"1\" class=\"dataframe\">\n",
       "  <thead>\n",
       "    <tr style=\"text-align: right;\">\n",
       "      <th></th>\n",
       "      <th>datetime</th>\n",
       "      <th>stage</th>\n",
       "      <th>q</th>\n",
       "      <th>q_sigma</th>\n",
       "    </tr>\n",
       "  </thead>\n",
       "  <tbody>\n",
       "    <tr>\n",
       "      <th>0</th>\n",
       "      <td>2020-05-21 14:13:41 [UTC-07:00]</td>\n",
       "      <td>7.04</td>\n",
       "      <td>12199.342</td>\n",
       "      <td>199.172931</td>\n",
       "    </tr>\n",
       "    <tr>\n",
       "      <th>1</th>\n",
       "      <td>2020-04-16 14:55:31 [UTC-07:00]</td>\n",
       "      <td>4.43</td>\n",
       "      <td>4921.953</td>\n",
       "      <td>95.425619</td>\n",
       "    </tr>\n",
       "    <tr>\n",
       "      <th>2</th>\n",
       "      <td>2020-03-04 13:54:10 [UTC-07:00]</td>\n",
       "      <td>2.99</td>\n",
       "      <td>2331.665</td>\n",
       "      <td>61.860500</td>\n",
       "    </tr>\n",
       "    <tr>\n",
       "      <th>3</th>\n",
       "      <td>2020-03-04 13:16:51 [UTC-07:00]</td>\n",
       "      <td>2.94</td>\n",
       "      <td>2289.220</td>\n",
       "      <td>47.886745</td>\n",
       "    </tr>\n",
       "    <tr>\n",
       "      <th>4</th>\n",
       "      <td>2020-01-23 11:04:32 [UTC-07:00]</td>\n",
       "      <td>2.96</td>\n",
       "      <td>2408.210</td>\n",
       "      <td>99.522964</td>\n",
       "    </tr>\n",
       "  </tbody>\n",
       "</table>\n",
       "</div>"
      ],
      "text/plain": [
       "                          datetime  stage          q     q_sigma\n",
       "0  2020-05-21 14:13:41 [UTC-07:00]   7.04  12199.342  199.172931\n",
       "1  2020-04-16 14:55:31 [UTC-07:00]   4.43   4921.953   95.425619\n",
       "2  2020-03-04 13:54:10 [UTC-07:00]   2.99   2331.665   61.860500\n",
       "3  2020-03-04 13:16:51 [UTC-07:00]   2.94   2289.220   47.886745\n",
       "4  2020-01-23 11:04:32 [UTC-07:00]   2.96   2408.210   99.522964"
      ]
     },
     "execution_count": 3,
     "metadata": {},
     "output_type": "execute_result"
    }
   ],
   "source": [
    "# import training data\n",
    "import  pandas as pd\n",
    "#data = pd.read_csv('../data/co_channel.csv')\n",
    "data = pd.read_csv('../data/green_channel.csv')\n",
    "\n",
    "data.head()"
   ]
  },
  {
   "cell_type": "code",
   "execution_count": 6,
   "id": "e80a5307",
   "metadata": {},
   "outputs": [
    {
     "data": {
      "text/plain": [
       "torch.Size([36, 1])"
      ]
     },
     "execution_count": 6,
     "metadata": {},
     "output_type": "execute_result"
    }
   ],
   "source": [
    "#observations\n",
    "t_s = torch.tensor(data['stage']).float().unsqueeze(1)\n",
    "t_q = torch.tensor(data['q']).float().unsqueeze(1)\n",
    "\n",
    "#uncertainties\n",
    "t_q_sigma = torch.tensor(data['q_sigma']).float().unsqueeze(1)\n",
    "t_s_sigma = torch.tensor([0.01]).float().unsqueeze(1)\n",
    "\n",
    "t_q.shape"
   ]
  },
  {
   "cell_type": "code",
   "execution_count": 11,
   "id": "97b02ce3",
   "metadata": {},
   "outputs": [],
   "source": [
    "def normalize(t):\n",
    "    return (t - t.mean())/t.std()"
   ]
  },
  {
   "cell_type": "code",
   "execution_count": null,
   "id": "3ab9bce4",
   "metadata": {},
   "outputs": [],
   "source": []
  },
  {
   "cell_type": "code",
   "execution_count": 93,
   "id": "02dcabba",
   "metadata": {},
   "outputs": [],
   "source": [
    "t_s_ln = normalize(t_s.log())\n",
    "t_q_ln = normalize(t_q.log())"
   ]
  },
  {
   "cell_type": "code",
   "execution_count": 8,
   "id": "b12661a3",
   "metadata": {},
   "outputs": [
    {
     "data": {
      "text/plain": [
       "tensor(4.1394)"
      ]
     },
     "execution_count": 8,
     "metadata": {},
     "output_type": "execute_result"
    }
   ],
   "source": [
    "t_s.mean()"
   ]
  },
  {
   "cell_type": "code",
   "execution_count": 41,
   "id": "2c7401e2",
   "metadata": {},
   "outputs": [],
   "source": [
    "class MLP2(nn.Module):\n",
    "    def __init__(self, hidden_layers=[1024, 1024, 1024, 1024, 1024], droprate=0.2, activation='relu'):\n",
    "        super(MLP2, self).__init__()\n",
    "        self.model = nn.Sequential()\n",
    "        self.model.add_module('input', nn.Linear(1, hidden_layers[0]))\n",
    "        if activation == 'relu':\n",
    "            self.model.add_module('relu0', nn.ReLU())\n",
    "        elif activation == 'tanh':\n",
    "            self.model.add_module('tanh0', nn.Tanh())\n",
    "        for i in range(len(hidden_layers)-1):\n",
    "            self.model.add_module('dropout'+str(i+1), nn.Dropout(p=droprate))\n",
    "            self.model.add_module('hidden'+str(i+1), nn.Linear(hidden_layers[i], hidden_layers[i+1]))\n",
    "            if activation == 'relu':\n",
    "                self.model.add_module('relu'+str(i+1), nn.ReLU())\n",
    "            elif activation == 'tanh':\n",
    "                self.model.add_module('tanh'+str(i+1), nn.Tanh())\n",
    "        self.model.add_module('dropout'+str(i+2), nn.Dropout(p=droprate))\n",
    "        self.model.add_module('final', nn.Linear(hidden_layers[i+1], 1))\n",
    "        \n",
    "    def forward(self, x):\n",
    "        return self.model(x)\n",
    "    \n",
    "    \n",
    "class MLP2Regressor:\n",
    "    def __init__(self, hidden_layers=[1024, 1024, 1024, 1024, 1024], droprate=0.2, activation='relu', \\\n",
    "                 max_epoch=1000000, lr=0.0001, weight_decay=1e-6):\n",
    "        self.max_epoch = max_epoch\n",
    "        self.lr = lr\n",
    "        self.model = MLP2(hidden_layers=hidden_layers, droprate=droprate, activation=activation)\n",
    "        #self.model.cuda()\n",
    "        self.criterion = nn.MSELoss()#.cuda()\n",
    "        self.optimizer = optim.Adam(self.model.parameters(), lr=lr, weight_decay=weight_decay)\n",
    "        \n",
    "    def fit(self, X_train, y_train, verbose=True):\n",
    "        X = X_train\n",
    "        y = y_train\n",
    "        #X = Variable(torch.from_numpy(X_train).type(torch.FloatTensor))#.cuda()\n",
    "        #y = Variable(torch.from_numpy(y_train).type(torch.FloatTensor))#.cuda()\n",
    "        print(self.model)\n",
    "        for epoch in range(self.max_epoch):\n",
    "            self.optimizer.zero_grad()\n",
    "            outputs = self.model(X)\n",
    "            loss = self.criterion(outputs, y)\n",
    "            loss.backward()\n",
    "            self.optimizer.step()\n",
    "            if verbose:\n",
    "                if epoch == 1 or epoch % 1000 == 0:\n",
    "                    print('Epoch {} loss: {}'.format(epoch+1, loss.data))##[0]))\n",
    "        return self"
   ]
  },
  {
   "cell_type": "code",
   "execution_count": 86,
   "id": "61709502",
   "metadata": {},
   "outputs": [],
   "source": [
    "### Below is training code, uncomment to train your own model... ###\n",
    "### Note: You need GPU and CUDA to run this section ###\n",
    "'''\n",
    "# Define networks\n",
    "mlp2 = [MLP2Regressor(activation='relu'),\n",
    "        MLP2Regressor(activation='tanh')]\n",
    "        \n",
    "# Training, set verbose=True to see loss after each epoch.\n",
    "[mlp.fit(X_train, y_train,verbose=False) for mlp in mlp2]\n",
    "\n",
    "# Save torch models\n",
    "for ind, mlp in enumerate(mlp2):\n",
    "    torch.save(mlp.model, 'co2_mlp2_'+str(ind)+'.pth')\n",
    "'''\n",
    "\n",
    "#hidden_layers = [528, 256, 256]\n",
    "mpl2 = MLP2Regressor(hidden_layers=[528,528,528,528], droprate=0.2, max_epoch=5000, activation='relu')\n",
    "mpl2.fit(t_s_ln, t_q_ln,verbose=True)"
   ]
  },
  {
   "cell_type": "code",
   "execution_count": 94,
   "id": "7a3405a5",
   "metadata": {},
   "outputs": [
    {
     "name": "stdout",
     "output_type": "stream",
     "text": [
      "MLP2(\n",
      "  (model): Sequential(\n",
      "    (input): Linear(in_features=1, out_features=528, bias=True)\n",
      "    (relu0): ReLU()\n",
      "    (dropout1): Dropout(p=0.2, inplace=False)\n",
      "    (hidden1): Linear(in_features=528, out_features=528, bias=True)\n",
      "    (relu1): ReLU()\n",
      "    (dropout2): Dropout(p=0.2, inplace=False)\n",
      "    (hidden2): Linear(in_features=528, out_features=528, bias=True)\n",
      "    (relu2): ReLU()\n",
      "    (dropout3): Dropout(p=0.2, inplace=False)\n",
      "    (hidden3): Linear(in_features=528, out_features=528, bias=True)\n",
      "    (relu3): ReLU()\n",
      "    (dropout4): Dropout(p=0.2, inplace=False)\n",
      "    (final): Linear(in_features=528, out_features=1, bias=True)\n",
      "  )\n",
      ")\n",
      "Epoch 1 loss: 0.04026956111192703\n",
      "Epoch 2 loss: 0.028450442478060722\n",
      "Epoch 1001 loss: 0.004851606208831072\n",
      "Epoch 2001 loss: 0.004822164308279753\n",
      "Epoch 3001 loss: 0.0059485603123903275\n",
      "Epoch 4001 loss: 0.001707022194750607\n"
     ]
    },
    {
     "data": {
      "text/plain": [
       "<__main__.MLP2Regressor at 0x1fa214d96a0>"
      ]
     },
     "execution_count": 94,
     "metadata": {},
     "output_type": "execute_result"
    }
   ],
   "source": []
  },
  {
   "cell_type": "code",
   "execution_count": 88,
   "id": "816e78c4",
   "metadata": {},
   "outputs": [],
   "source": [
    "def predict_reg(model, X, T=1000):\n",
    "    #X = Variable(torch.from_numpy(X).type(torch.FloatTensor).cuda())\n",
    "    model = model.model\n",
    "    model = model.train()\n",
    "    Yt_hat = np.array([model(X).data.cpu().numpy() for _ in range(T)]).squeeze()\n",
    "    model = model.eval()\n",
    "    y_pred = model(X).data.cpu().numpy()\n",
    "    model = model.train()\n",
    "    return y_pred, Yt_hat"
   ]
  },
  {
   "cell_type": "code",
   "execution_count": 89,
   "id": "a271bb5f",
   "metadata": {},
   "outputs": [],
   "source": [
    "y_relu_pred, y_hat = predict_reg(mpl2, t_s_ln)\n",
    "y_relu_mc = y_hat.mean(axis=0)\n",
    "y_relu_mc_std = y_hat.std(axis=0)"
   ]
  },
  {
   "cell_type": "code",
   "execution_count": 90,
   "id": "ce758d3b",
   "metadata": {},
   "outputs": [
    {
     "data": {
      "text/plain": [
       "array([-0.7526815 , -0.50778115, -0.2628808 , -0.01798046,  0.22691989,\n",
       "        0.47182024,  0.7167206 ,  0.9616209 ,  1.2065213 ,  1.4514216 ,\n",
       "        1.696322  ,  1.9412223 ,  2.1861227 ,  2.4310231 ,  2.6759233 ,\n",
       "        2.9208236 ,  3.1657243 ,  3.4106247 ,  3.6555252 ,  3.9004254 ],\n",
       "      dtype=float32)"
      ]
     },
     "execution_count": 90,
     "metadata": {},
     "output_type": "execute_result"
    }
   ],
   "source": [
    "s_n_range.numpy().flatten()"
   ]
  },
  {
   "cell_type": "code",
   "execution_count": 95,
   "id": "2f6d744d",
   "metadata": {},
   "outputs": [
    {
     "data": {
      "text/plain": [
       "<matplotlib.collections.PolyCollection at 0x1fa1fc01940>"
      ]
     },
     "execution_count": 95,
     "metadata": {},
     "output_type": "execute_result"
    },
    {
     "data": {
      "image/png": "[encoded data removed]",
      "text/plain": [
       "<Figure size 900x600 with 1 Axes>"
      ]
     },
     "metadata": {
      "needs_background": "light"
     },
     "output_type": "display_data"
    }
   ],
   "source": [
    "from matplotlib import pyplot as plt\n",
    "\n",
    "s_n_range = torch.linspace(t_s_ln.min()*0.9, t_s_ln.max()*1.1, steps=20).unsqueeze(1)\n",
    "s_n_relu_pred, y_hat = predict_reg(mpl2, s_n_range)\n",
    "y_mu = y_hat.mean(axis=0)\n",
    "y_std = y_hat.std(axis=0)\n",
    "\n",
    "fig = plt.figure(dpi=150)\n",
    "plt.xlabel(\"Stage\")\n",
    "plt.ylabel(\"Discharge\")\n",
    "\n",
    "\n",
    "plt.plot(t_s_ln.numpy(), t_q_ln.numpy(), 'o')\n",
    "plt.plot(s_n_range.numpy(), y_mu, 'c-')\n",
    "plt.fill_between(s_n_range.numpy().flatten(), y1=y_mu + 1.96*y_std, y2=y_mu - 1.96*y_std, alpha=0.5, color='c')\n",
    "#plt.plot(t_u.numpy(), seq_model(0.1 * t_u).detach().numpy(), 'kx')"
   ]
  },
  {
   "cell_type": "code",
   "execution_count": 112,
   "id": "32715715",
   "metadata": {},
   "outputs": [],
   "source": [
    "#t_s_ln = normalize(t_s.log())\n",
    "#t_q_ln = normalize(t_q.log())\n",
    "t_s_ln = normalize(t_s)\n",
    "t_q_ln = normalize(t_q)"
   ]
  },
  {
   "cell_type": "code",
   "execution_count": 113,
   "id": "ec068185",
   "metadata": {},
   "outputs": [
    {
     "name": "stdout",
     "output_type": "stream",
     "text": [
      "MLP2(\n",
      "  (model): Sequential(\n",
      "    (input): Linear(in_features=1, out_features=528, bias=True)\n",
      "    (relu0): ReLU()\n",
      "    (dropout1): Dropout(p=0.2, inplace=False)\n",
      "    (hidden1): Linear(in_features=528, out_features=528, bias=True)\n",
      "    (relu1): ReLU()\n",
      "    (dropout2): Dropout(p=0.2, inplace=False)\n",
      "    (hidden2): Linear(in_features=528, out_features=528, bias=True)\n",
      "    (relu2): ReLU()\n",
      "    (dropout3): Dropout(p=0.2, inplace=False)\n",
      "    (final): Linear(in_features=528, out_features=1, bias=True)\n",
      "  )\n",
      ")\n",
      "Epoch 1 loss: 1.0297777652740479\n",
      "Epoch 2 loss: 0.845386266708374\n",
      "Epoch 1001 loss: 0.00432015024125576\n",
      "Epoch 2001 loss: 0.004948774352669716\n",
      "Epoch 3001 loss: 0.0038156243972480297\n",
      "Epoch 4001 loss: 0.0015667579136788845\n"
     ]
    },
    {
     "data": {
      "text/plain": [
       "<__main__.MLP2Regressor at 0x1fa202bc700>"
      ]
     },
     "execution_count": 113,
     "metadata": {},
     "output_type": "execute_result"
    }
   ],
   "source": [
    "\n",
    "#hidden_layers = [256, 256, 256]\n",
    "hidden_layers = [1056, 1056] # loss 0.0028\n",
    "hidden_layers = [528, 528, 528]\n",
    "mpl2 = MLP2Regressor(hidden_layers=hidden_layers, droprate=0.2, max_epoch=5000, activation='relu')\n",
    "mpl2.fit(t_s_ln, t_q_ln,verbose=True)"
   ]
  },
  {
   "cell_type": "code",
   "execution_count": 117,
   "id": "8a962905",
   "metadata": {},
   "outputs": [
    {
     "data": {
      "text/plain": [
       "array([[ 1.028685  ],\n",
       "       [-0.03969652],\n",
       "       [-0.36374798],\n",
       "       [-0.37169698],\n",
       "       [-0.36844656],\n",
       "       [-0.34731856],\n",
       "       [-0.4437214 ],\n",
       "       [-0.43174955],\n",
       "       [-0.38453192],\n",
       "       [-0.27423403],\n",
       "       [ 2.2601333 ],\n",
       "       [ 0.39554557],\n",
       "       [-0.47916538],\n",
       "       [-0.3337981 ],\n",
       "       [-0.34731856],\n",
       "       [-0.43777737],\n",
       "       [-0.41567588],\n",
       "       [-0.36531225],\n",
       "       [-0.35734996],\n",
       "       [ 0.80541587],\n",
       "       [-0.18876538],\n",
       "       [-0.37332806],\n",
       "       [-0.37496075],\n",
       "       [-0.23422897],\n",
       "       [-0.27972478],\n",
       "       [-0.23189057],\n",
       "       [-0.3422137 ],\n",
       "       [-0.24791995],\n",
       "       [ 1.9693428 ],\n",
       "       [ 1.0235475 ],\n",
       "       [ 0.44690812],\n",
       "       [-0.31709173],\n",
       "       [-0.36054426],\n",
       "       [-0.43928382],\n",
       "       [-0.44662663],\n",
       "       [ 3.6401036 ]], dtype=float32)"
      ]
     },
     "execution_count": 117,
     "metadata": {},
     "output_type": "execute_result"
    }
   ],
   "source": [
    "y_relu_pr"
   ]
  },
  {
   "cell_type": "code",
   "execution_count": 114,
   "id": "84599623",
   "metadata": {},
   "outputs": [
    {
     "data": {
      "text/plain": [
       "<matplotlib.collections.PolyCollection at 0x1fa2174c2e0>"
      ]
     },
     "execution_count": 114,
     "metadata": {},
     "output_type": "execute_result"
    },
    {
     "data": {
      "image/png": "[encoded data removed]",
      "text/plain": [
       "<Figure size 900x600 with 1 Axes>"
      ]
     },
     "metadata": {
      "needs_background": "light"
     },
     "output_type": "display_data"
    }
   ],
   "source": [
    "y_relu_pred, y_hat = predict_reg(mpl2, t_s_ln)\n",
    "y_relu_mc = y_hat.mean(axis=0)\n",
    "y_relu_mc_std = y_hat.std(axis=0)\n",
    "\n",
    "from matplotlib import pyplot as plt\n",
    "\n",
    "s_n_range = torch.linspace(t_s_ln.min()*0.9, t_s_ln.max()*1.1, steps=20).unsqueeze(1)\n",
    "s_n_relu_pred, y_hat = predict_reg(mpl2, s_n_range)\n",
    "y_mu = y_hat.mean(axis=0)\n",
    "y_std = y_hat.std(axis=0)\n",
    "\n",
    "fig = plt.figure(dpi=150)\n",
    "plt.xlabel(\"Stage\")\n",
    "plt.ylabel(\"Discharge\")\n",
    "\n",
    "\n",
    "plt.plot(t_s_ln.numpy(), t_q_ln.numpy(), 'o')\n",
    "plt.plot(s_n_range.numpy(), y_mu, 'c-')\n",
    "plt.fill_between(s_n_range.numpy().flatten(), y1=y_mu + 1.96*y_std, y2=y_mu - 1.96*y_std, alpha=0.5, color='c')\n",
    "#plt.plot(t_u.numpy(), seq_model(0.1 * t_u).detach().numpy(), 'kx')"
   ]
  },
  {
   "cell_type": "code",
   "execution_count": null,
   "id": "057b0955",
   "metadata": {},
   "outputs": [],
   "source": [
    "t_s"
   ]
  }
 ],
 "metadata": {
  "kernelspec": {
   "display_name": "Python 3",
   "language": "python",
   "name": "python3"
  },
  "language_info": {
   "codemirror_mode": {
    "name": "ipython",
    "version": 3
   },
   "file_extension": ".py",
   "mimetype": "text/x-python",
   "name": "python",
   "nbconvert_exporter": "python",
   "pygments_lexer": "ipython3",
   "version": "3.9.2"
  }
 },
 "nbformat": 4,
 "nbformat_minor": 5
}
