{
 "cells": [
  {
   "cell_type": "code",
   "execution_count": null,
   "id": "db70830c",
   "metadata": {},
   "outputs": [],
   "source": [
    "https://medium.com/@benjamin.phillips22/simple-regression-with-neural-networks-in-pytorch-313f06910379"
   ]
  },
  {
   "cell_type": "code",
   "execution_count": null,
   "id": "0305a80d",
   "metadata": {},
   "outputs": [],
   "source": [
    "# activation functions \n",
    "https://pytorch.org/docs/stable/generated/torch.nn.Threshold.html#torch.nn.Threshold\n",
    "https://pytorch.org/docs/stable/generated/torch.nn.ReLU6.html#torch.nn.ReLU6\n",
    "    \n",
    "# is there a way to learn the parameters used in a threshold function?"
   ]
  },
  {
   "cell_type": "code",
   "execution_count": null,
   "id": "2ad54225",
   "metadata": {},
   "outputs": [],
   "source": [
    "# learnable threshold tensor flow (might not be possible in torch)\n",
    "https://discuss.pytorch.org/t/how-to-make-the-parameter-of-torch-nn-threshold-learnable/4729/2"
   ]
  },
  {
   "cell_type": "code",
   "execution_count": null,
   "id": "134c4719",
   "metadata": {},
   "outputs": [],
   "source": [
    "# this migh tbe the solution \n",
    "https://forums.fast.ai/t/learnable-threshold-in-pytorch/29717\n",
    "# associated paper\n",
    "\n",
    "https://stackoverflow.com/questions/53698950/pytorch-learnable-threshold-for-clipping-activations\n",
    "    \n",
    "    \n",
    "#last and possibly best\n",
    "https://discuss.pytorch.org/t/how-to-make-the-parameter-of-torch-nn-threshold-learnable/4729/17"
   ]
  },
  {
   "cell_type": "code",
   "execution_count": null,
   "id": "117cca17",
   "metadata": {},
   "outputs": [],
   "source": [
    "relu1 = torch.where(relu1 > self.act_max, self.act_max, relu1)"
   ]
  },
  {
   "cell_type": "code",
   "execution_count": null,
   "id": "9cc5331c",
   "metadata": {},
   "outputs": [],
   "source": []
  },
  {
   "cell_type": "code",
   "execution_count": null,
   "id": "33494cda",
   "metadata": {},
   "outputs": [],
   "source": [
    "https://xuwd11.github.io/Dropout_Tutorial_in_PyTorch/"
   ]
  }
 ],
 "metadata": {
  "kernelspec": {
   "display_name": "Python 3",
   "language": "python",
   "name": "python3"
  },
  "language_info": {
   "codemirror_mode": {
    "name": "ipython",
    "version": 3
   },
   "file_extension": ".py",
   "mimetype": "text/x-python",
   "name": "python",
   "nbconvert_exporter": "python",
   "pygments_lexer": "ipython3",
   "version": "3.9.2"
  }
 },
 "nbformat": 4,
 "nbformat_minor": 5
}
