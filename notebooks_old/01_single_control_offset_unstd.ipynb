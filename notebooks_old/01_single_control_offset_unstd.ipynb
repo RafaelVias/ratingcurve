{
 "cells": [
  {
   "cell_type": "code",
   "execution_count": 10,
   "id": "7f211133",
   "metadata": {},
   "outputs": [
    {
     "name": "stdout",
     "output_type": "stream",
     "text": [
      "The autoreload extension is already loaded. To reload it, use:\n",
      "  %reload_ext autoreload\n"
     ]
    }
   ],
   "source": [
    "%load_ext autoreload\n",
    "%autoreload 2\n",
    "\n",
    "#https://mc-stan.org/docs/2_18/stan-users-guide/bayesian-measurement-error-model.html"
   ]
  },
  {
   "cell_type": "code",
   "execution_count": 11,
   "id": "464260b0",
   "metadata": {},
   "outputs": [],
   "source": [
    "# add noise to prediction"
   ]
  },
  {
   "cell_type": "code",
   "execution_count": 12,
   "id": "e963a58f",
   "metadata": {},
   "outputs": [],
   "source": [
    "#from mdm.dataset import Standardization, LogTransform\n",
    "RANDOM_SEED=1985"
   ]
  },
  {
   "cell_type": "code",
   "execution_count": 13,
   "id": "304e4b13",
   "metadata": {},
   "outputs": [],
   "source": [
    "import pandas as pd\n",
    "import pymc3 as pm\n",
    "\n",
    "import arviz as az\n",
    "import matplotlib.pyplot as plt\n",
    "import numpy as np\n",
    "\n",
    "import theano.tensor as tt"
   ]
  },
  {
   "cell_type": "code",
   "execution_count": 14,
   "id": "e9676552",
   "metadata": {},
   "outputs": [],
   "source": [
    "#read in data\n",
    "date_format = \"%Y-%m-%d %H:%M:%S [UTC%z]\"\n",
    "df = pd.read_csv(\"../data/green_channel.csv\")\n",
    "df = pd.read_csv(\"../data/co_channel.csv\")\n",
    "df['datetime'] = pd.to_datetime(df['datetime'], format=date_format)"
   ]
  },
  {
   "cell_type": "code",
   "execution_count": 15,
   "id": "19514b20",
   "metadata": {},
   "outputs": [],
   "source": [
    "def tt_standardize(x, x_o=None):\n",
    "    if x_o is None:\n",
    "        x_o = x\n",
    "        \n",
    "    x_std = (x - tt.mean(x_o)) / tt.std(x_o)\n",
    "    return x_std\n",
    "\n",
    "\n",
    "def tt_unstandardize(x_std, x_o):\n",
    "    #import pdb; pdb.set_trace()    \n",
    "    x = x_std * tt.std(x_o) + tt.mean(x_o)\n",
    "    return x\n",
    "\n",
    "def unstandardize(x_std, x_o):\n",
    "    #import pdb; pdb.set_trace()    \n",
    "    x = x_std * np.std(x_o) + np.mean(x_o)\n",
    "    return x\n",
    "\n",
    "\n",
    "def tt_log_standardize(x, x_o=None):\n",
    "    if x_o is None:\n",
    "        x_o = x\n",
    "    \n",
    "    log_x = tt.log(x)\n",
    "    log_x_o = tt.log(x_o)\n",
    "    x_std = (log_x - tt.mean(log_x_o)) / (tt.std(log_x_o))\n",
    "    return x_std\n",
    "    \n",
    "\n",
    "def tt_log_unstandardize(x_std, x_o):\n",
    "\n",
    "    log_x_o = tt.log(x_o) #observed\n",
    "    log_x = x_std * tt.std(log_x_o) + tt.mean(log_x_o)\n",
    "    return tt.exp(log_x)\n",
    "    \n",
    "def tt_standardize_stage(x, offset, x_o=None):\n",
    "    if x_o is None:\n",
    "        x_o = x\n",
    "    \n",
    "    log_x = tt.log(x) - offset\n",
    "    log_x_o = tt.log(x_o) - offset\n",
    "    x_std = (log_x - tt.mean(log_x_o)) / (tt.std(log_x_o))\n",
    "    return x_std\n",
    "\n",
    "def tt_unstandardize_stage(x_std, offset, x_o):\n",
    "\n",
    "    log_x_o = tt.log(x_o) - offset #observed\n",
    "    log_x = x_std * tt.std(log_x_o) + tt.mean(log_x_o)\n",
    "    return tt.exp(log_x + offset)\n",
    "\n",
    "# plotting?\n",
    "def predictive_plot(ppc, q_obs, s_obs, offset=False, ax=None):\n",
    "    if ax is None:\n",
    "        _, ax = plt.subplots()\n",
    "    \n",
    "    s_obs.min()\n",
    "    s_min = np.floor(s_obs.min())\n",
    "    s_max = np.ceil(s_obs.max())\n",
    "    s_sim = np.linspace(s_min, s_max)\n",
    "    \n",
    "    if offset:\n",
    "        o = ppc['offset']\n",
    "    else:\n",
    "        o = 0\n",
    "      \n",
    "    #predictor_scaled = tt_log_standardize(s_sim-o, s_obs-o).eval()\n",
    "    #q_pred = tt_log_unstandardize(ppc['q_log'], df['q']).eval()\n",
    "    \n",
    "    #log_mu_ppq = (ppc[\"a\"] + ppc[\"b\"] * np.log(s_obs - o)).T\n",
    "    log_mu_ppq = ppc['a'].reshape(-1,1) + ppc['b'].reshape(-1,1)*np.log((s_sim.reshape(1,-1) - ppc['offset'].reshape(-1,1)))\n",
    "    log_pred_ppq = log_mu_ppq + ppc['sigma'].reshape(-1,1) * pm.Normal.dist(0,1).random(size=(4000,50))\n",
    "    \n",
    "    mu_ppq = np.exp(log_mu_ppq)\n",
    "    pred_ppq = np.exp(log_pred_ppq)\n",
    "    \n",
    "    \n",
    "    \n",
    "    #plt.plot(df['stage'], df['q'], \"o\", ms=4, alpha=0.4, label=\"Data\", color='k')\n",
    "    \n",
    "    ax.errorbar(df['stage'],  df['q'], yerr=1.96*df['q_sigma'], fmt='.k');\n",
    "    \n",
    "    ax.plot(s_sim, mu_ppq.mean(0), label=\"Mean outcome\", alpha=0.6)\n",
    "    \n",
    "    \n",
    "    az.plot_hdi(\n",
    "        s_sim,\n",
    "        pred_ppq,\n",
    "        ax=ax,\n",
    "        fill_kwargs={\"alpha\": 0.8, \"color\": \"#a1dab4\", \"label\": \"Predictive 94% HPD\"},\n",
    "    )\n",
    "    \n",
    "    \n",
    "    ax.set_xlabel(\"Stage (feet)\")\n",
    "    ax.set_ylabel(\"Discharge (ft3/s)\")\n",
    "    \n",
    "    ax.legend(ncol=2, fontsize=10)"
   ]
  },
  {
   "cell_type": "code",
   "execution_count": 16,
   "id": "ded3fe6d",
   "metadata": {},
   "outputs": [],
   "source": [
    "#read in data\n",
    "date_format = \"%Y-%m-%d %H:%M:%S [UTC%z]\"\n",
    "df = pd.read_csv(\"../data/green_channel.csv\")\n",
    "df['datetime'] = pd.to_datetime(df['datetime'], format=date_format)\n",
    "\n",
    "q_obs = df['q'].values\n",
    "s_obs = df['stage'].values\n",
    "\n",
    "q_sigma = df['q_sigma'].values\n",
    "s_sigma = 0.02\n",
    "#s_sigma = 0.5\n",
    "\n",
    "n = df['q'].shape[0]"
   ]
  },
  {
   "cell_type": "code",
   "execution_count": 17,
   "id": "8c709f07",
   "metadata": {},
   "outputs": [],
   "source": [
    "lg_q = np.log(q_obs)\n",
    "lg_q_u = lg_q.mean()\n",
    "lg_q_s = lg_q.std()\n",
    "\n",
    "lg_s = np.log(s_obs)\n",
    "lg_s_s = lg_s.std()\n",
    "slope_u = lg_q_s/lg_s_s\n",
    "f = 3\n",
    "offset_max = np.min([s_obs.min()*0.9,6])\n",
    "\n",
    "error_model = pm.Model()\n",
    "\n",
    "# assume measurement error\n",
    "with error_model:\n",
    "    # Priors\n",
    "    a = pm.Normal(\"a\", mu=lg_q_u, sigma=lg_q_s*f)\n",
    "    b = pm.Normal(\"b\", mu=slope_u, sigma=slope_u)\n",
    "    sigma = pm.HalfNormal('sigma', sigma=lg_q_s)\n",
    "    offset = pm.Uniform('offset', 0, offset_max)\n",
    "    #offset = pm.HalfNormal('offset', sigma=2)\n",
    "    #q_obs_o = q_obs\n",
    "\n",
    "    # Observation model\n",
    "    q_true = q_obs + q_sigma * pm.Normal.dist(0,1).random(size=n)\n",
    "    s_true = s_obs + s_sigma * pm.Normal.dist(0,1).random(size=n)\n",
    "    \n",
    "    #q_std = tt_log_standardize(q_true, x_o=q_obs)\n",
    "    #s_std = tt_log_standardize(s_true-offset, x_o=s_obs-offset)\n",
    "\n",
    "    # Process model\n",
    "    #mu = a + b * lg_s #worked without offset\n",
    "    mu = a + b * tt.log(s_obs - offset)\n",
    "    #y = pm.Lognormal(\"q\", mu=mu, sigma=sigma, observed=q_obs)\n",
    "    q_log = pm.Normal(\"q_log\",\n",
    "                 mu=mu,\n",
    "                 sigma=sigma,\n",
    "                 observed=lg_q)\n",
    "    \n",
    "    #q_sim = pm.Deterministic('q_sim', tt.exp(y))"
   ]
  },
  {
   "cell_type": "code",
   "execution_count": 18,
   "id": "189bac01",
   "metadata": {},
   "outputs": [
    {
     "name": "stderr",
     "output_type": "stream",
     "text": [
      "Auto-assigning NUTS sampler...\n",
      "Initializing NUTS using jitter+adapt_diag...\n",
      "Multiprocess sampling (4 chains in 4 jobs)\n",
      "NUTS: [offset, sigma, b, a]\n"
     ]
    },
    {
     "data": {
      "text/html": [
       "\n",
       "    <div>\n",
       "        <style>\n",
       "            /* Turns off some styling */\n",
       "            progress {\n",
       "                /* gets rid of default border in Firefox and Opera. */\n",
       "                border: none;\n",
       "                /* Needs to be in here for Safari polyfill so background images work as expected. */\n",
       "                background-size: auto;\n",
       "            }\n",
       "            .progress-bar-interrupted, .progress-bar-interrupted::-webkit-progress-bar {\n",
       "                background: #F44336;\n",
       "            }\n",
       "        </style>\n",
       "      <progress value='12000' class='' max='12000' style='width:300px; height:20px; vertical-align: middle;'></progress>\n",
       "      100.00% [12000/12000 01:02<00:00 Sampling 4 chains, 0 divergences]\n",
       "    </div>\n",
       "    "
      ],
      "text/plain": [
       "<IPython.core.display.HTML object>"
      ]
     },
     "metadata": {},
     "output_type": "display_data"
    },
    {
     "name": "stderr",
     "output_type": "stream",
     "text": [
      "Sampling 4 chains for 2_000 tune and 1_000 draw iterations (8_000 + 4_000 draws total) took 102 seconds.\n",
      "The number of effective samples is smaller than 25% for some parameters.\n"
     ]
    },
    {
     "data": {
      "text/html": [
       "\n",
       "    <div>\n",
       "        <style>\n",
       "            /* Turns off some styling */\n",
       "            progress {\n",
       "                /* gets rid of default border in Firefox and Opera. */\n",
       "                border: none;\n",
       "                /* Needs to be in here for Safari polyfill so background images work as expected. */\n",
       "                background-size: auto;\n",
       "            }\n",
       "            .progress-bar-interrupted, .progress-bar-interrupted::-webkit-progress-bar {\n",
       "                background: #F44336;\n",
       "            }\n",
       "        </style>\n",
       "      <progress value='4000' class='' max='4000' style='width:300px; height:20px; vertical-align: middle;'></progress>\n",
       "      100.00% [4000/4000 00:05<00:00]\n",
       "    </div>\n",
       "    "
      ],
      "text/plain": [
       "<IPython.core.display.HTML object>"
      ]
     },
     "metadata": {},
     "output_type": "display_data"
    }
   ],
   "source": [
    "with error_model:\n",
    "    error_trace = pm.sample(1000, tune=2000, return_inferencedata=False, target_accept=0.95)\n",
    "    ppc = pm.sample_posterior_predictive(\n",
    "        error_trace, var_names=[\"a\", \"b\", \"sigma\",\"offset\", \"q_log\"], random_seed=RANDOM_SEED\n",
    "    )"
   ]
  },
  {
   "cell_type": "code",
   "execution_count": 19,
   "id": "c808c280",
   "metadata": {},
   "outputs": [
    {
     "name": "stderr",
     "output_type": "stream",
     "text": [
      "C:\\Users\\thodson\\Miniconda3\\envs\\pm3env\\lib\\site-packages\\arviz\\stats\\stats.py:456: FutureWarning: hdi currently interprets 2d data as (draw, shape) but this will change in a future release to (chain, draw) for coherence with other functions\n",
      "  warnings.warn(\n"
     ]
    },
    {
     "data": {
      "image/png": "[encoded data removed]",
      "text/plain": [
       "<Figure size 432x288 with 1 Axes>"
      ]
     },
     "metadata": {
      "needs_background": "light"
     },
     "output_type": "display_data"
    }
   ],
   "source": [
    "fig, ax = plt.subplots(figsize=(6,4))\n",
    "predictive_plot(ppc, q_obs, s_obs, ax=ax)\n",
    "ax.set_title(\"Green River\")\n",
    "fig.savefig(\"../figures/green_channel.pdf\")"
   ]
  },
  {
   "cell_type": "code",
   "execution_count": 20,
   "id": "cf6c6060",
   "metadata": {},
   "outputs": [],
   "source": [
    "output=pd.DataFrame()"
   ]
  },
  {
   "cell_type": "code",
   "execution_count": 21,
   "id": "87ee2216",
   "metadata": {},
   "outputs": [],
   "source": [
    "site = 'Green River'\n",
    "\n",
    "a= ppc['a'].mean()\n",
    "sigma = ppc['sigma'].mean() \n",
    "b= ppc['b'].mean() \n",
    "sigma = ppc['sigma'].mean()\n",
    "offset = ppc['offset'].mean()\n",
    "\n",
    "#log_q = np.log(q_obs)\n",
    "#log_s = np.log(s_obs-offset)\n",
    "#a_s = log_q.std()*(a-b*log_s.mean()/log_s.std())+log_q.mean()\n",
    "#b_s = b*log_q.std()/log_s.std()\n",
    "#sigma_s = log_q.std()*sigma\n",
    "gerr95 = np.exp(sigma)**1.96\n",
    "\n",
    "results = pd.Series({'a':a,'b':b, 'offset':offset, 'sigma':sigma, 'gerr95':gerr95}, name=site)\n",
    "output = output.append(results)"
   ]
  },
  {
   "cell_type": "code",
   "execution_count": 22,
   "id": "1fdf3b59",
   "metadata": {},
   "outputs": [
    {
     "data": {
      "text/html": [
       "<div>\n",
       "<style scoped>\n",
       "    .dataframe tbody tr th:only-of-type {\n",
       "        vertical-align: middle;\n",
       "    }\n",
       "\n",
       "    .dataframe tbody tr th {\n",
       "        vertical-align: top;\n",
       "    }\n",
       "\n",
       "    .dataframe thead th {\n",
       "        text-align: right;\n",
       "    }\n",
       "</style>\n",
       "<table border=\"1\" class=\"dataframe\">\n",
       "  <thead>\n",
       "    <tr style=\"text-align: right;\">\n",
       "      <th></th>\n",
       "      <th>a</th>\n",
       "      <th>b</th>\n",
       "      <th>gerr95</th>\n",
       "      <th>offset</th>\n",
       "      <th>sigma</th>\n",
       "    </tr>\n",
       "  </thead>\n",
       "  <tbody>\n",
       "    <tr>\n",
       "      <th>Green River</th>\n",
       "      <td>5.904799</td>\n",
       "      <td>1.788791</td>\n",
       "      <td>1.076985</td>\n",
       "      <td>0.141161</td>\n",
       "      <td>0.03784</td>\n",
       "    </tr>\n",
       "  </tbody>\n",
       "</table>\n",
       "</div>"
      ],
      "text/plain": [
       "                    a         b    gerr95    offset    sigma\n",
       "Green River  5.904799  1.788791  1.076985  0.141161  0.03784"
      ]
     },
     "execution_count": 22,
     "metadata": {},
     "output_type": "execute_result"
    }
   ],
   "source": [
    "output"
   ]
  },
  {
   "cell_type": "code",
   "execution_count": 23,
   "id": "ba8a3a30",
   "metadata": {},
   "outputs": [],
   "source": [
    "#read in data\n",
    "date_format = \"%Y-%m-%d %H:%M:%S [UTC%z]\"\n",
    "df = pd.read_csv(\"../data/co_channel.csv\")\n",
    "df['datetime'] = pd.to_datetime(df['datetime'], format=date_format)\n",
    "\n",
    "q_obs = df['q'].values\n",
    "s_obs = df['stage'].values\n",
    "\n",
    "q_sigma = df['q_sigma'].values\n",
    "s_sigma = 0.02\n",
    "#s_sigma = 0.5\n",
    "\n",
    "n = df['q'].shape[0]"
   ]
  },
  {
   "cell_type": "code",
   "execution_count": null,
   "id": "e7994c35",
   "metadata": {},
   "outputs": [],
   "source": []
  },
  {
   "cell_type": "code",
   "execution_count": 24,
   "id": "d4921a57",
   "metadata": {},
   "outputs": [],
   "source": [
    "lg_q = np.log(q_obs)\n",
    "lg_q_u = lg_q.mean()\n",
    "lg_q_s = lg_q.std()\n",
    "\n",
    "lg_s = np.log(s_obs)\n",
    "lg_s_s = lg_s.std()\n",
    "slope_u = lg_q_s/lg_s_s\n",
    "f = 3\n",
    "offset_max = np.min([s_obs.min()*0.9,6])\n",
    "\n",
    "error_model = pm.Model()\n",
    "\n",
    "# assume measurement error\n",
    "with error_model:\n",
    "    # Priors\n",
    "    a = pm.Normal(\"a\", mu=lg_q_u, sigma=lg_q_s*f)\n",
    "    b = pm.Normal(\"b\", mu=slope_u, sigma=slope_u)\n",
    "    sigma = pm.HalfNormal('sigma', sigma=lg_q_s)\n",
    "    offset = pm.Uniform('offset', 0, offset_max)\n",
    "    #offset = pm.HalfNormal('offset', sigma=2)\n",
    "    #q_obs_o = q_obs\n",
    "\n",
    "    # Observation model\n",
    "    q_true = q_obs + q_sigma * pm.Normal.dist(0,1).random(size=n)\n",
    "    s_true = s_obs + s_sigma * pm.Normal.dist(0,1).random(size=n)\n",
    "    \n",
    "    #q_std = tt_log_standardize(q_true, x_o=q_obs)\n",
    "    #s_std = tt_log_standardize(s_true-offset, x_o=s_obs-offset)\n",
    "\n",
    "    # Process model\n",
    "    #mu = a + b * lg_s #worked without offset\n",
    "    mu = a + b * tt.log(s_obs - offset)\n",
    "    #y = pm.Lognormal(\"q\", mu=mu, sigma=sigma, observed=q_obs)\n",
    "    q_log = pm.Normal(\"q_log\",\n",
    "                 mu=mu,\n",
    "                 sigma=sigma,\n",
    "                 observed=lg_q)\n",
    "    \n",
    "    #q_sim = pm.Deterministic('q_sim', tt.exp(y))"
   ]
  },
  {
   "cell_type": "code",
   "execution_count": null,
   "id": "7478be9d",
   "metadata": {},
   "outputs": [],
   "source": []
  },
  {
   "cell_type": "code",
   "execution_count": 25,
   "id": "752e1080",
   "metadata": {},
   "outputs": [
    {
     "name": "stderr",
     "output_type": "stream",
     "text": [
      "Auto-assigning NUTS sampler...\n",
      "Initializing NUTS using jitter+adapt_diag...\n",
      "Multiprocess sampling (4 chains in 4 jobs)\n",
      "NUTS: [offset, sigma, b, a]\n"
     ]
    },
    {
     "data": {
      "text/html": [
       "\n",
       "    <div>\n",
       "        <style>\n",
       "            /* Turns off some styling */\n",
       "            progress {\n",
       "                /* gets rid of default border in Firefox and Opera. */\n",
       "                border: none;\n",
       "                /* Needs to be in here for Safari polyfill so background images work as expected. */\n",
       "                background-size: auto;\n",
       "            }\n",
       "            .progress-bar-interrupted, .progress-bar-interrupted::-webkit-progress-bar {\n",
       "                background: #F44336;\n",
       "            }\n",
       "        </style>\n",
       "      <progress value='12000' class='' max='12000' style='width:300px; height:20px; vertical-align: middle;'></progress>\n",
       "      100.00% [12000/12000 01:54<00:00 Sampling 4 chains, 0 divergences]\n",
       "    </div>\n",
       "    "
      ],
      "text/plain": [
       "<IPython.core.display.HTML object>"
      ]
     },
     "metadata": {},
     "output_type": "display_data"
    },
    {
     "name": "stderr",
     "output_type": "stream",
     "text": [
      "Sampling 4 chains for 2_000 tune and 1_000 draw iterations (8_000 + 4_000 draws total) took 150 seconds.\n",
      "The number of effective samples is smaller than 25% for some parameters.\n"
     ]
    },
    {
     "data": {
      "text/html": [
       "\n",
       "    <div>\n",
       "        <style>\n",
       "            /* Turns off some styling */\n",
       "            progress {\n",
       "                /* gets rid of default border in Firefox and Opera. */\n",
       "                border: none;\n",
       "                /* Needs to be in here for Safari polyfill so background images work as expected. */\n",
       "                background-size: auto;\n",
       "            }\n",
       "            .progress-bar-interrupted, .progress-bar-interrupted::-webkit-progress-bar {\n",
       "                background: #F44336;\n",
       "            }\n",
       "        </style>\n",
       "      <progress value='4000' class='' max='4000' style='width:300px; height:20px; vertical-align: middle;'></progress>\n",
       "      100.00% [4000/4000 00:12<00:00]\n",
       "    </div>\n",
       "    "
      ],
      "text/plain": [
       "<IPython.core.display.HTML object>"
      ]
     },
     "metadata": {},
     "output_type": "display_data"
    }
   ],
   "source": [
    "with error_model:\n",
    "    error_trace = pm.sample(1000, tune=2000, return_inferencedata=False, target_accept=0.95)\n",
    "    ppc = pm.sample_posterior_predictive(\n",
    "        error_trace, var_names=[\"a\", \"b\", \"sigma\",\"offset\", \"q_log\"], random_seed=RANDOM_SEED\n",
    "    )"
   ]
  },
  {
   "cell_type": "code",
   "execution_count": 26,
   "id": "8432b54a",
   "metadata": {},
   "outputs": [
    {
     "name": "stderr",
     "output_type": "stream",
     "text": [
      "C:\\Users\\thodson\\Miniconda3\\envs\\pm3env\\lib\\site-packages\\arviz\\stats\\stats.py:456: FutureWarning: hdi currently interprets 2d data as (draw, shape) but this will change in a future release to (chain, draw) for coherence with other functions\n",
      "  warnings.warn(\n"
     ]
    },
    {
     "data": {
      "image/png": "[encoded data removed]",
      "text/plain": [
       "<Figure size 432x288 with 1 Axes>"
      ]
     },
     "metadata": {
      "needs_background": "light"
     },
     "output_type": "display_data"
    }
   ],
   "source": [
    "fig, ax = plt.subplots(figsize=(6,4))\n",
    "predictive_plot(ppc, q_obs, s_obs, ax=ax)\n",
    "ax.set_title(\"Colorado River\")\n",
    "fig.savefig(\"../figures/co_channel.pdf\")"
   ]
  },
  {
   "cell_type": "code",
   "execution_count": 27,
   "id": "b419da02",
   "metadata": {},
   "outputs": [],
   "source": [
    "site = 'Colorado River'\n",
    "\n",
    "a= ppc['a'].mean()\n",
    "sigma = ppc['sigma'].mean() \n",
    "b= ppc['b'].mean() \n",
    "sigma = ppc['sigma'].mean()\n",
    "offset = ppc['offset'].mean()\n",
    "\n",
    "#log_q = np.log(q_obs)\n",
    "#log_s = np.log(s_obs-offset)\n",
    "#a_s = log_q.std()*(a-b*log_s.mean()/log_s.std())+log_q.mean()\n",
    "#b_s = b*log_q.std()/log_s.std()\n",
    "#sigma_s = log_q.std()*sigma\n",
    "gerr95 = np.exp(sigma)**1.96\n",
    "\n",
    "results = pd.Series({'a':a,'b':b, 'offset':offset, 'sigma':sigma, 'gerr95':gerr95}, name=site)\n",
    "output = output.append(results)"
   ]
  },
  {
   "cell_type": "code",
   "execution_count": 28,
   "id": "22f9209b",
   "metadata": {},
   "outputs": [],
   "source": [
    "\n",
    "#read in data\n",
    "date_format = \"%Y-%m-%d %H:%M:%S [UTC%z]\"\n",
    "df = pd.read_csv(\"../data/chalk_artificial.csv\")\n",
    "df['datetime'] = pd.to_datetime(df['datetime'], format=date_format)\n",
    "\n",
    "q_obs = df['q'].values\n",
    "s_obs = df['stage'].values\n",
    "\n",
    "q_sigma = df['q_sigma'].values\n",
    "s_sigma = 0.02\n",
    "#s_sigma = 0.5\n",
    "\n",
    "n = df['q'].shape[0]"
   ]
  },
  {
   "cell_type": "code",
   "execution_count": null,
   "id": "7fe6f3e7",
   "metadata": {},
   "outputs": [],
   "source": []
  },
  {
   "cell_type": "code",
   "execution_count": 29,
   "id": "576be2aa",
   "metadata": {},
   "outputs": [],
   "source": [
    "lg_q = np.log(q_obs)\n",
    "lg_q_u = lg_q.mean()\n",
    "lg_q_s = lg_q.std()\n",
    "\n",
    "lg_s = np.log(s_obs)\n",
    "lg_s_s = lg_s.std()\n",
    "slope_u = lg_q_s/lg_s_s\n",
    "f = 3\n",
    "offset_max = np.min([s_obs.min()*0.9,6])\n",
    "\n",
    "error_model = pm.Model()\n",
    "\n",
    "# assume measurement error\n",
    "with error_model:\n",
    "    # Priors\n",
    "    a = pm.Normal(\"a\", mu=lg_q_u, sigma=lg_q_s*f)\n",
    "    b = pm.Normal(\"b\", mu=slope_u, sigma=slope_u)\n",
    "    sigma = pm.HalfNormal('sigma', sigma=lg_q_s)\n",
    "    offset = pm.Uniform('offset', 0, offset_max)\n",
    "    #offset = pm.HalfNormal('offset', sigma=2)\n",
    "    #q_obs_o = q_obs\n",
    "\n",
    "    # Observation model\n",
    "    q_true = q_obs + q_sigma * pm.Normal.dist(0,1).random(size=n)\n",
    "    s_true = s_obs + s_sigma * pm.Normal.dist(0,1).random(size=n)\n",
    "    \n",
    "    #q_std = tt_log_standardize(q_true, x_o=q_obs)\n",
    "    #s_std = tt_log_standardize(s_true-offset, x_o=s_obs-offset)\n",
    "\n",
    "    # Process model\n",
    "    #mu = a + b * lg_s #worked without offset\n",
    "    mu = a + b * tt.log(s_obs - offset)\n",
    "    #y = pm.Lognormal(\"q\", mu=mu, sigma=sigma, observed=q_obs)\n",
    "    q_log = pm.Normal(\"q_log\",\n",
    "                 mu=mu,\n",
    "                 sigma=sigma,\n",
    "                 observed=lg_q)\n",
    "    \n",
    "    #q_sim = pm.Deterministic('q_sim', tt.exp(y))"
   ]
  },
  {
   "cell_type": "code",
   "execution_count": 30,
   "id": "fc8a0313",
   "metadata": {},
   "outputs": [
    {
     "name": "stderr",
     "output_type": "stream",
     "text": [
      "Auto-assigning NUTS sampler...\n",
      "Initializing NUTS using jitter+adapt_diag...\n",
      "Multiprocess sampling (4 chains in 4 jobs)\n",
      "NUTS: [offset, sigma, b, a]\n"
     ]
    },
    {
     "data": {
      "text/html": [
       "\n",
       "    <div>\n",
       "        <style>\n",
       "            /* Turns off some styling */\n",
       "            progress {\n",
       "                /* gets rid of default border in Firefox and Opera. */\n",
       "                border: none;\n",
       "                /* Needs to be in here for Safari polyfill so background images work as expected. */\n",
       "                background-size: auto;\n",
       "            }\n",
       "            .progress-bar-interrupted, .progress-bar-interrupted::-webkit-progress-bar {\n",
       "                background: #F44336;\n",
       "            }\n",
       "        </style>\n",
       "      <progress value='12000' class='' max='12000' style='width:300px; height:20px; vertical-align: middle;'></progress>\n",
       "      100.00% [12000/12000 00:47<00:00 Sampling 4 chains, 12 divergences]\n",
       "    </div>\n",
       "    "
      ],
      "text/plain": [
       "<IPython.core.display.HTML object>"
      ]
     },
     "metadata": {},
     "output_type": "display_data"
    },
    {
     "name": "stderr",
     "output_type": "stream",
     "text": [
      "Sampling 4 chains for 2_000 tune and 1_000 draw iterations (8_000 + 4_000 draws total) took 111 seconds.\n",
      "There were 3 divergences after tuning. Increase `target_accept` or reparameterize.\n",
      "There was 1 divergence after tuning. Increase `target_accept` or reparameterize.\n",
      "There were 3 divergences after tuning. Increase `target_accept` or reparameterize.\n",
      "There were 5 divergences after tuning. Increase `target_accept` or reparameterize.\n",
      "The number of effective samples is smaller than 25% for some parameters.\n"
     ]
    },
    {
     "data": {
      "text/html": [
       "\n",
       "    <div>\n",
       "        <style>\n",
       "            /* Turns off some styling */\n",
       "            progress {\n",
       "                /* gets rid of default border in Firefox and Opera. */\n",
       "                border: none;\n",
       "                /* Needs to be in here for Safari polyfill so background images work as expected. */\n",
       "                background-size: auto;\n",
       "            }\n",
       "            .progress-bar-interrupted, .progress-bar-interrupted::-webkit-progress-bar {\n",
       "                background: #F44336;\n",
       "            }\n",
       "        </style>\n",
       "      <progress value='4000' class='' max='4000' style='width:300px; height:20px; vertical-align: middle;'></progress>\n",
       "      100.00% [4000/4000 00:06<00:00]\n",
       "    </div>\n",
       "    "
      ],
      "text/plain": [
       "<IPython.core.display.HTML object>"
      ]
     },
     "metadata": {},
     "output_type": "display_data"
    }
   ],
   "source": [
    "with error_model:\n",
    "    error_trace = pm.sample(1000, tune=2000, return_inferencedata=False, target_accept=0.95)\n",
    "    ppc = pm.sample_posterior_predictive(\n",
    "        error_trace, var_names=[\"a\", \"b\", \"sigma\",\"offset\", \"q_log\"], random_seed=RANDOM_SEED\n",
    "    )"
   ]
  },
  {
   "cell_type": "code",
   "execution_count": 31,
   "id": "aa64a838",
   "metadata": {},
   "outputs": [
    {
     "name": "stderr",
     "output_type": "stream",
     "text": [
      "<ipython-input-15-719d56f2976c>:70: RuntimeWarning: invalid value encountered in log\n",
      "  log_mu_ppq = ppc['a'].reshape(-1,1) + ppc['b'].reshape(-1,1)*np.log((s_sim.reshape(1,-1) - ppc['offset'].reshape(-1,1)))\n",
      "C:\\Users\\thodson\\Miniconda3\\envs\\pm3env\\lib\\site-packages\\arviz\\stats\\stats.py:456: FutureWarning: hdi currently interprets 2d data as (draw, shape) but this will change in a future release to (chain, draw) for coherence with other functions\n",
      "  warnings.warn(\n"
     ]
    },
    {
     "data": {
      "image/png": "[encoded data removed]",
      "text/plain": [
       "<Figure size 432x288 with 1 Axes>"
      ]
     },
     "metadata": {
      "needs_background": "light"
     },
     "output_type": "display_data"
    }
   ],
   "source": [
    "fig, ax = plt.subplots(figsize=(6,4))\n",
    "predictive_plot(ppc, q_obs, s_obs, ax=ax)\n",
    "ax.set_title(\"Chalk Creek\")\n",
    "fig.savefig(\"../figures/chalk_artificial.pdf\")"
   ]
  },
  {
   "cell_type": "code",
   "execution_count": 32,
   "id": "74a20837",
   "metadata": {},
   "outputs": [],
   "source": [
    "site = 'Chalk Creek'\n",
    "\n",
    "a= ppc['a'].mean()\n",
    "sigma = ppc['sigma'].mean() \n",
    "b= ppc['b'].mean() \n",
    "sigma = ppc['sigma'].mean()\n",
    "offset = ppc['offset'].mean()\n",
    "\n",
    "#log_q = np.log(q_obs)\n",
    "#log_s = np.log(s_obs-offset)\n",
    "#a_s = log_q.std()*(a-b*log_s.mean()/log_s.std())+log_q.mean()\n",
    "#b_s = b*log_q.std()/log_s.std()\n",
    "#sigma_s = log_q.std()*sigma\n",
    "gerr95 = np.exp(sigma)**1.96\n",
    "\n",
    "results = pd.Series({'a':a,'b':b, 'offset':offset, 'sigma':sigma, 'gerr95':gerr95}, name=site)\n",
    "output = output.append(results)"
   ]
  },
  {
   "cell_type": "code",
   "execution_count": 33,
   "id": "f05bcc3b",
   "metadata": {},
   "outputs": [],
   "source": [
    "\n",
    "#read in data\n",
    "date_format = \"%Y-%m-%d %H:%M:%S [UTC%z]\"\n",
    "df = pd.read_csv(\"../data/provo_natural.csv\")\n",
    "df['datetime'] = pd.to_datetime(df['datetime'], format=date_format)\n",
    "\n",
    "q_obs = df['q'].values\n",
    "s_obs = df['stage'].values\n",
    "\n",
    "q_sigma = df['q_sigma'].values\n",
    "q_sigma = q_sigma\n",
    "s_sigma = 0.02\n",
    "#s_sigma = 0.5\n",
    "\n",
    "n = df['q'].shape[0]"
   ]
  },
  {
   "cell_type": "code",
   "execution_count": 34,
   "id": "a176e21b",
   "metadata": {},
   "outputs": [],
   "source": [
    "lg_q = np.log(q_obs)\n",
    "lg_q_u = lg_q.mean()\n",
    "lg_q_s = lg_q.std()\n",
    "\n",
    "lg_s = np.log(s_obs)\n",
    "lg_s_s = lg_s.std()\n",
    "slope_u = lg_q_s/lg_s_s\n",
    "f = 3\n",
    "offset_max = np.min([s_obs.min()*0.9,6])\n",
    "\n",
    "error_model = pm.Model()\n",
    "\n",
    "# assume measurement error\n",
    "with error_model:\n",
    "    # Priors\n",
    "    a = pm.Normal(\"a\", mu=lg_q_u, sigma=lg_q_s*f)\n",
    "    b = pm.Normal(\"b\", mu=slope_u, sigma=slope_u)\n",
    "    sigma = pm.HalfNormal('sigma', sigma=lg_q_s)\n",
    "    offset = pm.Uniform('offset', 0, offset_max)\n",
    "    #offset = pm.HalfNormal('offset', sigma=2)\n",
    "    #q_obs_o = q_obs\n",
    "\n",
    "    # Observation model\n",
    "    q_true = q_obs + q_sigma * pm.Normal.dist(0,1).random(size=n)\n",
    "    s_true = s_obs + s_sigma * pm.Normal.dist(0,1).random(size=n)\n",
    "    \n",
    "    #q_std = tt_log_standardize(q_true, x_o=q_obs)\n",
    "    #s_std = tt_log_standardize(s_true-offset, x_o=s_obs-offset)\n",
    "\n",
    "    # Process model\n",
    "    #mu = a + b * lg_s #worked without offset\n",
    "    mu = a + b * tt.log(s_obs - offset)\n",
    "    #y = pm.Lognormal(\"q\", mu=mu, sigma=sigma, observed=q_obs)\n",
    "    q_log = pm.Normal(\"q_log\",\n",
    "                 mu=mu,\n",
    "                 sigma=sigma,\n",
    "                 observed=lg_q)\n",
    "    \n",
    "    #q_sim = pm.Deterministic('q_sim', tt.exp(y))"
   ]
  },
  {
   "cell_type": "code",
   "execution_count": 35,
   "id": "3f437f47",
   "metadata": {},
   "outputs": [
    {
     "name": "stderr",
     "output_type": "stream",
     "text": [
      "Auto-assigning NUTS sampler...\n",
      "Initializing NUTS using jitter+adapt_diag...\n",
      "Multiprocess sampling (4 chains in 4 jobs)\n",
      "NUTS: [offset, sigma, b, a]\n"
     ]
    },
    {
     "data": {
      "text/html": [
       "\n",
       "    <div>\n",
       "        <style>\n",
       "            /* Turns off some styling */\n",
       "            progress {\n",
       "                /* gets rid of default border in Firefox and Opera. */\n",
       "                border: none;\n",
       "                /* Needs to be in here for Safari polyfill so background images work as expected. */\n",
       "                background-size: auto;\n",
       "            }\n",
       "            .progress-bar-interrupted, .progress-bar-interrupted::-webkit-progress-bar {\n",
       "                background: #F44336;\n",
       "            }\n",
       "        </style>\n",
       "      <progress value='12000' class='' max='12000' style='width:300px; height:20px; vertical-align: middle;'></progress>\n",
       "      100.00% [12000/12000 00:54<00:00 Sampling 4 chains, 0 divergences]\n",
       "    </div>\n",
       "    "
      ],
      "text/plain": [
       "<IPython.core.display.HTML object>"
      ]
     },
     "metadata": {},
     "output_type": "display_data"
    },
    {
     "name": "stderr",
     "output_type": "stream",
     "text": [
      "Sampling 4 chains for 2_000 tune and 1_000 draw iterations (8_000 + 4_000 draws total) took 105 seconds.\n",
      "The number of effective samples is smaller than 25% for some parameters.\n"
     ]
    },
    {
     "data": {
      "text/html": [
       "\n",
       "    <div>\n",
       "        <style>\n",
       "            /* Turns off some styling */\n",
       "            progress {\n",
       "                /* gets rid of default border in Firefox and Opera. */\n",
       "                border: none;\n",
       "                /* Needs to be in here for Safari polyfill so background images work as expected. */\n",
       "                background-size: auto;\n",
       "            }\n",
       "            .progress-bar-interrupted, .progress-bar-interrupted::-webkit-progress-bar {\n",
       "                background: #F44336;\n",
       "            }\n",
       "        </style>\n",
       "      <progress value='4000' class='' max='4000' style='width:300px; height:20px; vertical-align: middle;'></progress>\n",
       "      100.00% [4000/4000 00:11<00:00]\n",
       "    </div>\n",
       "    "
      ],
      "text/plain": [
       "<IPython.core.display.HTML object>"
      ]
     },
     "metadata": {},
     "output_type": "display_data"
    }
   ],
   "source": [
    "with error_model:\n",
    "    error_trace = pm.sample(1000, tune=2000, return_inferencedata=False, target_accept=0.95)\n",
    "    ppc = pm.sample_posterior_predictive(\n",
    "        error_trace, var_names=[\"a\", \"b\", \"sigma\",\"offset\", \"q_log\"], random_seed=RANDOM_SEED\n",
    "    )"
   ]
  },
  {
   "cell_type": "code",
   "execution_count": 36,
   "id": "0a4c0eb0",
   "metadata": {},
   "outputs": [
    {
     "name": "stderr",
     "output_type": "stream",
     "text": [
      "C:\\Users\\thodson\\Miniconda3\\envs\\pm3env\\lib\\site-packages\\arviz\\stats\\stats.py:456: FutureWarning: hdi currently interprets 2d data as (draw, shape) but this will change in a future release to (chain, draw) for coherence with other functions\n",
      "  warnings.warn(\n"
     ]
    },
    {
     "data": {
      "image/png": "[encoded data removed]",
      "text/plain": [
       "<Figure size 432x288 with 1 Axes>"
      ]
     },
     "metadata": {
      "needs_background": "light"
     },
     "output_type": "display_data"
    }
   ],
   "source": [
    "fig, ax = plt.subplots(figsize=(6,4))\n",
    "predictive_plot(ppc, q_obs, s_obs, offset=True, ax=ax)\n",
    "ax.set_title(\"Provo River\")\n",
    "fig.savefig(\"../figures/provo_natural.pdf\")"
   ]
  },
  {
   "cell_type": "code",
   "execution_count": 37,
   "id": "6b5bbea7",
   "metadata": {},
   "outputs": [],
   "source": [
    "site = 'Provo River'\n",
    "\n",
    "a= ppc['a'].mean()\n",
    "sigma = ppc['sigma'].mean() \n",
    "b= ppc['b'].mean() \n",
    "sigma = ppc['sigma'].mean()\n",
    "offset = ppc['offset'].mean()\n",
    "\n",
    "#log_q = np.log(q_obs)\n",
    "#log_s = np.log(s_obs-offset)\n",
    "#a_s = log_q.std()*(a-b*log_s.mean()/log_s.std())+log_q.mean()\n",
    "#b_s = b*log_q.std()/log_s.std()\n",
    "#sigma_s = log_q.std()*sigma\n",
    "gerr95 = np.exp(sigma)**1.96\n",
    "\n",
    "results = pd.Series({'a':a,'b':b, 'offset':offset, 'sigma':sigma, 'gerr95':gerr95}, name=site)\n",
    "output = output.append(results)"
   ]
  },
  {
   "cell_type": "code",
   "execution_count": 39,
   "id": "24ee2303",
   "metadata": {},
   "outputs": [],
   "source": [
    "output.to_csv('../simple_offset_unstd_rating.csv')"
   ]
  },
  {
   "cell_type": "code",
   "execution_count": null,
   "id": "e2b827cb",
   "metadata": {},
   "outputs": [],
   "source": [
    "output"
   ]
  },
  {
   "cell_type": "code",
   "execution_count": 60,
   "id": "94d33125",
   "metadata": {},
   "outputs": [
    {
     "data": {
      "text/plain": [
       "array([ 2.        ,  2.2244898 ,  2.44897959,  2.67346939,  2.89795918,\n",
       "        3.12244898,  3.34693878,  3.57142857,  3.79591837,  4.02040816,\n",
       "        4.24489796,  4.46938776,  4.69387755,  4.91836735,  5.14285714,\n",
       "        5.36734694,  5.59183673,  5.81632653,  6.04081633,  6.26530612,\n",
       "        6.48979592,  6.71428571,  6.93877551,  7.16326531,  7.3877551 ,\n",
       "        7.6122449 ,  7.83673469,  8.06122449,  8.28571429,  8.51020408,\n",
       "        8.73469388,  8.95918367,  9.18367347,  9.40816327,  9.63265306,\n",
       "        9.85714286, 10.08163265, 10.30612245, 10.53061224, 10.75510204,\n",
       "       10.97959184, 11.20408163, 11.42857143, 11.65306122, 11.87755102,\n",
       "       12.10204082, 12.32653061, 12.55102041, 12.7755102 , 13.        ])"
      ]
     },
     "execution_count": 60,
     "metadata": {},
     "output_type": "execute_result"
    }
   ],
   "source": [
    "s_sim"
   ]
  },
  {
   "cell_type": "markdown",
   "id": "5167a9fa",
   "metadata": {},
   "source": [
    "# Scratch"
   ]
  }
 ],
 "metadata": {
  "kernelspec": {
   "display_name": "pm3env",
   "language": "python",
   "name": "pm3env"
  },
  "language_info": {
   "codemirror_mode": {
    "name": "ipython",
    "version": 3
   },
   "file_extension": ".py",
   "mimetype": "text/x-python",
   "name": "python",
   "nbconvert_exporter": "python",
   "pygments_lexer": "ipython3",
   "version": "3.8.10"
  }
 },
 "nbformat": 4,
 "nbformat_minor": 5
}
