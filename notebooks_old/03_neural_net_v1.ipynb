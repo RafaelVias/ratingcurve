{
 "cells": [
  {
   "cell_type": "code",
   "execution_count": 5,
   "id": "ae8d2c0b",
   "metadata": {},
   "outputs": [],
   "source": [
    "%matplotlib inline\n",
    "import numpy as np\n",
    "import torch\n",
    "import torch.optim as optim\n",
    "import torch.nn as nn\n",
    "\n",
    "torch.set_printoptions(edgeitems=2, linewidth=75)"
   ]
  },
  {
   "cell_type": "code",
   "execution_count": 11,
   "id": "7329a1a0",
   "metadata": {},
   "outputs": [
    {
     "data": {
      "text/html": [
       "<div>\n",
       "<style scoped>\n",
       "    .dataframe tbody tr th:only-of-type {\n",
       "        vertical-align: middle;\n",
       "    }\n",
       "\n",
       "    .dataframe tbody tr th {\n",
       "        vertical-align: top;\n",
       "    }\n",
       "\n",
       "    .dataframe thead th {\n",
       "        text-align: right;\n",
       "    }\n",
       "</style>\n",
       "<table border=\"1\" class=\"dataframe\">\n",
       "  <thead>\n",
       "    <tr style=\"text-align: right;\">\n",
       "      <th></th>\n",
       "      <th>datetime</th>\n",
       "      <th>stage</th>\n",
       "      <th>q</th>\n",
       "      <th>q_sigma</th>\n",
       "    </tr>\n",
       "  </thead>\n",
       "  <tbody>\n",
       "    <tr>\n",
       "      <th>0</th>\n",
       "      <td>2021-05-26 09:35:18 [UTC-07:00]</td>\n",
       "      <td>8.28</td>\n",
       "      <td>5534.902</td>\n",
       "      <td>110.133254</td>\n",
       "    </tr>\n",
       "    <tr>\n",
       "      <th>1</th>\n",
       "      <td>2021-04-19 09:48:23 [UTC-07:00]</td>\n",
       "      <td>5.66</td>\n",
       "      <td>2268.957</td>\n",
       "      <td>43.989983</td>\n",
       "    </tr>\n",
       "    <tr>\n",
       "      <th>2</th>\n",
       "      <td>2021-03-01 11:48:01 [UTC-07:00]</td>\n",
       "      <td>5.43</td>\n",
       "      <td>2048.322</td>\n",
       "      <td>37.622241</td>\n",
       "    </tr>\n",
       "    <tr>\n",
       "      <th>3</th>\n",
       "      <td>2020-11-16 09:29:49 [UTC-07:00]</td>\n",
       "      <td>5.97</td>\n",
       "      <td>2562.925</td>\n",
       "      <td>52.304592</td>\n",
       "    </tr>\n",
       "    <tr>\n",
       "      <th>4</th>\n",
       "      <td>2020-10-01 08:04:39 [UTC-07:00]</td>\n",
       "      <td>5.75</td>\n",
       "      <td>2411.594</td>\n",
       "      <td>45.524989</td>\n",
       "    </tr>\n",
       "    <tr>\n",
       "      <th>5</th>\n",
       "      <td>2020-08-24 08:27:30 [UTC-07:00]</td>\n",
       "      <td>5.45</td>\n",
       "      <td>2062.588</td>\n",
       "      <td>38.936610</td>\n",
       "    </tr>\n",
       "    <tr>\n",
       "      <th>6</th>\n",
       "      <td>2020-07-15 07:34:16 [UTC-07:00]</td>\n",
       "      <td>5.72</td>\n",
       "      <td>2244.671</td>\n",
       "      <td>40.083411</td>\n",
       "    </tr>\n",
       "    <tr>\n",
       "      <th>7</th>\n",
       "      <td>2020-06-03 07:28:36 [UTC-07:00]</td>\n",
       "      <td>12.91</td>\n",
       "      <td>14199.957</td>\n",
       "      <td>449.182313</td>\n",
       "    </tr>\n",
       "    <tr>\n",
       "      <th>8</th>\n",
       "      <td>2020-05-28 08:38:09 [UTC-07:00]</td>\n",
       "      <td>9.40</td>\n",
       "      <td>7538.191</td>\n",
       "      <td>126.918522</td>\n",
       "    </tr>\n",
       "    <tr>\n",
       "      <th>9</th>\n",
       "      <td>2020-04-21 08:38:05 [UTC-07:00]</td>\n",
       "      <td>5.95</td>\n",
       "      <td>2580.047</td>\n",
       "      <td>47.388618</td>\n",
       "    </tr>\n",
       "    <tr>\n",
       "      <th>10</th>\n",
       "      <td>2020-03-09 09:05:15 [UTC-07:00]</td>\n",
       "      <td>6.28</td>\n",
       "      <td>2861.537</td>\n",
       "      <td>51.098875</td>\n",
       "    </tr>\n",
       "    <tr>\n",
       "      <th>11</th>\n",
       "      <td>2019-06-10 10:20:52 [UTC-07:00]</td>\n",
       "      <td>20.95</td>\n",
       "      <td>35805.099</td>\n",
       "      <td>602.840953</td>\n",
       "    </tr>\n",
       "    <tr>\n",
       "      <th>12</th>\n",
       "      <td>2016-06-09 09:38:00 [UTC-07:00]</td>\n",
       "      <td>16.94</td>\n",
       "      <td>23747.047</td>\n",
       "      <td>496.749453</td>\n",
       "    </tr>\n",
       "    <tr>\n",
       "      <th>13</th>\n",
       "      <td>2015-06-17 09:26:00 [UTC-07:00]</td>\n",
       "      <td>17.68</td>\n",
       "      <td>25761.034</td>\n",
       "      <td>197.150770</td>\n",
       "    </tr>\n",
       "    <tr>\n",
       "      <th>14</th>\n",
       "      <td>2015-06-05 09:22:55 [UTC-07:00]</td>\n",
       "      <td>15.51</td>\n",
       "      <td>20611.414</td>\n",
       "      <td>189.288496</td>\n",
       "    </tr>\n",
       "  </tbody>\n",
       "</table>\n",
       "</div>"
      ],
      "text/plain": [
       "                           datetime  stage          q     q_sigma\n",
       "0   2021-05-26 09:35:18 [UTC-07:00]   8.28   5534.902  110.133254\n",
       "1   2021-04-19 09:48:23 [UTC-07:00]   5.66   2268.957   43.989983\n",
       "2   2021-03-01 11:48:01 [UTC-07:00]   5.43   2048.322   37.622241\n",
       "3   2020-11-16 09:29:49 [UTC-07:00]   5.97   2562.925   52.304592\n",
       "4   2020-10-01 08:04:39 [UTC-07:00]   5.75   2411.594   45.524989\n",
       "5   2020-08-24 08:27:30 [UTC-07:00]   5.45   2062.588   38.936610\n",
       "6   2020-07-15 07:34:16 [UTC-07:00]   5.72   2244.671   40.083411\n",
       "7   2020-06-03 07:28:36 [UTC-07:00]  12.91  14199.957  449.182313\n",
       "8   2020-05-28 08:38:09 [UTC-07:00]   9.40   7538.191  126.918522\n",
       "9   2020-04-21 08:38:05 [UTC-07:00]   5.95   2580.047   47.388618\n",
       "10  2020-03-09 09:05:15 [UTC-07:00]   6.28   2861.537   51.098875\n",
       "11  2019-06-10 10:20:52 [UTC-07:00]  20.95  35805.099  602.840953\n",
       "12  2016-06-09 09:38:00 [UTC-07:00]  16.94  23747.047  496.749453\n",
       "13  2015-06-17 09:26:00 [UTC-07:00]  17.68  25761.034  197.150770\n",
       "14  2015-06-05 09:22:55 [UTC-07:00]  15.51  20611.414  189.288496"
      ]
     },
     "execution_count": 11,
     "metadata": {},
     "output_type": "execute_result"
    }
   ],
   "source": []
  },
  {
   "cell_type": "code",
   "execution_count": 135,
   "id": "73140ffe",
   "metadata": {},
   "outputs": [
    {
     "data": {
      "text/html": [
       "<div>\n",
       "<style scoped>\n",
       "    .dataframe tbody tr th:only-of-type {\n",
       "        vertical-align: middle;\n",
       "    }\n",
       "\n",
       "    .dataframe tbody tr th {\n",
       "        vertical-align: top;\n",
       "    }\n",
       "\n",
       "    .dataframe thead th {\n",
       "        text-align: right;\n",
       "    }\n",
       "</style>\n",
       "<table border=\"1\" class=\"dataframe\">\n",
       "  <thead>\n",
       "    <tr style=\"text-align: right;\">\n",
       "      <th></th>\n",
       "      <th>datetime</th>\n",
       "      <th>stage</th>\n",
       "      <th>q</th>\n",
       "      <th>q_sigma</th>\n",
       "    </tr>\n",
       "  </thead>\n",
       "  <tbody>\n",
       "    <tr>\n",
       "      <th>0</th>\n",
       "      <td>2020-05-21 14:13:41 [UTC-07:00]</td>\n",
       "      <td>7.04</td>\n",
       "      <td>12199.342</td>\n",
       "      <td>199.172931</td>\n",
       "    </tr>\n",
       "    <tr>\n",
       "      <th>1</th>\n",
       "      <td>2020-04-16 14:55:31 [UTC-07:00]</td>\n",
       "      <td>4.43</td>\n",
       "      <td>4921.953</td>\n",
       "      <td>95.425619</td>\n",
       "    </tr>\n",
       "    <tr>\n",
       "      <th>2</th>\n",
       "      <td>2020-03-04 13:54:10 [UTC-07:00]</td>\n",
       "      <td>2.99</td>\n",
       "      <td>2331.665</td>\n",
       "      <td>61.860500</td>\n",
       "    </tr>\n",
       "    <tr>\n",
       "      <th>3</th>\n",
       "      <td>2020-03-04 13:16:51 [UTC-07:00]</td>\n",
       "      <td>2.94</td>\n",
       "      <td>2289.220</td>\n",
       "      <td>47.886745</td>\n",
       "    </tr>\n",
       "    <tr>\n",
       "      <th>4</th>\n",
       "      <td>2020-01-23 11:04:32 [UTC-07:00]</td>\n",
       "      <td>2.96</td>\n",
       "      <td>2408.210</td>\n",
       "      <td>99.522964</td>\n",
       "    </tr>\n",
       "  </tbody>\n",
       "</table>\n",
       "</div>"
      ],
      "text/plain": [
       "                          datetime  stage          q     q_sigma\n",
       "0  2020-05-21 14:13:41 [UTC-07:00]   7.04  12199.342  199.172931\n",
       "1  2020-04-16 14:55:31 [UTC-07:00]   4.43   4921.953   95.425619\n",
       "2  2020-03-04 13:54:10 [UTC-07:00]   2.99   2331.665   61.860500\n",
       "3  2020-03-04 13:16:51 [UTC-07:00]   2.94   2289.220   47.886745\n",
       "4  2020-01-23 11:04:32 [UTC-07:00]   2.96   2408.210   99.522964"
      ]
     },
     "execution_count": 135,
     "metadata": {},
     "output_type": "execute_result"
    }
   ],
   "source": [
    "# import training data\n",
    "import  pandas as pd\n",
    "data = pd.read_csv('../data/co_channel.csv')\n",
    "data = pd.read_csv('../data/green_channel.csv')\n",
    "\n",
    "data.head()"
   ]
  },
  {
   "cell_type": "code",
   "execution_count": 136,
   "id": "30294a4f",
   "metadata": {},
   "outputs": [
    {
     "data": {
      "text/plain": [
       "torch.Size([36, 1])"
      ]
     },
     "execution_count": 136,
     "metadata": {},
     "output_type": "execute_result"
    }
   ],
   "source": [
    "#observations\n",
    "t_s = torch.tensor(data['stage']).float().unsqueeze(1)\n",
    "t_q = torch.tensor(data['q']).float().unsqueeze(1)\n",
    "\n",
    "#uncertainties\n",
    "t_q_sigma = torch.tensor(data['q_sigma']).float().unsqueeze(1)\n",
    "t_s_sigma = torch.tensor([0.01]).float().unsqueeze(1)\n",
    "\n",
    "t_q.shape"
   ]
  },
  {
   "cell_type": "code",
   "execution_count": null,
   "id": "eaa4a683",
   "metadata": {},
   "outputs": [],
   "source": []
  },
  {
   "cell_type": "code",
   "execution_count": 15,
   "id": "bdd2f50a",
   "metadata": {},
   "outputs": [
    {
     "data": {
      "text/plain": [
       "torch.Size([1, 1])"
      ]
     },
     "execution_count": 15,
     "metadata": {},
     "output_type": "execute_result"
    }
   ],
   "source": [
    "def training_loop(n_epochs, optimizer, model, loss_fn, t_u_train, t_u_val,\n",
    "                  t_c_train, t_c_val):\n",
    "    for epoch in range(1, n_epochs + 1):\n",
    "        t_p_train = model(t_u_train) # <1>\n",
    "        loss_train = loss_fn(t_p_train, t_c_train)\n",
    "\n",
    "        t_p_val = model(t_u_val) # <1>\n",
    "        loss_val = loss_fn(t_p_val, t_c_val)\n",
    "        \n",
    "        optimizer.zero_grad()\n",
    "        loss_train.backward() # <2>\n",
    "        optimizer.step()\n",
    "\n",
    "        if epoch == 1 or epoch % 1000 == 0:\n",
    "            print(f\"Epoch {epoch}, Training loss {loss_train.item():.4f},\"\n",
    "                  f\" Validation loss {loss_val.item():.4f}\")"
   ]
  },
  {
   "cell_type": "code",
   "execution_count": 137,
   "id": "635b5484",
   "metadata": {},
   "outputs": [],
   "source": [
    "def training_loop_noval(n_epochs, optimizer, model, loss_fn, t_y_train,\n",
    "                  t_x_train):\n",
    "    for epoch in range(1, n_epochs + 1):\n",
    "        t_p_train = model(t_x_train) # <1>\n",
    "        loss_train = loss_fn(t_p_train, t_y_train)\n",
    "\n",
    "        #t_p_val = model(t_u_val) # <1>\n",
    "        #loss_val = loss_fn(t_p_val, t_c_val)\n",
    "        \n",
    "        optimizer.zero_grad()\n",
    "        loss_train.backward() # <2>\n",
    "        optimizer.step()\n",
    "\n",
    "        if epoch == 1 or epoch % 1000 == 0:\n",
    "            print(f\"Epoch {epoch}, Training loss {loss_train.item():.4f},\")"
   ]
  },
  {
   "cell_type": "code",
   "execution_count": 128,
   "id": "573ccac4",
   "metadata": {},
   "outputs": [],
   "source": []
  },
  {
   "cell_type": "code",
   "execution_count": null,
   "id": "1e170e7e",
   "metadata": {},
   "outputs": [],
   "source": []
  },
  {
   "cell_type": "code",
   "execution_count": 88,
   "id": "75a86dba",
   "metadata": {},
   "outputs": [],
   "source": [
    "class BasicNet(nn.Module): # start with the most physical\n",
    "    def __init__(self, width):\n",
    "        super().__init__()\n",
    "        self.width = width\n",
    "        self.linear1 = nn.Linear(1, self.width) # can we modifty this to include the second bias term?\n",
    "        self.activate1 = nn.ReLU()\n",
    "        #self.activate1 = nn.Tanh()\n",
    "        self.linear2 = nn.Linear(self.width, 1)\n",
    "        #self.linear1_dropout = nn.Dropout(p=0.4)\n",
    "        # page 221 dropout set to zero durion evaluation. pytorch switches between the modalities by calling model.train() model.eval()\n",
    "        \n",
    "        \n",
    "    def forward(self, x):\n",
    "        out = torch.log(x)\n",
    "        out = self.linear1(out)\n",
    "        out = self.activate1(out) #consider tan h\n",
    "        out = self.linear2(out)\n",
    "        #out = self.linear1_dropout(out)\n",
    "        out = torch.exp(out)\n",
    "        return out\n",
    "        "
   ]
  },
  {
   "cell_type": "code",
   "execution_count": 165,
   "id": "6e48f569",
   "metadata": {},
   "outputs": [
    {
     "name": "stdout",
     "output_type": "stream",
     "text": [
      "Epoch 1, Training loss 66.9987,\n",
      "Epoch 1000, Training loss 0.0023,\n",
      "Epoch 2000, Training loss 0.0011,\n",
      "Epoch 3000, Training loss 0.0010,\n",
      "Epoch 4000, Training loss 0.0009,\n",
      "Epoch 5000, Training loss 0.0008,\n",
      "Epoch 6000, Training loss 0.0006,\n",
      "Epoch 7000, Training loss 0.0005,\n",
      "Epoch 8000, Training loss 0.0004,\n",
      "Epoch 9000, Training loss 0.0003,\n",
      "Epoch 10000, Training loss 0.0003,\n"
     ]
    }
   ],
   "source": [
    "#optimizer = optim.SGD(model.parameters(), lr=1e-4)\n",
    "model = BasicNet(100)\n",
    "optimizer = optim.Adam(model.parameters())\n",
    "training_loop_noval(\n",
    "    n_epochs = 10000,\n",
    "    optimizer = optimizer,\n",
    "    model = model,\n",
    "    #loss_fn = nn.MSELoss(),\n",
    "    loss_fn = MSLELoss,\n",
    "    t_y_train = t_q,\n",
    "    t_x_train = t_s)"
   ]
  },
  {
   "cell_type": "code",
   "execution_count": 166,
   "id": "7feffcf9",
   "metadata": {},
   "outputs": [
    {
     "data": {
      "text/plain": [
       "[<matplotlib.lines.Line2D at 0x21537ab9400>]"
      ]
     },
     "execution_count": 166,
     "metadata": {},
     "output_type": "execute_result"
    },
    {
     "data": {
      "image/png": "[encoded data removed]",
      "text/plain": [
       "<Figure size 900x600 with 1 Axes>"
      ]
     },
     "metadata": {
      "needs_background": "light"
     },
     "output_type": "display_data"
    }
   ],
   "source": [
    "from matplotlib import pyplot as plt\n",
    "\n",
    "s_range = torch.arange(t_s.min()*0.9, t_s.max()*1.1).unsqueeze(1)\n",
    "\n",
    "fig = plt.figure(dpi=150)\n",
    "plt.xlabel(\"Stage\")\n",
    "plt.ylabel(\"Discharge\")\n",
    "plt.plot(t_s.numpy(), t_q.numpy(), 'o')\n",
    "plt.plot(s_range.numpy(), model(s_range).detach().numpy(), 'c-')\n",
    "#plt.plot(t_u.numpy(), seq_model(0.1 * t_u).detach().numpy(), 'kx')"
   ]
  },
  {
   "cell_type": "markdown",
   "id": "fcbb7b7f",
   "metadata": {},
   "source": [
    "# v2 Basic version with dropuout"
   ]
  },
  {
   "cell_type": "code",
   "execution_count": 179,
   "id": "1aae9a9e",
   "metadata": {},
   "outputs": [],
   "source": [
    "class BasicNet_v2(nn.Module): # start with the most physical\n",
    "    def __init__(self, width):\n",
    "        super().__init__()\n",
    "        self.width = width\n",
    "        self.linear1 = nn.Linear(1, self.width) # can we modifty this to include the second bias term?\n",
    "        self.dropout1 = nn.Dropout(p=0.2)\n",
    "        self.activate1 = nn.ReLU()\n",
    "        #self.activate1 = nn.Tanh()\n",
    "        self.linear2 = nn.Linear(self.width, 1)\n",
    "        \n",
    "        # page 221 dropout set to zero durion evaluation. pytorch switches between the modalities by calling model.train() model.eval()\n",
    "        \n",
    "        \n",
    "    def forward(self, x):\n",
    "        out = torch.log(x)\n",
    "        out = self.linear1(out)\n",
    "        #out = self.linear1\n",
    "        out = self.dropout1(out) #goes before activation for relu\n",
    "        out = self.activate1(out) #consider tanh\n",
    "        #out = nn.functional.dropout(out, p=0.2)\n",
    "        out = self.linear2(out)\n",
    "        out = torch.exp(out)\n",
    "        return out\n",
    "        "
   ]
  },
  {
   "cell_type": "code",
   "execution_count": 184,
   "id": "7c71ce8a",
   "metadata": {},
   "outputs": [
    {
     "name": "stdout",
     "output_type": "stream",
     "text": [
      "Epoch 1, Training loss 78.9116,\n",
      "Epoch 1000, Training loss 0.5481,\n",
      "Epoch 2000, Training loss 0.3645,\n",
      "Epoch 3000, Training loss 0.2870,\n",
      "Epoch 4000, Training loss 0.2599,\n",
      "Epoch 5000, Training loss 0.1965,\n",
      "Epoch 6000, Training loss 0.2790,\n",
      "Epoch 7000, Training loss 0.2726,\n",
      "Epoch 8000, Training loss 0.3220,\n",
      "Epoch 9000, Training loss 0.4168,\n",
      "Epoch 10000, Training loss 0.1702,\n"
     ]
    }
   ],
   "source": [
    "#optimizer = optim.SGD(model.parameters(), lr=1e-4)\n",
    "model = BasicNet_v2(100)\n",
    "optimizer = optim.Adam(model.parameters())\n",
    "training_loop_noval(\n",
    "    n_epochs = 10000,\n",
    "    optimizer = optimizer,\n",
    "    model = model,\n",
    "    #loss_fn = nn.MSELoss(),\n",
    "    loss_fn = MSLELoss,\n",
    "    t_y_train = t_q,\n",
    "    t_x_train = t_s)"
   ]
  },
  {
   "cell_type": "code",
   "execution_count": 185,
   "id": "19b8b595",
   "metadata": {},
   "outputs": [
    {
     "data": {
      "text/plain": [
       "[<matplotlib.lines.Line2D at 0x21538f3c910>]"
      ]
     },
     "execution_count": 185,
     "metadata": {},
     "output_type": "execute_result"
    },
    {
     "data": {
      "image/png": "[encoded data removed]",
      "text/plain": [
       "<Figure size 900x600 with 1 Axes>"
      ]
     },
     "metadata": {
      "needs_background": "light"
     },
     "output_type": "display_data"
    }
   ],
   "source": [
    "from matplotlib import pyplot as plt\n",
    "\n",
    "s_range = torch.arange(t_s.min()*0.9, t_s.max()*1.1).unsqueeze(1)\n",
    "\n",
    "fig = plt.figure(dpi=150)\n",
    "plt.xlabel(\"Stage\")\n",
    "plt.ylabel(\"Discharge\")\n",
    "plt.plot(t_s.numpy(), t_q.numpy(), 'o')\n",
    "plt.plot(s_range.numpy(), model(s_range).detach().numpy(), 'c-')\n",
    "#plt.plot(t_u.numpy(), seq_model(0.1 * t_u).detach().numpy(), 'kx')"
   ]
  },
  {
   "cell_type": "code",
   "execution_count": null,
   "id": "676c7c3b",
   "metadata": {},
   "outputs": [],
   "source": [
    "# Scratch"
   ]
  },
  {
   "cell_type": "code",
   "execution_count": null,
   "id": "f46a5401",
   "metadata": {},
   "outputs": [],
   "source": [
    "#additional layer no better than adding width\n",
    "class BasicNet2(nn.Module): # start with the most physical\n",
    "    def __init__(self, width):\n",
    "        super().__init__()\n",
    "        self.width = width\n",
    "        self.linear1 = nn.Linear(1, self.width) # can we modifty this to include the second bias term?\n",
    "        self.activate1 = nn.ReLU()\n",
    "        #self.activate1 = nn.Tanh()\n",
    "        self.linear2 = nn.Linear(self.width, 8)\n",
    "        self.activate2 = nn.ReLU()\n",
    "        self.linear3 = nn.Linear(8, 1)\n",
    "        #self.linear1_dropout = nn.Dropout(p=0.4)\n",
    "        # page 221 dropout set to zero durion evaluation. pytorch switches between the modalities by calling model.train() model.eval()\n",
    "        \n",
    "        \n",
    "    def forward(self, x):\n",
    "        out = torch.log(x)\n",
    "        out = self.linear1(out)\n",
    "        out = self.activate1(out) #consider tan h\n",
    "        out = self.linear2(out)\n",
    "        out = self.activate2(out)\n",
    "        out = self.linear3(out)\n",
    "        #out = self.linear1_dropout(out)\n",
    "        out = torch.exp(out)\n",
    "        return out\n",
    "        "
   ]
  },
  {
   "cell_type": "code",
   "execution_count": 157,
   "id": "ad26a1eb",
   "metadata": {},
   "outputs": [
    {
     "name": "stdout",
     "output_type": "stream",
     "text": [
      "Epoch 1, Training loss 70.3008,\n",
      "Epoch 1000, Training loss 0.0017,\n",
      "Epoch 2000, Training loss 0.0012,\n",
      "Epoch 3000, Training loss 0.0010,\n",
      "Epoch 4000, Training loss 0.0009,\n",
      "Epoch 5000, Training loss 0.0009,\n",
      "Epoch 6000, Training loss 0.0008,\n",
      "Epoch 7000, Training loss 0.0008,\n",
      "Epoch 8000, Training loss 0.0006,\n",
      "Epoch 9000, Training loss 0.0004,\n",
      "Epoch 10000, Training loss 0.0004,\n"
     ]
    }
   ],
   "source": [
    "#optimizer = optim.SGD(model.parameters(), lr=1e-4)\n",
    "model = BasicNet2(100)\n",
    "optimizer = optim.Adam(model.parameters())\n",
    "training_loop_noval(\n",
    "    n_epochs = 10000,\n",
    "    optimizer = optimizer,\n",
    "    model = model,\n",
    "    #loss_fn = nn.MSELoss(),\n",
    "    loss_fn = MSLELoss,\n",
    "    t_y_train = t_q,\n",
    "    t_x_train = t_s)"
   ]
  },
  {
   "cell_type": "code",
   "execution_count": 160,
   "id": "ab337ad5",
   "metadata": {},
   "outputs": [
    {
     "data": {
      "text/plain": [
       "[<matplotlib.lines.Line2D at 0x215377586d0>]"
      ]
     },
     "execution_count": 160,
     "metadata": {},
     "output_type": "execute_result"
    },
    {
     "data": {
      "image/png": "[encoded data removed]",
      "text/plain": [
       "<Figure size 900x600 with 1 Axes>"
      ]
     },
     "metadata": {
      "needs_background": "light"
     },
     "output_type": "display_data"
    }
   ],
   "source": [
    "from matplotlib import pyplot as plt\n",
    "\n",
    "s_range = torch.arange(t_s.min()*0.9, t_s.max()*1.1).unsqueeze(1)\n",
    "\n",
    "fig = plt.figure(dpi=150)\n",
    "plt.xlabel(\"Stage\")\n",
    "plt.ylabel(\"Discharge\")\n",
    "plt.plot(t_s.numpy(), t_q.numpy(), 'o')\n",
    "plt.plot(s_range.numpy(), model(s_range).detach().numpy(), 'c-')\n",
    "#plt.plot(t_u.numpy(), seq_model(0.1 * t_u).detach().numpy(), 'kx')\n"
   ]
  },
  {
   "cell_type": "code",
   "execution_count": 133,
   "id": "6544dc7d",
   "metadata": {},
   "outputs": [
    {
     "name": "stdout",
     "output_type": "stream",
     "text": [
      "Epoch 1, Training loss 217932000.0000,\n",
      "Epoch 1000, Training loss 4690050.0000,\n",
      "Epoch 2000, Training loss 144482.3594,\n",
      "Epoch 3000, Training loss 144311.7969,\n",
      "Epoch 4000, Training loss 144309.7344,\n",
      "Epoch 5000, Training loss 144311.2500,\n",
      "Epoch 6000, Training loss 144541.4219,\n",
      "Epoch 7000, Training loss 148335.0938,\n",
      "Epoch 8000, Training loss 152353.3125,\n",
      "Epoch 9000, Training loss 144313.2031,\n",
      "Epoch 10000, Training loss 144334.6406,\n"
     ]
    }
   ],
   "source": [
    "#optimizer = optim.SGD(model.parameters(), lr=1e-4)\n",
    "model = BasicNet(50)\n",
    "optimizer = optim.Adam(model.parameters())\n",
    "training_loop_noval(\n",
    "    n_epochs = 10000,\n",
    "    optimizer = optimizer,\n",
    "    model = model,\n",
    "    loss_fn = nn.MSELoss(),\n",
    "    #loss_fn = MSLELoss,\n",
    "    t_y_train = t_q,\n",
    "    t_x_train = t_s)"
   ]
  },
  {
   "cell_type": "code",
   "execution_count": 134,
   "id": "5376929d",
   "metadata": {},
   "outputs": [
    {
     "data": {
      "text/plain": [
       "[<matplotlib.lines.Line2D at 0x215356b6550>]"
      ]
     },
     "execution_count": 134,
     "metadata": {},
     "output_type": "execute_result"
    },
    {
     "data": {
      "image/png": "[encoded data removed]",
      "text/plain": [
       "<Figure size 900x600 with 1 Axes>"
      ]
     },
     "metadata": {
      "needs_background": "light"
     },
     "output_type": "display_data"
    }
   ],
   "source": [
    "from matplotlib import pyplot as plt\n",
    "\n",
    "s_range = torch.arange(5., 25.).unsqueeze(1)\n",
    "\n",
    "fig = plt.figure(dpi=150)\n",
    "plt.xlabel(\"Stage\")\n",
    "plt.ylabel(\"Discharge\")\n",
    "plt.plot(t_s.numpy(), t_q.numpy(), 'o')\n",
    "plt.plot(s_range.numpy(), model(s_range).detach().numpy(), 'c-')\n",
    "#plt.plot(t_u.numpy(), seq_model(0.1 * t_u).detach().numpy(), 'kx')\n"
   ]
  },
  {
   "cell_type": "code",
   "execution_count": null,
   "id": "27f16848",
   "metadata": {},
   "outputs": [],
   "source": [
    "#optimizer = optim.SGD(model.parameters(), lr=1e-4)\n",
    "model = BasicNet(50)\n",
    "optimizer = optim.Adam(model.parameters())\n",
    "training_loop_noval(\n",
    "    n_epochs = 10000,\n",
    "    optimizer = optimizer,\n",
    "    model = model,\n",
    "    loss_fn = nn.MSELoss(),\n",
    "    #loss_fn = MSLELoss,\n",
    "    t_y_train = t_q,\n",
    "    t_x_train = t_s)"
   ]
  },
  {
   "cell_type": "code",
   "execution_count": null,
   "id": "c1d879df",
   "metadata": {},
   "outputs": [],
   "source": [
    "t_c = [0.5,  14.0, 15.0, 28.0, 11.0,  8.0,  3.0, -4.0,  6.0, 13.0, 21.0]\n",
    "t_u = [35.7, 55.9, 58.2, 81.9, 56.3, 48.9, 33.9, 21.8, 48.4, 60.4, 68.4]\n",
    "t_c = torch.tensor(t_c).unsqueeze(1) # <1>\n",
    "t_u = torch.tensor(t_u).unsqueeze(1) # <1>\n",
    "\n",
    "t_u.shape"
   ]
  },
  {
   "cell_type": "code",
   "execution_count": 109,
   "id": "56616da3",
   "metadata": {},
   "outputs": [],
   "source": [
    "\n",
    "class BasicNet(nn.Module): # start with the most physical\n",
    "    def __init__(self, width):\n",
    "        super().__init__()\n",
    "        self.width = width\n",
    "        self.linear1 = nn.Linear(1, self.width) # can we modifty this to include the second bias term?\n",
    "        self.activate1 = nn.ReLU()\n",
    "        #self.activate1 = nn.Tanh()\n",
    "        self.linear2 = nn.Linear(self.width, 1)\n",
    "        #self.linear1_dropout = nn.Dropout(p=0.4)\n",
    "        # page 221 dropout set to zero durion evaluation. pytorch switches between the modalities by calling model.train() model.eval()\n",
    "        \n",
    "        \n",
    "    def forward(self, x):\n",
    "        out = self.linear1(x)\n",
    "        out = self.activate1(out) #consider tan h\n",
    "        out = self.linear2(out)\n",
    "        #out = self.linear1_dropout(out)\n",
    "        return out\n",
    "        "
   ]
  },
  {
   "cell_type": "code",
   "execution_count": 111,
   "id": "3fecb4e0",
   "metadata": {},
   "outputs": [
    {
     "name": "stdout",
     "output_type": "stream",
     "text": [
      "Epoch 1, Training loss 2834.3909,\n",
      "Epoch 1000, Training loss 171.4002,\n",
      "Epoch 2000, Training loss 12.8150,\n",
      "Epoch 3000, Training loss 7.5660,\n",
      "Epoch 4000, Training loss 7.5651,\n",
      "Epoch 5000, Training loss 7.5650,\n"
     ]
    }
   ],
   "source": [
    "#optimizer = optim.SGD(model.parameters(), lr=1e-4)\n",
    "model = BasicNet(20)\n",
    "optimizer = optim.Adam(model.parameters())\n",
    "training_loop_noval(\n",
    "    n_epochs = 5000,\n",
    "    optimizer = optimizer,\n",
    "    model = model,\n",
    "    loss_fn = nn.MSELoss(),\n",
    "    t_y_train = t_u,\n",
    "    t_x_train = t_c)"
   ]
  },
  {
   "cell_type": "code",
   "execution_count": 113,
   "id": "431b4295",
   "metadata": {},
   "outputs": [
    {
     "data": {
      "text/plain": [
       "[<matplotlib.lines.Line2D at 0x21533342e20>]"
      ]
     },
     "execution_count": 113,
     "metadata": {},
     "output_type": "execute_result"
    },
    {
     "data": {
      "image/png": "[encoded data removed]",
      "text/plain": [
       "<Figure size 900x600 with 1 Axes>"
      ]
     },
     "metadata": {
      "needs_background": "light"
     },
     "output_type": "display_data"
    }
   ],
   "source": [
    "from matplotlib import pyplot as plt\n",
    "\n",
    "t_range = torch.arange(20., 90.).unsqueeze(1)\n",
    "\n",
    "fig = plt.figure(dpi=150)\n",
    "plt.xlabel(\"Fahrenheit\")\n",
    "plt.ylabel(\"Celsius\")\n",
    "plt.plot(t_u.numpy(), t_c.numpy(), 'o')\n",
    "plt.plot(t_range.numpy(), model(1 * t_range).detach().numpy(), 'c-')\n",
    "plt.plot(t_u.numpy(), model(1 * t_u).detach().numpy(), 'kx')"
   ]
  },
  {
   "cell_type": "code",
   "execution_count": null,
   "id": "aadd34cd",
   "metadata": {},
   "outputs": [],
   "source": [
    "from matplotlib import pyplot as plt\n",
    "\n",
    "s_range = torch.arange(5., 25.).unsqueeze(1)\n",
    "\n",
    "fig = plt.figure(dpi=150)\n",
    "plt.xlabel(\"Stage\")\n",
    "plt.ylabel(\"Discharge\")\n",
    "plt.plot(t_c.numpy(), t_u.numpy(), 'o')\n",
    "plt.plot(s_range.numpy(), model(s_range).detach().numpy(), 'c-')\n",
    "#plt.plot(t_u.numpy(), seq_model(0.1 * t_u).detach().numpy(), 'kx')\n"
   ]
  },
  {
   "cell_type": "code",
   "execution_count": 116,
   "id": "33ac9639",
   "metadata": {},
   "outputs": [],
   "source": [
    "def MSLELoss(y, x):\n",
    "    squared_diffs = torch.log(y/x)**2\n",
    "    return squared_diffs.mean()"
   ]
  },
  {
   "cell_type": "code",
   "execution_count": null,
   "id": "f73aaad5",
   "metadata": {},
   "outputs": [],
   "source": [
    "def training_loop(n_epochs, optimizer, model, loss_fn, t_u_train, t_u_val,\n",
    "                  t_c_train, t_c_val):\n",
    "    for epoch in range(1, n_epochs + 1):\n",
    "        t_p_train = model(t_u_train) # <1>\n",
    "        loss_train = loss_fn(t_p_train, t_c_train)\n",
    "\n",
    "        t_p_val = model(t_u_val) # <1>\n",
    "        loss_val = loss_fn(t_p_val, t_c_val)\n",
    "        \n",
    "        optimizer.zero_grad()\n",
    "        loss_train.backward() # <2>\n",
    "        optimizer.step()\n",
    "\n",
    "        if epoch == 1 or epoch % 1000 == 0:\n",
    "            print(f\"Epoch {epoch}, Training loss {loss_train.item():.4f},\"\n",
    "                  f\" Validation loss {loss_val.item():.4f}\")\n"
   ]
  },
  {
   "cell_type": "code",
   "execution_count": null,
   "id": "9687f31c",
   "metadata": {},
   "outputs": [],
   "source": [
    "# define model\n",
    "# physical version with n_segments and sigma terms\n",
    "\n",
    "#generic version\n",
    "class NetRatingDropout(nn.Module): # start with the most physical\n",
    "    def __init__(self, width):\n",
    "        super().__init__()\n",
    "        self.n_segments = width\n",
    "        self.linear1 = nn.Linear(1, width) # can we modifty this to include the second bias term?\n",
    "        #self.linear1_dropout = nn.Dropout(p=0.4)\n",
    "        # page 221 dropout set to zero durion evaluation. pytorch switches between the modalities by calling model.train() model.eval()\n",
    "        \n",
    "        \n",
    "    def forward(self, x):\n",
    "        out = tt.log(x)\n",
    "        out = self.linear(out)\n",
    "        out = nn.ReLU() #consider tan h\n",
    "        #out = self.linear1_dropout(out)\n",
    "        out = nn.functional.dropout(out, p=0.4)\n",
    "        out = tt.exp(out)\n",
    "        return out\n",
    "        \n",
    "\n",
    "# define a much more generic version\n",
    "        \n",
    "# measurement uncertainty model\n",
    "\n",
    "# add random noise to training set during each epoch."
   ]
  },
  {
   "cell_type": "code",
   "execution_count": null,
   "id": "f38470cb",
   "metadata": {},
   "outputs": [],
   "source": [
    "# Training\n",
    "\n",
    "optimizer = optim.SGD(seq_model.parameters(), lr=1e-3) # <1>\n",
    "\n",
    "training_loop(\n",
    "    n_epochs = 5000, \n",
    "    optimizer = optimizer,\n",
    "    model = seq_model,\n",
    "    loss_fn = nn.MSELoss(),\n",
    "    t_u_train = t_un_train,\n",
    "    t_u_val = t_un_val, \n",
    "    t_c_train = t_c_train,\n",
    "    t_c_val = t_c_val)\n",
    "    "
   ]
  },
  {
   "cell_type": "code",
   "execution_count": null,
   "id": "0aa6560f",
   "metadata": {},
   "outputs": [],
   "source": [
    "# Plot results"
   ]
  },
  {
   "cell_type": "code",
   "execution_count": null,
   "id": "8bd672d0",
   "metadata": {},
   "outputs": [],
   "source": [
    "from matplotlib import pyplot as plt\n",
    "\n",
    "t_range = torch.arange(20., 90.).unsqueeze(1)\n",
    "\n",
    "fig = plt.figure(dpi=150)\n",
    "plt.xlabel(\"Fahrenheit\")\n",
    "plt.ylabel(\"Celsius\")\n",
    "plt.plot(t_u.numpy(), t_c.numpy(), 'o')\n",
    "plt.plot(t_range.numpy(), seq_model(0.1 * t_range).detach().numpy(), 'c-')\n",
    "plt.plot(t_u.numpy(), seq_model(0.1 * t_u).detach().numpy(), 'kx')\n"
   ]
  },
  {
   "cell_type": "code",
   "execution_count": null,
   "id": "de3b580b",
   "metadata": {},
   "outputs": [],
   "source": [
    "# define NN where each neuron is treated like a segment , then use relU will efectively turn off segments when stage drops below critical threshold, we also want to max the flow\n",
    "# either as part of the layer but probably better as part of the activation function. If the latter we need a way to pass parameters from the layer to the activation function.\n",
    "\n",
    "# https://auro-227.medium.com/writing-a-custom-layer-in-pytorch-14ab6ac94b77\n",
    "class MyLinearLayer(nn.Module):\n",
    "    \"\"\" Custom Linear layer but mimics a standard linear layer \"\"\"\n",
    "    def __init__(self, size_in, size_out):\n",
    "        super().__init__()\n",
    "        self.size_in, self.size_out = size_in, size_out\n",
    "        weights = torch.Tensor(size_out, size_in)\n",
    "        self.weights = nn.Parameter(weights)  # nn.Parameter is a Tensor that's a module parameter.\n",
    "        bias = torch.Tensor(size_out)\n",
    "        self.bias = nn.Parameter(bias)\n",
    "\n",
    "        # initialize weights and biases\n",
    "        nn.init.kaiming_uniform_(self.weights, a=math.sqrt(5)) # weight init\n",
    "        fan_in, _ = nn.init._calculate_fan_in_and_fan_out(self.weights)\n",
    "        bound = 1 / math.sqrt(fan_in)\n",
    "        nn.init.uniform_(self.bias, -bound, bound)  # bias init\n",
    "\n",
    "    def forward(self, x):\n",
    "        w_times_x= torch.mm(x, self.weights.t())\n",
    "        return torch.add(w_times_x, self.bias)  # w times x + b\n",
    "\n",
    "\n",
    "\n",
    "\n",
    "\n",
    "\n",
    "#https://pytorch.org/docs/stable/_modules/torch/nn/modules/linear.html#Linear\n",
    "\n",
    "class Linear(Module):\n",
    "    r\"\"\"Applies a linear transformation to the incoming data: :math:`y = xA^T + b`\n",
    "\n",
    "    This module supports :ref:`TensorFloat32<tf32_on_ampere>`.\n",
    "\n",
    "    Args:\n",
    "        in_features: size of each input sample\n",
    "        out_features: size of each output sample\n",
    "        bias: If set to ``False``, the layer will not learn an additive bias.\n",
    "            Default: ``True``\n",
    "\n",
    "    Shape:\n",
    "        - Input: :math:`(N, *, H_{in})` where :math:`*` means any number of\n",
    "          additional dimensions and :math:`H_{in} = \\text{in\\_features}`\n",
    "        - Output: :math:`(N, *, H_{out})` where all but the last dimension\n",
    "          are the same shape as the input and :math:`H_{out} = \\text{out\\_features}`.\n",
    "\n",
    "    Attributes:\n",
    "        weight: the learnable weights of the module of shape\n",
    "            :math:`(\\text{out\\_features}, \\text{in\\_features})`. The values are\n",
    "            initialized from :math:`\\mathcal{U}(-\\sqrt{k}, \\sqrt{k})`, where\n",
    "            :math:`k = \\frac{1}{\\text{in\\_features}}`\n",
    "        bias:   the learnable bias of the module of shape :math:`(\\text{out\\_features})`.\n",
    "                If :attr:`bias` is ``True``, the values are initialized from\n",
    "                :math:`\\mathcal{U}(-\\sqrt{k}, \\sqrt{k})` where\n",
    "                :math:`k = \\frac{1}{\\text{in\\_features}}`\n",
    "\n",
    "    Examples::\n",
    "\n",
    "        >>> m = nn.Linear(20, 30)\n",
    "        >>> input = torch.randn(128, 20)\n",
    "        >>> output = m(input)\n",
    "        >>> print(output.size())\n",
    "        torch.Size([128, 30])\n",
    "    \"\"\"\n",
    "    __constants__ = ['in_features', 'out_features']\n",
    "    in_features: int\n",
    "    out_features: int\n",
    "    weight: Tensor\n",
    "\n",
    "    def __init__(self, in_features: int, out_features: int, bias: bool = True,\n",
    "                 device=None, dtype=None) -> None:\n",
    "        factory_kwargs = {'device': device, 'dtype': dtype}\n",
    "        super(Linear, self).__init__()\n",
    "        self.in_features = in_features\n",
    "        self.out_features = out_features\n",
    "        self.weight = Parameter(torch.empty((out_features, in_features), **factory_kwargs))\n",
    "        if bias:\n",
    "            self.bias = Parameter(torch.empty(out_features, **factory_kwargs))\n",
    "        else:\n",
    "            self.register_parameter('bias', None)\n",
    "        self.reset_parameters()\n",
    "\n",
    "    def reset_parameters(self) -> None:\n",
    "        init.kaiming_uniform_(self.weight, a=math.sqrt(5))\n",
    "        if self.bias is not None:\n",
    "            fan_in, _ = init._calculate_fan_in_and_fan_out(self.weight)\n",
    "            bound = 1 / math.sqrt(fan_in) if fan_in > 0 else 0\n",
    "            init.uniform_(self.bias, -bound, bound)\n",
    "\n",
    "    def forward(self, input: Tensor) -> Tensor:\n",
    "        return F.linear(input, self.weight, self.bias)\n",
    "\n",
    "    def extra_repr(self) -> str:\n",
    "        return 'in_features={}, out_features={}, bias={}'.format(\n",
    "            self.in_features, self.out_features, self.bias is not None\n",
    "        )\n",
    "\n"
   ]
  },
  {
   "cell_type": "code",
   "execution_count": null,
   "id": "a46d4b39",
   "metadata": {},
   "outputs": [],
   "source": [
    "pytorch style guides\n",
    "https://github.com/vahidk/EffectivePyTorch\n",
    "https://github.com/IgorSusmelj/pytorch-styleguide"
   ]
  }
 ],
 "metadata": {
  "kernelspec": {
   "display_name": "Python 3",
   "language": "python",
   "name": "python3"
  },
  "language_info": {
   "codemirror_mode": {
    "name": "ipython",
    "version": 3
   },
   "file_extension": ".py",
   "mimetype": "text/x-python",
   "name": "python",
   "nbconvert_exporter": "python",
   "pygments_lexer": "ipython3",
   "version": "3.9.2"
  }
 },
 "nbformat": 4,
 "nbformat_minor": 5
}
