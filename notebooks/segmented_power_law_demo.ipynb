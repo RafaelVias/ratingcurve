{
 "cells": [
  {
   "cell_type": "markdown",
   "id": "15a098d1-956e-4a1f-8066-fa7232e334cd",
   "metadata": {},
   "source": [
    "# Segmented Rating Curve Demo\n",
    "[![Open In Colab](https://colab.research.google.com/assets/colab-badge.svg)](https://colab.research.google.com/github/googlecolab/colabtools/blob/master/notebooks/colab-github-demo.ipynb)\n",
    "This notebook demonstrates fitting a rating curve using a segmented power law.\n",
    "\n",
    "The general form of the equation is:\n",
    "\n",
    "\\begin{align}\n",
    "    log(Q) = a + \\sum b_i\\log(x - x_{o,i})H_i(x - x_{o,i})\n",
    "\\end{align}\n",
    "where\n",
    "$H$ is the Heaviside function,  \n",
    "$x_{o,i}$ is the $i$th breakpoint\n"
   ]
  },
  {
   "cell_type": "code",
   "execution_count": null,
   "id": "d23da995-0d8c-4df5-bceb-f9ea29c5034d",
   "metadata": {},
   "outputs": [],
   "source": [
    "# Run this in Colab\n",
    "%%capture\n",
    "# Specific repo version used in this notebook\n",
    "!pip install pymc==4.1.1\n",
    "\n",
    "# Colab needs this\n",
    "%env MKL_THREADING_LAYER=GNU\n",
    "\n",
    "# install ratingcurve library\n",
    "!pip install git+https://github.com/thodson-usgs/rating-function-uncertainty.git"
   ]
  },
  {
   "cell_type": "code",
   "execution_count": null,
   "id": "806409d6-616f-4ecf-a2a7-e5e42744c686",
   "metadata": {},
   "outputs": [],
   "source": [
    "# Or when running locally\n",
    "%load_ext autoreload\n",
    "%autoreload 2"
   ]
  },
  {
   "cell_type": "code",
   "execution_count": null,
   "id": "68990119-0f7d-4033-8968-0361b655647a",
   "metadata": {},
   "outputs": [],
   "source": []
  },
  {
   "cell_type": "code",
   "execution_count": 2,
   "id": "9a75a0ac-877b-4b19-8b33-236b1a629875",
   "metadata": {},
   "outputs": [],
   "source": [
    "# load the data catalog\n",
    "#import intake\n",
    "#url = 'https://raw.githubusercontent.com/thodson-usgs/rating-function-uncertainty/main/data/rating_data_catalog.yml'\n",
    "#cat = intake.open_catalog(url)\n",
    "#list(cat)\n",
    "# load a dataset\n",
    "# df = cat['green_channel'].read()"
   ]
  },
  {
   "cell_type": "code",
   "execution_count": null,
   "id": "fdcdc4a5-552e-4458-9a79-7960f07c7326",
   "metadata": {},
   "outputs": [],
   "source": [
    "# load a dataset\n",
    "# df = cat['green_channel'].read()"
   ]
  },
  {
   "cell_type": "code",
   "execution_count": 1,
   "id": "5e9bbbd7-edf2-4cb8-b35b-ef255a9f934a",
   "metadata": {},
   "outputs": [],
   "source": [
    "\n",
    "\n",
    "import pymc as pm\n",
    "\n",
    "import pandas as pd\n",
    "import matplotlib.pyplot as plt\n",
    "import arviz as az"
   ]
  },
  {
   "cell_type": "code",
   "execution_count": 2,
   "id": "f004e943-d1be-4dc3-8407-a4db15e782d7",
   "metadata": {},
   "outputs": [],
   "source": [
    "from transforms import LogZTransform\n",
    "#from ratingmodel import SegmentedRatingModel\n",
    "from plotting import plot_power_law_rating2\n",
    "from ratingmodel import SegmentedRatingModel"
   ]
  },
  {
   "cell_type": "markdown",
   "id": "0e1ccef0-0d5e-4677-a0bb-6eb257a6be62",
   "metadata": {},
   "source": [
    "## Load dataset"
   ]
  },
  {
   "cell_type": "code",
   "execution_count": 3,
   "id": "17566eb4-60fa-462c-a431-9a80f6f796d4",
   "metadata": {},
   "outputs": [
    {
     "data": {
      "text/plain": [
       "<AxesSubplot:xlabel='q'>"
      ]
     },
     "execution_count": 3,
     "metadata": {},
     "output_type": "execute_result"
    },
    {
     "data": {
      "image/png": "[encoded data removed]",
      "text/plain": [
       "<Figure size 432x288 with 1 Axes>"
      ]
     },
     "metadata": {
      "needs_background": "light"
     },
     "output_type": "display_data"
    }
   ],
   "source": [
    "df = pd.read_csv('../data/green_channel.csv'); segments=2 # TRY WITH 3\n",
    "#df = pd.read_csv('../data/provo_natural.csv'); segments=1\n",
    "#df = pd.read_csv('../data/co_channel.csv'); segments=1\n",
    "\n",
    "df = df.sort_values(by='q') #XXX sort or plotting goes crazy\n",
    "h_obs = df['stage'].values.reshape(-1,1)\n",
    "q_obs = df['q'].values.reshape(-1,1)\n",
    "q_sigma = df['q_sigma'].values.reshape(-1,1)\n",
    "\n",
    "fig, ax = plt.subplots()\n",
    "df.plot(x='q',y='stage', ax=ax, marker='o', ls='')"
   ]
  },
  {
   "cell_type": "code",
   "execution_count": 4,
   "id": "c26b75e4-d127-43e3-adec-2ee57a5aba7e",
   "metadata": {},
   "outputs": [],
   "source": [
    "powerrating = SegmentedRatingModel(q_obs, h_obs,  segments=segments,\n",
    "                                   #q_sigma = q_sigma, not working\n",
    "                                   q_sigma = None,\n",
    "                                   prior = {'distribution':'uniform'})"
   ]
  },
  {
   "cell_type": "code",
   "execution_count": 13,
   "id": "a7e311bb-8753-491e-ac90-a20b537b8966",
   "metadata": {},
   "outputs": [
    {
     "data": {
      "text/html": [
       "\n",
       "<style>\n",
       "    /* Turns off some styling */\n",
       "    progress {\n",
       "        /* gets rid of default border in Firefox and Opera. */\n",
       "        border: none;\n",
       "        /* Needs to be in here for Safari polyfill so background images work as expected. */\n",
       "        background-size: auto;\n",
       "    }\n",
       "    .progress-bar-interrupted, .progress-bar-interrupted::-webkit-progress-bar {\n",
       "        background: #F44336;\n",
       "    }\n",
       "</style>\n"
      ],
      "text/plain": [
       "<IPython.core.display.HTML object>"
      ]
     },
     "metadata": {},
     "output_type": "display_data"
    },
    {
     "data": {
      "text/html": [
       "\n",
       "    <div>\n",
       "      <progress value='100000' class='' max='100000' style='width:300px; height:20px; vertical-align: middle;'></progress>\n",
       "      100.00% [100000/100000 00:17<00:00 Average Loss = -42.77]\n",
       "    </div>\n",
       "    "
      ],
      "text/plain": [
       "<IPython.core.display.HTML object>"
      ]
     },
     "metadata": {},
     "output_type": "display_data"
    },
    {
     "name": "stderr",
     "output_type": "stream",
     "text": [
      "Finished [100%]: Average Loss = -42.774\n"
     ]
    }
   ],
   "source": [
    "with powerrating:\n",
    "    method = 'advi'\n",
    "    mean_field = pm.fit(method=method, n=100_000)"
   ]
  },
  {
   "cell_type": "code",
   "execution_count": 14,
   "id": "e668616c-088a-4d93-8edd-42c113c0b2b0",
   "metadata": {},
   "outputs": [],
   "source": [
    "trace = mean_field.sample(5000)"
   ]
  },
  {
   "cell_type": "code",
   "execution_count": 15,
   "id": "59007b4f-9fea-4b75-893e-79d84a531e1f",
   "metadata": {},
   "outputs": [
    {
     "name": "stderr",
     "output_type": "stream",
     "text": [
      "arviz - WARNING - Shape validation failed: input_shape: (1, 5000), minimum_shape: (chains=2, draws=4)\n"
     ]
    },
    {
     "data": {
      "text/html": [
       "<div>\n",
       "<style scoped>\n",
       "    .dataframe tbody tr th:only-of-type {\n",
       "        vertical-align: middle;\n",
       "    }\n",
       "\n",
       "    .dataframe tbody tr th {\n",
       "        vertical-align: top;\n",
       "    }\n",
       "\n",
       "    .dataframe thead th {\n",
       "        text-align: right;\n",
       "    }\n",
       "</style>\n",
       "<table border=\"1\" class=\"dataframe\">\n",
       "  <thead>\n",
       "    <tr style=\"text-align: right;\">\n",
       "      <th></th>\n",
       "      <th>mean</th>\n",
       "      <th>sd</th>\n",
       "      <th>hdi_3%</th>\n",
       "      <th>hdi_97%</th>\n",
       "      <th>mcse_mean</th>\n",
       "      <th>mcse_sd</th>\n",
       "      <th>ess_bulk</th>\n",
       "      <th>ess_tail</th>\n",
       "      <th>r_hat</th>\n",
       "    </tr>\n",
       "  </thead>\n",
       "  <tbody>\n",
       "    <tr>\n",
       "      <th>w[0]</th>\n",
       "      <td>1.185</td>\n",
       "      <td>0.006</td>\n",
       "      <td>1.175</td>\n",
       "      <td>1.196</td>\n",
       "      <td>0.000</td>\n",
       "      <td>0.0</td>\n",
       "      <td>4742.0</td>\n",
       "      <td>4326.0</td>\n",
       "      <td>NaN</td>\n",
       "    </tr>\n",
       "    <tr>\n",
       "      <th>w[1]</th>\n",
       "      <td>0.447</td>\n",
       "      <td>0.007</td>\n",
       "      <td>0.433</td>\n",
       "      <td>0.460</td>\n",
       "      <td>0.000</td>\n",
       "      <td>0.0</td>\n",
       "      <td>4848.0</td>\n",
       "      <td>5067.0</td>\n",
       "      <td>NaN</td>\n",
       "    </tr>\n",
       "    <tr>\n",
       "      <th>a</th>\n",
       "      <td>-1.190</td>\n",
       "      <td>0.006</td>\n",
       "      <td>-1.201</td>\n",
       "      <td>-1.179</td>\n",
       "      <td>0.000</td>\n",
       "      <td>0.0</td>\n",
       "      <td>4563.0</td>\n",
       "      <td>4678.0</td>\n",
       "      <td>NaN</td>\n",
       "    </tr>\n",
       "    <tr>\n",
       "      <th>sigma</th>\n",
       "      <td>0.033</td>\n",
       "      <td>0.004</td>\n",
       "      <td>0.025</td>\n",
       "      <td>0.041</td>\n",
       "      <td>0.000</td>\n",
       "      <td>0.0</td>\n",
       "      <td>4761.0</td>\n",
       "      <td>4412.0</td>\n",
       "      <td>NaN</td>\n",
       "    </tr>\n",
       "    <tr>\n",
       "      <th>hs[0]</th>\n",
       "      <td>1.238</td>\n",
       "      <td>0.009</td>\n",
       "      <td>1.220</td>\n",
       "      <td>1.256</td>\n",
       "      <td>0.000</td>\n",
       "      <td>0.0</td>\n",
       "      <td>4908.0</td>\n",
       "      <td>4821.0</td>\n",
       "      <td>NaN</td>\n",
       "    </tr>\n",
       "    <tr>\n",
       "      <th>hs[1]</th>\n",
       "      <td>3.547</td>\n",
       "      <td>0.045</td>\n",
       "      <td>3.462</td>\n",
       "      <td>3.630</td>\n",
       "      <td>0.001</td>\n",
       "      <td>0.0</td>\n",
       "      <td>5073.0</td>\n",
       "      <td>4861.0</td>\n",
       "      <td>NaN</td>\n",
       "    </tr>\n",
       "  </tbody>\n",
       "</table>\n",
       "</div>"
      ],
      "text/plain": [
       "        mean     sd  hdi_3%  hdi_97%  mcse_mean  mcse_sd  ess_bulk  ess_tail  \\\n",
       "w[0]   1.185  0.006   1.175    1.196      0.000      0.0    4742.0    4326.0   \n",
       "w[1]   0.447  0.007   0.433    0.460      0.000      0.0    4848.0    5067.0   \n",
       "a     -1.190  0.006  -1.201   -1.179      0.000      0.0    4563.0    4678.0   \n",
       "sigma  0.033  0.004   0.025    0.041      0.000      0.0    4761.0    4412.0   \n",
       "hs[0]  1.238  0.009   1.220    1.256      0.000      0.0    4908.0    4821.0   \n",
       "hs[1]  3.547  0.045   3.462    3.630      0.001      0.0    5073.0    4861.0   \n",
       "\n",
       "       r_hat  \n",
       "w[0]     NaN  \n",
       "w[1]     NaN  \n",
       "a        NaN  \n",
       "sigma    NaN  \n",
       "hs[0]    NaN  \n",
       "hs[1]    NaN  "
      ]
     },
     "execution_count": 15,
     "metadata": {},
     "output_type": "execute_result"
    }
   ],
   "source": [
    "az.summary(trace, var_names=[\"w\",\"a\",\"sigma\",\"hs\"])"
   ]
  },
  {
   "cell_type": "code",
   "execution_count": 16,
   "id": "d130e67f-5da2-414f-b8d1-437bea96ba2c",
   "metadata": {},
   "outputs": [
    {
     "data": {
      "image/png": "[encoded data removed]",
      "text/plain": [
       "<Figure size 360x360 with 1 Axes>"
      ]
     },
     "metadata": {
      "needs_background": "light"
     },
     "output_type": "display_data"
    }
   ],
   "source": [
    "plot_power_law_rating2(powerrating,  trace, None)"
   ]
  },
  {
   "cell_type": "code",
   "execution_count": 50,
   "id": "ad003463-d23b-4292-8863-1dc52315fe5c",
   "metadata": {},
   "outputs": [],
   "source": [
    "# what happens if we choose a different number of segments?"
   ]
  },
  {
   "cell_type": "code",
   "execution_count": 11,
   "id": "61a91a83-dc68-4693-bfd9-8037a56690cc",
   "metadata": {},
   "outputs": [
    {
     "name": "stderr",
     "output_type": "stream",
     "text": [
      "Auto-assigning NUTS sampler...\n",
      "Initializing NUTS using jitter+adapt_diag...\n",
      "Multiprocess sampling (4 chains in 4 jobs)\n",
      "NUTS: [w, a, hs_, sigma]\n"
     ]
    },
    {
     "data": {
      "text/html": [
       "\n",
       "<style>\n",
       "    /* Turns off some styling */\n",
       "    progress {\n",
       "        /* gets rid of default border in Firefox and Opera. */\n",
       "        border: none;\n",
       "        /* Needs to be in here for Safari polyfill so background images work as expected. */\n",
       "        background-size: auto;\n",
       "    }\n",
       "    .progress-bar-interrupted, .progress-bar-interrupted::-webkit-progress-bar {\n",
       "        background: #F44336;\n",
       "    }\n",
       "</style>\n"
      ],
      "text/plain": [
       "<IPython.core.display.HTML object>"
      ]
     },
     "metadata": {},
     "output_type": "display_data"
    },
    {
     "data": {
      "text/html": [
       "\n",
       "    <div>\n",
       "      <progress value='12000' class='' max='12000' style='width:300px; height:20px; vertical-align: middle;'></progress>\n",
       "      100.00% [12000/12000 02:01<00:00 Sampling 4 chains, 607 divergences]\n",
       "    </div>\n",
       "    "
      ],
      "text/plain": [
       "<IPython.core.display.HTML object>"
      ]
     },
     "metadata": {},
     "output_type": "display_data"
    },
    {
     "name": "stderr",
     "output_type": "stream",
     "text": [
      "Sampling 4 chains for 2_000 tune and 1_000 draw iterations (8_000 + 4_000 draws total) took 122 seconds.\n",
      "There were 607 divergences after tuning. Increase `target_accept` or reparameterize.\n",
      "The acceptance probability does not match the target. It is 0.0227, but should be close to 0.95. Try to increase the number of tuning steps.\n"
     ]
    }
   ],
   "source": [
    "# demo NUTS\n",
    "n = 4\n",
    "with powerrating:\n",
    "    trace = pm.sample(tune=2000, chains=n, cores=n, target_accept=0.95)"
   ]
  },
  {
   "cell_type": "code",
   "execution_count": 12,
   "id": "42c2f17f-c2e3-4643-9917-bb90b51067ff",
   "metadata": {},
   "outputs": [
    {
     "data": {
      "image/png": "[encoded data removed]",
      "text/plain": [
       "<Figure size 360x360 with 1 Axes>"
      ]
     },
     "metadata": {
      "needs_background": "light"
     },
     "output_type": "display_data"
    }
   ],
   "source": [
    "plot_power_law_rating2(powerrating,  trace, None)"
   ]
  },
  {
   "cell_type": "markdown",
   "id": "84cc1872-6e76-4e32-83bc-f3e50e42eef5",
   "metadata": {},
   "source": [
    "# Synthetic Data"
   ]
  },
  {
   "cell_type": "code",
   "execution_count": 28,
   "id": "bc06f4ff-7855-42db-bc15-2726dc99da7b",
   "metadata": {},
   "outputs": [
    {
     "data": {
      "text/plain": [
       "<AxesSubplot:xlabel='q', ylabel='stage'>"
      ]
     },
     "execution_count": 28,
     "metadata": {},
     "output_type": "execute_result"
    },
    {
     "data": {
      "image/png": "[encoded data removed]",
      "text/plain": [
       "<Figure size 432x288 with 1 Axes>"
      ]
     },
     "metadata": {
      "needs_background": "light"
     },
     "output_type": "display_data"
    }
   ],
   "source": [
    "n = 20; segments=3\n",
    "sim_df = pd.read_csv('../data/simulated_rating.csv')\n",
    "df = sim_df.sample(n) #works at 200\n",
    "df = df.sort_values(by='q') #XXX sort or plotting goes crazy\n",
    "fig, ax = plt.subplots()\n",
    "h_obs = df['stage'].values.reshape(-1,1)\n",
    "q_obs = df['q'].values.reshape(-1,1)\n",
    "sim_df.plot(x='q',y='stage', ax=ax)#, marker='.')\n",
    "\n",
    "df.plot.scatter(x='q',y='stage', marker='o', color='red', ax=ax)"
   ]
  },
  {
   "cell_type": "code",
   "execution_count": 29,
   "id": "980abb5a-e2a5-46fe-9015-8c613d825957",
   "metadata": {},
   "outputs": [],
   "source": [
    "powerrating = SegmentedRatingModel(q_obs, h_obs,  segments=segments,\n",
    "                                   #q_sigma = q_sigma,\n",
    "                                   q_sigma = None,\n",
    "                                   prior = {'distribution':'uniform'})\n"
   ]
  },
  {
   "cell_type": "code",
   "execution_count": null,
   "id": "d40dfddd-8de6-4ba4-b380-f26e4b85594f",
   "metadata": {},
   "outputs": [
    {
     "data": {
      "text/html": [
       "\n",
       "<style>\n",
       "    /* Turns off some styling */\n",
       "    progress {\n",
       "        /* gets rid of default border in Firefox and Opera. */\n",
       "        border: none;\n",
       "        /* Needs to be in here for Safari polyfill so background images work as expected. */\n",
       "        background-size: auto;\n",
       "    }\n",
       "    .progress-bar-interrupted, .progress-bar-interrupted::-webkit-progress-bar {\n",
       "        background: #F44336;\n",
       "    }\n",
       "</style>\n"
      ],
      "text/plain": [
       "<IPython.core.display.HTML object>"
      ]
     },
     "metadata": {},
     "output_type": "display_data"
    },
    {
     "data": {
      "text/html": [
       "\n",
       "    <div>\n",
       "      <progress value='105149' class='' max='250000' style='width:300px; height:20px; vertical-align: middle;'></progress>\n",
       "      42.06% [105149/250000 00:17<00:24 Average Loss = -17.348]\n",
       "    </div>\n",
       "    "
      ],
      "text/plain": [
       "<IPython.core.display.HTML object>"
      ]
     },
     "metadata": {},
     "output_type": "display_data"
    }
   ],
   "source": [
    "with powerrating:\n",
    "    method = 'advi'\n",
    "    mean_field = pm.fit(method=method, n=250_000)\n",
    "    # increase n for smaller samples (250_000)\n",
    "    \n",
    "trace = mean_field.sample(5000)"
   ]
  },
  {
   "cell_type": "code",
   "execution_count": null,
   "id": "0b545b5b-e96b-4caf-bc72-c02f34a96e5c",
   "metadata": {},
   "outputs": [],
   "source": [
    "# advi \n",
    "az.summary(trace, var_names=[\"w\",\"a\",\"sigma\",\"hs\"])"
   ]
  },
  {
   "cell_type": "code",
   "execution_count": null,
   "id": "4d6c57d3-168c-4df5-92a2-ed0202329424",
   "metadata": {},
   "outputs": [],
   "source": [
    "plot_power_law_rating2(powerrating,  trace, None)"
   ]
  },
  {
   "cell_type": "markdown",
   "id": "0519caec-a6f5-4a56-9d53-501d7a06c302",
   "metadata": {},
   "source": [
    "ADVI seems to underestimate uncertainty. NUTS gives better results but will be substantially slower for multiple segments."
   ]
  },
  {
   "cell_type": "code",
   "execution_count": 49,
   "id": "87917693-9729-4ac6-b731-cd9699993508",
   "metadata": {},
   "outputs": [
    {
     "name": "stderr",
     "output_type": "stream",
     "text": [
      "Auto-assigning NUTS sampler...\n",
      "Initializing NUTS using jitter+adapt_diag...\n",
      "Multiprocess sampling (4 chains in 4 jobs)\n",
      "NUTS: [w, a, hs_, sigma]\n"
     ]
    },
    {
     "data": {
      "text/html": [
       "\n",
       "<style>\n",
       "    /* Turns off some styling */\n",
       "    progress {\n",
       "        /* gets rid of default border in Firefox and Opera. */\n",
       "        border: none;\n",
       "        /* Needs to be in here for Safari polyfill so background images work as expected. */\n",
       "        background-size: auto;\n",
       "    }\n",
       "    .progress-bar-interrupted, .progress-bar-interrupted::-webkit-progress-bar {\n",
       "        background: #F44336;\n",
       "    }\n",
       "</style>\n"
      ],
      "text/plain": [
       "<IPython.core.display.HTML object>"
      ]
     },
     "metadata": {},
     "output_type": "display_data"
    },
    {
     "data": {
      "text/html": [
       "\n",
       "    <div>\n",
       "      <progress value='16000' class='' max='16000' style='width:300px; height:20px; vertical-align: middle;'></progress>\n",
       "      100.00% [16000/16000 06:45<00:00 Sampling 4 chains, 1 divergences]\n",
       "    </div>\n",
       "    "
      ],
      "text/plain": [
       "<IPython.core.display.HTML object>"
      ]
     },
     "metadata": {},
     "output_type": "display_data"
    },
    {
     "name": "stderr",
     "output_type": "stream",
     "text": [
      "Sampling 4 chains for 3_000 tune and 1_000 draw iterations (12_000 + 4_000 draws total) took 406 seconds.\n",
      "There was 1 divergence after tuning. Increase `target_accept` or reparameterize.\n"
     ]
    }
   ],
   "source": [
    "n = 4\n",
    "with powerrating:\n",
    "    trace = pm.sample(tune=3000, chains=n, cores=n, target_accept=0.95)"
   ]
  },
  {
   "cell_type": "code",
   "execution_count": 50,
   "id": "ef65bb19-ed39-47cf-b0f2-4fbe7211ee6d",
   "metadata": {},
   "outputs": [
    {
     "data": {
      "text/html": [
       "<div>\n",
       "<style scoped>\n",
       "    .dataframe tbody tr th:only-of-type {\n",
       "        vertical-align: middle;\n",
       "    }\n",
       "\n",
       "    .dataframe tbody tr th {\n",
       "        vertical-align: top;\n",
       "    }\n",
       "\n",
       "    .dataframe thead th {\n",
       "        text-align: right;\n",
       "    }\n",
       "</style>\n",
       "<table border=\"1\" class=\"dataframe\">\n",
       "  <thead>\n",
       "    <tr style=\"text-align: right;\">\n",
       "      <th></th>\n",
       "      <th>mean</th>\n",
       "      <th>sd</th>\n",
       "      <th>hdi_3%</th>\n",
       "      <th>hdi_97%</th>\n",
       "      <th>mcse_mean</th>\n",
       "      <th>mcse_sd</th>\n",
       "      <th>ess_bulk</th>\n",
       "      <th>ess_tail</th>\n",
       "      <th>r_hat</th>\n",
       "    </tr>\n",
       "  </thead>\n",
       "  <tbody>\n",
       "    <tr>\n",
       "      <th>w[0]</th>\n",
       "      <td>1.948</td>\n",
       "      <td>0.049</td>\n",
       "      <td>1.859</td>\n",
       "      <td>2.045</td>\n",
       "      <td>0.002</td>\n",
       "      <td>0.001</td>\n",
       "      <td>757.0</td>\n",
       "      <td>710.0</td>\n",
       "      <td>1.00</td>\n",
       "    </tr>\n",
       "    <tr>\n",
       "      <th>w[1]</th>\n",
       "      <td>0.204</td>\n",
       "      <td>0.124</td>\n",
       "      <td>0.058</td>\n",
       "      <td>0.456</td>\n",
       "      <td>0.005</td>\n",
       "      <td>0.004</td>\n",
       "      <td>564.0</td>\n",
       "      <td>671.0</td>\n",
       "      <td>1.00</td>\n",
       "    </tr>\n",
       "    <tr>\n",
       "      <th>w[2]</th>\n",
       "      <td>0.420</td>\n",
       "      <td>0.127</td>\n",
       "      <td>0.161</td>\n",
       "      <td>0.568</td>\n",
       "      <td>0.005</td>\n",
       "      <td>0.004</td>\n",
       "      <td>561.0</td>\n",
       "      <td>863.0</td>\n",
       "      <td>1.00</td>\n",
       "    </tr>\n",
       "    <tr>\n",
       "      <th>a</th>\n",
       "      <td>-2.853</td>\n",
       "      <td>0.105</td>\n",
       "      <td>-3.059</td>\n",
       "      <td>-2.659</td>\n",
       "      <td>0.004</td>\n",
       "      <td>0.003</td>\n",
       "      <td>758.0</td>\n",
       "      <td>683.0</td>\n",
       "      <td>1.00</td>\n",
       "    </tr>\n",
       "    <tr>\n",
       "      <th>sigma</th>\n",
       "      <td>0.005</td>\n",
       "      <td>0.001</td>\n",
       "      <td>0.002</td>\n",
       "      <td>0.007</td>\n",
       "      <td>0.000</td>\n",
       "      <td>0.000</td>\n",
       "      <td>850.0</td>\n",
       "      <td>1148.0</td>\n",
       "      <td>1.00</td>\n",
       "    </tr>\n",
       "    <tr>\n",
       "      <th>hs[0]</th>\n",
       "      <td>4.528</td>\n",
       "      <td>0.075</td>\n",
       "      <td>4.373</td>\n",
       "      <td>4.661</td>\n",
       "      <td>0.003</td>\n",
       "      <td>0.002</td>\n",
       "      <td>759.0</td>\n",
       "      <td>674.0</td>\n",
       "      <td>1.00</td>\n",
       "    </tr>\n",
       "    <tr>\n",
       "      <th>hs[1]</th>\n",
       "      <td>9.891</td>\n",
       "      <td>0.293</td>\n",
       "      <td>9.338</td>\n",
       "      <td>10.231</td>\n",
       "      <td>0.012</td>\n",
       "      <td>0.009</td>\n",
       "      <td>571.0</td>\n",
       "      <td>1393.0</td>\n",
       "      <td>1.01</td>\n",
       "    </tr>\n",
       "    <tr>\n",
       "      <th>hs[2]</th>\n",
       "      <td>10.940</td>\n",
       "      <td>0.221</td>\n",
       "      <td>10.698</td>\n",
       "      <td>11.450</td>\n",
       "      <td>0.010</td>\n",
       "      <td>0.007</td>\n",
       "      <td>638.0</td>\n",
       "      <td>647.0</td>\n",
       "      <td>1.00</td>\n",
       "    </tr>\n",
       "  </tbody>\n",
       "</table>\n",
       "</div>"
      ],
      "text/plain": [
       "         mean     sd  hdi_3%  hdi_97%  mcse_mean  mcse_sd  ess_bulk  ess_tail  \\\n",
       "w[0]    1.948  0.049   1.859    2.045      0.002    0.001     757.0     710.0   \n",
       "w[1]    0.204  0.124   0.058    0.456      0.005    0.004     564.0     671.0   \n",
       "w[2]    0.420  0.127   0.161    0.568      0.005    0.004     561.0     863.0   \n",
       "a      -2.853  0.105  -3.059   -2.659      0.004    0.003     758.0     683.0   \n",
       "sigma   0.005  0.001   0.002    0.007      0.000    0.000     850.0    1148.0   \n",
       "hs[0]   4.528  0.075   4.373    4.661      0.003    0.002     759.0     674.0   \n",
       "hs[1]   9.891  0.293   9.338   10.231      0.012    0.009     571.0    1393.0   \n",
       "hs[2]  10.940  0.221  10.698   11.450      0.010    0.007     638.0     647.0   \n",
       "\n",
       "       r_hat  \n",
       "w[0]    1.00  \n",
       "w[1]    1.00  \n",
       "w[2]    1.00  \n",
       "a       1.00  \n",
       "sigma   1.00  \n",
       "hs[0]   1.00  \n",
       "hs[1]   1.01  \n",
       "hs[2]   1.00  "
      ]
     },
     "execution_count": 50,
     "metadata": {},
     "output_type": "execute_result"
    }
   ],
   "source": [
    "# NUTS\n",
    "az.summary(trace, var_names=[\"w\",\"a\",\"sigma\",\"hs\"])"
   ]
  },
  {
   "cell_type": "code",
   "execution_count": 84,
   "id": "47c11313-3d65-4b96-ac91-9d0734336cd9",
   "metadata": {},
   "outputs": [
    {
     "data": {
      "image/png": "[encoded data removed]",
      "text/plain": [
       "<Figure size 360x360 with 1 Axes>"
      ]
     },
     "metadata": {
      "needs_background": "light"
     },
     "output_type": "display_data"
    }
   ],
   "source": [
    "plot_power_law_rating2(powerrating,  trace, None)"
   ]
  },
  {
   "cell_type": "markdown",
   "id": "c250a084-d4e1-4a71-9465-e6dd187ccb6f",
   "metadata": {},
   "source": [
    "#  Notes\n",
    "This notebook demonstrates the segmented power law. Sometimes other models may work better.\n",
    "\n",
    "Thanks to the USGS workflow, we can choose any model $f()$ for fitting a particular rating...\n",
    "\n",
    "\\begin{align}\n",
    "q = f(\\theta,s)\n",
    "\\end{align}\n",
    "where f is the functional form of the rating: power law, spline, NN, etc.\n",
    "\n",
    "Rather than use this function directly, USGS discritizes $q$\n",
    "\\begin{align}\n",
    "d(f(\\theta,s)) = \\begin{bmatrix} s & \\hat q \\end{bmatrix}\n",
    "\\end{align}\n",
    "and the discritized form is saved\n",
    "\n",
    "\n",
    "\n",
    "1. To develop a rating, select a set of observations ($q_1$,$s_1$) and weights $w_1$, fit a rating model and  discritize to yield $\\hat q_1$.\n",
    "\n",
    "1. At a later point in time, develop a new rating from another (perhaps overlapping) set of observations ($q_2$, $s_2$, $w_2$) and discritize as $\\hat q_2$.\n",
    "\n",
    "1. As we accrue more ratings, we form a matrix $q_{ij}$, where $i$ is the rating and $j$ is the stage index. Flow at a particular time and stage ($t$,$s$) is estimated by interpolating between elements in this matrix.\n",
    "\n",
    "1. After many ratings, we can apply Greg's approach to compute shift uncertainty at each stage $q_{,j}$."
   ]
  },
  {
   "cell_type": "markdown",
   "id": "efba1b84-5d56-4fbb-8ced-38ec7c81222e",
   "metadata": {},
   "source": [
    "# Scratch"
   ]
  }
 ],
 "metadata": {
  "kernelspec": {
   "display_name": "Python 3 (ipykernel)",
   "language": "python",
   "name": "python3"
  },
  "language_info": {
   "codemirror_mode": {
    "name": "ipython",
    "version": 3
   },
   "file_extension": ".py",
   "mimetype": "text/x-python",
   "name": "python",
   "nbconvert_exporter": "python",
   "pygments_lexer": "ipython3",
   "version": "3.10.5"
  }
 },
 "nbformat": 4,
 "nbformat_minor": 5
}
