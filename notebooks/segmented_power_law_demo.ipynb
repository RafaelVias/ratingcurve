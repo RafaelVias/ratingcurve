{
 "cells": [
  {
   "cell_type": "markdown",
   "id": "15a098d1-956e-4a1f-8066-fa7232e334cd",
   "metadata": {
    "id": "15a098d1-956e-4a1f-8066-fa7232e334cd"
   },
   "source": [
    "# Fitting a Stage-Discharge Rating\n",
    "[![Open In Colab](https://colab.research.google.com/assets/colab-badge.svg)](https://colab.research.google.com/github/thodson-usgs/rating-function-uncertainty/blob/master/notebooks/segmented_power_law_demo.ipynb)  \n",
    "This notebook demonstrates fitting a rating curve using a segmented power law.\n",
    "\n",
    "The general form of the equation is:\n",
    "\n",
    "\\begin{align}\n",
    "    log(Q) = a + \\sum b_i\\log(x - x_{o,i})H_i(x - x_{o,i})\n",
    "\\end{align}\n",
    "where\n",
    "$Q$ is discharge,  \n",
    "$a$ and $b$ are model parameters,  \n",
    "$x$ is stage,  \n",
    "$x_{o,i}$ is the $i$th breakpoint, and  \n",
    "$H$ is the Heaviside function.  \n",
    "In a standard linear model $b$ represents the slope of the function with respect the input.\n",
    "In the segmented power law $b_o$ is the slope and each subsequent $b_i$ are adjustment to the base slope for each segment.\n",
    "\n"
   ]
  },
  {
   "cell_type": "code",
   "execution_count": null,
   "id": "d23da995-0d8c-4df5-bceb-f9ea29c5034d",
   "metadata": {
    "id": "d23da995-0d8c-4df5-bceb-f9ea29c5034d"
   },
   "outputs": [],
   "source": [
    "# Run this cell to setup Colab. It will take a minute.\n",
    "%%capture\n",
    "# Specific repo version used in this notebook\n",
    "!pip install pymc==4.1.1\n",
    "\n",
    "# Colab needs this\n",
    "%env MKL_THREADING_LAYER=GNU\n",
    "\n",
    "# install ratingcurve library\n",
    "!pip install git+https://github.com/thodson-usgs/rating-function-uncertainty.git"
   ]
  },
  {
   "cell_type": "code",
   "execution_count": null,
   "id": "806409d6-616f-4ecf-a2a7-e5e42744c686",
   "metadata": {
    "id": "806409d6-616f-4ecf-a2a7-e5e42744c686"
   },
   "outputs": [],
   "source": [
    "%load_ext autoreload\n",
    "%autoreload 2\n",
    "\n",
    "import matplotlib.pyplot as plt\n",
    "import intake\n",
    "import pymc as pm\n",
    "\n",
    "\n",
    "from ratingcurve.ratingmodel import SegmentedRatingModel\n",
    "from ratingcurve.plotting import plot_power_law_rating "
   ]
  },
  {
   "cell_type": "markdown",
   "id": "20cebce1-1a16-4367-ab86-2d42147a0437",
   "metadata": {
    "id": "68990119-0f7d-4033-8968-0361b655647a"
   },
   "source": [
    "## Load Data"
   ]
  },
  {
   "cell_type": "code",
   "execution_count": null,
   "id": "9a75a0ac-877b-4b19-8b33-236b1a629875",
   "metadata": {
    "id": "9a75a0ac-877b-4b19-8b33-236b1a629875"
   },
   "outputs": [],
   "source": [
    "# load the data catalog\n",
    "url = 'https://raw.githubusercontent.com/thodson-usgs/rating-function-uncertainty/main/data/rating_data_catalog.yml'\n",
    "cat = intake.open_catalog(url)\n",
    "list(cat)"
   ]
  },
  {
   "cell_type": "markdown",
   "id": "697f25b2-4a34-44d9-b62c-76d08212c412",
   "metadata": {},
   "source": [
    "### Select a dataset"
   ]
  },
  {
   "cell_type": "code",
   "execution_count": null,
   "id": "fdcdc4a5-552e-4458-9a79-7960f07c7326",
   "metadata": {
    "id": "fdcdc4a5-552e-4458-9a79-7960f07c7326"
   },
   "outputs": [],
   "source": [
    "# select a dataset\n",
    "dataset = 'provo_natural'\n",
    "df = cat[dataset].read()\n",
    "df.head()"
   ]
  },
  {
   "cell_type": "code",
   "execution_count": null,
   "id": "8b5ab475-11ec-434b-93fd-c2ef8b2e6b11",
   "metadata": {},
   "outputs": [],
   "source": [
    "# plot the data\n",
    "h_obs = df['stage'].values.reshape(-1,1)\n",
    "q_obs = df['q'].values.reshape(-1,1)\n",
    "q_sigma = df['q_sigma'].values.reshape(-1,1)\n",
    "\n",
    "fig, ax = plt.subplots()\n",
    "df.plot.scatter(x='q',y='stage', marker='o', ax=ax)\n",
    "ax.set_xlabel(\"Discharge (cfs)\")\n",
    "ax.set_ylabel(\"Stage (ft)\")"
   ]
  },
  {
   "cell_type": "markdown",
   "id": "0e1ccef0-0d5e-4677-a0bb-6eb257a6be62",
   "metadata": {
    "id": "0e1ccef0-0d5e-4677-a0bb-6eb257a6be62"
   },
   "source": [
    "## Set model\n"
   ]
  },
  {
   "cell_type": "code",
   "execution_count": null,
   "id": "c26b75e4-d127-43e3-adec-2ee57a5aba7e",
   "metadata": {
    "id": "c26b75e4-d127-43e3-adec-2ee57a5aba7e"
   },
   "outputs": [],
   "source": [
    "segments = 1\n",
    "powerrating = SegmentedRatingModel(q_obs, h_obs,  segments=segments,\n",
    "                                   q_sigma = None, #not yet implemented\n",
    "                                   prior = {'distribution':'uniform'})"
   ]
  },
  {
   "cell_type": "code",
   "execution_count": null,
   "id": "95bf05c6-b219-45c6-bb83-9eb225d45860",
   "metadata": {},
   "outputs": [],
   "source": [
    "with powerrating:\n",
    "    method = 'advi'\n",
    "    mean_field = pm.fit(method=method, n=150_000)\n",
    "    trace = mean_field.sample(5000)"
   ]
  },
  {
   "cell_type": "code",
   "execution_count": null,
   "id": "bb996661-ae3a-4f15-af0a-762386b2b86c",
   "metadata": {},
   "outputs": [],
   "source": [
    "from ratingcurve.plotting import plot_power_law_rating \n",
    "plot_power_law_rating(powerrating,  trace, None)"
   ]
  },
  {
   "cell_type": "code",
   "execution_count": null,
   "id": "e065643a-eb96-43d0-a51d-f42f69e708cf",
   "metadata": {},
   "outputs": [],
   "source": [
    "import arviz as az\n",
    "az.summary(trace, var_names=[\"w\",\"a\",\"sigma\",\"hs\"])"
   ]
  },
  {
   "cell_type": "code",
   "execution_count": null,
   "id": "ad003463-d23b-4292-8863-1dc52315fe5c",
   "metadata": {
    "id": "ad003463-d23b-4292-8863-1dc52315fe5c"
   },
   "outputs": [],
   "source": [
    "# what happens if we choose a different number of segments?"
   ]
  },
  {
   "cell_type": "markdown",
   "id": "84cc1872-6e76-4e32-83bc-f3e50e42eef5",
   "metadata": {
    "id": "84cc1872-6e76-4e32-83bc-f3e50e42eef5"
   },
   "source": [
    "## Synthetic Data Exmaple"
   ]
  },
  {
   "cell_type": "code",
   "execution_count": null,
   "id": "bc06f4ff-7855-42db-bc15-2726dc99da7b",
   "metadata": {
    "id": "bc06f4ff-7855-42db-bc15-2726dc99da7b",
    "outputId": "f4413937-f75c-4043-f1c7-236d3544d611"
   },
   "outputs": [],
   "source": [
    "# load a dataset\n",
    "n = 25\n",
    "sim_df = cat['simulated_rating'].read()\n",
    "df = sim_df.sample(n)\n",
    "df = df.sort_values(by='q') #XXX sort or plotting goes crazy\n",
    "#fig, ax = plt.subplots()\n",
    "h_obs = df['stage'].values.reshape(-1,1)\n",
    "q_obs = df['q'].values.reshape(-1,1)\n",
    "ax = sim_df.plot(x='q',y='stage', color='k')\n",
    "df.plot.scatter(x='q',y='stage', marker='o', color='red', ax=ax)"
   ]
  },
  {
   "cell_type": "code",
   "execution_count": null,
   "id": "980abb5a-e2a5-46fe-9015-8c613d825957",
   "metadata": {
    "id": "980abb5a-e2a5-46fe-9015-8c613d825957"
   },
   "outputs": [],
   "source": [
    "segments = 3\n",
    "powerrating = SegmentedRatingModel(q_obs, h_obs,  segments=segments,\n",
    "                                   #q_sigma = q_sigma,\n",
    "                                   q_sigma = None,\n",
    "                                   prior = {'distribution':'uniform'})\n"
   ]
  },
  {
   "cell_type": "code",
   "execution_count": null,
   "id": "d40dfddd-8de6-4ba4-b380-f26e4b85594f",
   "metadata": {
    "id": "d40dfddd-8de6-4ba4-b380-f26e4b85594f",
    "outputId": "abc72ca4-8052-476f-9532-40ee902831d3"
   },
   "outputs": [],
   "source": [
    "with powerrating:\n",
    "    method = 'advi'\n",
    "    mean_field = pm.fit(method=method, n=200_000)\n",
    "    trace = mean_field.sample(5000)"
   ]
  },
  {
   "cell_type": "code",
   "execution_count": null,
   "id": "0b545b5b-e96b-4caf-bc72-c02f34a96e5c",
   "metadata": {
    "id": "0b545b5b-e96b-4caf-bc72-c02f34a96e5c"
   },
   "outputs": [],
   "source": [
    "# advi \n",
    "az.summary(trace, var_names=[\"w\",\"a\",\"sigma\",\"hs\"])"
   ]
  },
  {
   "cell_type": "code",
   "execution_count": null,
   "id": "4d6c57d3-168c-4df5-92a2-ed0202329424",
   "metadata": {
    "id": "4d6c57d3-168c-4df5-92a2-ed0202329424"
   },
   "outputs": [],
   "source": [
    "plot_power_law_rating(powerrating,  trace, None)"
   ]
  },
  {
   "cell_type": "markdown",
   "id": "0519caec-a6f5-4a56-9d53-501d7a06c302",
   "metadata": {
    "id": "0519caec-a6f5-4a56-9d53-501d7a06c302"
   },
   "source": [
    "ADVI typically underestimates uncertainty; NUTS gives better results but will be slower for multiple segments."
   ]
  },
  {
   "cell_type": "code",
   "execution_count": null,
   "id": "effa5602-34f5-45f2-8a38-2373b7efc044",
   "metadata": {},
   "outputs": [],
   "source": [
    "# This may take several minutes\n",
    "#n = 4\n",
    "#with powerrating:\n",
    "#    trace = pm.sample(tune=6000, chains=n, cores=n, target_accept=0.95)"
   ]
  },
  {
   "cell_type": "code",
   "execution_count": null,
   "id": "47c11313-3d65-4b96-ac91-9d0734336cd9",
   "metadata": {
    "id": "47c11313-3d65-4b96-ac91-9d0734336cd9",
    "outputId": "edbc0385-c501-4731-d607-3a299d538f8d"
   },
   "outputs": [],
   "source": [
    "plot_power_law_rating(powerrating,  trace, None)"
   ]
  },
  {
   "cell_type": "markdown",
   "id": "c250a084-d4e1-4a71-9465-e6dd187ccb6f",
   "metadata": {
    "id": "c250a084-d4e1-4a71-9465-e6dd187ccb6f"
   },
   "source": [
    "#  Notes\n",
    "This notebook demonstrates the segmented power law. Sometimes other models may work better.\n",
    "\n",
    "Thanks to the USGS workflow, we can choose any model $f()$ for fitting a particular rating...\n",
    "\n",
    "\\begin{align}\n",
    "q = f(\\theta,s)\n",
    "\\end{align}\n",
    "where f is the functional form of the rating: power law, spline, NN, etc.\n",
    "\n",
    "Rather than use this function directly, USGS discritizes $q$\n",
    "\\begin{align}\n",
    "d(f(\\theta,s)) = \\begin{bmatrix} s & \\hat q \\end{bmatrix}\n",
    "\\end{align}\n",
    "and the discritized form is saved\n",
    "\n",
    "\n",
    "\n",
    "1. To develop a rating, select a set of observations ($q_1$,$s_1$) and weights $w_1$, fit a rating model and  discritize to yield $\\hat q_1$.\n",
    "\n",
    "1. At a later point in time, develop a new rating from another (perhaps overlapping) set of observations ($q_2$, $s_2$, $w_2$) and discritize as $\\hat q_2$.\n",
    "\n",
    "1. As we accrue more ratings, we form a matrix $q_{ij}$, where $i$ is the rating and $j$ is the stage index. Flow at a particular time and stage ($t$,$s$) is estimated by interpolating between elements in this matrix.\n",
    "\n",
    "1. After many ratings, we can apply Greg's approach to compute shift uncertainty at each stage $q_{,j}$."
   ]
  }
 ],
 "metadata": {
  "colab": {
   "name": "segmented_power_law_demo.ipynb",
   "provenance": []
  },
  "kernelspec": {
   "display_name": "Python 3 (ipykernel)",
   "language": "python",
   "name": "python3"
  },
  "language_info": {
   "codemirror_mode": {
    "name": "ipython",
    "version": 3
   },
   "file_extension": ".py",
   "mimetype": "text/x-python",
   "name": "python",
   "nbconvert_exporter": "python",
   "pygments_lexer": "ipython3",
   "version": "3.10.5"
  }
 },
 "nbformat": 4,
 "nbformat_minor": 5
}
