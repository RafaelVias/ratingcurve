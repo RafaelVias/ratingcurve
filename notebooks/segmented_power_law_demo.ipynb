{
 "cells": [
  {
   "cell_type": "markdown",
   "id": "15a098d1-956e-4a1f-8066-fa7232e334cd",
   "metadata": {},
   "source": [
    "# Segmented Rating Curve Demo"
   ]
  },
  {
   "cell_type": "code",
   "execution_count": 1,
   "id": "5e9bbbd7-edf2-4cb8-b35b-ef255a9f934a",
   "metadata": {},
   "outputs": [],
   "source": [
    "%load_ext autoreload\n",
    "%autoreload 2\n",
    "\n",
    "import pymc as pm\n",
    "\n",
    "import pandas as pd\n",
    "import matplotlib.pyplot as plt\n",
    "import arviz as az"
   ]
  },
  {
   "cell_type": "code",
   "execution_count": 2,
   "id": "f004e943-d1be-4dc3-8407-a4db15e782d7",
   "metadata": {},
   "outputs": [],
   "source": [
    "from transforms import LogZTransform\n",
    "#from ratingmodel import SegmentedRatingModel\n",
    "from plotting import plot_power_law_rating2\n",
    "from ratingmodel import SegmentedRatingModel"
   ]
  },
  {
   "cell_type": "markdown",
   "id": "0e1ccef0-0d5e-4677-a0bb-6eb257a6be62",
   "metadata": {},
   "source": [
    "## Load dataset"
   ]
  },
  {
   "cell_type": "code",
   "execution_count": 23,
   "id": "17566eb4-60fa-462c-a431-9a80f6f796d4",
   "metadata": {},
   "outputs": [
    {
     "data": {
      "text/plain": [
       "<AxesSubplot:xlabel='q'>"
      ]
     },
     "execution_count": 23,
     "metadata": {},
     "output_type": "execute_result"
    },
    {
     "data": {
      "image/png": "[encoded data removed]",
      "text/plain": [
       "<Figure size 432x288 with 1 Axes>"
      ]
     },
     "metadata": {
      "needs_background": "light"
     },
     "output_type": "display_data"
    }
   ],
   "source": [
    "df = pd.read_csv('../data/green_channel.csv'); segments=2 # TRY WITH 3\n",
    "#df = pd.read_csv('../data/provo_natural.csv'); segments=1\n",
    "#df = pd.read_csv('../data/co_channel.csv'); segments=1\n",
    "\n",
    "df = df.sort_values(by='q') #XXX sort or plotting goes crazy\n",
    "h_obs = df['stage'].values.reshape(-1,1)\n",
    "q_obs = df['q'].values.reshape(-1,1)\n",
    "q_sigma = df['q_sigma'].values.reshape(-1,1)\n",
    "\n",
    "fig, ax = plt.subplots()\n",
    "df.plot(x='q',y='stage', ax=ax, marker='o', ls='')"
   ]
  },
  {
   "cell_type": "code",
   "execution_count": 24,
   "id": "c26b75e4-d127-43e3-adec-2ee57a5aba7e",
   "metadata": {},
   "outputs": [],
   "source": [
    "powerrating = SegmentedRatingModel(q_obs, h_obs,  segments=segments,\n",
    "                                   #q_sigma = q_sigma, not working\n",
    "                                   q_sigma = None,\n",
    "                                   prior = {'distribution':'uniform'})"
   ]
  },
  {
   "cell_type": "code",
   "execution_count": 25,
   "id": "a7e311bb-8753-491e-ac90-a20b537b8966",
   "metadata": {},
   "outputs": [
    {
     "data": {
      "text/html": [
       "\n",
       "<style>\n",
       "    /* Turns off some styling */\n",
       "    progress {\n",
       "        /* gets rid of default border in Firefox and Opera. */\n",
       "        border: none;\n",
       "        /* Needs to be in here for Safari polyfill so background images work as expected. */\n",
       "        background-size: auto;\n",
       "    }\n",
       "    .progress-bar-interrupted, .progress-bar-interrupted::-webkit-progress-bar {\n",
       "        background: #F44336;\n",
       "    }\n",
       "</style>\n"
      ],
      "text/plain": [
       "<IPython.core.display.HTML object>"
      ]
     },
     "metadata": {},
     "output_type": "display_data"
    },
    {
     "data": {
      "text/html": [
       "\n",
       "    <div>\n",
       "      <progress value='100000' class='' max='100000' style='width:300px; height:20px; vertical-align: middle;'></progress>\n",
       "      100.00% [100000/100000 00:16<00:00 Average Loss = -42.692]\n",
       "    </div>\n",
       "    "
      ],
      "text/plain": [
       "<IPython.core.display.HTML object>"
      ]
     },
     "metadata": {},
     "output_type": "display_data"
    },
    {
     "name": "stderr",
     "output_type": "stream",
     "text": [
      "Finished [100%]: Average Loss = -42.703\n"
     ]
    }
   ],
   "source": [
    "with powerrating:\n",
    "    method = 'advi'\n",
    "    mean_field = pm.fit(method=method, n=100_000)"
   ]
  },
  {
   "cell_type": "code",
   "execution_count": 26,
   "id": "e668616c-088a-4d93-8edd-42c113c0b2b0",
   "metadata": {},
   "outputs": [],
   "source": [
    "trace = mean_field.sample(5000)"
   ]
  },
  {
   "cell_type": "code",
   "execution_count": 27,
   "id": "261df379-401e-4407-97e9-1fc4f8b27070",
   "metadata": {},
   "outputs": [],
   "source": [
    "#n = 4\n",
    "#with powerrating:\n",
    "#    trace = pm.sample(tune=3000, chains=n, cores=n, target_accept=0.95)"
   ]
  },
  {
   "cell_type": "code",
   "execution_count": 28,
   "id": "59007b4f-9fea-4b75-893e-79d84a531e1f",
   "metadata": {},
   "outputs": [
    {
     "name": "stderr",
     "output_type": "stream",
     "text": [
      "arviz - WARNING - Shape validation failed: input_shape: (1, 5000), minimum_shape: (chains=2, draws=4)\n"
     ]
    },
    {
     "data": {
      "text/html": [
       "<div>\n",
       "<style scoped>\n",
       "    .dataframe tbody tr th:only-of-type {\n",
       "        vertical-align: middle;\n",
       "    }\n",
       "\n",
       "    .dataframe tbody tr th {\n",
       "        vertical-align: top;\n",
       "    }\n",
       "\n",
       "    .dataframe thead th {\n",
       "        text-align: right;\n",
       "    }\n",
       "</style>\n",
       "<table border=\"1\" class=\"dataframe\">\n",
       "  <thead>\n",
       "    <tr style=\"text-align: right;\">\n",
       "      <th></th>\n",
       "      <th>mean</th>\n",
       "      <th>sd</th>\n",
       "      <th>hdi_3%</th>\n",
       "      <th>hdi_97%</th>\n",
       "      <th>mcse_mean</th>\n",
       "      <th>mcse_sd</th>\n",
       "      <th>ess_bulk</th>\n",
       "      <th>ess_tail</th>\n",
       "      <th>r_hat</th>\n",
       "    </tr>\n",
       "  </thead>\n",
       "  <tbody>\n",
       "    <tr>\n",
       "      <th>w[0]</th>\n",
       "      <td>1.184</td>\n",
       "      <td>0.006</td>\n",
       "      <td>1.173</td>\n",
       "      <td>1.195</td>\n",
       "      <td>0.000</td>\n",
       "      <td>0.0</td>\n",
       "      <td>5010.0</td>\n",
       "      <td>4708.0</td>\n",
       "      <td>NaN</td>\n",
       "    </tr>\n",
       "    <tr>\n",
       "      <th>w[1]</th>\n",
       "      <td>0.450</td>\n",
       "      <td>0.008</td>\n",
       "      <td>0.437</td>\n",
       "      <td>0.466</td>\n",
       "      <td>0.000</td>\n",
       "      <td>0.0</td>\n",
       "      <td>4768.0</td>\n",
       "      <td>4569.0</td>\n",
       "      <td>NaN</td>\n",
       "    </tr>\n",
       "    <tr>\n",
       "      <th>a</th>\n",
       "      <td>-1.186</td>\n",
       "      <td>0.006</td>\n",
       "      <td>-1.197</td>\n",
       "      <td>-1.175</td>\n",
       "      <td>0.000</td>\n",
       "      <td>0.0</td>\n",
       "      <td>4952.0</td>\n",
       "      <td>5024.0</td>\n",
       "      <td>NaN</td>\n",
       "    </tr>\n",
       "    <tr>\n",
       "      <th>sigma</th>\n",
       "      <td>0.032</td>\n",
       "      <td>0.004</td>\n",
       "      <td>0.025</td>\n",
       "      <td>0.041</td>\n",
       "      <td>0.000</td>\n",
       "      <td>0.0</td>\n",
       "      <td>5077.0</td>\n",
       "      <td>4639.0</td>\n",
       "      <td>NaN</td>\n",
       "    </tr>\n",
       "    <tr>\n",
       "      <th>hs[0]</th>\n",
       "      <td>1.242</td>\n",
       "      <td>0.009</td>\n",
       "      <td>1.226</td>\n",
       "      <td>1.260</td>\n",
       "      <td>0.000</td>\n",
       "      <td>0.0</td>\n",
       "      <td>5005.0</td>\n",
       "      <td>4481.0</td>\n",
       "      <td>NaN</td>\n",
       "    </tr>\n",
       "    <tr>\n",
       "      <th>hs[1]</th>\n",
       "      <td>3.543</td>\n",
       "      <td>0.047</td>\n",
       "      <td>3.455</td>\n",
       "      <td>3.629</td>\n",
       "      <td>0.001</td>\n",
       "      <td>0.0</td>\n",
       "      <td>4578.0</td>\n",
       "      <td>4980.0</td>\n",
       "      <td>NaN</td>\n",
       "    </tr>\n",
       "  </tbody>\n",
       "</table>\n",
       "</div>"
      ],
      "text/plain": [
       "        mean     sd  hdi_3%  hdi_97%  mcse_mean  mcse_sd  ess_bulk  ess_tail  \\\n",
       "w[0]   1.184  0.006   1.173    1.195      0.000      0.0    5010.0    4708.0   \n",
       "w[1]   0.450  0.008   0.437    0.466      0.000      0.0    4768.0    4569.0   \n",
       "a     -1.186  0.006  -1.197   -1.175      0.000      0.0    4952.0    5024.0   \n",
       "sigma  0.032  0.004   0.025    0.041      0.000      0.0    5077.0    4639.0   \n",
       "hs[0]  1.242  0.009   1.226    1.260      0.000      0.0    5005.0    4481.0   \n",
       "hs[1]  3.543  0.047   3.455    3.629      0.001      0.0    4578.0    4980.0   \n",
       "\n",
       "       r_hat  \n",
       "w[0]     NaN  \n",
       "w[1]     NaN  \n",
       "a        NaN  \n",
       "sigma    NaN  \n",
       "hs[0]    NaN  \n",
       "hs[1]    NaN  "
      ]
     },
     "execution_count": 28,
     "metadata": {},
     "output_type": "execute_result"
    }
   ],
   "source": [
    "az.summary(trace, var_names=[\"w\",\"a\",\"sigma\",\"hs\"])"
   ]
  },
  {
   "cell_type": "code",
   "execution_count": 29,
   "id": "d130e67f-5da2-414f-b8d1-437bea96ba2c",
   "metadata": {},
   "outputs": [
    {
     "data": {
      "image/png": "[encoded data removed]",
      "text/plain": [
       "<Figure size 360x360 with 1 Axes>"
      ]
     },
     "metadata": {
      "needs_background": "light"
     },
     "output_type": "display_data"
    }
   ],
   "source": [
    "plot_power_law_rating2(powerrating,  trace, None)"
   ]
  },
  {
   "cell_type": "code",
   "execution_count": 50,
   "id": "ad003463-d23b-4292-8863-1dc52315fe5c",
   "metadata": {},
   "outputs": [],
   "source": [
    "# what happens if we choose a different number of segments?"
   ]
  },
  {
   "cell_type": "markdown",
   "id": "84cc1872-6e76-4e32-83bc-f3e50e42eef5",
   "metadata": {},
   "source": [
    "# Synthetic Data"
   ]
  },
  {
   "cell_type": "code",
   "execution_count": 64,
   "id": "bc06f4ff-7855-42db-bc15-2726dc99da7b",
   "metadata": {},
   "outputs": [
    {
     "data": {
      "text/plain": [
       "<AxesSubplot:xlabel='q', ylabel='stage'>"
      ]
     },
     "execution_count": 64,
     "metadata": {},
     "output_type": "execute_result"
    },
    {
     "data": {
      "image/png": "[encoded data removed]",
      "text/plain": [
       "<Figure size 432x288 with 1 Axes>"
      ]
     },
     "metadata": {
      "needs_background": "light"
     },
     "output_type": "display_data"
    }
   ],
   "source": [
    "n = 10; segments=3\n",
    "sim_df = pd.read_csv('../data/simulated_rating.csv')\n",
    "df = sim_df.sample(n) #works at 200\n",
    "df = df.sort_values(by='q') #XXX sort or plotting goes crazy\n",
    "fig, ax = plt.subplots()\n",
    "h_obs = df['stage'].values.reshape(-1,1)\n",
    "q_obs = df['q'].values.reshape(-1,1)\n",
    "sim_df.plot(x='q',y='stage', ax=ax)#, marker='.')\n",
    "\n",
    "df.plot.scatter(x='q',y='stage', marker='o', color='red', ax=ax)"
   ]
  },
  {
   "cell_type": "code",
   "execution_count": 65,
   "id": "980abb5a-e2a5-46fe-9015-8c613d825957",
   "metadata": {},
   "outputs": [],
   "source": [
    "powerrating = SegmentedRatingModel(q_obs, h_obs,  segments=segments,\n",
    "                                   #q_sigma = q_sigma,\n",
    "                                   q_sigma = None,\n",
    "                                   prior = {'distribution':'uniform'})\n"
   ]
  },
  {
   "cell_type": "code",
   "execution_count": 70,
   "id": "d40dfddd-8de6-4ba4-b380-f26e4b85594f",
   "metadata": {},
   "outputs": [
    {
     "data": {
      "text/html": [
       "\n",
       "<style>\n",
       "    /* Turns off some styling */\n",
       "    progress {\n",
       "        /* gets rid of default border in Firefox and Opera. */\n",
       "        border: none;\n",
       "        /* Needs to be in here for Safari polyfill so background images work as expected. */\n",
       "        background-size: auto;\n",
       "    }\n",
       "    .progress-bar-interrupted, .progress-bar-interrupted::-webkit-progress-bar {\n",
       "        background: #F44336;\n",
       "    }\n",
       "</style>\n"
      ],
      "text/plain": [
       "<IPython.core.display.HTML object>"
      ]
     },
     "metadata": {},
     "output_type": "display_data"
    },
    {
     "data": {
      "text/html": [
       "\n",
       "    <div>\n",
       "      <progress value='250000' class='' max='250000' style='width:300px; height:20px; vertical-align: middle;'></progress>\n",
       "      100.00% [250000/250000 00:42<00:00 Average Loss = 13.255]\n",
       "    </div>\n",
       "    "
      ],
      "text/plain": [
       "<IPython.core.display.HTML object>"
      ]
     },
     "metadata": {},
     "output_type": "display_data"
    },
    {
     "name": "stderr",
     "output_type": "stream",
     "text": [
      "Finished [100%]: Average Loss = 13.259\n"
     ]
    }
   ],
   "source": [
    "with powerrating:\n",
    "    method = 'advi'\n",
    "    mean_field = pm.fit(method=method, n=250_000)\n",
    "    # increase n for smaller samples (250_000)\n",
    "    \n",
    "trace = mean_field.sample(5000)"
   ]
  },
  {
   "cell_type": "code",
   "execution_count": 71,
   "id": "0b545b5b-e96b-4caf-bc72-c02f34a96e5c",
   "metadata": {},
   "outputs": [
    {
     "name": "stderr",
     "output_type": "stream",
     "text": [
      "arviz - WARNING - Shape validation failed: input_shape: (1, 5000), minimum_shape: (chains=2, draws=4)\n"
     ]
    },
    {
     "data": {
      "text/html": [
       "<div>\n",
       "<style scoped>\n",
       "    .dataframe tbody tr th:only-of-type {\n",
       "        vertical-align: middle;\n",
       "    }\n",
       "\n",
       "    .dataframe tbody tr th {\n",
       "        vertical-align: top;\n",
       "    }\n",
       "\n",
       "    .dataframe thead th {\n",
       "        text-align: right;\n",
       "    }\n",
       "</style>\n",
       "<table border=\"1\" class=\"dataframe\">\n",
       "  <thead>\n",
       "    <tr style=\"text-align: right;\">\n",
       "      <th></th>\n",
       "      <th>mean</th>\n",
       "      <th>sd</th>\n",
       "      <th>hdi_3%</th>\n",
       "      <th>hdi_97%</th>\n",
       "      <th>mcse_mean</th>\n",
       "      <th>mcse_sd</th>\n",
       "      <th>ess_bulk</th>\n",
       "      <th>ess_tail</th>\n",
       "      <th>r_hat</th>\n",
       "    </tr>\n",
       "  </thead>\n",
       "  <tbody>\n",
       "    <tr>\n",
       "      <th>w[0]</th>\n",
       "      <td>1.103</td>\n",
       "      <td>0.021</td>\n",
       "      <td>1.063</td>\n",
       "      <td>1.142</td>\n",
       "      <td>0.000</td>\n",
       "      <td>0.000</td>\n",
       "      <td>5120.0</td>\n",
       "      <td>4803.0</td>\n",
       "      <td>NaN</td>\n",
       "    </tr>\n",
       "    <tr>\n",
       "      <th>w[1]</th>\n",
       "      <td>0.077</td>\n",
       "      <td>0.099</td>\n",
       "      <td>-0.100</td>\n",
       "      <td>0.270</td>\n",
       "      <td>0.001</td>\n",
       "      <td>0.001</td>\n",
       "      <td>4899.0</td>\n",
       "      <td>5070.0</td>\n",
       "      <td>NaN</td>\n",
       "    </tr>\n",
       "    <tr>\n",
       "      <th>w[2]</th>\n",
       "      <td>0.324</td>\n",
       "      <td>0.224</td>\n",
       "      <td>-0.085</td>\n",
       "      <td>0.757</td>\n",
       "      <td>0.003</td>\n",
       "      <td>0.002</td>\n",
       "      <td>4730.0</td>\n",
       "      <td>4701.0</td>\n",
       "      <td>NaN</td>\n",
       "    </tr>\n",
       "    <tr>\n",
       "      <th>a</th>\n",
       "      <td>-1.186</td>\n",
       "      <td>0.028</td>\n",
       "      <td>-1.239</td>\n",
       "      <td>-1.131</td>\n",
       "      <td>0.000</td>\n",
       "      <td>0.000</td>\n",
       "      <td>4871.0</td>\n",
       "      <td>4397.0</td>\n",
       "      <td>NaN</td>\n",
       "    </tr>\n",
       "    <tr>\n",
       "      <th>sigma</th>\n",
       "      <td>0.089</td>\n",
       "      <td>0.026</td>\n",
       "      <td>0.046</td>\n",
       "      <td>0.137</td>\n",
       "      <td>0.000</td>\n",
       "      <td>0.000</td>\n",
       "      <td>4974.0</td>\n",
       "      <td>4867.0</td>\n",
       "      <td>NaN</td>\n",
       "    </tr>\n",
       "    <tr>\n",
       "      <th>hs[0]</th>\n",
       "      <td>4.854</td>\n",
       "      <td>0.025</td>\n",
       "      <td>4.807</td>\n",
       "      <td>4.901</td>\n",
       "      <td>0.000</td>\n",
       "      <td>0.000</td>\n",
       "      <td>4949.0</td>\n",
       "      <td>4703.0</td>\n",
       "      <td>NaN</td>\n",
       "    </tr>\n",
       "    <tr>\n",
       "      <th>hs[1]</th>\n",
       "      <td>10.457</td>\n",
       "      <td>0.733</td>\n",
       "      <td>9.080</td>\n",
       "      <td>11.486</td>\n",
       "      <td>0.010</td>\n",
       "      <td>0.007</td>\n",
       "      <td>4969.0</td>\n",
       "      <td>4544.0</td>\n",
       "      <td>NaN</td>\n",
       "    </tr>\n",
       "    <tr>\n",
       "      <th>hs[2]</th>\n",
       "      <td>11.161</td>\n",
       "      <td>0.361</td>\n",
       "      <td>10.488</td>\n",
       "      <td>11.638</td>\n",
       "      <td>0.005</td>\n",
       "      <td>0.004</td>\n",
       "      <td>4481.0</td>\n",
       "      <td>4714.0</td>\n",
       "      <td>NaN</td>\n",
       "    </tr>\n",
       "  </tbody>\n",
       "</table>\n",
       "</div>"
      ],
      "text/plain": [
       "         mean     sd  hdi_3%  hdi_97%  mcse_mean  mcse_sd  ess_bulk  ess_tail  \\\n",
       "w[0]    1.103  0.021   1.063    1.142      0.000    0.000    5120.0    4803.0   \n",
       "w[1]    0.077  0.099  -0.100    0.270      0.001    0.001    4899.0    5070.0   \n",
       "w[2]    0.324  0.224  -0.085    0.757      0.003    0.002    4730.0    4701.0   \n",
       "a      -1.186  0.028  -1.239   -1.131      0.000    0.000    4871.0    4397.0   \n",
       "sigma   0.089  0.026   0.046    0.137      0.000    0.000    4974.0    4867.0   \n",
       "hs[0]   4.854  0.025   4.807    4.901      0.000    0.000    4949.0    4703.0   \n",
       "hs[1]  10.457  0.733   9.080   11.486      0.010    0.007    4969.0    4544.0   \n",
       "hs[2]  11.161  0.361  10.488   11.638      0.005    0.004    4481.0    4714.0   \n",
       "\n",
       "       r_hat  \n",
       "w[0]     NaN  \n",
       "w[1]     NaN  \n",
       "w[2]     NaN  \n",
       "a        NaN  \n",
       "sigma    NaN  \n",
       "hs[0]    NaN  \n",
       "hs[1]    NaN  \n",
       "hs[2]    NaN  "
      ]
     },
     "execution_count": 71,
     "metadata": {},
     "output_type": "execute_result"
    }
   ],
   "source": [
    "# advi \n",
    "az.summary(trace, var_names=[\"w\",\"a\",\"sigma\",\"hs\"])"
   ]
  },
  {
   "cell_type": "code",
   "execution_count": 72,
   "id": "4d6c57d3-168c-4df5-92a2-ed0202329424",
   "metadata": {},
   "outputs": [
    {
     "data": {
      "image/png": "[encoded data removed]",
      "text/plain": [
       "<Figure size 360x360 with 1 Axes>"
      ]
     },
     "metadata": {
      "needs_background": "light"
     },
     "output_type": "display_data"
    }
   ],
   "source": [
    "plot_power_law_rating2(powerrating,  trace, None)"
   ]
  },
  {
   "cell_type": "markdown",
   "id": "0519caec-a6f5-4a56-9d53-501d7a06c302",
   "metadata": {},
   "source": [
    "ADVI seems to underestimate uncertainty. NUTS gives better results but will be substantially slower for multiple segments."
   ]
  },
  {
   "cell_type": "code",
   "execution_count": 49,
   "id": "87917693-9729-4ac6-b731-cd9699993508",
   "metadata": {},
   "outputs": [
    {
     "name": "stderr",
     "output_type": "stream",
     "text": [
      "Auto-assigning NUTS sampler...\n",
      "Initializing NUTS using jitter+adapt_diag...\n",
      "Multiprocess sampling (4 chains in 4 jobs)\n",
      "NUTS: [w, a, hs_, sigma]\n"
     ]
    },
    {
     "data": {
      "text/html": [
       "\n",
       "<style>\n",
       "    /* Turns off some styling */\n",
       "    progress {\n",
       "        /* gets rid of default border in Firefox and Opera. */\n",
       "        border: none;\n",
       "        /* Needs to be in here for Safari polyfill so background images work as expected. */\n",
       "        background-size: auto;\n",
       "    }\n",
       "    .progress-bar-interrupted, .progress-bar-interrupted::-webkit-progress-bar {\n",
       "        background: #F44336;\n",
       "    }\n",
       "</style>\n"
      ],
      "text/plain": [
       "<IPython.core.display.HTML object>"
      ]
     },
     "metadata": {},
     "output_type": "display_data"
    },
    {
     "data": {
      "text/html": [
       "\n",
       "    <div>\n",
       "      <progress value='16000' class='' max='16000' style='width:300px; height:20px; vertical-align: middle;'></progress>\n",
       "      100.00% [16000/16000 06:45<00:00 Sampling 4 chains, 1 divergences]\n",
       "    </div>\n",
       "    "
      ],
      "text/plain": [
       "<IPython.core.display.HTML object>"
      ]
     },
     "metadata": {},
     "output_type": "display_data"
    },
    {
     "name": "stderr",
     "output_type": "stream",
     "text": [
      "Sampling 4 chains for 3_000 tune and 1_000 draw iterations (12_000 + 4_000 draws total) took 406 seconds.\n",
      "There was 1 divergence after tuning. Increase `target_accept` or reparameterize.\n"
     ]
    }
   ],
   "source": [
    "n = 4\n",
    "with powerrating:\n",
    "    trace = pm.sample(tune=3000, chains=n, cores=n, target_accept=0.95)"
   ]
  },
  {
   "cell_type": "code",
   "execution_count": 50,
   "id": "ef65bb19-ed39-47cf-b0f2-4fbe7211ee6d",
   "metadata": {},
   "outputs": [
    {
     "data": {
      "text/html": [
       "<div>\n",
       "<style scoped>\n",
       "    .dataframe tbody tr th:only-of-type {\n",
       "        vertical-align: middle;\n",
       "    }\n",
       "\n",
       "    .dataframe tbody tr th {\n",
       "        vertical-align: top;\n",
       "    }\n",
       "\n",
       "    .dataframe thead th {\n",
       "        text-align: right;\n",
       "    }\n",
       "</style>\n",
       "<table border=\"1\" class=\"dataframe\">\n",
       "  <thead>\n",
       "    <tr style=\"text-align: right;\">\n",
       "      <th></th>\n",
       "      <th>mean</th>\n",
       "      <th>sd</th>\n",
       "      <th>hdi_3%</th>\n",
       "      <th>hdi_97%</th>\n",
       "      <th>mcse_mean</th>\n",
       "      <th>mcse_sd</th>\n",
       "      <th>ess_bulk</th>\n",
       "      <th>ess_tail</th>\n",
       "      <th>r_hat</th>\n",
       "    </tr>\n",
       "  </thead>\n",
       "  <tbody>\n",
       "    <tr>\n",
       "      <th>w[0]</th>\n",
       "      <td>1.948</td>\n",
       "      <td>0.049</td>\n",
       "      <td>1.859</td>\n",
       "      <td>2.045</td>\n",
       "      <td>0.002</td>\n",
       "      <td>0.001</td>\n",
       "      <td>757.0</td>\n",
       "      <td>710.0</td>\n",
       "      <td>1.00</td>\n",
       "    </tr>\n",
       "    <tr>\n",
       "      <th>w[1]</th>\n",
       "      <td>0.204</td>\n",
       "      <td>0.124</td>\n",
       "      <td>0.058</td>\n",
       "      <td>0.456</td>\n",
       "      <td>0.005</td>\n",
       "      <td>0.004</td>\n",
       "      <td>564.0</td>\n",
       "      <td>671.0</td>\n",
       "      <td>1.00</td>\n",
       "    </tr>\n",
       "    <tr>\n",
       "      <th>w[2]</th>\n",
       "      <td>0.420</td>\n",
       "      <td>0.127</td>\n",
       "      <td>0.161</td>\n",
       "      <td>0.568</td>\n",
       "      <td>0.005</td>\n",
       "      <td>0.004</td>\n",
       "      <td>561.0</td>\n",
       "      <td>863.0</td>\n",
       "      <td>1.00</td>\n",
       "    </tr>\n",
       "    <tr>\n",
       "      <th>a</th>\n",
       "      <td>-2.853</td>\n",
       "      <td>0.105</td>\n",
       "      <td>-3.059</td>\n",
       "      <td>-2.659</td>\n",
       "      <td>0.004</td>\n",
       "      <td>0.003</td>\n",
       "      <td>758.0</td>\n",
       "      <td>683.0</td>\n",
       "      <td>1.00</td>\n",
       "    </tr>\n",
       "    <tr>\n",
       "      <th>sigma</th>\n",
       "      <td>0.005</td>\n",
       "      <td>0.001</td>\n",
       "      <td>0.002</td>\n",
       "      <td>0.007</td>\n",
       "      <td>0.000</td>\n",
       "      <td>0.000</td>\n",
       "      <td>850.0</td>\n",
       "      <td>1148.0</td>\n",
       "      <td>1.00</td>\n",
       "    </tr>\n",
       "    <tr>\n",
       "      <th>hs[0]</th>\n",
       "      <td>4.528</td>\n",
       "      <td>0.075</td>\n",
       "      <td>4.373</td>\n",
       "      <td>4.661</td>\n",
       "      <td>0.003</td>\n",
       "      <td>0.002</td>\n",
       "      <td>759.0</td>\n",
       "      <td>674.0</td>\n",
       "      <td>1.00</td>\n",
       "    </tr>\n",
       "    <tr>\n",
       "      <th>hs[1]</th>\n",
       "      <td>9.891</td>\n",
       "      <td>0.293</td>\n",
       "      <td>9.338</td>\n",
       "      <td>10.231</td>\n",
       "      <td>0.012</td>\n",
       "      <td>0.009</td>\n",
       "      <td>571.0</td>\n",
       "      <td>1393.0</td>\n",
       "      <td>1.01</td>\n",
       "    </tr>\n",
       "    <tr>\n",
       "      <th>hs[2]</th>\n",
       "      <td>10.940</td>\n",
       "      <td>0.221</td>\n",
       "      <td>10.698</td>\n",
       "      <td>11.450</td>\n",
       "      <td>0.010</td>\n",
       "      <td>0.007</td>\n",
       "      <td>638.0</td>\n",
       "      <td>647.0</td>\n",
       "      <td>1.00</td>\n",
       "    </tr>\n",
       "  </tbody>\n",
       "</table>\n",
       "</div>"
      ],
      "text/plain": [
       "         mean     sd  hdi_3%  hdi_97%  mcse_mean  mcse_sd  ess_bulk  ess_tail  \\\n",
       "w[0]    1.948  0.049   1.859    2.045      0.002    0.001     757.0     710.0   \n",
       "w[1]    0.204  0.124   0.058    0.456      0.005    0.004     564.0     671.0   \n",
       "w[2]    0.420  0.127   0.161    0.568      0.005    0.004     561.0     863.0   \n",
       "a      -2.853  0.105  -3.059   -2.659      0.004    0.003     758.0     683.0   \n",
       "sigma   0.005  0.001   0.002    0.007      0.000    0.000     850.0    1148.0   \n",
       "hs[0]   4.528  0.075   4.373    4.661      0.003    0.002     759.0     674.0   \n",
       "hs[1]   9.891  0.293   9.338   10.231      0.012    0.009     571.0    1393.0   \n",
       "hs[2]  10.940  0.221  10.698   11.450      0.010    0.007     638.0     647.0   \n",
       "\n",
       "       r_hat  \n",
       "w[0]    1.00  \n",
       "w[1]    1.00  \n",
       "w[2]    1.00  \n",
       "a       1.00  \n",
       "sigma   1.00  \n",
       "hs[0]   1.00  \n",
       "hs[1]   1.01  \n",
       "hs[2]   1.00  "
      ]
     },
     "execution_count": 50,
     "metadata": {},
     "output_type": "execute_result"
    }
   ],
   "source": [
    "# NUTS\n",
    "az.summary(trace, var_names=[\"w\",\"a\",\"sigma\",\"hs\"])"
   ]
  },
  {
   "cell_type": "code",
   "execution_count": 51,
   "id": "47c11313-3d65-4b96-ac91-9d0734336cd9",
   "metadata": {},
   "outputs": [
    {
     "data": {
      "image/png": "[encoded data removed]",
      "text/plain": [
       "<Figure size 360x360 with 1 Axes>"
      ]
     },
     "metadata": {
      "needs_background": "light"
     },
     "output_type": "display_data"
    }
   ],
   "source": [
    "plot_power_law_rating2(powerrating,  trace, None)"
   ]
  },
  {
   "cell_type": "markdown",
   "id": "c250a084-d4e1-4a71-9465-e6dd187ccb6f",
   "metadata": {},
   "source": [
    "#  Notes\n",
    "This notebook demonstrates the segmented power law. Sometimes other models may work better.\n",
    "\n",
    "Thanks to the USGS workflow, we can choose any model $f()$ for fitting a particular rating...\n",
    "\n",
    "\\begin{align}\n",
    "q = f(\\theta,s)\n",
    "\\end{align}\n",
    "where f is the functional form of the rating: power law, spline, NN, etc.\n",
    "\n",
    "Rather than use this function directly, USGS discritizes $q$\n",
    "\\begin{align}\n",
    "d(f(\\theta,s)) = \\begin{bmatrix} s & \\hat q \\end{bmatrix}\n",
    "\\end{align}\n",
    "and the discritized form is saved\n",
    "\n",
    "\n",
    "\n",
    "1. To develop a rating, select a set of observations ($q_1$,$s_1$) and weights $w_1$, fit a rating model and  discritize to yield $\\hat q_1$.\n",
    "\n",
    "1. At a later point in time, develop a new rating from another (perhaps overlapping) set of observations ($q_2$, $s_2$, $w_2$) and discritize as $\\hat q_2$.\n",
    "\n",
    "1. As we accrue more ratings, we form a matrix $q_{ij}$, where $i$ is the rating and $j$ is the stage index. Flow at a particular time and stage ($t$,$s$) is estimated by interpolating between elements in this matrix.\n",
    "\n",
    "1. After many ratings, we can apply Greg's approach to compute shift uncertainty at each stage $q_{,j}$."
   ]
  },
  {
   "cell_type": "markdown",
   "id": "efba1b84-5d56-4fbb-8ced-38ec7c81222e",
   "metadata": {},
   "source": [
    "# Scratch"
   ]
  }
 ],
 "metadata": {
  "kernelspec": {
   "display_name": "Python 3 (ipykernel)",
   "language": "python",
   "name": "python3"
  },
  "language_info": {
   "codemirror_mode": {
    "name": "ipython",
    "version": 3
   },
   "file_extension": ".py",
   "mimetype": "text/x-python",
   "name": "python",
   "nbconvert_exporter": "python",
   "pygments_lexer": "ipython3",
   "version": "3.10.5"
  }
 },
 "nbformat": 4,
 "nbformat_minor": 5
}
