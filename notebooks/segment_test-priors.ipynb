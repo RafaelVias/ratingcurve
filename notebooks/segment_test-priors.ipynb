{
 "cells": [
  {
   "cell_type": "code",
   "execution_count": 1,
   "id": "6e7ab539-1fb5-4b1e-aa91-92cae888c3be",
   "metadata": {},
   "outputs": [],
   "source": [
    "import pandas as pd\n",
    "import arviz as az\n",
    "import numpy as np\n"
   ]
  },
  {
   "cell_type": "code",
   "execution_count": null,
   "id": "a0ad2b9b-45b6-42de-999f-b474e54c8368",
   "metadata": {},
   "outputs": [],
   "source": []
  },
  {
   "cell_type": "code",
   "execution_count": 2,
   "id": "bbb2286e-0d0d-42d2-bc54-e9a83d8d8547",
   "metadata": {},
   "outputs": [
    {
     "data": {
      "text/plain": [
       "<AxesSubplot:xlabel='stage', ylabel='q'>"
      ]
     },
     "execution_count": 2,
     "metadata": {},
     "output_type": "execute_result"
    },
    {
     "data": {
      "image/png": "[encoded data removed]",
      "text/plain": [
       "<Figure size 432x288 with 1 Axes>"
      ]
     },
     "metadata": {
      "needs_background": "light"
     },
     "output_type": "display_data"
    }
   ],
   "source": [
    "df = pd.read_csv('../data/provo_natural.csv')\n",
    "df['log_q'] = np.log(df['q'])\n",
    "df['log_s'] = np.log(df['stage'])\n",
    "\n",
    "df.plot.scatter(\"stage\",\"q\")"
   ]
  },
  {
   "cell_type": "code",
   "execution_count": 3,
   "id": "50398238-1b05-4b76-941c-213503cb62ed",
   "metadata": {},
   "outputs": [],
   "source": [
    "#https://github.com/aesara-devs/aesara"
   ]
  },
  {
   "cell_type": "code",
   "execution_count": 4,
   "id": "4c58a328-813f-49a5-b3f1-a6847d769cb5",
   "metadata": {},
   "outputs": [],
   "source": [
    "h_o = np.array([0,0,1,4])\n",
    "h_s = np.array([0,2,5])\n",
    "\n",
    "def B(j, h, h_o, h_s):\n",
    "    if h <= h_s[j-1]:\n",
    "        return 0\n",
    "    \n",
    "    elif h <= h_s[j]:\n",
    "        return np.log(h - h_o[j])# - np.log(h_s[j-1] - h_o[j]) #include these terms when i>1\n",
    "    \n",
    "    else:\n",
    "        return np.log(h_s[j] - h_o[j]) #- np.log(h_s[j-1] - h_o[j])\n"
   ]
  },
  {
   "cell_type": "code",
   "execution_count": 5,
   "id": "f6d64d37-1767-4477-9586-fa9384170539",
   "metadata": {},
   "outputs": [
    {
     "data": {
      "text/plain": [
       "0.0"
      ]
     },
     "execution_count": 5,
     "metadata": {},
     "output_type": "execute_result"
    }
   ],
   "source": [
    "B(1,1,h_o, h_s)"
   ]
  },
  {
   "cell_type": "code",
   "execution_count": 6,
   "id": "d829217c-a8bf-4665-a293-3a562c7e4304",
   "metadata": {},
   "outputs": [],
   "source": [
    "h_o = np.array([0,0,1,4])\n",
    "h_s = np.array([0,2,5, np.inf])\n",
    "lo = np.zeros(3)\n",
    "\n",
    "\n",
    "lo[0] = np.NINF\n",
    "\n",
    "#np.clip?"
   ]
  },
  {
   "cell_type": "code",
   "execution_count": 7,
   "id": "45bdc3a2-a9eb-4dac-86b7-4fcf661b3b2e",
   "metadata": {},
   "outputs": [
    {
     "data": {
      "text/plain": [
       "<AxesSubplot:xlabel='stage', ylabel='q'>"
      ]
     },
     "execution_count": 7,
     "metadata": {},
     "output_type": "execute_result"
    },
    {
     "data": {
      "image/png": "[encoded data removed]",
      "text/plain": [
       "<Figure size 432x288 with 1 Axes>"
      ]
     },
     "metadata": {
      "needs_background": "light"
     },
     "output_type": "display_data"
    }
   ],
   "source": [
    "x = np.linspace(0.1,9)\n",
    "import matplotlib.pyplot as plt\n",
    "\n",
    "h_o = np.array([0,0,2.5,5])\n",
    "h_s = np.array([0,3.5,6, np.inf])\n",
    "\n",
    "\n",
    "y1 = np.array([B(1, i, h_o, h_s) for i in x])\n",
    "y2 = np.array([B(2, i, h_o, h_s) for i in x])\n",
    "y3 = np.array([B(3, i, h_o, h_s) for i in x])\n",
    "\n",
    "fig, ax = plt.subplots()\n",
    "ax.scatter(x,  np.exp(2+ 3*y1 + 1.3*y2 + 1*y3))\n",
    "\n",
    "df.plot.scatter(\"stage\",\"q\", ax=ax, color='red')\n",
    "#ax.scatter(x,y2)\n",
    "#ax.scatter(x,y3)\n",
    "#ax.set_ylim((-2,2))"
   ]
  },
  {
   "cell_type": "code",
   "execution_count": 8,
   "id": "975fa7f9-98a3-4d4d-a029-f8e6600fb77e",
   "metadata": {},
   "outputs": [
    {
     "name": "stderr",
     "output_type": "stream",
     "text": [
      "WARNING (aesara.tensor.blas): Using NumPy C-API based implementation for BLAS functions.\n"
     ]
    }
   ],
   "source": [
    "import aesara.tensor as at\n",
    "import numpy as np\n",
    "from aesara import function\n",
    "\n",
    "m = 3\n",
    "lo = np.zeros(m)\n",
    "lo[0] = np.NINF"
   ]
  },
  {
   "cell_type": "code",
   "execution_count": 9,
   "id": "a6c3bc89-eca0-4aa1-b255-51036744b49f",
   "metadata": {},
   "outputs": [
    {
     "data": {
      "text/plain": [
       "(50, 1)"
      ]
     },
     "execution_count": 9,
     "metadata": {},
     "output_type": "execute_result"
    }
   ],
   "source": [
    "h = np.linspace(0.1,10).reshape(-1,1)\n",
    "h.shape"
   ]
  },
  {
   "cell_type": "code",
   "execution_count": 10,
   "id": "219434b0-f3a6-4b40-9262-852fec8c66c9",
   "metadata": {},
   "outputs": [
    {
     "name": "stderr",
     "output_type": "stream",
     "text": [
      "/home/thodson/.local/miniconda3/envs/pymc/lib/python3.7/site-packages/ipykernel_launcher.py:8: RuntimeWarning: invalid value encountered in log\n",
      "  \n"
     ]
    },
    {
     "data": {
      "text/plain": [
       "<matplotlib.collections.PathCollection at 0x2aab16a58d10>"
      ]
     },
     "execution_count": 10,
     "metadata": {},
     "output_type": "execute_result"
    },
    {
     "data": {
      "image/png": "[encoded data removed]",
      "text/plain": [
       "<Figure size 432x288 with 1 Axes>"
      ]
     },
     "metadata": {
      "needs_background": "light"
     },
     "output_type": "display_data"
    }
   ],
   "source": [
    "# XXX WORKING  SWITCH\n",
    "a = 3\n",
    "w = np.array([1,1,1])\n",
    "h = np.linspace(0.1,10).reshape(-1,1)\n",
    "h0 = np.array([[0,0,1,4]]).reshape(1,-1)\n",
    "hs = np.array([0,2,5, np.inf]).reshape(1,-1)\n",
    "\n",
    "bo = np.where( np.less_equal(h, hs[:,:-1]), 0, np.log(h-h0[:,1:]))\n",
    "b1 = np.where( np.less_equal(h, hs[:,1:]), bo, np.log(hs[:,1:]-h0[:,1:]))\n",
    "#b1\n",
    "\n",
    "\n",
    "y = np.exp(a + np.dot(b1,w))\n",
    "import matplotlib.pyplot as plt\n",
    "plt.scatter(h,y)\n"
   ]
  },
  {
   "cell_type": "code",
   "execution_count": 11,
   "id": "1cca671c-8207-4d97-9788-840e1e716e8f",
   "metadata": {},
   "outputs": [
    {
     "name": "stderr",
     "output_type": "stream",
     "text": [
      "/home/thodson/.local/miniconda3/envs/pymc/lib/python3.7/site-packages/ipykernel_launcher.py:8: RuntimeWarning: invalid value encountered in log\n",
      "  \n"
     ]
    },
    {
     "data": {
      "text/plain": [
       "<matplotlib.collections.PathCollection at 0x2aab16a58110>"
      ]
     },
     "execution_count": 11,
     "metadata": {},
     "output_type": "execute_result"
    },
    {
     "data": {
      "image/png": "[encoded data removed]",
      "text/plain": [
       "<Figure size 432x288 with 1 Axes>"
      ]
     },
     "metadata": {
      "needs_background": "light"
     },
     "output_type": "display_data"
    }
   ],
   "source": [
    "# XXX WORKING  SWITCH\n",
    "a = 3\n",
    "w = np.array([1,1,1])\n",
    "h = np.linspace(0.1,10).reshape(-1,1)\n",
    "h0 = np.array([[0,0,1,4]]).reshape(1,-1)\n",
    "hs = np.array([0,2,5, np.inf]).reshape(1,-1)\n",
    "\n",
    "bo = np.where( np.less_equal(h, hs[:,:-1]), 0, np.log(h-h0[:,1:]))\n",
    "b1 = np.where( np.less_equal(h, hs[:,1:]), bo, np.log(hs[:,1:]-h0[:,1:]))\n",
    "#b1\n",
    "\n",
    "\n",
    "y = np.exp(a + np.dot(b1,w))\n",
    "import matplotlib.pyplot as plt\n",
    "plt.scatter(h,y)"
   ]
  },
  {
   "cell_type": "code",
   "execution_count": 12,
   "id": "baadd5ff-3496-426f-9b4e-f27c7889b54a",
   "metadata": {},
   "outputs": [],
   "source": [
    "# develop Basis function XXX swith\n",
    "#theano.config.compute_test_value ='ignore'\n",
    "import aesara.tensor as at\n",
    "import aesara\n",
    "#import theano\n",
    "import numpy as np\n",
    "a = 3\n",
    "w = np.array([3,1.3,1])\n",
    "#h = np.linspace(0.1,10).reshape(-1,1)\n",
    "h0 = np.array([[0,0,1,4]]).reshape(1,-1)\n",
    "hs = np.array([0,2,5, np.inf]).reshape(1,-1)\n",
    "#h = at.dvector('h', shape=(50,1))\n",
    "h = at.dcol('h')\n",
    "\n",
    "bo = at.switch( at.le(h, hs[:,:-1]), 0, at.log(h-h0[:,1:]))\n",
    "b1 = at.switch( at.le(h, hs[:,1:]), bo, at.log(hs[:,1:]-h0[:,1:]))\n",
    "\n",
    "#Bo = at.switch( at.le(h, hs), 0, at.log(h - h0) )\n",
    "#B = at.switch( at.gt(h, hs), Bo, at.log(hs - h0) )\n",
    "\n",
    "B = aesara.function([h], b1)"
   ]
  },
  {
   "cell_type": "code",
   "execution_count": 13,
   "id": "e3ce43d0-354f-43a2-982f-cd1c9c374a43",
   "metadata": {},
   "outputs": [
    {
     "data": {
      "text/plain": [
       "<matplotlib.collections.PathCollection at 0x2aab18b8ee90>"
      ]
     },
     "execution_count": 13,
     "metadata": {},
     "output_type": "execute_result"
    },
    {
     "data": {
      "image/png": "[encoded data removed]",
      "text/plain": [
       "<Figure size 432x288 with 1 Axes>"
      ]
     },
     "metadata": {
      "needs_background": "light"
     },
     "output_type": "display_data"
    }
   ],
   "source": [
    "s = np.linspace(0.1,10).reshape(-1,1)\n",
    "b = B(s)\n",
    "a = 3\n",
    "w = np.array([3,1.3,1])#.reshape(-1,1)\n",
    "\n",
    "y = np.exp(a + np.dot(b,w.T))\n",
    "x = np.linspace(0.1,10).reshape(-1,1)\n",
    "import matplotlib.pyplot as plt\n",
    "plt.scatter(x,y)"
   ]
  },
  {
   "cell_type": "code",
   "execution_count": 14,
   "id": "09191449-eba0-41d0-8876-bd1681c2a117",
   "metadata": {},
   "outputs": [],
   "source": [
    "# develop Basis function XXX swith\n",
    "#theano.config.compute_test_value ='ignore'\n",
    "import aesara.tensor as at\n",
    "import aesara\n",
    "#import theano\n",
    "import numpy as np\n",
    "a = 3\n",
    "w = np.array([3,1.3,1])\n",
    "#h = np.linspace(0.1,10).reshape(-1,1)\n",
    "h0 = np.array([[0,0,1,4]]).reshape(1,-1)\n",
    "hs = np.array([0,2,5, np.inf]).reshape(1,-1)\n",
    "#h = at.dvector('h', shape=(50,1))\n",
    "h = at.dcol('h')\n",
    "\n",
    "bo = at.switch( at.le(h, hs[:,:-1]), 0, at.log(h-h0[:,1:]))\n",
    "b1 = at.switch( at.le(h, hs[:,1:]), bo, at.log(hs[:,1:]-h0[:,1:]))\n",
    "\n",
    "#Bo = at.switch( at.le(h, hs), 0, at.log(h - h0) )\n",
    "#B = at.switch( at.gt(h, hs), Bo, at.log(hs - h0) )\n",
    "\n",
    "B = aesara.function([h], b1)"
   ]
  },
  {
   "cell_type": "code",
   "execution_count": 16,
   "id": "de7e42d4-a28e-4bc5-8dd4-b086431fc4b0",
   "metadata": {},
   "outputs": [
    {
     "data": {
      "text/plain": [
       "array([[-2.30258509,  0.        ,  0.        ],\n",
       "       [-1.19719312,  0.        ,  0.        ],\n",
       "       [-0.68501705,  0.        ,  0.        ],\n",
       "       [-0.34796662,  0.        ,  0.        ],\n",
       "       [-0.09633111,  0.        ,  0.        ],\n",
       "       [ 0.10454386,  0.        ,  0.        ],\n",
       "       [ 0.27173933,  0.        ,  0.        ],\n",
       "       [ 0.41494385,  0.        ,  0.        ],\n",
       "       [ 0.54018627,  0.        ,  0.        ],\n",
       "       [ 0.65147448,  0.        ,  0.        ],\n",
       "       [ 0.69314718,  0.11369305,  0.        ],\n",
       "       [ 0.69314718,  0.27948531,  0.        ],\n",
       "       [ 0.69314718,  0.42165979,  0.        ],\n",
       "       [ 0.69314718,  0.54611397,  0.        ],\n",
       "       [ 0.69314718,  0.65677954,  0.        ],\n",
       "       [ 0.69314718,  0.75640938,  0.        ],\n",
       "       [ 0.69314718,  0.84700627,  0.        ],\n",
       "       [ 0.69314718,  0.93007287,  0.        ],\n",
       "       [ 0.69314718,  1.00676549,  0.        ],\n",
       "       [ 0.69314718,  1.077993  ,  0.        ],\n",
       "       [ 0.69314718,  1.14448274,  0.        ],\n",
       "       [ 0.69314718,  1.20682587,  0.        ],\n",
       "       [ 0.69314718,  1.26550938,  0.        ],\n",
       "       [ 0.69314718,  1.32093918,  0.        ],\n",
       "       [ 0.69314718,  1.37345721,  0.        ],\n",
       "       [ 0.69314718,  1.38629436,  0.14064886],\n",
       "       [ 0.69314718,  1.38629436,  0.3023696 ],\n",
       "       [ 0.69314718,  1.38629436,  0.44154116],\n",
       "       [ 0.69314718,  1.38629436,  0.56368911],\n",
       "       [ 0.69314718,  1.38629436,  0.67252789],\n",
       "       [ 0.69314718,  1.38629436,  0.77067495],\n",
       "       [ 0.69314718,  1.38629436,  0.86004427],\n",
       "       [ 0.69314718,  1.38629436,  0.94207782],\n",
       "       [ 0.69314718,  1.38629436,  1.01788908],\n",
       "       [ 0.69314718,  1.38629436,  1.08835579],\n",
       "       [ 0.69314718,  1.38629436,  1.15418214],\n",
       "       [ 0.69314718,  1.38629436,  1.21594171],\n",
       "       [ 0.69314718,  1.38629436,  1.27410788],\n",
       "       [ 0.69314718,  1.38629436,  1.32907592],\n",
       "       [ 0.69314718,  1.38629436,  1.38117926],\n",
       "       [ 0.69314718,  1.38629436,  1.43070176],\n",
       "       [ 0.69314718,  1.38629436,  1.47788706],\n",
       "       [ 0.69314718,  1.38629436,  1.52294588],\n",
       "       [ 0.69314718,  1.38629436,  1.56606164],\n",
       "       [ 0.69314718,  1.38629436,  1.60739501],\n",
       "       [ 0.69314718,  1.38629436,  1.64708753],\n",
       "       [ 0.69314718,  1.38629436,  1.68526452],\n",
       "       [ 0.69314718,  1.38629436,  1.72203747],\n",
       "       [ 0.69314718,  1.38629436,  1.75750599],\n",
       "       [ 0.69314718,  1.38629436,  1.79175947]])"
      ]
     },
     "execution_count": 16,
     "metadata": {},
     "output_type": "execute_result"
    }
   ],
   "source": [
    "B(s)"
   ]
  },
  {
   "cell_type": "code",
   "execution_count": 17,
   "id": "11f87ca1-cbcb-49e4-bc8d-1e386bd630cc",
   "metadata": {},
   "outputs": [],
   "source": [
    "#B(s)"
   ]
  },
  {
   "cell_type": "code",
   "execution_count": 18,
   "id": "30bad5d3-1dca-430b-ba7c-c7d83d3728c8",
   "metadata": {},
   "outputs": [
    {
     "data": {
      "text/plain": [
       "Shape.0"
      ]
     },
     "execution_count": 18,
     "metadata": {},
     "output_type": "execute_result"
    }
   ],
   "source": [
    "b1.shape"
   ]
  },
  {
   "cell_type": "code",
   "execution_count": 19,
   "id": "5ad69aa6-30f6-4bc6-b124-b5575c898987",
   "metadata": {},
   "outputs": [
    {
     "name": "stderr",
     "output_type": "stream",
     "text": [
      "/home/thodson/.local/miniconda3/envs/pymc/lib/python3.7/site-packages/numpy/core/_methods.py:48: RuntimeWarning: invalid value encountered in reduce\n",
      "  return umr_sum(a, axis, dtype, out, keepdims, initial, where)\n"
     ]
    }
   ],
   "source": [
    "# develop Basis function XXX swith\n",
    "import numpy as np\n",
    "h0 = np.array([0,0,1,4])\n",
    "hs = np.array([0,2,5, np.inf])\n",
    "#h = at.dvector('h')\n",
    "\n",
    "Bo = at.switch( at.le(h, hs), 0, at.log(h - h0) )\n",
    "B = at.switch( at.gt(h, hs), Bo, at.log(hs - h0) )\n",
    "\n",
    "basis = aesara.function([h], B)"
   ]
  },
  {
   "cell_type": "code",
   "execution_count": 20,
   "id": "e3ac90ec-266a-49e4-a53a-37c0dd70b8d3",
   "metadata": {},
   "outputs": [],
   "source": [
    "# develop Basis function with clip"
   ]
  },
  {
   "cell_type": "code",
   "execution_count": 21,
   "id": "b33b06b5-b91b-4905-b080-1cb72fa9145a",
   "metadata": {},
   "outputs": [],
   "source": [
    "%load_ext autoreload\n",
    "%autoreload 2"
   ]
  },
  {
   "cell_type": "code",
   "execution_count": 22,
   "id": "f82f1232-7515-4fdc-9aa3-fff32d632cf2",
   "metadata": {},
   "outputs": [
    {
     "ename": "ModuleNotFoundError",
     "evalue": "No module named 'ratingcurve'",
     "output_type": "error",
     "traceback": [
      "\u001b[0;31m---------------------------------------------------------------------------\u001b[0m",
      "\u001b[0;31mModuleNotFoundError\u001b[0m                       Traceback (most recent call last)",
      "\u001b[0;32m/tmp/ipykernel_372800/2305117026.py\u001b[0m in \u001b[0;36m<module>\u001b[0;34m\u001b[0m\n\u001b[1;32m      1\u001b[0m \u001b[0;32mimport\u001b[0m \u001b[0marviz\u001b[0m \u001b[0;32mas\u001b[0m \u001b[0maz\u001b[0m\u001b[0;34m\u001b[0m\u001b[0;34m\u001b[0m\u001b[0m\n\u001b[0;32m----> 2\u001b[0;31m \u001b[0;32mfrom\u001b[0m \u001b[0mratingcurve\u001b[0m\u001b[0;34m.\u001b[0m\u001b[0mratingmodel\u001b[0m \u001b[0;32mimport\u001b[0m \u001b[0mSegmentRatingModelOLD\u001b[0m\u001b[0;34m,\u001b[0m \u001b[0mSegmentRatingModel\u001b[0m\u001b[0;34m\u001b[0m\u001b[0;34m\u001b[0m\u001b[0m\n\u001b[0m\u001b[1;32m      3\u001b[0m \u001b[0;32mimport\u001b[0m \u001b[0mpymc\u001b[0m \u001b[0;32mas\u001b[0m \u001b[0mpm\u001b[0m\u001b[0;34m\u001b[0m\u001b[0;34m\u001b[0m\u001b[0m\n\u001b[1;32m      4\u001b[0m \u001b[0;32mfrom\u001b[0m \u001b[0mpymc\u001b[0m \u001b[0;32mimport\u001b[0m \u001b[0mModel\u001b[0m\u001b[0;34m\u001b[0m\u001b[0;34m\u001b[0m\u001b[0m\n",
      "\u001b[0;31mModuleNotFoundError\u001b[0m: No module named 'ratingcurve'"
     ]
    }
   ],
   "source": [
    "import arviz as az\n",
    "from ratingcurve.ratingmodel import SegmentRatingModelOLD, SegmentRatingModel\n",
    "import pymc as pm\n",
    "from pymc import Model"
   ]
  },
  {
   "cell_type": "code",
   "execution_count": 23,
   "id": "8a3ef7dc-7d18-4c44-b037-b7a435ab6424",
   "metadata": {},
   "outputs": [],
   "source": [
    "#import theano.tensor as tt"
   ]
  },
  {
   "cell_type": "code",
   "execution_count": 24,
   "id": "09127c70-5a48-4989-ae6f-44a2309bf85e",
   "metadata": {},
   "outputs": [],
   "source": [
    "#with Model() as model:\n",
    "    \n",
    "#    hs = pm.Normal('test',mu=1, sd=1, shape=2)\n",
    "    #hs = at.stack([at.as_tensor_variable(h_s_prior)])"
   ]
  },
  {
   "cell_type": "code",
   "execution_count": 25,
   "id": "2c46dd55-7886-4c17-afcf-1f6ab5998182",
   "metadata": {},
   "outputs": [],
   "source": [
    "#mu = np.array([0.0,2.0,5.0,200.0]).reshape(-1,1)\n",
    "#sig = np.array([1.0,1.0,1.0,0.1]).reshape(-1,1)\n",
    "\n",
    "#test = pm.Normal.dist(mu=mu, sigma=sig)"
   ]
  },
  {
   "cell_type": "code",
   "execution_count": 26,
   "id": "d5acab20-5d53-4fdf-a24d-f822630d88e5",
   "metadata": {},
   "outputs": [
    {
     "data": {
      "text/plain": [
       "<AxesSubplot:xlabel='stage', ylabel='q'>"
      ]
     },
     "execution_count": 26,
     "metadata": {},
     "output_type": "execute_result"
    },
    {
     "data": {
      "image/png": "[encoded data removed]",
      "text/plain": [
       "<Figure size 432x288 with 1 Axes>"
      ]
     },
     "metadata": {
      "needs_background": "light"
     },
     "output_type": "display_data"
    }
   ],
   "source": [
    "import pandas as pd\n",
    "import numpy as np\n",
    "\n",
    "df = pd.read_csv('../data/provo_natural.csv')\n",
    "df['log_q'] = np.log(df['q'])\n",
    "df['log_s'] = np.log(df['stage'])\n",
    "\n",
    "df.plot.scatter(\"stage\",\"q\")"
   ]
  },
  {
   "cell_type": "code",
   "execution_count": 27,
   "id": "6d36dfbd-e600-438c-881c-61c726cd6c4d",
   "metadata": {},
   "outputs": [],
   "source": [
    "#import theano.tensor as at\n",
    "#test = pm.Normal.dist( mu=0, sigma=1)\n",
    "##at.stack([test,0.0])\n",
    "#pm.math.concatenate([test, 0.0], axis=0)"
   ]
  },
  {
   "cell_type": "code",
   "execution_count": 28,
   "id": "99a08168-22bc-45d8-a3ea-76b13844363c",
   "metadata": {},
   "outputs": [
    {
     "ename": "NameError",
     "evalue": "name 'SegmentRatingModelOLD' is not defined",
     "output_type": "error",
     "traceback": [
      "\u001b[0;31m---------------------------------------------------------------------------\u001b[0m",
      "\u001b[0;31mNameError\u001b[0m                                 Traceback (most recent call last)",
      "\u001b[0;32m/tmp/ipykernel_372800/4077530444.py\u001b[0m in \u001b[0;36m<module>\u001b[0;34m\u001b[0m\n\u001b[0;32m----> 1\u001b[0;31m test = SegmentRatingModelOLD(df['q'].values.reshape(1,-1),\n\u001b[0m\u001b[1;32m      2\u001b[0m                           \u001b[0mdf\u001b[0m\u001b[0;34m[\u001b[0m\u001b[0;34m'stage'\u001b[0m\u001b[0;34m]\u001b[0m\u001b[0;34m.\u001b[0m\u001b[0mvalues\u001b[0m\u001b[0;34m.\u001b[0m\u001b[0mreshape\u001b[0m\u001b[0;34m(\u001b[0m\u001b[0;36m1\u001b[0m\u001b[0;34m,\u001b[0m\u001b[0;34m-\u001b[0m\u001b[0;36m1\u001b[0m\u001b[0;34m)\u001b[0m\u001b[0;34m,\u001b[0m\u001b[0;34m\u001b[0m\u001b[0;34m\u001b[0m\u001b[0m\n\u001b[1;32m      3\u001b[0m                           \u001b[0mbreaks\u001b[0m\u001b[0;34m=\u001b[0m\u001b[0mnp\u001b[0m\u001b[0;34m.\u001b[0m\u001b[0marray\u001b[0m\u001b[0;34m(\u001b[0m\u001b[0;34m[\u001b[0m\u001b[0;36m0.0\u001b[0m\u001b[0;34m,\u001b[0m\u001b[0;36m2.0\u001b[0m\u001b[0;34m,\u001b[0m\u001b[0;36m5.0\u001b[0m\u001b[0;34m]\u001b[0m\u001b[0;34m)\u001b[0m\u001b[0;34m,\u001b[0m\u001b[0;34m\u001b[0m\u001b[0;34m\u001b[0m\u001b[0m\n\u001b[1;32m      4\u001b[0m                           breaks_sigma=np.array([1.0,1.0,1.0]))\n",
      "\u001b[0;31mNameError\u001b[0m: name 'SegmentRatingModelOLD' is not defined"
     ]
    }
   ],
   "source": [
    "test = SegmentRatingModelOLD(df['q'].values.reshape(1,-1),\n",
    "                          df['stage'].values.reshape(1,-1),\n",
    "                          breaks=np.array([0.0,2.0,5.0]),\n",
    "                          breaks_sigma=np.array([1.0,1.0,1.0]))"
   ]
  },
  {
   "cell_type": "code",
   "execution_count": 29,
   "id": "406885e8-68a5-4a66-8c3a-d13704ffd268",
   "metadata": {},
   "outputs": [
    {
     "ename": "NameError",
     "evalue": "name 'SegmentRatingModel' is not defined",
     "output_type": "error",
     "traceback": [
      "\u001b[0;31m---------------------------------------------------------------------------\u001b[0m",
      "\u001b[0;31mNameError\u001b[0m                                 Traceback (most recent call last)",
      "\u001b[0;32m/tmp/ipykernel_372800/425616552.py\u001b[0m in \u001b[0;36m<module>\u001b[0;34m\u001b[0m\n\u001b[0;32m----> 1\u001b[0;31m test = SegmentRatingModel(df['q'],\n\u001b[0m\u001b[1;32m      2\u001b[0m                           \u001b[0mdf\u001b[0m\u001b[0;34m[\u001b[0m\u001b[0;34m'stage'\u001b[0m\u001b[0;34m]\u001b[0m\u001b[0;34m,\u001b[0m\u001b[0;34m\u001b[0m\u001b[0;34m\u001b[0m\u001b[0m\n\u001b[1;32m      3\u001b[0m                           \u001b[0mbreaks\u001b[0m\u001b[0;34m=\u001b[0m\u001b[0mnp\u001b[0m\u001b[0;34m.\u001b[0m\u001b[0marray\u001b[0m\u001b[0;34m(\u001b[0m\u001b[0;34m[\u001b[0m\u001b[0;36m0.0\u001b[0m\u001b[0;34m,\u001b[0m\u001b[0;36m2.0\u001b[0m\u001b[0;34m,\u001b[0m\u001b[0;36m5.0\u001b[0m\u001b[0;34m]\u001b[0m\u001b[0;34m)\u001b[0m\u001b[0;34m,\u001b[0m\u001b[0;34m\u001b[0m\u001b[0;34m\u001b[0m\u001b[0m\n\u001b[1;32m      4\u001b[0m                           breaks_sigma=np.array([1.0,1.0,1.0]))\n",
      "\u001b[0;31mNameError\u001b[0m: name 'SegmentRatingModel' is not defined"
     ]
    }
   ],
   "source": [
    "test = SegmentRatingModel(df['q'],\n",
    "                          df['stage'],\n",
    "                          breaks=np.array([0.0,2.0,5.0]),\n",
    "                          breaks_sigma=np.array([1.0,1.0,1.0]))\n"
   ]
  },
  {
   "cell_type": "code",
   "execution_count": 30,
   "id": "5c7e91d1-4cfc-49c0-9fe1-a935163d93cd",
   "metadata": {},
   "outputs": [
    {
     "data": {
      "text/plain": [
       "(50, 1)"
      ]
     },
     "execution_count": 30,
     "metadata": {},
     "output_type": "execute_result"
    }
   ],
   "source": [
    "h = np.linspace(0.1,10).reshape(-1,1)\n",
    "h.shape"
   ]
  },
  {
   "cell_type": "code",
   "execution_count": 31,
   "id": "57ea8121-ae8c-43b8-a1c0-343a703d089b",
   "metadata": {},
   "outputs": [
    {
     "data": {
      "text/plain": [
       "(22,)"
      ]
     },
     "execution_count": 31,
     "metadata": {},
     "output_type": "execute_result"
    }
   ],
   "source": [
    "df['stage'].values.shape"
   ]
  },
  {
   "cell_type": "code",
   "execution_count": 32,
   "id": "01b442bc-93c4-47d2-bfaa-0a8496090f6e",
   "metadata": {},
   "outputs": [
    {
     "ename": "ValueError",
     "evalue": "all the input arrays must have same number of dimensions, but the array at index 0 has 2 dimension(s) and the array at index 1 has 1 dimension(s)",
     "output_type": "error",
     "traceback": [
      "\u001b[0;31m---------------------------------------------------------------------------\u001b[0m",
      "\u001b[0;31mValueError\u001b[0m                                Traceback (most recent call last)",
      "\u001b[0;32m/tmp/ipykernel_372800/4083509140.py\u001b[0m in \u001b[0;36m<module>\u001b[0;34m\u001b[0m\n\u001b[0;32m----> 1\u001b[0;31m \u001b[0my\u001b[0m \u001b[0;34m=\u001b[0m \u001b[0mnp\u001b[0m\u001b[0;34m.\u001b[0m\u001b[0mconcatenate\u001b[0m\u001b[0;34m(\u001b[0m\u001b[0;34m[\u001b[0m\u001b[0mx\u001b[0m\u001b[0;34m,\u001b[0m\u001b[0;34m[\u001b[0m\u001b[0;36m0.0\u001b[0m\u001b[0;34m]\u001b[0m\u001b[0;34m]\u001b[0m\u001b[0;34m)\u001b[0m\u001b[0;34m\u001b[0m\u001b[0;34m\u001b[0m\u001b[0m\n\u001b[0m",
      "\u001b[0;32m<__array_function__ internals>\u001b[0m in \u001b[0;36mconcatenate\u001b[0;34m(*args, **kwargs)\u001b[0m\n",
      "\u001b[0;31mValueError\u001b[0m: all the input arrays must have same number of dimensions, but the array at index 0 has 2 dimension(s) and the array at index 1 has 1 dimension(s)"
     ]
    }
   ],
   "source": [
    "y = np.concatenate([x,[0.0]])"
   ]
  },
  {
   "cell_type": "code",
   "execution_count": 33,
   "id": "050d0886-a597-4248-8b65-3fd2235d9e69",
   "metadata": {},
   "outputs": [
    {
     "ename": "AttributeError",
     "evalue": "'numpy.ndarray' object has no attribute 'append'",
     "output_type": "error",
     "traceback": [
      "\u001b[0;31m---------------------------------------------------------------------------\u001b[0m",
      "\u001b[0;31mAttributeError\u001b[0m                            Traceback (most recent call last)",
      "\u001b[0;32m/tmp/ipykernel_372800/1282861782.py\u001b[0m in \u001b[0;36m<module>\u001b[0;34m\u001b[0m\n\u001b[0;32m----> 1\u001b[0;31m \u001b[0mx\u001b[0m\u001b[0;34m.\u001b[0m\u001b[0mappend\u001b[0m\u001b[0;34m(\u001b[0m\u001b[0;36m1.2\u001b[0m\u001b[0;34m)\u001b[0m\u001b[0;34m\u001b[0m\u001b[0;34m\u001b[0m\u001b[0m\n\u001b[0m",
      "\u001b[0;31mAttributeError\u001b[0m: 'numpy.ndarray' object has no attribute 'append'"
     ]
    }
   ],
   "source": [
    "x.append(1.2)"
   ]
  },
  {
   "cell_type": "code",
   "execution_count": 34,
   "id": "b2423e63-a725-4073-aaad-63e19123b5f6",
   "metadata": {},
   "outputs": [
    {
     "ename": "NameError",
     "evalue": "name 'pm' is not defined",
     "output_type": "error",
     "traceback": [
      "\u001b[0;31m---------------------------------------------------------------------------\u001b[0m",
      "\u001b[0;31mNameError\u001b[0m                                 Traceback (most recent call last)",
      "\u001b[0;32m/tmp/ipykernel_372800/1816521663.py\u001b[0m in \u001b[0;36m<module>\u001b[0;34m\u001b[0m\n\u001b[0;32m----> 1\u001b[0;31m \u001b[0mt\u001b[0m \u001b[0;34m=\u001b[0m \u001b[0mpm\u001b[0m\u001b[0;34m.\u001b[0m\u001b[0mNormal\u001b[0m\u001b[0;34m.\u001b[0m\u001b[0mdist\u001b[0m\u001b[0;34m(\u001b[0m\u001b[0mmu\u001b[0m\u001b[0;34m=\u001b[0m\u001b[0mnp\u001b[0m\u001b[0;34m.\u001b[0m\u001b[0marray\u001b[0m\u001b[0;34m(\u001b[0m\u001b[0;34m[\u001b[0m\u001b[0;36m1\u001b[0m\u001b[0;34m,\u001b[0m\u001b[0;36m2\u001b[0m\u001b[0;34m]\u001b[0m\u001b[0;34m)\u001b[0m\u001b[0;34m.\u001b[0m\u001b[0mreshape\u001b[0m\u001b[0;34m(\u001b[0m\u001b[0;34m-\u001b[0m\u001b[0;36m1\u001b[0m\u001b[0;34m,\u001b[0m\u001b[0;36m1\u001b[0m\u001b[0;34m)\u001b[0m\u001b[0;34m,\u001b[0m \u001b[0msigma\u001b[0m\u001b[0;34m=\u001b[0m\u001b[0mnp\u001b[0m\u001b[0;34m.\u001b[0m\u001b[0marray\u001b[0m\u001b[0;34m(\u001b[0m\u001b[0;34m[\u001b[0m\u001b[0;36m1\u001b[0m\u001b[0;34m,\u001b[0m\u001b[0;36m2\u001b[0m\u001b[0;34m]\u001b[0m\u001b[0;34m)\u001b[0m\u001b[0;34m.\u001b[0m\u001b[0mreshape\u001b[0m\u001b[0;34m(\u001b[0m\u001b[0;34m-\u001b[0m\u001b[0;36m1\u001b[0m\u001b[0;34m,\u001b[0m\u001b[0;36m1\u001b[0m\u001b[0;34m)\u001b[0m\u001b[0;34m)\u001b[0m\u001b[0;34m\u001b[0m\u001b[0;34m\u001b[0m\u001b[0m\n\u001b[0m",
      "\u001b[0;31mNameError\u001b[0m: name 'pm' is not defined"
     ]
    }
   ],
   "source": [
    "t = pm.Normal.dist(mu=np.array([1,2]).reshape(-1,1), sigma=np.array([1,2]).reshape(-1,1))"
   ]
  },
  {
   "cell_type": "code",
   "execution_count": null,
   "id": "d43e553e-a2b5-4be5-a8b6-c1a460636286",
   "metadata": {},
   "outputs": [],
   "source": []
  },
  {
   "cell_type": "code",
   "execution_count": 35,
   "id": "252b9e0b-ad82-40e0-a078-5a72c30d5c9a",
   "metadata": {},
   "outputs": [
    {
     "ename": "NameError",
     "evalue": "name 'pm' is not defined",
     "output_type": "error",
     "traceback": [
      "\u001b[0;31m---------------------------------------------------------------------------\u001b[0m",
      "\u001b[0;31mNameError\u001b[0m                                 Traceback (most recent call last)",
      "\u001b[0;32m/tmp/ipykernel_372800/836862326.py\u001b[0m in \u001b[0;36m<module>\u001b[0;34m\u001b[0m\n\u001b[0;32m----> 1\u001b[0;31m \u001b[0mt\u001b[0m \u001b[0;34m=\u001b[0m \u001b[0mpm\u001b[0m\u001b[0;34m.\u001b[0m\u001b[0mNormal\u001b[0m\u001b[0;34m.\u001b[0m\u001b[0mdist\u001b[0m\u001b[0;34m\u001b[0m\u001b[0;34m\u001b[0m\u001b[0m\n\u001b[0m",
      "\u001b[0;31mNameError\u001b[0m: name 'pm' is not defined"
     ]
    }
   ],
   "source": [
    "t = pm.Normal.dist"
   ]
  },
  {
   "cell_type": "code",
   "execution_count": 36,
   "id": "854a06c2-2d59-4ece-95c9-bcf5101683bd",
   "metadata": {},
   "outputs": [
    {
     "ename": "NameError",
     "evalue": "name 'LogZTransform' is not defined",
     "output_type": "error",
     "traceback": [
      "\u001b[0;31m---------------------------------------------------------------------------\u001b[0m",
      "\u001b[0;31mNameError\u001b[0m                                 Traceback (most recent call last)",
      "\u001b[0;32m/tmp/ipykernel_372800/2919455671.py\u001b[0m in \u001b[0;36m<module>\u001b[0;34m\u001b[0m\n\u001b[1;32m      1\u001b[0m \u001b[0;31m######### SCRASTCH\u001b[0m\u001b[0;34m\u001b[0m\u001b[0;34m\u001b[0m\u001b[0;34m\u001b[0m\u001b[0m\n\u001b[1;32m      2\u001b[0m \u001b[0mq_obs\u001b[0m \u001b[0;34m=\u001b[0m \u001b[0mdf\u001b[0m\u001b[0;34m[\u001b[0m\u001b[0;34m'q'\u001b[0m\u001b[0;34m]\u001b[0m\u001b[0;34m\u001b[0m\u001b[0;34m\u001b[0m\u001b[0m\n\u001b[0;32m----> 3\u001b[0;31m \u001b[0mq_transform\u001b[0m \u001b[0;34m=\u001b[0m \u001b[0mLogZTransform\u001b[0m\u001b[0;34m(\u001b[0m\u001b[0mq_obs\u001b[0m\u001b[0;34m)\u001b[0m\u001b[0;34m\u001b[0m\u001b[0;34m\u001b[0m\u001b[0m\n\u001b[0m\u001b[1;32m      4\u001b[0m \u001b[0my\u001b[0m \u001b[0;34m=\u001b[0m \u001b[0mq_transform\u001b[0m\u001b[0;34m.\u001b[0m\u001b[0mtransform\u001b[0m\u001b[0;34m(\u001b[0m\u001b[0mq_obs\u001b[0m\u001b[0;34m)\u001b[0m\u001b[0;34m\u001b[0m\u001b[0;34m\u001b[0m\u001b[0m\n\u001b[1;32m      5\u001b[0m \u001b[0;34m\u001b[0m\u001b[0m\n",
      "\u001b[0;31mNameError\u001b[0m: name 'LogZTransform' is not defined"
     ]
    }
   ],
   "source": [
    "######### SCRASTCH\n",
    "q_obs = df['q']\n",
    "q_transform = LogZTransform(q_obs)\n",
    "y = q_transform.transform(q_obs)\n",
    "    \n",
    "h_obs = df['stage']"
   ]
  },
  {
   "cell_type": "code",
   "execution_count": 37,
   "id": "ad5d3582-32ef-493e-a1c7-7e5823bf8808",
   "metadata": {},
   "outputs": [],
   "source": [
    "# XXXXXXX TODO START HERE\n",
    "# develop Basis function XXX swith\n",
    "#theano.config.compute_test_value ='ignore'\n",
    "import aesara.tensor as at\n",
    "import aesara\n",
    "#import theano\n",
    "import numpy as np\n",
    "a = -1\n",
    "w = np.array([2.3,2.1,1.3])\n",
    "\n",
    "h0 = np.array([-3,1,4]).reshape(1,-1)\n",
    "hs = np.array([-3,2,5,np.inf]).reshape(1,-1)\n",
    "\n",
    "h = at.dcol('h')\n",
    "\n",
    "#bo = at.switch( at.le(h, hs[:,:-1]), 0, at.log(h-h0[:,1:]))\n",
    "#b1 = at.switch( at.le(h, hs[:,1:]), bo, at.log(hs[:,1:]-h0[:,1:]))\n",
    "b0 = at.switch( at.le(h, hs[:,:-1]), np.array([np.NINF,0,0]), at.log(h-h0))\n",
    "b1 = at.switch( at.le(h, hs[:,1:]), b0, at.log(hs[:,1:]-h0))\n",
    "B = aesara.function([h], b1)\n",
    "\n",
    "\n",
    "#q = at.switch( at.le(h, h0[0]), 0.0, at.exp(a + at.dot(B(h),w.T)) )\n",
    "#q = at.switch( at.le(h, h0[0]), 0.0, at.exp( at.dot(b1, w.T)) )\n",
    "#Q = aesara.function([h], q)\n",
    "\n",
    "                    \n",
    "#Bo = at.switch( at.le(h, hs), 0, at.log(h - h0) )\n",
    "#B = at.switch( at.gt(h, hs), Bo, at.log(hs - h0) )\n",
    "\n",
    "#B = aesara.function([h], b1)\n"
   ]
  },
  {
   "cell_type": "code",
   "execution_count": 38,
   "id": "9ee930b1-d933-4ccc-8eb8-b14dcd8ae82f",
   "metadata": {},
   "outputs": [
    {
     "data": {
      "text/plain": [
       "<matplotlib.collections.PathCollection at 0x2aab197a8950>"
      ]
     },
     "execution_count": 38,
     "metadata": {},
     "output_type": "execute_result"
    },
    {
     "data": {
      "image/png": "[encoded data removed]",
      "text/plain": [
       "<Figure size 432x288 with 1 Axes>"
      ]
     },
     "metadata": {
      "needs_background": "light"
     },
     "output_type": "display_data"
    }
   ],
   "source": [
    "s = np.linspace(0.1,10).reshape(-1,1)\n",
    "b = B(s)\n",
    "b\n",
    "#Q(s)\n",
    "#B(s)\n",
    "plt.scatter(s, at.exp(a + at.dot(b, w.T)).eval())"
   ]
  },
  {
   "cell_type": "code",
   "execution_count": 39,
   "id": "0cc38f58-f473-479b-be4e-52e6fe1e03af",
   "metadata": {},
   "outputs": [],
   "source": [
    "#test = at.grad(at.switch( at.le(h, hs[:,:-1]), np.array([np.NINF,0,0]), at.log(h-h0)), h)"
   ]
  },
  {
   "cell_type": "code",
   "execution_count": 40,
   "id": "dd415336-1bd4-41e2-b86b-d8970a49f1af",
   "metadata": {},
   "outputs": [
    {
     "data": {
      "text/plain": [
       "'((fill((x ** 2), 1.0) * 2) * (x ** (2 - 1)))'"
      ]
     },
     "execution_count": 40,
     "metadata": {},
     "output_type": "execute_result"
    }
   ],
   "source": [
    "import aesara.tensor as tt\n",
    "import aesara\n",
    "from aesara import pp\n",
    "x = tt.dscalar('x')\n",
    "y = x ** 2\n",
    "gy = tt.grad(y, x)\n",
    "pp(gy)  # print out the gradient prior to optimization"
   ]
  },
  {
   "cell_type": "code",
   "execution_count": 41,
   "id": "57bc3575-d7f6-4a31-9a50-c1fc94157f92",
   "metadata": {},
   "outputs": [
    {
     "data": {
      "text/plain": [
       "array([   4.96406448,    5.73991054,    6.58000484,    7.48550277,\n",
       "          8.45751398,    9.49710646,   10.60531023,   11.78312042,\n",
       "         13.03150001,   14.35138225,   18.92459889,   26.80601599,\n",
       "         36.13250104,   46.92480995,   59.20134286,   72.97864696,\n",
       "         88.27177179,  105.09452975,  123.45969323,  143.37914736,\n",
       "        164.864011  ,  187.92473418,  212.57117775,  238.81267948,\n",
       "        266.6581094 ,  328.90497375,  405.859011  ,  486.35016613,\n",
       "        570.04836281,  656.68970639,  746.05759163,  837.97050594,\n",
       "        932.27377326, 1028.83374939, 1127.53361198, 1228.27022658,\n",
       "       1330.95176182, 1435.49583978, 1541.82807772, 1649.88092156,\n",
       "       1759.59270075, 1870.90685376, 1983.77128677, 2098.13783796,\n",
       "       2213.96182594, 2331.20166651, 2449.81854492, 2569.77613393,\n",
       "       2691.04034969, 2813.57913945])"
      ]
     },
     "execution_count": 41,
     "metadata": {},
     "output_type": "execute_result"
    }
   ],
   "source": [
    "at.exp(a + at.dot(b, w.T)).eval()"
   ]
  },
  {
   "cell_type": "code",
   "execution_count": 42,
   "id": "04d9bcb3-dfa5-4904-89f1-aa25d6ef97d7",
   "metadata": {},
   "outputs": [
    {
     "data": {
      "text/plain": [
       "array([   4.96406448,    5.73991054,    6.58000484,    7.48550277,\n",
       "          8.45751398,    9.49710646,   10.60531023,   11.78312042,\n",
       "         13.03150001,   14.35138225,   18.92459889,   26.80601599,\n",
       "         36.13250104,   46.92480995,   59.20134286,   72.97864696,\n",
       "         88.27177179,  105.09452975,  123.45969323,  143.37914736,\n",
       "        164.864011  ,  187.92473418,  212.57117775,  238.81267948,\n",
       "        266.6581094 ,  328.90497375,  405.859011  ,  486.35016613,\n",
       "        570.04836281,  656.68970639,  746.05759163,  837.97050594,\n",
       "        932.27377326, 1028.83374939, 1127.53361198, 1228.27022658,\n",
       "       1330.95176182, 1435.49583978, 1541.82807772, 1649.88092156,\n",
       "       1759.59270075, 1870.90685376, 1983.77128677, 2098.13783796,\n",
       "       2213.96182594, 2331.20166651, 2449.81854492, 2569.77613393,\n",
       "       2691.04034969, 2813.57913945])"
      ]
     },
     "execution_count": 42,
     "metadata": {},
     "output_type": "execute_result"
    }
   ],
   "source": [
    "at.exp(a + at.dot(b, w.T)).eval()"
   ]
  },
  {
   "cell_type": "code",
   "execution_count": 43,
   "id": "f972651f-1c5f-4c72-98fb-4d4e34ce682d",
   "metadata": {},
   "outputs": [
    {
     "data": {
      "text/plain": [
       "array([2.60222486, 2.74744362, 2.88403548, 3.01296819, 3.13505527,\n",
       "       3.25098717, 3.36135484, 3.46666803, 3.5673695 , 3.66384626,\n",
       "       3.9404626 , 4.28862634, 4.58719277, 4.84854653, 5.08094423,\n",
       "       5.29016689, 5.48042037, 5.65486023, 5.81591473, 5.9654925 ,\n",
       "       6.10512096, 6.23604153, 6.35927689, 6.47567948, 6.58596735,\n",
       "       6.79576888, 7.00600584, 7.18692887, 7.3457212 , 7.48721162,\n",
       "       7.6148028 , 7.7309829 , 7.83762652, 7.93618116, 8.02778788,\n",
       "       8.11336214, 8.19364958, 8.2692656 , 8.34072405, 8.4084584 ,\n",
       "       8.47283764, 8.53417854, 8.592755  , 8.64880549, 8.70253887,\n",
       "       8.75413915, 8.80376924, 8.85157407, 8.89768314, 8.94221267])"
      ]
     },
     "execution_count": 43,
     "metadata": {},
     "output_type": "execute_result"
    }
   ],
   "source": [
    "at.dot(b, w.T).eval()"
   ]
  },
  {
   "cell_type": "code",
   "execution_count": 44,
   "id": "1e7aaa3c-2231-462a-9c07-bfdd6c104995",
   "metadata": {},
   "outputs": [
    {
     "data": {
      "text/plain": [
       "<AxesSubplot:xlabel='stage', ylabel='q'>"
      ]
     },
     "execution_count": 44,
     "metadata": {},
     "output_type": "execute_result"
    },
    {
     "data": {
      "image/png": "[encoded data removed]",
      "text/plain": [
       "<Figure size 432x288 with 1 Axes>"
      ]
     },
     "metadata": {
      "needs_background": "light"
     },
     "output_type": "display_data"
    }
   ],
   "source": [
    "import pandas as pd\n",
    "import numpy as np\n",
    "import matplotlib.pyplot as plt\n",
    "\n",
    "df = pd.read_csv('../data/provo_natural.csv')\n",
    "df['log_q'] = np.log(df['q'])\n",
    "df['log_s'] = np.log(df['stage'])\n",
    "\n",
    "\n",
    "\n",
    "s = np.linspace(0.1,10).reshape(-1,1)\n",
    "b = B(s)\n",
    "a = 0\n",
    "w = np.array([2.3,1.3,0.3])#.reshape(-1,1)\n",
    "\n",
    "y = np.exp(a + np.dot(b,w.T))\n",
    "x = np.linspace(0.1,10).reshape(-1,1)\n",
    "import matplotlib.pyplot as plt\n",
    "\n",
    "fig, ax = plt.subplots()\n",
    "ax.scatter(x,y)\n",
    "\n",
    "df.plot.scatter(\"stage\",\"q\", color='red', ax=ax)"
   ]
  },
  {
   "cell_type": "code",
   "execution_count": 45,
   "id": "558b8a48-ecd4-4d73-8802-38823b4627d5",
   "metadata": {},
   "outputs": [
    {
     "data": {
      "text/plain": [
       "array([2.60222486, 2.74744362, 2.88403548, 3.01296819, 3.13505527,\n",
       "       3.25098717, 3.36135484, 3.46666803, 3.5673695 , 3.66384626,\n",
       "       3.84950816, 4.0650381 , 4.24986493, 4.41165536, 4.5555206 ,\n",
       "       4.68503939, 4.80281535, 4.91080193, 5.01050234, 5.1030981 ,\n",
       "       5.18953476, 5.27058083, 5.34686939, 5.41892813, 5.48720158,\n",
       "       5.54608453, 5.59460075, 5.63635222, 5.6729966 , 5.70564824,\n",
       "       5.73509235, 5.76190315, 5.78651321, 5.80925659, 5.8303966 ,\n",
       "       5.85014451, 5.86867238, 5.88612223, 5.90261264, 5.91824365,\n",
       "       5.9331004 , 5.94725599, 5.96077363, 5.97370836, 5.98610837,\n",
       "       5.99801613, 6.00946923, 6.02050111, 6.03114167, 6.04141771])"
      ]
     },
     "execution_count": 45,
     "metadata": {},
     "output_type": "execute_result"
    }
   ],
   "source": [
    "np.dot(b, w.T)"
   ]
  },
  {
   "cell_type": "code",
   "execution_count": 49,
   "id": "f51de9e3-137b-4361-be82-7c6b118d1d40",
   "metadata": {},
   "outputs": [],
   "source": [
    "import pymc as pm\n",
    "from pymc import Model\n",
    "from transforms import LogZTransform\n",
    "#import theano.tensor as at\n",
    "#import theano\n",
    "#from theano.compile.io import In\n",
    "#import theano\n",
    "\n",
    "import aesara\n",
    "import aesara.tensor as at\n",
    "\n",
    "q_obs = df['q'].values.reshape(-1,1)\n",
    "q_transform = LogZTransform(q_obs)\n",
    "y = q_transform.transform(q_obs)\n",
    "\n",
    "#breaks = np.array([0.0,2.0,5.0])\n",
    "#breaks_sigma = np.array([1.0,1.0,1.0])\n",
    "breaks = np.array([0.0])\n",
    "breaks_sigma = np.array([1.0])\n",
    "\n",
    "COORDS = {\"obs\" : np.arange(len(y)), \"splines\":np.arange(len(breaks))}\n",
    "#self.add_coords(COORDS)\n",
    "\n",
    "with Model(coords=COORDS) as test:\n",
    "\n",
    "    #TODO CREATE DATA VARIABLE\n",
    "    h_obs = df['stage'].values.reshape(-1,1)\n",
    "    \n",
    "    h0_offset = np.ones_like(breaks)\n",
    "    h0_offset[0] = 0\n",
    "    \n",
    "    #PRIORS\n",
    "    w = pm.HalfCauchy(\"w\", beta=5, dims=\"splines\")\n",
    "    a = pm.Normal(\"a\", mu=0, sigma=10)\n",
    "    hs = pm.Normal(\"hs\", mu=breaks, sigma=breaks_sigma, shape=breaks.shape)\n",
    "    \n",
    "    #hs = at.stack([\n",
    "    #hs = np.array([0,1,4]) #works\n",
    "    \n",
    "    # MODEL\n",
    "    h0 = hs - h0_offset\n",
    "    h = at.dcol('h')\n",
    "    b0 = at.switch( at.le(h, hs), 0.0, at.log(h-h0))\n",
    "    b1 = at.switch( at.gt(h, hs), b0, at.log(hs-h0))\n",
    "    B = aesara.function([h], b1) #XXX WARNING DOES NOT COMPUTE GRADIENT\n",
    "    \n",
    "    mu = pm.Deterministic(\"mu\", a + at.dot(B(h_obs), w.T))\n",
    "    sigma = pm.HalfCauchy(\"sigma\", beta=1)\n",
    "    D = pm.Normal(\"D\", mu, sigma, observed=y.flatten(), dims=\"obs\") #TODO check flatten\n",
    "\n",
    "    "
   ]
  },
  {
   "cell_type": "code",
   "execution_count": 47,
   "id": "9b33343b-b035-4be8-b456-067da477a980",
   "metadata": {},
   "outputs": [
    {
     "name": "stderr",
     "output_type": "stream",
     "text": [
      "Auto-assigning NUTS sampler...\n",
      "Initializing NUTS using jitter+adapt_diag...\n",
      "/home/thodson/.local/miniconda3/envs/pymc/lib/python3.7/site-packages/pymc/aesaraf.py:1010: UserWarning: The parameter 'updates' of aesara.function() expects an OrderedDict, got <class 'dict'>. Using a standard dictionary here results in non-deterministic behavior. You should use an OrderedDict if you are using Python 2.7 (collections.OrderedDict for older python), or use a list of (shared, update) pairs. Do not just convert your dictionary to this type before the call as the conversion will still be non-deterministic.\n",
      "  **kwargs,\n",
      "Multiprocess sampling (4 chains in 4 jobs)\n",
      "NUTS: [w, a, hs, sigma]\n"
     ]
    },
    {
     "data": {
      "text/html": [
       "\n",
       "<style>\n",
       "    /* Turns off some styling */\n",
       "    progress {\n",
       "        /* gets rid of default border in Firefox and Opera. */\n",
       "        border: none;\n",
       "        /* Needs to be in here for Safari polyfill so background images work as expected. */\n",
       "        background-size: auto;\n",
       "    }\n",
       "    .progress-bar-interrupted, .progress-bar-interrupted::-webkit-progress-bar {\n",
       "        background: #F44336;\n",
       "    }\n",
       "</style>\n"
      ],
      "text/plain": [
       "<IPython.core.display.HTML object>"
      ]
     },
     "metadata": {},
     "output_type": "display_data"
    },
    {
     "data": {
      "text/html": [
       "\n",
       "    <div>\n",
       "      <progress value='12000' class='' max='12000' style='width:300px; height:20px; vertical-align: middle;'></progress>\n",
       "      100.00% [12000/12000 00:18<00:00 Sampling 4 chains, 0 divergences]\n",
       "    </div>\n",
       "    "
      ],
      "text/plain": [
       "<IPython.core.display.HTML object>"
      ]
     },
     "metadata": {},
     "output_type": "display_data"
    },
    {
     "name": "stderr",
     "output_type": "stream",
     "text": [
      "Sampling 4 chains for 2_000 tune and 1_000 draw iterations (8_000 + 4_000 draws total) took 19 seconds.\n"
     ]
    }
   ],
   "source": [
    "# Compiles but bad\n",
    "with test:\n",
    "    trace = pm.sample(tune=2000, target_accept=0.95)"
   ]
  },
  {
   "cell_type": "code",
   "execution_count": 327,
   "id": "edea7dbd-c0f9-4ee7-91d9-7352469d0978",
   "metadata": {},
   "outputs": [],
   "source": [
    "# 5/3/2022 XXX USE\n",
    "breaks = np.array([2.0])\n",
    "h0 = at.constant([2.0])\n",
    "hs = at.constant([2.0])\n",
    "\n",
    "ninf = at.constant([np.NINF])\n",
    "inf = at.constant([np.inf])\n",
    "\n",
    "clips_array = np.zeros_like(breaks)\n",
    "clips_array[0] = np.NINF\n",
    "clips = at.constant(clips_array)\n",
    "\n",
    "hsi = at.concatenate([hs, inf])[1:]\n",
    "b0 = at.switch( at.le(h, hs), clips, at.log(h-h0))\n",
    "b1 = at.switch( at.le(h, hsi), b0, at.log(hsi-h0))\n",
    "B = aesara.function([h], b1)\n",
    "BX = aesara.function([h], b0)"
   ]
  },
  {
   "cell_type": "code",
   "execution_count": 211,
   "id": "b213b961-cf83-4fc1-8819-c33af8883d03",
   "metadata": {},
   "outputs": [
    {
     "data": {
      "text/plain": [
       "array([-inf])"
      ]
     },
     "execution_count": 211,
     "metadata": {},
     "output_type": "execute_result"
    }
   ],
   "source": [
    "#clips = at.zeros_like(hs)\n",
    "#hs[0] = 10\n",
    "clips_array = np.zeros_like(breaks)\n",
    "clips_array[0] = np.NINF\n",
    "clips = at.constant(clips_array)\n",
    "#clips = at.constant([i for i in np.arange(len(hs.eval()))])\n",
    "clips.eval()"
   ]
  },
  {
   "cell_type": "code",
   "execution_count": 345,
   "id": "c3143475-5c30-4656-98b3-1d20792fb87b",
   "metadata": {},
   "outputs": [],
   "source": [
    "import pandas as pd\n",
    "import numpy as np\n",
    "import matplotlib.pyplot as plt\n",
    "\n",
    "df = pd.read_csv('../data/green_channel.csv')\n",
    "#df['log_q'] = np.log(df['q'])\n",
    "#df['log_s'] = np.log(df['stage'])"
   ]
  },
  {
   "cell_type": "code",
   "execution_count": 50,
   "id": "9affdc58-0d40-4a98-9a84-f8d145c228f1",
   "metadata": {},
   "outputs": [],
   "source": [
    "# COMPILED BUT STILL BAD\n",
    "import pymc as pm\n",
    "from pymc import Model\n",
    "from transforms import LogZTransform\n",
    "\n",
    "import aesara\n",
    "import aesara.tensor as at\n",
    "\n",
    "h_obs = df['stage'].values.reshape(-1,1)\n",
    "    \n",
    "q_obs = df['q'].values.reshape(-1,1)\n",
    "q_transform = LogZTransform(q_obs)\n",
    "y = q_transform.transform(q_obs)\n",
    "\n",
    "#breaks = np.array([0.0,2.0,5.0])\n",
    "#breaks_sigma = np.array([1.0,1.0,1.0])\n",
    "breaks = np.array([0.0])\n",
    "breaks_sigma = np.array([1.0])\n",
    "\n",
    "ninf = at.constant([np.NINF])\n",
    "inf = at.constant([np.inf])\n",
    "\n",
    "clips_array = np.zeros_like(breaks)\n",
    "clips_array[0] = np.NINF\n",
    "clips = at.constant(clips_array) # TODO could be a problem with clips?\n",
    "\n",
    "COORDS = {\"obs\" : np.arange(len(y)), \"splines\":np.arange(len(breaks))}\n",
    "#self.add_coords(COORDS)\n",
    "\n",
    "with Model(coords=COORDS) as test:\n",
    "\n",
    "    #TODO CREATE DATA VARIABLE\n",
    "\n",
    "    \n",
    "    h0_offset = np.ones_like(breaks)\n",
    "    h0_offset[0] = 0 #\n",
    "    \n",
    "    #PRIORS\n",
    "    w = pm.HalfCauchy(\"w\", beta=3, dims=\"splines\")\n",
    "    a = pm.Normal(\"a\", mu=0, sigma=10)\n",
    "    hs = pm.Normal(\"hs\", mu=breaks, sigma=breaks_sigma, dims=\"splines\") #shape=breaks.shape[0])\n",
    "    \n",
    "    #hs = pm.Exponential(\"hs\", breaks, dims=\"splines\")\n",
    "    \n",
    "\n",
    "    hsi = at.concatenate([hs, inf])[1:]\n",
    "    \n",
    "    \n",
    "    # MODEL\n",
    "    h0 = hs - h0_offset #XXX check this. should it be a tensor?\n",
    "    h = at.dcol('h')\n",
    "\n",
    "    b0 = at.switch( at.le(h, hs), clips , at.log(h-h0))\n",
    "    b1 = at.switch( at.le(h, hsi), b0, at.log(hsi-h0))\n",
    "    #b0 = at.switch( at.le(h, hs), clips , at.log(h-hs))\n",
    "    #b1 = at.switch( at.le(h, hsi), b0, at.log(hsi-hs))\n",
    "    B = aesara.function([h], b1) #b1\n",
    "    \n",
    "    mu = pm.Deterministic(\"mu\", a + at.dot(B(h_obs), w.T))\n",
    "    sigma = pm.HalfCauchy(\"sigma\", beta=1)\n",
    "    D = pm.Normal(\"D\", mu, sigma, observed=y.flatten(), dims=\"obs\") #TODO check flatten"
   ]
  },
  {
   "cell_type": "code",
   "execution_count": 51,
   "id": "00c44f7a-b92d-4522-9713-dc439d966efe",
   "metadata": {},
   "outputs": [
    {
     "name": "stderr",
     "output_type": "stream",
     "text": [
      "Auto-assigning NUTS sampler...\n",
      "Initializing NUTS using jitter+adapt_diag...\n",
      "/home/thodson/.local/miniconda3/envs/pymc/lib/python3.7/site-packages/pymc/aesaraf.py:1010: UserWarning: The parameter 'updates' of aesara.function() expects an OrderedDict, got <class 'dict'>. Using a standard dictionary here results in non-deterministic behavior. You should use an OrderedDict if you are using Python 2.7 (collections.OrderedDict for older python), or use a list of (shared, update) pairs. Do not just convert your dictionary to this type before the call as the conversion will still be non-deterministic.\n",
      "  **kwargs,\n",
      "Multiprocess sampling (4 chains in 4 jobs)\n",
      "NUTS: [w, a, hs, sigma]\n"
     ]
    },
    {
     "data": {
      "text/html": [
       "\n",
       "<style>\n",
       "    /* Turns off some styling */\n",
       "    progress {\n",
       "        /* gets rid of default border in Firefox and Opera. */\n",
       "        border: none;\n",
       "        /* Needs to be in here for Safari polyfill so background images work as expected. */\n",
       "        background-size: auto;\n",
       "    }\n",
       "    .progress-bar-interrupted, .progress-bar-interrupted::-webkit-progress-bar {\n",
       "        background: #F44336;\n",
       "    }\n",
       "</style>\n"
      ],
      "text/plain": [
       "<IPython.core.display.HTML object>"
      ]
     },
     "metadata": {},
     "output_type": "display_data"
    },
    {
     "data": {
      "text/html": [
       "\n",
       "    <div>\n",
       "      <progress value='12000' class='' max='12000' style='width:300px; height:20px; vertical-align: middle;'></progress>\n",
       "      100.00% [12000/12000 00:12<00:00 Sampling 4 chains, 0 divergences]\n",
       "    </div>\n",
       "    "
      ],
      "text/plain": [
       "<IPython.core.display.HTML object>"
      ]
     },
     "metadata": {},
     "output_type": "display_data"
    },
    {
     "name": "stderr",
     "output_type": "stream",
     "text": [
      "Sampling 4 chains for 2_000 tune and 1_000 draw iterations (8_000 + 4_000 draws total) took 13 seconds.\n"
     ]
    }
   ],
   "source": [
    "# CompileD XXXX\n",
    "with test:\n",
    "    trace = pm.sample(tune=2000, target_accept=0.9)"
   ]
  },
  {
   "cell_type": "code",
   "execution_count": 52,
   "id": "5579d5b3-5606-4cfd-9127-b201ad84c975",
   "metadata": {},
   "outputs": [
    {
     "data": {
      "image/png": "[encoded data removed]",
      "text/plain": [
       "<Figure size 432x619.2 with 1 Axes>"
      ]
     },
     "metadata": {
      "needs_background": "light"
     },
     "output_type": "display_data"
    }
   ],
   "source": [
    "import arviz as az\n",
    "\n",
    "az.plot_forest(trace, var_names=[\"hs\",\"a\",\"w\",\"sigma\"], combined=False);"
   ]
  },
  {
   "cell_type": "code",
   "execution_count": 53,
   "id": "ffaa6c8a-6070-44b1-a4c1-ca2ca6406a8a",
   "metadata": {},
   "outputs": [],
   "source": [
    "# COMPILED without aesara.function AND WORKS!!!!!!!!\n",
    "import pymc as pm\n",
    "from pymc import Model\n",
    "from transforms import LogZTransform\n",
    "\n",
    "import aesara\n",
    "import aesara.tensor as at\n",
    "\n",
    "h_obs = df['stage'].values.reshape(-1,1)\n",
    "    \n",
    "q_obs = df['q'].values.reshape(-1,1)\n",
    "q_transform = LogZTransform(q_obs)\n",
    "y = q_transform.transform(q_obs)\n",
    "\n",
    "breaks = np.array([0.0,7.0])\n",
    "#breaks_sigma = np.array([1.0,1.0,1.0])\n",
    "breaks_sigma = np.array([0.1,0.1])\n",
    "#breaks = np.array([0.0])\n",
    "#breaks_sigma = np.array([1.0])\n",
    "\n",
    "ninf = at.constant([np.NINF])\n",
    "inf = at.constant([np.inf])\n",
    "\n",
    "clips_array = np.zeros_like(breaks)\n",
    "clips_array[0] = np.NINF\n",
    "clips = at.constant(clips_array) # TODO could be a problem with clips?\n",
    "\n",
    "COORDS = {\"obs\" : np.arange(len(y)), \"splines\":np.arange(len(breaks))}\n",
    "#self.add_coords(COORDS)\n",
    "\n",
    "with Model(coords=COORDS) as test:\n",
    "\n",
    "    #TODO CREATE DATA VARIABLE\n",
    "\n",
    "    \n",
    "    h0_offset = np.ones_like(breaks)\n",
    "    h0_offset[0] = 0 #\n",
    "    \n",
    "    #PRIORS\n",
    "    w = pm.HalfCauchy(\"w\", beta=3, dims=\"splines\")\n",
    "    a = pm.Normal(\"a\", mu=0, sigma=10)\n",
    "    hs = pm.Normal(\"hs\", mu=breaks, sigma=breaks_sigma, dims=\"splines\") #shape=breaks.shape[0])\n",
    "    \n",
    "    #hs = pm.Exponential(\"hs\", breaks, dims=\"splines\")\n",
    "    \n",
    "\n",
    "    hsi = at.concatenate([hs, inf])[1:]\n",
    "    \n",
    "    \n",
    "    # MODEL\n",
    "    h0 = hs - h0_offset #XXX check this. should it be a tensor?\n",
    "    #h = at.dcol('h')\n",
    "\n",
    "    b0 = at.switch( at.le(h_obs, hs), clips , at.log(h_obs-h0))\n",
    "    b1 = at.switch( at.le(h_obs, hsi), b0, at.log(hsi-h0))\n",
    "    #b0 = at.switch( at.le(h, hs), clips , at.log(h-hs))\n",
    "    #b1 = at.switch( at.le(h, hsi), b0, at.log(hsi-hs))\n",
    "    #B = aesara.function([h], b1) #b1\n",
    "    \n",
    "    mu = pm.Deterministic(\"mu\", a + at.dot(b1, w.T))\n",
    "    sigma = pm.HalfCauchy(\"sigma\", beta=1)\n",
    "    D = pm.Normal(\"D\", mu, sigma, observed=y.flatten(), dims=\"obs\") #TODO check flatten"
   ]
  },
  {
   "cell_type": "code",
   "execution_count": 54,
   "id": "4e3992cb-add3-4356-a732-193ecc2f4fe6",
   "metadata": {},
   "outputs": [
    {
     "name": "stderr",
     "output_type": "stream",
     "text": [
      "Auto-assigning NUTS sampler...\n",
      "Initializing NUTS using jitter+adapt_diag...\n",
      "/home/thodson/.local/miniconda3/envs/pymc/lib/python3.7/site-packages/pymc/aesaraf.py:1010: UserWarning: The parameter 'updates' of aesara.function() expects an OrderedDict, got <class 'dict'>. Using a standard dictionary here results in non-deterministic behavior. You should use an OrderedDict if you are using Python 2.7 (collections.OrderedDict for older python), or use a list of (shared, update) pairs. Do not just convert your dictionary to this type before the call as the conversion will still be non-deterministic.\n",
      "  **kwargs,\n",
      "Multiprocess sampling (4 chains in 4 jobs)\n",
      "NUTS: [w, a, hs, sigma]\n"
     ]
    },
    {
     "data": {
      "text/html": [
       "\n",
       "<style>\n",
       "    /* Turns off some styling */\n",
       "    progress {\n",
       "        /* gets rid of default border in Firefox and Opera. */\n",
       "        border: none;\n",
       "        /* Needs to be in here for Safari polyfill so background images work as expected. */\n",
       "        background-size: auto;\n",
       "    }\n",
       "    .progress-bar-interrupted, .progress-bar-interrupted::-webkit-progress-bar {\n",
       "        background: #F44336;\n",
       "    }\n",
       "</style>\n"
      ],
      "text/plain": [
       "<IPython.core.display.HTML object>"
      ]
     },
     "metadata": {},
     "output_type": "display_data"
    },
    {
     "data": {
      "text/html": [
       "\n",
       "    <div>\n",
       "      <progress value='12000' class='' max='12000' style='width:300px; height:20px; vertical-align: middle;'></progress>\n",
       "      100.00% [12000/12000 00:23<00:00 Sampling 4 chains, 0 divergences]\n",
       "    </div>\n",
       "    "
      ],
      "text/plain": [
       "<IPython.core.display.HTML object>"
      ]
     },
     "metadata": {},
     "output_type": "display_data"
    },
    {
     "name": "stderr",
     "output_type": "stream",
     "text": [
      "Sampling 4 chains for 2_000 tune and 1_000 draw iterations (8_000 + 4_000 draws total) took 25 seconds.\n"
     ]
    }
   ],
   "source": [
    "# CompileD XXXX\n",
    "with test:\n",
    "    trace = pm.sample(tune=2000, target_accept=0.9)"
   ]
  },
  {
   "cell_type": "code",
   "execution_count": 398,
   "id": "5cbcac37-ab98-4133-ae1e-ff7d8dfbf728",
   "metadata": {},
   "outputs": [],
   "source": [
    "#trace.posterior['hs'].mean(axis=1)"
   ]
  },
  {
   "cell_type": "code",
   "execution_count": 403,
   "id": "86d0822d-98ae-4fbc-b624-f2ee48c5cff2",
   "metadata": {},
   "outputs": [
    {
     "data": {
      "image/png": "[encoded data removed]",
      "text/plain": [
       "<Figure size 432x676.8 with 1 Axes>"
      ]
     },
     "metadata": {
      "needs_background": "light"
     },
     "output_type": "display_data"
    }
   ],
   "source": [
    "import arviz as az\n",
    "\n",
    "az.plot_forest(trace, var_names=[\"hs\",\"a\",\"w\",\"sigma\"], combined=False);"
   ]
  },
  {
   "cell_type": "code",
   "execution_count": 66,
   "id": "2ae201b7-475f-49e9-b3b2-0b4fc87ea0c0",
   "metadata": {},
   "outputs": [],
   "source": [
    "#with test:\n",
    "#    mean_field = pm.fit(method=\"advi\")"
   ]
  },
  {
   "cell_type": "code",
   "execution_count": 60,
   "id": "194053b6-7bed-4799-bd40-f54cc7b1a8ab",
   "metadata": {},
   "outputs": [],
   "source": [
    "# other priors\n",
    "# physixal exponents (w)\n",
    "import pymc as pm\n",
    "from pymc import Model\n",
    "from transforms import LogZTransform\n",
    "\n",
    "import aesara\n",
    "import aesara.tensor as at\n",
    "\n",
    "h_obs = df['stage'].values.reshape(-1,1)\n",
    "    \n",
    "q_obs = df['q'].values.reshape(-1,1)\n",
    "q_transform = LogZTransform(q_obs)\n",
    "y = q_transform.transform(q_obs)\n",
    "\n",
    "breaks = np.array([0.0,7.0])\n",
    "#breaks_sigma = np.array([1.0,1.0,1.0])\n",
    "breaks_sigma = np.array([0.1,0.1])\n",
    "#breaks = np.array([0.0])\n",
    "#breaks_sigma = np.array([1.0])\n",
    "\n",
    "#ninf = at.constant([np.NINF])\n",
    "ninf = at.constant([-99999.0])\n",
    "inf = at.constant([np.inf])\n",
    "\n",
    "clips_array = np.zeros_like(breaks)\n",
    "clips_array[0] = np.NINF\n",
    "clips = at.constant(clips_array) # TODO could be a problem with clips?\n",
    "\n",
    "COORDS = {\"obs\" : np.arange(len(y)), \"splines\":np.arange(len(breaks))}\n",
    "#self.add_coords(COORDS)\n",
    "\n",
    "with Model(coords=COORDS) as test:\n",
    "\n",
    "    #TODO CREATE DATA VARIABLE\n",
    "\n",
    "    \n",
    "    h0_offset = np.ones_like(breaks)\n",
    "    h0_offset[0] = 0 #\n",
    "    \n",
    "    #PRIORS\n",
    "    w = pm.HalfCauchy(\"w\", beta=3, dims=\"splines\")\n",
    "    a = pm.Normal(\"a\", mu=0, sigma=10)\n",
    "    hs = pm.Normal(\"hs\", mu=breaks, sigma=breaks_sigma, dims=\"splines\") #shape=breaks.shape[0])\n",
    "    \n",
    "    #hs = pm.Exponential(\"hs\", breaks, dims=\"splines\")\n",
    "    \n",
    "\n",
    "    hsi = at.concatenate([hs, inf])[1:]\n",
    "    \n",
    "    \n",
    "    # MODEL\n",
    "    h0 = hs - h0_offset #XXX check this. should it be a tensor?\n",
    "    #h = at.dcol('h')\n",
    "\n",
    "    b0 = at.switch( at.le(h_obs, hs), clips , at.log(h_obs-h0))\n",
    "    b1 = at.switch( at.le(h_obs, hsi), b0, at.log(hsi-h0))\n",
    "    #b0 = at.switch( at.le(h, hs), clips , at.log(h-hs))\n",
    "    #b1 = at.switch( at.le(h, hsi), b0, at.log(hsi-hs))\n",
    "    #B = aesara.function([h], b1) #b1\n",
    "    \n",
    "    mu = pm.Deterministic(\"mu\", a + at.dot(b1, w.T))\n",
    "    sigma = pm.HalfCauchy(\"sigma\", beta=1)\n",
    "    D = pm.Normal(\"D\", mu, sigma, observed=y.flatten(), dims=\"obs\") #TODO check flatten"
   ]
  },
  {
   "cell_type": "code",
   "execution_count": null,
   "id": "f8eecebc-e1bf-493d-8b9e-e4b77eb478e7",
   "metadata": {},
   "outputs": [],
   "source": [
    "# CompileD XXXX\n",
    "with test:\n",
    "    trace = pm.sample(tune=2000, target_accept=0.9)"
   ]
  },
  {
   "cell_type": "code",
   "execution_count": null,
   "id": "7aefb423-9710-42b2-b9d1-9143e5bff4ce",
   "metadata": {},
   "outputs": [],
   "source": []
  },
  {
   "cell_type": "code",
   "execution_count": null,
   "id": "f39c15f5-b824-450a-aad3-9053ff5ac622",
   "metadata": {},
   "outputs": [],
   "source": []
  },
  {
   "cell_type": "code",
   "execution_count": null,
   "id": "34fb1f3c-1dc6-4589-b1fc-baca4814eef7",
   "metadata": {},
   "outputs": [],
   "source": [
    "az.plot_posterior(mean_field.sample(1000), color=\"LightSeaGreen\");"
   ]
  },
  {
   "cell_type": "code",
   "execution_count": 341,
   "id": "c09d0206-afbd-440a-9d68-2322f59e74ff",
   "metadata": {},
   "outputs": [
    {
     "name": "stderr",
     "output_type": "stream",
     "text": [
      "Auto-assigning NUTS sampler...\n",
      "Initializing NUTS using jitter+adapt_diag...\n",
      "/home/thodson/.local/miniconda3/envs/pymc/lib/python3.7/site-packages/pymc/aesaraf.py:1010: UserWarning: The parameter 'updates' of aesara.function() expects an OrderedDict, got <class 'dict'>. Using a standard dictionary here results in non-deterministic behavior. You should use an OrderedDict if you are using Python 2.7 (collections.OrderedDict for older python), or use a list of (shared, update) pairs. Do not just convert your dictionary to this type before the call as the conversion will still be non-deterministic.\n",
      "  **kwargs,\n",
      "Multiprocess sampling (4 chains in 4 jobs)\n",
      "NUTS: [w, a, hs, sigma]\n"
     ]
    },
    {
     "data": {
      "text/html": [
       "\n",
       "<style>\n",
       "    /* Turns off some styling */\n",
       "    progress {\n",
       "        /* gets rid of default border in Firefox and Opera. */\n",
       "        border: none;\n",
       "        /* Needs to be in here for Safari polyfill so background images work as expected. */\n",
       "        background-size: auto;\n",
       "    }\n",
       "    .progress-bar-interrupted, .progress-bar-interrupted::-webkit-progress-bar {\n",
       "        background: #F44336;\n",
       "    }\n",
       "</style>\n"
      ],
      "text/plain": [
       "<IPython.core.display.HTML object>"
      ]
     },
     "metadata": {},
     "output_type": "display_data"
    },
    {
     "data": {
      "text/html": [
       "\n",
       "    <div>\n",
       "      <progress value='12000' class='' max='12000' style='width:300px; height:20px; vertical-align: middle;'></progress>\n",
       "      100.00% [12000/12000 00:48<00:00 Sampling 4 chains, 0 divergences]\n",
       "    </div>\n",
       "    "
      ],
      "text/plain": [
       "<IPython.core.display.HTML object>"
      ]
     },
     "metadata": {},
     "output_type": "display_data"
    },
    {
     "name": "stderr",
     "output_type": "stream",
     "text": [
      "Sampling 4 chains for 2_000 tune and 1_000 draw iterations (8_000 + 4_000 draws total) took 49 seconds.\n"
     ]
    }
   ],
   "source": [
    "# CompileD XXXX\n",
    "with test:\n",
    "    trace = pm.sample(tune=2000, target_accept=0.95)"
   ]
  },
  {
   "cell_type": "code",
   "execution_count": 343,
   "id": "ad14501d-d60f-4f6b-87f1-2c75efbeafae",
   "metadata": {},
   "outputs": [
    {
     "data": {
      "image/png": "[encoded data removed]",
      "text/plain": [
       "<Figure size 432x619.2 with 1 Axes>"
      ]
     },
     "metadata": {
      "needs_background": "light"
     },
     "output_type": "display_data"
    }
   ],
   "source": [
    "import arviz as az\n",
    "\n",
    "az.plot_forest(trace, var_names=[\"hs\",\"a\",\"w\",\"sigma\"], combined=False);"
   ]
  },
  {
   "cell_type": "code",
   "execution_count": null,
   "id": "ce52d0c4-9d58-4251-8342-2cfed9f884de",
   "metadata": {},
   "outputs": [],
   "source": [
    "# SCRATCH"
   ]
  }
 ],
 "metadata": {
  "kernelspec": {
   "display_name": "Python 3 (ipykernel)",
   "language": "python",
   "name": "python3"
  },
  "language_info": {
   "codemirror_mode": {
    "name": "ipython",
    "version": 3
   },
   "file_extension": ".py",
   "mimetype": "text/x-python",
   "name": "python",
   "nbconvert_exporter": "python",
   "pygments_lexer": "ipython3",
   "version": "3.7.13"
  }
 },
 "nbformat": 4,
 "nbformat_minor": 5
}
