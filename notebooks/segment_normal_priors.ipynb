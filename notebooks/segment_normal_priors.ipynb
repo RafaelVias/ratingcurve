{
 "cells": [
  {
   "cell_type": "code",
   "execution_count": 1,
   "id": "6e7ab539-1fb5-4b1e-aa91-92cae888c3be",
   "metadata": {},
   "outputs": [],
   "source": [
    "import pandas as pd\n",
    "import arviz as az\n",
    "import numpy as np\n",
    "import matplotlib.pyplot as plt"
   ]
  },
  {
   "cell_type": "code",
   "execution_count": 2,
   "id": "a0ad2b9b-45b6-42de-999f-b474e54c8368",
   "metadata": {},
   "outputs": [
    {
     "data": {
      "text/plain": [
       "<AxesSubplot:xlabel='stage', ylabel='q'>"
      ]
     },
     "execution_count": 2,
     "metadata": {},
     "output_type": "execute_result"
    },
    {
     "data": {
      "image/png": "[encoded data removed]",
      "text/plain": [
       "<Figure size 432x288 with 1 Axes>"
      ]
     },
     "metadata": {
      "needs_background": "light"
     },
     "output_type": "display_data"
    }
   ],
   "source": [
    "sim_df = pd.read_csv('../data/simulated_rating.csv')\n",
    "df = sim_df.sample(20)\n",
    "df = df.sort_values(by='q') #XXX sort or plotting goes crazy\n",
    "fig, ax = plt.subplots()\n",
    "sim_df.plot(x='stage',y='q', ax=ax)#, marker='.')\n",
    "df.plot.scatter(x='stage',y='q', marker='o', color='red', ax=ax)"
   ]
  },
  {
   "cell_type": "code",
   "execution_count": 27,
   "id": "28cab608-25a2-4f23-8ec4-cad5f59178f3",
   "metadata": {},
   "outputs": [
    {
     "data": {
      "text/plain": [
       "array([-0.58290649, -2.77808417])"
      ]
     },
     "execution_count": 27,
     "metadata": {},
     "output_type": "execute_result"
    }
   ],
   "source": [
    "# this doesn't work for some reason?\n",
    "#with pm.Model() as test:\n",
    "#    mu = pm.Normal('mu',0,2, shape=2, transform=tr.sum_to_1, initval=[0.1,0.9])\n",
    "#    \n",
    "#mu.eval()"
   ]
  },
  {
   "cell_type": "code",
   "execution_count": 32,
   "id": "23b0e425-43ff-4f84-bf31-5f6c2901c649",
   "metadata": {},
   "outputs": [
    {
     "ename": "AttributeError",
     "evalue": "module 'aesara.tensor.math' has no attribute 'inf'",
     "output_type": "error",
     "traceback": [
      "\u001b[0;31m---------------------------------------------------------------------------\u001b[0m",
      "\u001b[0;31mAttributeError\u001b[0m                            Traceback (most recent call last)",
      "\u001b[0;32m/tmp/ipykernel_448210/3519131268.py\u001b[0m in \u001b[0;36m<module>\u001b[0;34m\u001b[0m\n\u001b[1;32m      4\u001b[0m \u001b[0;34m\u001b[0m\u001b[0m\n\u001b[1;32m      5\u001b[0m \u001b[0;31m#df.plot.scatter(\"stage\",\"q\")\u001b[0m\u001b[0;34m\u001b[0m\u001b[0;34m\u001b[0m\u001b[0;34m\u001b[0m\u001b[0m\n\u001b[0;32m----> 6\u001b[0;31m \u001b[0mat\u001b[0m\u001b[0;34m.\u001b[0m\u001b[0mmath\u001b[0m\u001b[0;34m.\u001b[0m\u001b[0minf\u001b[0m\u001b[0;34m\u001b[0m\u001b[0;34m\u001b[0m\u001b[0m\n\u001b[0m",
      "\u001b[0;31mAttributeError\u001b[0m: module 'aesara.tensor.math' has no attribute 'inf'"
     ]
    }
   ],
   "source": [
    "#df = pd.read_csv('../data/provo_natural.csv')\n",
    "#df['log_q'] = np.log(df['q'])\n",
    "#df['log_s'] = np.log(df['stage'])\n",
    "\n",
    "#df.plot.scatter(\"stage\",\"q\")"
   ]
  },
  {
   "cell_type": "code",
   "execution_count": 35,
   "id": "43e8a80c-70fb-4e20-903c-4ece84cb1e2d",
   "metadata": {},
   "outputs": [],
   "source": [
    "# other priors\n",
    "# physixal exponents (w)\n",
    "import pymc as pm\n",
    "from pymc import Model\n",
    "from transforms import LogZTransform\n",
    "\n",
    "import aesara\n",
    "import aesara.tensor as at\n",
    "\n",
    "h_obs = df['stage'].values.reshape(-1,1)\n",
    "    \n",
    "q_obs = df['q'].values.reshape(-1,1)\n",
    "q_transform = LogZTransform(q_obs)\n",
    "y = q_transform.transform(q_obs)\n",
    "\n",
    "\n",
    "#breaks = np.array([4.0, 11.0])\n",
    "#breaks_sigma = np.array([2.0, 2.0])\n",
    "breaks = np.array([4.8, 5.8, 11.0])\n",
    "breaks_sigma = np.array([0.1, 0.1 , 2.0])\n",
    "\n",
    "#breaks vi, though setting to other number quickly crashes\n",
    "#ninf = at.constant([np.NINF])\n",
    "inf = at.constant([np.inf])\n",
    "#\n",
    "#ninf = at.constant([-100.0])\n",
    "#inf= at.constant([100.0])\n",
    "\n",
    "\n",
    "\n",
    "\n",
    "clips_array = np.zeros_like(breaks)\n",
    "clips_array[0] = -ninf.eval()\n",
    "clips = at.constant(clips_array) # TODO could be a problem with clips?\n",
    "\n",
    "COORDS = {\"obs\" : np.arange(len(y)), \"splines\":np.arange(len(breaks))}\n",
    "#self.add_coords(COORDS)\n",
    "\n",
    "with Model(coords=COORDS) as model:\n",
    "\n",
    "    #TODO CREATE DATA VARIABLE\n",
    "\n",
    "    \n",
    "    h0_offset = np.ones_like(breaks)\n",
    "    h0_offset[0] = 0 #\n",
    "    \n",
    "    #PRIORS\n",
    "    #w = pm.HalfCauchy(\"w\", beta=3, dims=\"splines\")\n",
    "    w = pm.Normal(\"w\", mu=2.08, sigma=0.3, dims=\"splines\")\n",
    "    #w = pm.TruncatedNormal(\"w\", mu=2.08, sigma=0.3, lower=0, dims=\"splines\")\n",
    "    a = pm.Normal(\"a\", mu=0, sigma=10)\n",
    "    hs = pm.Normal(\"hs\", mu=breaks, sigma=breaks_sigma, dims=\"splines\") #shape=breaks.shape[0])\n",
    "    \n",
    "    #hs = pm.Exponential(\"hs\", breaks, dims=\"splines\")\n",
    "    \n",
    "\n",
    "    hsi = at.concatenate([hs, inf])[1:]\n",
    "    \n",
    "    \n",
    "    # MODEL\n",
    "    h0 = hs - h0_offset #XXX check this. should it be a tensor?\n",
    "    #h = at.dcol('h')\n",
    "\n",
    "    b0 = at.switch( at.le(h_obs, hs), clips , at.log(h_obs-h0))\n",
    "    #b1 = at.switch( at.le(h_obs, hsi), b0, at.log(hsi-h0))\n",
    "    b1 = pm.Deterministic(\"b1\", at.switch( at.le(h_obs, hsi), b0, at.log(hsi-h0)) )\n",
    "    #b0 = at.switch( at.le(h, hs), clips , at.log(h-hs))\n",
    "    #b1 = at.switch( at.le(h, hsi), b0, at.log(hsi-hs))\n",
    "    #B = aesara.function([h], b1) #b1\n",
    "    \n",
    "    mu = pm.Deterministic(\"mu\", a + at.dot(b1, w.T))\n",
    "    sigma = pm.HalfCauchy(\"sigma\", beta=1, initval=0.01)\n",
    "    D = pm.Normal(\"D\", mu, sigma, observed=y.flatten(), dims=\"obs\") #TODO check flatten"
   ]
  },
  {
   "cell_type": "code",
   "execution_count": 31,
   "id": "528577fd-f290-4ab4-bc8f-c17c29500874",
   "metadata": {},
   "outputs": [
    {
     "ename": "AttributeError",
     "evalue": "module 'aesara.tensor' has no attribute 'inf'",
     "output_type": "error",
     "traceback": [
      "\u001b[0;31m---------------------------------------------------------------------------\u001b[0m",
      "\u001b[0;31mAttributeError\u001b[0m                            Traceback (most recent call last)",
      "\u001b[0;32m/tmp/ipykernel_448210/2037419880.py\u001b[0m in \u001b[0;36m<module>\u001b[0;34m\u001b[0m\n\u001b[0;32m----> 1\u001b[0;31m \u001b[0mat\u001b[0m\u001b[0;34m.\u001b[0m\u001b[0minf\u001b[0m\u001b[0;34m\u001b[0m\u001b[0;34m\u001b[0m\u001b[0m\n\u001b[0m",
      "\u001b[0;31mAttributeError\u001b[0m: module 'aesara.tensor' has no attribute 'inf'"
     ]
    }
   ],
   "source": []
  },
  {
   "cell_type": "code",
   "execution_count": 36,
   "id": "8bc2b808-e865-4fff-967e-f511cbe84f26",
   "metadata": {},
   "outputs": [
    {
     "name": "stderr",
     "output_type": "stream",
     "text": [
      "Auto-assigning NUTS sampler...\n",
      "Initializing NUTS using jitter+adapt_diag...\n",
      "/home/thodson/.local/miniconda3/envs/pymc/lib/python3.7/site-packages/pymc/aesaraf.py:1010: UserWarning: The parameter 'updates' of aesara.function() expects an OrderedDict, got <class 'dict'>. Using a standard dictionary here results in non-deterministic behavior. You should use an OrderedDict if you are using Python 2.7 (collections.OrderedDict for older python), or use a list of (shared, update) pairs. Do not just convert your dictionary to this type before the call as the conversion will still be non-deterministic.\n",
      "  **kwargs,\n",
      "Multiprocess sampling (4 chains in 4 jobs)\n",
      "NUTS: [w, a, hs, sigma]\n"
     ]
    },
    {
     "data": {
      "text/html": [
       "\n",
       "<style>\n",
       "    /* Turns off some styling */\n",
       "    progress {\n",
       "        /* gets rid of default border in Firefox and Opera. */\n",
       "        border: none;\n",
       "        /* Needs to be in here for Safari polyfill so background images work as expected. */\n",
       "        background-size: auto;\n",
       "    }\n",
       "    .progress-bar-interrupted, .progress-bar-interrupted::-webkit-progress-bar {\n",
       "        background: #F44336;\n",
       "    }\n",
       "</style>\n"
      ],
      "text/plain": [
       "<IPython.core.display.HTML object>"
      ]
     },
     "metadata": {},
     "output_type": "display_data"
    },
    {
     "data": {
      "text/html": [
       "\n",
       "    <div>\n",
       "      <progress value='12000' class='' max='12000' style='width:300px; height:20px; vertical-align: middle;'></progress>\n",
       "      100.00% [12000/12000 00:50<00:00 Sampling 4 chains, 0 divergences]\n",
       "    </div>\n",
       "    "
      ],
      "text/plain": [
       "<IPython.core.display.HTML object>"
      ]
     },
     "metadata": {},
     "output_type": "display_data"
    },
    {
     "name": "stderr",
     "output_type": "stream",
     "text": [
      "Sampling 4 chains for 2_000 tune and 1_000 draw iterations (8_000 + 4_000 draws total) took 51 seconds.\n"
     ]
    }
   ],
   "source": [
    "n=4\n",
    "with model:\n",
    "    trace = pm.sample(tune=2000, chains=n, cores=n, target_accept=0.9)"
   ]
  },
  {
   "cell_type": "code",
   "execution_count": 37,
   "id": "c24bf577-fdc9-4882-b88c-3e2aaeb3fe16",
   "metadata": {},
   "outputs": [
    {
     "data": {
      "image/png": "[encoded data removed]",
      "text/plain": [
       "<Figure size 432x734.4 with 1 Axes>"
      ]
     },
     "metadata": {
      "needs_background": "light"
     },
     "output_type": "display_data"
    }
   ],
   "source": [
    "import arviz as az\n",
    "\n",
    "az.plot_forest(trace, var_names=[\"hs\",\"a\",\"w\",\"sigma\"], combined=False);"
   ]
  },
  {
   "cell_type": "code",
   "execution_count": 34,
   "id": "36c22a01-747a-4234-8f0a-f89b402efe50",
   "metadata": {},
   "outputs": [
    {
     "data": {
      "text/html": [
       "<div>\n",
       "<style scoped>\n",
       "    .dataframe tbody tr th:only-of-type {\n",
       "        vertical-align: middle;\n",
       "    }\n",
       "\n",
       "    .dataframe tbody tr th {\n",
       "        vertical-align: top;\n",
       "    }\n",
       "\n",
       "    .dataframe thead th {\n",
       "        text-align: right;\n",
       "    }\n",
       "</style>\n",
       "<table border=\"1\" class=\"dataframe\">\n",
       "  <thead>\n",
       "    <tr style=\"text-align: right;\">\n",
       "      <th></th>\n",
       "      <th>mean</th>\n",
       "      <th>sd</th>\n",
       "      <th>hdi_3%</th>\n",
       "      <th>hdi_97%</th>\n",
       "      <th>mcse_mean</th>\n",
       "      <th>mcse_sd</th>\n",
       "      <th>ess_bulk</th>\n",
       "      <th>ess_tail</th>\n",
       "      <th>r_hat</th>\n",
       "    </tr>\n",
       "  </thead>\n",
       "  <tbody>\n",
       "    <tr>\n",
       "      <th>w[0]</th>\n",
       "      <td>1.182</td>\n",
       "      <td>0.039</td>\n",
       "      <td>1.113</td>\n",
       "      <td>1.258</td>\n",
       "      <td>0.001</td>\n",
       "      <td>0.001</td>\n",
       "      <td>1336.0</td>\n",
       "      <td>1357.0</td>\n",
       "      <td>1.0</td>\n",
       "    </tr>\n",
       "    <tr>\n",
       "      <th>w[1]</th>\n",
       "      <td>1.151</td>\n",
       "      <td>0.012</td>\n",
       "      <td>1.128</td>\n",
       "      <td>1.175</td>\n",
       "      <td>0.000</td>\n",
       "      <td>0.000</td>\n",
       "      <td>1440.0</td>\n",
       "      <td>1860.0</td>\n",
       "      <td>1.0</td>\n",
       "    </tr>\n",
       "    <tr>\n",
       "      <th>w[2]</th>\n",
       "      <td>0.682</td>\n",
       "      <td>0.006</td>\n",
       "      <td>0.671</td>\n",
       "      <td>0.694</td>\n",
       "      <td>0.000</td>\n",
       "      <td>0.000</td>\n",
       "      <td>2331.0</td>\n",
       "      <td>2240.0</td>\n",
       "      <td>1.0</td>\n",
       "    </tr>\n",
       "    <tr>\n",
       "      <th>a</th>\n",
       "      <td>-1.213</td>\n",
       "      <td>0.011</td>\n",
       "      <td>-1.235</td>\n",
       "      <td>-1.195</td>\n",
       "      <td>0.000</td>\n",
       "      <td>0.000</td>\n",
       "      <td>1645.0</td>\n",
       "      <td>1824.0</td>\n",
       "      <td>1.0</td>\n",
       "    </tr>\n",
       "    <tr>\n",
       "      <th>sigma</th>\n",
       "      <td>0.014</td>\n",
       "      <td>0.001</td>\n",
       "      <td>0.012</td>\n",
       "      <td>0.015</td>\n",
       "      <td>0.000</td>\n",
       "      <td>0.000</td>\n",
       "      <td>3009.0</td>\n",
       "      <td>2792.0</td>\n",
       "      <td>1.0</td>\n",
       "    </tr>\n",
       "    <tr>\n",
       "      <th>hs[0]</th>\n",
       "      <td>4.891</td>\n",
       "      <td>0.013</td>\n",
       "      <td>4.867</td>\n",
       "      <td>4.915</td>\n",
       "      <td>0.000</td>\n",
       "      <td>0.000</td>\n",
       "      <td>1336.0</td>\n",
       "      <td>1549.0</td>\n",
       "      <td>1.0</td>\n",
       "    </tr>\n",
       "    <tr>\n",
       "      <th>hs[1]</th>\n",
       "      <td>5.804</td>\n",
       "      <td>0.023</td>\n",
       "      <td>5.759</td>\n",
       "      <td>5.846</td>\n",
       "      <td>0.001</td>\n",
       "      <td>0.000</td>\n",
       "      <td>1411.0</td>\n",
       "      <td>1973.0</td>\n",
       "      <td>1.0</td>\n",
       "    </tr>\n",
       "    <tr>\n",
       "      <th>hs[2]</th>\n",
       "      <td>10.734</td>\n",
       "      <td>0.016</td>\n",
       "      <td>10.704</td>\n",
       "      <td>10.764</td>\n",
       "      <td>0.000</td>\n",
       "      <td>0.000</td>\n",
       "      <td>2577.0</td>\n",
       "      <td>2661.0</td>\n",
       "      <td>1.0</td>\n",
       "    </tr>\n",
       "  </tbody>\n",
       "</table>\n",
       "</div>"
      ],
      "text/plain": [
       "         mean     sd  hdi_3%  hdi_97%  mcse_mean  mcse_sd  ess_bulk  ess_tail  \\\n",
       "w[0]    1.182  0.039   1.113    1.258      0.001    0.001    1336.0    1357.0   \n",
       "w[1]    1.151  0.012   1.128    1.175      0.000    0.000    1440.0    1860.0   \n",
       "w[2]    0.682  0.006   0.671    0.694      0.000    0.000    2331.0    2240.0   \n",
       "a      -1.213  0.011  -1.235   -1.195      0.000    0.000    1645.0    1824.0   \n",
       "sigma   0.014  0.001   0.012    0.015      0.000    0.000    3009.0    2792.0   \n",
       "hs[0]   4.891  0.013   4.867    4.915      0.000    0.000    1336.0    1549.0   \n",
       "hs[1]   5.804  0.023   5.759    5.846      0.001    0.000    1411.0    1973.0   \n",
       "hs[2]  10.734  0.016  10.704   10.764      0.000    0.000    2577.0    2661.0   \n",
       "\n",
       "       r_hat  \n",
       "w[0]     1.0  \n",
       "w[1]     1.0  \n",
       "w[2]     1.0  \n",
       "a        1.0  \n",
       "sigma    1.0  \n",
       "hs[0]    1.0  \n",
       "hs[1]    1.0  \n",
       "hs[2]    1.0  "
      ]
     },
     "execution_count": 34,
     "metadata": {},
     "output_type": "execute_result"
    }
   ],
   "source": [
    "az.summary(trace, var_names=[\"w\",\"a\",\"sigma\",\"hs\"])"
   ]
  },
  {
   "cell_type": "code",
   "execution_count": 242,
   "id": "89ea8c37-b386-4033-979a-33ccf470826b",
   "metadata": {},
   "outputs": [
    {
     "name": "stderr",
     "output_type": "stream",
     "text": [
      "arviz - WARNING - Shape validation failed: input_shape: (1, 1000), minimum_shape: (chains=2, draws=4)\n"
     ]
    },
    {
     "data": {
      "text/html": [
       "<div>\n",
       "<style scoped>\n",
       "    .dataframe tbody tr th:only-of-type {\n",
       "        vertical-align: middle;\n",
       "    }\n",
       "\n",
       "    .dataframe tbody tr th {\n",
       "        vertical-align: top;\n",
       "    }\n",
       "\n",
       "    .dataframe thead th {\n",
       "        text-align: right;\n",
       "    }\n",
       "</style>\n",
       "<table border=\"1\" class=\"dataframe\">\n",
       "  <thead>\n",
       "    <tr style=\"text-align: right;\">\n",
       "      <th></th>\n",
       "      <th>mean</th>\n",
       "      <th>sd</th>\n",
       "      <th>hdi_3%</th>\n",
       "      <th>hdi_97%</th>\n",
       "      <th>mcse_mean</th>\n",
       "      <th>mcse_sd</th>\n",
       "      <th>ess_bulk</th>\n",
       "      <th>ess_tail</th>\n",
       "      <th>r_hat</th>\n",
       "    </tr>\n",
       "  </thead>\n",
       "  <tbody>\n",
       "    <tr>\n",
       "      <th>w[0]</th>\n",
       "      <td>1.234</td>\n",
       "      <td>0.045</td>\n",
       "      <td>1.155</td>\n",
       "      <td>1.318</td>\n",
       "      <td>0.003</td>\n",
       "      <td>0.002</td>\n",
       "      <td>310.0</td>\n",
       "      <td>462.0</td>\n",
       "      <td>NaN</td>\n",
       "    </tr>\n",
       "    <tr>\n",
       "      <th>w[1]</th>\n",
       "      <td>1.159</td>\n",
       "      <td>0.012</td>\n",
       "      <td>1.133</td>\n",
       "      <td>1.180</td>\n",
       "      <td>0.001</td>\n",
       "      <td>0.000</td>\n",
       "      <td>368.0</td>\n",
       "      <td>484.0</td>\n",
       "      <td>NaN</td>\n",
       "    </tr>\n",
       "    <tr>\n",
       "      <th>w[2]</th>\n",
       "      <td>0.699</td>\n",
       "      <td>0.005</td>\n",
       "      <td>0.689</td>\n",
       "      <td>0.708</td>\n",
       "      <td>0.000</td>\n",
       "      <td>0.000</td>\n",
       "      <td>662.0</td>\n",
       "      <td>564.0</td>\n",
       "      <td>NaN</td>\n",
       "    </tr>\n",
       "    <tr>\n",
       "      <th>a</th>\n",
       "      <td>-1.402</td>\n",
       "      <td>0.012</td>\n",
       "      <td>-1.428</td>\n",
       "      <td>-1.382</td>\n",
       "      <td>0.001</td>\n",
       "      <td>0.000</td>\n",
       "      <td>446.0</td>\n",
       "      <td>235.0</td>\n",
       "      <td>NaN</td>\n",
       "    </tr>\n",
       "    <tr>\n",
       "      <th>sigma</th>\n",
       "      <td>0.014</td>\n",
       "      <td>0.001</td>\n",
       "      <td>0.012</td>\n",
       "      <td>0.016</td>\n",
       "      <td>0.000</td>\n",
       "      <td>0.000</td>\n",
       "      <td>781.0</td>\n",
       "      <td>331.0</td>\n",
       "      <td>NaN</td>\n",
       "    </tr>\n",
       "    <tr>\n",
       "      <th>hs[0]</th>\n",
       "      <td>4.882</td>\n",
       "      <td>0.014</td>\n",
       "      <td>4.856</td>\n",
       "      <td>4.908</td>\n",
       "      <td>0.001</td>\n",
       "      <td>0.001</td>\n",
       "      <td>312.0</td>\n",
       "      <td>452.0</td>\n",
       "      <td>NaN</td>\n",
       "    </tr>\n",
       "    <tr>\n",
       "      <th>hs[1]</th>\n",
       "      <td>5.811</td>\n",
       "      <td>0.025</td>\n",
       "      <td>5.768</td>\n",
       "      <td>5.862</td>\n",
       "      <td>0.001</td>\n",
       "      <td>0.001</td>\n",
       "      <td>356.0</td>\n",
       "      <td>425.0</td>\n",
       "      <td>NaN</td>\n",
       "    </tr>\n",
       "    <tr>\n",
       "      <th>hs[2]</th>\n",
       "      <td>10.697</td>\n",
       "      <td>0.018</td>\n",
       "      <td>10.660</td>\n",
       "      <td>10.734</td>\n",
       "      <td>0.001</td>\n",
       "      <td>0.001</td>\n",
       "      <td>576.0</td>\n",
       "      <td>679.0</td>\n",
       "      <td>NaN</td>\n",
       "    </tr>\n",
       "  </tbody>\n",
       "</table>\n",
       "</div>"
      ],
      "text/plain": [
       "         mean     sd  hdi_3%  hdi_97%  mcse_mean  mcse_sd  ess_bulk  ess_tail  \\\n",
       "w[0]    1.234  0.045   1.155    1.318      0.003    0.002     310.0     462.0   \n",
       "w[1]    1.159  0.012   1.133    1.180      0.001    0.000     368.0     484.0   \n",
       "w[2]    0.699  0.005   0.689    0.708      0.000    0.000     662.0     564.0   \n",
       "a      -1.402  0.012  -1.428   -1.382      0.001    0.000     446.0     235.0   \n",
       "sigma   0.014  0.001   0.012    0.016      0.000    0.000     781.0     331.0   \n",
       "hs[0]   4.882  0.014   4.856    4.908      0.001    0.001     312.0     452.0   \n",
       "hs[1]   5.811  0.025   5.768    5.862      0.001    0.001     356.0     425.0   \n",
       "hs[2]  10.697  0.018  10.660   10.734      0.001    0.001     576.0     679.0   \n",
       "\n",
       "       r_hat  \n",
       "w[0]     NaN  \n",
       "w[1]     NaN  \n",
       "w[2]     NaN  \n",
       "a        NaN  \n",
       "sigma    NaN  \n",
       "hs[0]    NaN  \n",
       "hs[1]    NaN  \n",
       "hs[2]    NaN  "
      ]
     },
     "execution_count": 242,
     "metadata": {},
     "output_type": "execute_result"
    }
   ],
   "source": [
    "az.summary(trace, var_names=[\"w\",\"a\",\"sigma\",\"hs\"])"
   ]
  },
  {
   "cell_type": "code",
   "execution_count": 260,
   "id": "3c5d9a58-6a79-4ea4-8358-cc0fbed9976b",
   "metadata": {},
   "outputs": [
    {
     "data": {
      "text/plain": [
       "{'w': 0.86, 'a': -3.22, 'hs': -2.25, 'sigma': -5.06, 'D': -4350092.66}"
      ]
     },
     "execution_count": 260,
     "metadata": {},
     "output_type": "execute_result"
    }
   ],
   "source": [
    "model.point_logps()"
   ]
  },
  {
   "cell_type": "code",
   "execution_count": 261,
   "id": "88a8628d-1406-4379-9e34-54840acbf509",
   "metadata": {},
   "outputs": [
    {
     "data": {
      "text/plain": [
       "{'w': array([2.08, 2.08, 2.08]),\n",
       " 'a': array(0.),\n",
       " 'hs': array([ 4.8,  5.8, 11. ]),\n",
       " 'sigma_log__': array(-4.60517019)}"
      ]
     },
     "execution_count": 261,
     "metadata": {},
     "output_type": "execute_result"
    }
   ],
   "source": [
    "model.initial_point"
   ]
  },
  {
   "cell_type": "code",
   "execution_count": 262,
   "id": "3868daeb-4126-4225-9923-fcb52cf80ba0",
   "metadata": {},
   "outputs": [
    {
     "data": {
      "text/plain": [
       "array([[-1.61055683e+00,  0.00000000e+00,  0.00000000e+00],\n",
       "       [-1.14013346e+00,  0.00000000e+00,  0.00000000e+00],\n",
       "       [-1.07946770e+00,  0.00000000e+00,  0.00000000e+00],\n",
       "       [-6.54356673e-01,  0.00000000e+00,  0.00000000e+00],\n",
       "       [-6.16600408e-01,  0.00000000e+00,  0.00000000e+00],\n",
       "       [-5.62511379e-01,  0.00000000e+00,  0.00000000e+00],\n",
       "       [-5.11198458e-01,  0.00000000e+00,  0.00000000e+00],\n",
       "       [-3.15017174e-01,  0.00000000e+00,  0.00000000e+00],\n",
       "       [-2.74731177e-01,  0.00000000e+00,  0.00000000e+00],\n",
       "       [ 2.12555643e-01,  6.10399788e-02,  0.00000000e+00],\n",
       "       [ 2.12555643e-01,  7.04038568e-02,  0.00000000e+00],\n",
       "       [ 2.12555643e-01,  1.24817267e-01,  0.00000000e+00],\n",
       "       [ 2.12555643e-01,  2.64624331e-01,  0.00000000e+00],\n",
       "       [ 2.12555643e-01,  2.79857597e-01,  0.00000000e+00],\n",
       "       [ 2.12555643e-01,  3.38571039e-01,  0.00000000e+00],\n",
       "       [ 2.12555643e-01,  3.52726144e-01,  0.00000000e+00],\n",
       "       [ 2.12555643e-01,  4.78059474e-01,  0.00000000e+00],\n",
       "       [ 2.12555643e-01,  5.02556373e-01,  0.00000000e+00],\n",
       "       [ 2.12555643e-01,  5.14583400e-01,  0.00000000e+00],\n",
       "       [ 2.12555643e-01,  5.38212015e-01,  0.00000000e+00],\n",
       "       [ 2.12555643e-01,  5.49820201e-01,  0.00000000e+00],\n",
       "       [ 2.12555643e-01,  5.66983669e-01,  0.00000000e+00],\n",
       "       [ 2.12555643e-01,  5.89419447e-01,  0.00000000e+00],\n",
       "       [ 2.12555643e-01,  6.05922004e-01,  0.00000000e+00],\n",
       "       [ 2.12555643e-01,  6.27510141e-01,  0.00000000e+00],\n",
       "       [ 2.12555643e-01,  6.69336651e-01,  0.00000000e+00],\n",
       "       [ 2.12555643e-01,  6.79525530e-01,  0.00000000e+00],\n",
       "       [ 2.12555643e-01,  7.24132833e-01,  0.00000000e+00],\n",
       "       [ 2.12555643e-01,  7.85243752e-01,  0.00000000e+00],\n",
       "       [ 2.12555643e-01,  8.21074767e-01,  0.00000000e+00],\n",
       "       [ 2.12555643e-01,  8.68335611e-01,  0.00000000e+00],\n",
       "       [ 2.12555643e-01,  8.76693574e-01,  0.00000000e+00],\n",
       "       [ 2.12555643e-01,  9.01356330e-01,  0.00000000e+00],\n",
       "       [ 2.12555643e-01,  9.09443909e-01,  0.00000000e+00],\n",
       "       [ 2.12555643e-01,  9.29381239e-01,  0.00000000e+00],\n",
       "       [ 2.12555643e-01,  9.45049761e-01,  0.00000000e+00],\n",
       "       [ 2.12555643e-01,  9.98033437e-01,  0.00000000e+00],\n",
       "       [ 2.12555643e-01,  1.01266994e+00,  0.00000000e+00],\n",
       "       [ 2.12555643e-01,  1.06916336e+00,  0.00000000e+00],\n",
       "       [ 2.12555643e-01,  1.13556807e+00,  0.00000000e+00],\n",
       "       [ 2.12555643e-01,  1.18568909e+00,  0.00000000e+00],\n",
       "       [ 2.12555643e-01,  1.24787717e+00,  0.00000000e+00],\n",
       "       [ 2.12555643e-01,  1.25074419e+00,  0.00000000e+00],\n",
       "       [ 2.12555643e-01,  1.27897120e+00,  0.00000000e+00],\n",
       "       [ 2.12555643e-01,  1.28452224e+00,  0.00000000e+00],\n",
       "       [ 2.12555643e-01,  1.29279143e+00,  0.00000000e+00],\n",
       "       [ 2.12555643e-01,  1.32520094e+00,  0.00000000e+00],\n",
       "       [ 2.12555643e-01,  1.36428937e+00,  0.00000000e+00],\n",
       "       [ 2.12555643e-01,  1.37192700e+00,  0.00000000e+00],\n",
       "       [ 2.12555643e-01,  1.37698653e+00,  0.00000000e+00],\n",
       "       [ 2.12555643e-01,  1.37950673e+00,  0.00000000e+00],\n",
       "       [ 2.12555643e-01,  1.41898936e+00,  0.00000000e+00],\n",
       "       [ 2.12555643e-01,  1.42381686e+00,  0.00000000e+00],\n",
       "       [ 2.12555643e-01,  1.43578462e+00,  0.00000000e+00],\n",
       "       [ 2.12555643e-01,  1.44525676e+00,  0.00000000e+00],\n",
       "       [ 2.12555643e-01,  1.46162013e+00,  0.00000000e+00],\n",
       "       [ 2.12555643e-01,  1.46393605e+00,  0.00000000e+00],\n",
       "       [ 2.12555643e-01,  1.47772005e+00,  0.00000000e+00],\n",
       "       [ 2.12555643e-01,  1.50250759e+00,  0.00000000e+00],\n",
       "       [ 2.12555643e-01,  1.51137105e+00,  0.00000000e+00],\n",
       "       [ 2.12555643e-01,  1.55243179e+00,  0.00000000e+00],\n",
       "       [ 2.12555643e-01,  1.56922852e+00,  0.00000000e+00],\n",
       "       [ 2.12555643e-01,  1.58369774e+00,  0.00000000e+00],\n",
       "       [ 2.12555643e-01,  1.58756324e+00,  1.12654049e-03],\n",
       "       [ 2.12555643e-01,  1.58756324e+00,  6.87115288e-02],\n",
       "       [ 2.12555643e-01,  1.58756324e+00,  1.05374973e-01],\n",
       "       [ 2.12555643e-01,  1.58756324e+00,  1.40741615e-01],\n",
       "       [ 2.12555643e-01,  1.58756324e+00,  1.49391236e-01],\n",
       "       [ 2.12555643e-01,  1.58756324e+00,  3.51450342e-01],\n",
       "       [ 2.12555643e-01,  1.58756324e+00,  4.19451623e-01],\n",
       "       [ 2.12555643e-01,  1.58756324e+00,  5.07496393e-01],\n",
       "       [ 2.12555643e-01,  1.58756324e+00,  5.54532705e-01],\n",
       "       [ 2.12555643e-01,  1.58756324e+00,  5.60259681e-01],\n",
       "       [ 2.12555643e-01,  1.58756324e+00,  5.65954045e-01],\n",
       "       [ 2.12555643e-01,  1.58756324e+00,  6.21182312e-01],\n",
       "       [ 2.12555643e-01,  1.58756324e+00,  7.37703239e-01],\n",
       "       [ 2.12555643e-01,  1.58756324e+00,  8.06978943e-01],\n",
       "       [ 2.12555643e-01,  1.58756324e+00,  8.71764876e-01],\n",
       "       [ 2.12555643e-01,  1.58756324e+00,  8.80094346e-01],\n",
       "       [ 2.12555643e-01,  1.58756324e+00,  8.84233207e-01],\n",
       "       [ 2.12555643e-01,  1.58756324e+00,  8.88355008e-01],\n",
       "       [ 2.12555643e-01,  1.58756324e+00,  9.55944880e-01],\n",
       "       [ 2.12555643e-01,  1.58756324e+00,  9.63604445e-01],\n",
       "       [ 2.12555643e-01,  1.58756324e+00,  1.00104620e+00],\n",
       "       [ 2.12555643e-01,  1.58756324e+00,  1.00836921e+00],\n",
       "       [ 2.12555643e-01,  1.58756324e+00,  1.01201071e+00],\n",
       "       [ 2.12555643e-01,  1.58756324e+00,  1.02644552e+00],\n",
       "       [ 2.12555643e-01,  1.58756324e+00,  1.05470470e+00],\n",
       "       [ 2.12555643e-01,  1.58756324e+00,  1.08218719e+00],\n",
       "       [ 2.12555643e-01,  1.58756324e+00,  1.08557000e+00],\n",
       "       [ 2.12555643e-01,  1.58756324e+00,  1.15092867e+00],\n",
       "       [ 2.12555643e-01,  1.58756324e+00,  1.16350299e+00],\n",
       "       [ 2.12555643e-01,  1.58756324e+00,  1.19426398e+00],\n",
       "       [ 2.12555643e-01,  1.58756324e+00,  1.22116237e+00],\n",
       "       [ 2.12555643e-01,  1.58756324e+00,  1.22410690e+00],\n",
       "       [ 2.12555643e-01,  1.58756324e+00,  1.22704279e+00],\n",
       "       [ 2.12555643e-01,  1.58756324e+00,  1.22997008e+00],\n",
       "       [ 2.12555643e-01,  1.58756324e+00,  1.23579908e+00],\n",
       "       [ 2.12555643e-01,  1.58756324e+00,  1.24447938e+00],\n",
       "       [ 2.12555643e-01,  1.58756324e+00,  1.26161713e+00]])"
      ]
     },
     "execution_count": 262,
     "metadata": {},
     "output_type": "execute_result"
    }
   ],
   "source": [
    "b1.eval()"
   ]
  },
  {
   "cell_type": "code",
   "execution_count": 249,
   "id": "7b68a67c-ac09-4b9c-8dc8-6da7b5eadce8",
   "metadata": {},
   "outputs": [
    {
     "data": {
      "text/plain": [
       "['D',\n",
       " 'RV_dims',\n",
       " '_RV_dims',\n",
       " '__class__',\n",
       " '__delattr__',\n",
       " '__dict__',\n",
       " '__dir__',\n",
       " '__doc__',\n",
       " '__enter__',\n",
       " '__eq__',\n",
       " '__exit__',\n",
       " '__format__',\n",
       " '__ge__',\n",
       " '__getattribute__',\n",
       " '__getitem__',\n",
       " '__getstate__',\n",
       " '__gt__',\n",
       " '__hash__',\n",
       " '__init__',\n",
       " '__init_subclass__',\n",
       " '__le__',\n",
       " '__lt__',\n",
       " '__module__',\n",
       " '__ne__',\n",
       " '__new__',\n",
       " '__reduce__',\n",
       " '__reduce_ex__',\n",
       " '__repr__',\n",
       " '__setattr__',\n",
       " '__setstate__',\n",
       " '__sizeof__',\n",
       " '__str__',\n",
       " '__subclasshook__',\n",
       " '__weakref__',\n",
       " '_aesara_config',\n",
       " '_config_context',\n",
       " '_context_class',\n",
       " '_coords',\n",
       " '_dim_lengths',\n",
       " '_initial_values',\n",
       " '_parent',\n",
       " '_repr_latex_',\n",
       " '_validate_name',\n",
       " 'a',\n",
       " 'add_coord',\n",
       " 'add_coords',\n",
       " 'add_random_variable',\n",
       " 'auto_deterministics',\n",
       " 'basic_RVs',\n",
       " 'check_bounds',\n",
       " 'check_start_vals',\n",
       " 'check_test_point',\n",
       " 'compile_d2logp',\n",
       " 'compile_dlogp',\n",
       " 'compile_fn',\n",
       " 'compile_logp',\n",
       " 'compute_initial_point',\n",
       " 'cont_vars',\n",
       " 'contexts',\n",
       " 'coords',\n",
       " 'create_value_var',\n",
       " 'd2logpt',\n",
       " 'datalogpt',\n",
       " 'deterministics',\n",
       " 'dim_lengths',\n",
       " 'disc_vars',\n",
       " 'dlogpt',\n",
       " 'eval_rv_shapes',\n",
       " 'flatten',\n",
       " 'free_RVs',\n",
       " 'hs',\n",
       " 'independent_vars',\n",
       " 'initial_point',\n",
       " 'initial_values',\n",
       " 'isroot',\n",
       " 'logp_dlogp_function',\n",
       " 'logpt',\n",
       " 'make_obs_var',\n",
       " 'model',\n",
       " 'mu',\n",
       " 'name',\n",
       " 'name_for',\n",
       " 'name_of',\n",
       " 'named_vars',\n",
       " 'ndim',\n",
       " 'next_rng',\n",
       " 'observed_RVs',\n",
       " 'observedlogpt',\n",
       " 'parent',\n",
       " 'point_logps',\n",
       " 'potentiallogpt',\n",
       " 'potentials',\n",
       " 'prefix',\n",
       " 'profile',\n",
       " 'register_rv',\n",
       " 'rng_seeder',\n",
       " 'rng_seq',\n",
       " 'root',\n",
       " 'rvs_to_values',\n",
       " 'set_data',\n",
       " 'set_initval',\n",
       " 'shape_from_dims',\n",
       " 'sigma',\n",
       " 'str_repr',\n",
       " 'test_point',\n",
       " 'unobserved_RVs',\n",
       " 'unobserved_value_vars',\n",
       " 'update_start_vals',\n",
       " 'value_vars',\n",
       " 'values_to_rvs',\n",
       " 'varlogp_nojact',\n",
       " 'varlogpt',\n",
       " 'vars',\n",
       " 'w']"
      ]
     },
     "execution_count": 249,
     "metadata": {},
     "output_type": "execute_result"
    }
   ],
   "source": [
    "model.up"
   ]
  },
  {
   "cell_type": "code",
   "execution_count": 239,
   "id": "f6b8f2d6-8207-485d-b001-2bb482f034d2",
   "metadata": {},
   "outputs": [
    {
     "data": {
      "text/html": [
       "\n",
       "<style>\n",
       "    /* Turns off some styling */\n",
       "    progress {\n",
       "        /* gets rid of default border in Firefox and Opera. */\n",
       "        border: none;\n",
       "        /* Needs to be in here for Safari polyfill so background images work as expected. */\n",
       "        background-size: auto;\n",
       "    }\n",
       "    .progress-bar-interrupted, .progress-bar-interrupted::-webkit-progress-bar {\n",
       "        background: #F44336;\n",
       "    }\n",
       "</style>\n"
      ],
      "text/plain": [
       "<IPython.core.display.HTML object>"
      ]
     },
     "metadata": {},
     "output_type": "display_data"
    },
    {
     "data": {
      "text/html": [
       "\n",
       "    <div>\n",
       "      <progress value='0' class='' max='30000' style='width:300px; height:20px; vertical-align: middle;'></progress>\n",
       "      0.00% [0/30000 00:00<00:00]\n",
       "    </div>\n",
       "    "
      ],
      "text/plain": [
       "<IPython.core.display.HTML object>"
      ]
     },
     "metadata": {},
     "output_type": "display_data"
    },
    {
     "ename": "FloatingPointError",
     "evalue": "NaN occurred in optimization. \nThe current approximation of RV `sigma_log__`.ravel()[0] is NaN.\nThe current approximation of RV `hs`.ravel()[0] is NaN.\nThe current approximation of RV `hs`.ravel()[1] is NaN.\nThe current approximation of RV `hs`.ravel()[2] is NaN.\nThe current approximation of RV `w`.ravel()[0] is NaN.\nThe current approximation of RV `w`.ravel()[1] is NaN.\nThe current approximation of RV `w`.ravel()[2] is NaN.\nThe current approximation of RV `a`.ravel()[0] is NaN.\nTry tracking this parameter: http://docs.pymc.io/notebooks/variational_api_quickstart.html#Tracking-parameters",
     "output_type": "error",
     "traceback": [
      "\u001b[0;31m---------------------------------------------------------------------------\u001b[0m",
      "\u001b[0;31mFloatingPointError\u001b[0m                        Traceback (most recent call last)",
      "\u001b[0;32m/tmp/ipykernel_95272/939731250.py\u001b[0m in \u001b[0;36m<module>\u001b[0;34m\u001b[0m\n\u001b[1;32m      1\u001b[0m \u001b[0;32mwith\u001b[0m \u001b[0mmodel\u001b[0m\u001b[0;34m:\u001b[0m\u001b[0;34m\u001b[0m\u001b[0;34m\u001b[0m\u001b[0m\n\u001b[0;32m----> 2\u001b[0;31m     \u001b[0mmean_field\u001b[0m \u001b[0;34m=\u001b[0m \u001b[0mpm\u001b[0m\u001b[0;34m.\u001b[0m\u001b[0mfit\u001b[0m\u001b[0;34m(\u001b[0m\u001b[0mmethod\u001b[0m\u001b[0;34m=\u001b[0m\u001b[0;34m\"advi\"\u001b[0m\u001b[0;34m,\u001b[0m \u001b[0mn\u001b[0m\u001b[0;34m=\u001b[0m\u001b[0;36m30_000\u001b[0m\u001b[0;34m)\u001b[0m\u001b[0;34m\u001b[0m\u001b[0;34m\u001b[0m\u001b[0m\n\u001b[0m",
      "\u001b[0;32m~/.local/miniconda3/envs/pymc/lib/python3.7/site-packages/pymc/variational/inference.py\u001b[0m in \u001b[0;36mfit\u001b[0;34m(n, local_rv, method, model, random_seed, start, inf_kwargs, **kwargs)\u001b[0m\n\u001b[1;32m    828\u001b[0m     \u001b[0;32melse\u001b[0m\u001b[0;34m:\u001b[0m\u001b[0;34m\u001b[0m\u001b[0;34m\u001b[0m\u001b[0m\n\u001b[1;32m    829\u001b[0m         \u001b[0;32mraise\u001b[0m \u001b[0mTypeError\u001b[0m\u001b[0;34m(\u001b[0m\u001b[0;34mf\"method should be one of {set(_select.keys())} or Inference instance\"\u001b[0m\u001b[0;34m)\u001b[0m\u001b[0;34m\u001b[0m\u001b[0;34m\u001b[0m\u001b[0m\n\u001b[0;32m--> 830\u001b[0;31m     \u001b[0;32mreturn\u001b[0m \u001b[0minference\u001b[0m\u001b[0;34m.\u001b[0m\u001b[0mfit\u001b[0m\u001b[0;34m(\u001b[0m\u001b[0mn\u001b[0m\u001b[0;34m,\u001b[0m \u001b[0;34m**\u001b[0m\u001b[0mkwargs\u001b[0m\u001b[0;34m)\u001b[0m\u001b[0;34m\u001b[0m\u001b[0;34m\u001b[0m\u001b[0m\n\u001b[0m",
      "\u001b[0;32m~/.local/miniconda3/envs/pymc/lib/python3.7/site-packages/pymc/variational/inference.py\u001b[0m in \u001b[0;36mfit\u001b[0;34m(self, n, score, callbacks, progressbar, **kwargs)\u001b[0m\n\u001b[1;32m    148\u001b[0m             \u001b[0mprogress\u001b[0m \u001b[0;34m=\u001b[0m \u001b[0mrange\u001b[0m\u001b[0;34m(\u001b[0m\u001b[0mn\u001b[0m\u001b[0;34m)\u001b[0m\u001b[0;34m\u001b[0m\u001b[0;34m\u001b[0m\u001b[0m\n\u001b[1;32m    149\u001b[0m         \u001b[0;32mif\u001b[0m \u001b[0mscore\u001b[0m\u001b[0;34m:\u001b[0m\u001b[0;34m\u001b[0m\u001b[0;34m\u001b[0m\u001b[0m\n\u001b[0;32m--> 150\u001b[0;31m             \u001b[0mstate\u001b[0m \u001b[0;34m=\u001b[0m \u001b[0mself\u001b[0m\u001b[0;34m.\u001b[0m\u001b[0m_iterate_with_loss\u001b[0m\u001b[0;34m(\u001b[0m\u001b[0;36m0\u001b[0m\u001b[0;34m,\u001b[0m \u001b[0mn\u001b[0m\u001b[0;34m,\u001b[0m \u001b[0mstep_func\u001b[0m\u001b[0;34m,\u001b[0m \u001b[0mprogress\u001b[0m\u001b[0;34m,\u001b[0m \u001b[0mcallbacks\u001b[0m\u001b[0;34m)\u001b[0m\u001b[0;34m\u001b[0m\u001b[0;34m\u001b[0m\u001b[0m\n\u001b[0m\u001b[1;32m    151\u001b[0m         \u001b[0;32melse\u001b[0m\u001b[0;34m:\u001b[0m\u001b[0;34m\u001b[0m\u001b[0;34m\u001b[0m\u001b[0m\n\u001b[1;32m    152\u001b[0m             \u001b[0mstate\u001b[0m \u001b[0;34m=\u001b[0m \u001b[0mself\u001b[0m\u001b[0;34m.\u001b[0m\u001b[0m_iterate_without_loss\u001b[0m\u001b[0;34m(\u001b[0m\u001b[0;36m0\u001b[0m\u001b[0;34m,\u001b[0m \u001b[0mn\u001b[0m\u001b[0;34m,\u001b[0m \u001b[0mstep_func\u001b[0m\u001b[0;34m,\u001b[0m \u001b[0mprogress\u001b[0m\u001b[0;34m,\u001b[0m \u001b[0mcallbacks\u001b[0m\u001b[0;34m)\u001b[0m\u001b[0;34m\u001b[0m\u001b[0;34m\u001b[0m\u001b[0m\n",
      "\u001b[0;32m~/.local/miniconda3/envs/pymc/lib/python3.7/site-packages/pymc/variational/inference.py\u001b[0m in \u001b[0;36m_iterate_with_loss\u001b[0;34m(self, s, n, step_func, progress, callbacks)\u001b[0m\n\u001b[1;32m    234\u001b[0m                     \u001b[0;32mexcept\u001b[0m \u001b[0mIndexError\u001b[0m\u001b[0;34m:\u001b[0m\u001b[0;34m\u001b[0m\u001b[0;34m\u001b[0m\u001b[0m\n\u001b[1;32m    235\u001b[0m                         \u001b[0;32mpass\u001b[0m\u001b[0;34m\u001b[0m\u001b[0;34m\u001b[0m\u001b[0m\n\u001b[0;32m--> 236\u001b[0;31m                     \u001b[0;32mraise\u001b[0m \u001b[0mFloatingPointError\u001b[0m\u001b[0;34m(\u001b[0m\u001b[0;34m\"\\n\"\u001b[0m\u001b[0;34m.\u001b[0m\u001b[0mjoin\u001b[0m\u001b[0;34m(\u001b[0m\u001b[0merrmsg\u001b[0m\u001b[0;34m)\u001b[0m\u001b[0;34m)\u001b[0m\u001b[0;34m\u001b[0m\u001b[0;34m\u001b[0m\u001b[0m\n\u001b[0m\u001b[1;32m    237\u001b[0m                 \u001b[0mscores\u001b[0m\u001b[0;34m[\u001b[0m\u001b[0mi\u001b[0m\u001b[0;34m]\u001b[0m \u001b[0;34m=\u001b[0m \u001b[0me\u001b[0m\u001b[0;34m\u001b[0m\u001b[0;34m\u001b[0m\u001b[0m\n\u001b[1;32m    238\u001b[0m                 \u001b[0;32mif\u001b[0m \u001b[0mi\u001b[0m \u001b[0;34m%\u001b[0m \u001b[0;36m10\u001b[0m \u001b[0;34m==\u001b[0m \u001b[0;36m0\u001b[0m\u001b[0;34m:\u001b[0m\u001b[0;34m\u001b[0m\u001b[0;34m\u001b[0m\u001b[0m\n",
      "\u001b[0;31mFloatingPointError\u001b[0m: NaN occurred in optimization. \nThe current approximation of RV `sigma_log__`.ravel()[0] is NaN.\nThe current approximation of RV `hs`.ravel()[0] is NaN.\nThe current approximation of RV `hs`.ravel()[1] is NaN.\nThe current approximation of RV `hs`.ravel()[2] is NaN.\nThe current approximation of RV `w`.ravel()[0] is NaN.\nThe current approximation of RV `w`.ravel()[1] is NaN.\nThe current approximation of RV `w`.ravel()[2] is NaN.\nThe current approximation of RV `a`.ravel()[0] is NaN.\nTry tracking this parameter: http://docs.pymc.io/notebooks/variational_api_quickstart.html#Tracking-parameters"
     ]
    }
   ],
   "source": [
    "with model:\n",
    "    mean_field = pm.fit(method=\"advi\", n=30_000)"
   ]
  },
  {
   "cell_type": "code",
   "execution_count": null,
   "id": "0c9b5d36-6a7a-475e-9d7d-b05da6721362",
   "metadata": {},
   "outputs": [],
   "source": [
    "vi_trace = mean_field.sample(5000)"
   ]
  },
  {
   "cell_type": "code",
   "execution_count": 111,
   "id": "c72b58c0-c267-4818-990e-43cf0829d296",
   "metadata": {},
   "outputs": [],
   "source": [
    "## other priors\n",
    "# physixal exponents (w)\n",
    "import pymc as pm\n",
    "from pymc import Model\n",
    "from transforms import LogZTransform\n",
    "\n",
    "import aesara\n",
    "import aesara.tensor as at\n",
    "\n",
    "h_obs = df['stage'].values.reshape(-1,1)\n",
    "    \n",
    "q_obs = df['q'].values.reshape(-1,1)\n",
    "q_transform = LogZTransform(q_obs)\n",
    "y = q_transform.transform(q_obs)\n",
    "\n",
    "\n",
    "#breaks = np.array([4.0, 11.0])\n",
    "#breaks_sigma = np.array([2.0, 2.0])\n",
    "segments = 3\n",
    "\n",
    "#ninf = at.constant([np.NINF])\n",
    "#inf = at.constant([np.inf])\n",
    "ninf = at.constant([-999.0])\n",
    "inf = at.constant([999.0])\n",
    "\n",
    "clips_array = np.zeros(segments)\n",
    "clips_array[0] = np.NINF\n",
    "clips = at.constant(clips_array) # TODO could be a problem with clips?\n",
    "\n",
    "COORDS = {\"obs\" : np.arange(len(y)), \"splines\":np.arange(segments)}\n",
    "#self.add_coords(COORDS)\n",
    "\n",
    "with Model(coords=COORDS) as model:\n",
    "    #import pdb; pdb.set_trace()\n",
    "\n",
    "    #TODO CREATE DATA VARIABLE\n",
    "\n",
    "    \n",
    "    h0_offset = np.ones(segments)\n",
    "    h0_offset[0] = 0 #\n",
    "    \n",
    "    #PRIORS\n",
    "    #w = pm.HalfCauchy(\"w\", beta=3, dims=\"splines\")\n",
    "    w = pm.Normal(\"w\", mu=2.08, sigma=0.3, dims=\"splines\")\n",
    "    #w = pm.TruncatedNormal(\"w\", mu=2.08, sigma=0.3, lower=0, dims=\"splines\")\n",
    "    a = pm.Normal(\"a\", mu=0, sigma=10)\n",
    "    \n",
    "    if segments == 1:\n",
    "        hs = pm.Normal(\"hs\", mu=0, sigma=3, shape=1)\n",
    "        \n",
    "    else:\n",
    "        hss = pm.Normal(\"hss\", mu=0, sigma=3, shape=1)\n",
    "        # uniformly distribute the rest between hss\n",
    "        intervals = pm.HalfCauchy(\"ints\", beta=3, shape=segments-1)\n",
    "        #intervals = pm.Exponential(\"ints\", 3, shape=segments-1)\n",
    "        #intervals = pm.Uniform(\"ints\", lower=0.0, upper=10.0, shape=segments-1, initval=[1.0,1.0])\n",
    "        temp = at.concatenate([hss, intervals])\n",
    "        hs = pm.Deterministic(\"hs\", temp.cumsum()) \n",
    "    \n",
    "    \n",
    "    \n",
    "    #hs = pm.Normal(\"hs\", mu=breaks, sigma=breaks_sigma, dims=\"splines\") #shape=breaks.shape[0])\n",
    "    \n",
    "    #hs = pm.Exponential(\"hs\", breaks, dims=\"splines\")\n",
    "    \n",
    "\n",
    "    hsi = at.concatenate([hs, inf])[1:]\n",
    "    \n",
    "    \n",
    "    # MODEL\n",
    "    h0 = hs - h0_offset #XXX check this. should it be a tensor?\n",
    "    #h = at.dcol('h')\n",
    "\n",
    "    b0 = at.switch( at.le(h_obs, hs), clips , at.log(h_obs-h0))\n",
    "    b1 = at.switch( at.le(h_obs, hsi), b0, at.log(hsi-h0))\n",
    "    #b0 = at.switch( at.le(h, hs), clips , at.log(h-hs))\n",
    "    #b1 = at.switch( at.le(h, hsi), b0, at.log(hsi-hs))\n",
    "    #B = aesara.function([h], b1) #b1\n",
    "    \n",
    "    mu = pm.Deterministic(\"mu\", a + at.dot(b1, w.T))\n",
    "    sigma = pm.HalfCauchy(\"sigma\", beta=1, initval=0.01)\n",
    "    D = pm.Normal(\"D\", mu, sigma, observed=y.flatten(), dims=\"obs\") #TODO check flatten"
   ]
  },
  {
   "cell_type": "code",
   "execution_count": 112,
   "id": "19e81d94-65fc-4485-9f05-b20ea612eb28",
   "metadata": {},
   "outputs": [
    {
     "data": {
      "text/plain": [
       "array([1.78001092, 3.56351224, 3.60433736])"
      ]
     },
     "execution_count": 112,
     "metadata": {},
     "output_type": "execute_result"
    }
   ],
   "source": [
    "h0.eval()"
   ]
  },
  {
   "cell_type": "code",
   "execution_count": 113,
   "id": "a9064125-2bdc-448b-8eb7-db1900fc54cb",
   "metadata": {},
   "outputs": [
    {
     "name": "stderr",
     "output_type": "stream",
     "text": [
      "Auto-assigning NUTS sampler...\n",
      "Initializing NUTS using jitter+adapt_diag...\n",
      "/home/thodson/.local/miniconda3/envs/pymc/lib/python3.7/site-packages/pymc/aesaraf.py:1010: UserWarning: The parameter 'updates' of aesara.function() expects an OrderedDict, got <class 'dict'>. Using a standard dictionary here results in non-deterministic behavior. You should use an OrderedDict if you are using Python 2.7 (collections.OrderedDict for older python), or use a list of (shared, update) pairs. Do not just convert your dictionary to this type before the call as the conversion will still be non-deterministic.\n",
      "  **kwargs,\n",
      "Sequential sampling (1 chains in 1 job)\n",
      "NUTS: [w, a, hss, ints, sigma]\n"
     ]
    },
    {
     "data": {
      "text/html": [
       "\n",
       "<style>\n",
       "    /* Turns off some styling */\n",
       "    progress {\n",
       "        /* gets rid of default border in Firefox and Opera. */\n",
       "        border: none;\n",
       "        /* Needs to be in here for Safari polyfill so background images work as expected. */\n",
       "        background-size: auto;\n",
       "    }\n",
       "    .progress-bar-interrupted, .progress-bar-interrupted::-webkit-progress-bar {\n",
       "        background: #F44336;\n",
       "    }\n",
       "</style>\n"
      ],
      "text/plain": [
       "<IPython.core.display.HTML object>"
      ]
     },
     "metadata": {},
     "output_type": "display_data"
    },
    {
     "data": {
      "text/html": [
       "\n",
       "    <div>\n",
       "      <progress value='3000' class='' max='3000' style='width:300px; height:20px; vertical-align: middle;'></progress>\n",
       "      100.00% [3000/3000 03:02<00:00 Sampling chain 0, 0 divergences]\n",
       "    </div>\n",
       "    "
      ],
      "text/plain": [
       "<IPython.core.display.HTML object>"
      ]
     },
     "metadata": {},
     "output_type": "display_data"
    },
    {
     "name": "stderr",
     "output_type": "stream",
     "text": [
      "Sampling 1 chain for 2_000 tune and 1_000 draw iterations (2_000 + 1_000 draws total) took 182 seconds.\n",
      "Only one chain was sampled, this makes it impossible to run some convergence checks\n"
     ]
    }
   ],
   "source": [
    "# CompileD XXXX\n",
    "with model:\n",
    "    trace = pm.sample(tune=2000, chains=1, target_accept=0.95)"
   ]
  },
  {
   "cell_type": "code",
   "execution_count": 115,
   "id": "29116211-ea0e-462d-a235-a98ae8539712",
   "metadata": {},
   "outputs": [
    {
     "name": "stderr",
     "output_type": "stream",
     "text": [
      "arviz - WARNING - Shape validation failed: input_shape: (1, 1000), minimum_shape: (chains=2, draws=4)\n"
     ]
    },
    {
     "data": {
      "text/html": [
       "<div>\n",
       "<style scoped>\n",
       "    .dataframe tbody tr th:only-of-type {\n",
       "        vertical-align: middle;\n",
       "    }\n",
       "\n",
       "    .dataframe tbody tr th {\n",
       "        vertical-align: top;\n",
       "    }\n",
       "\n",
       "    .dataframe thead th {\n",
       "        text-align: right;\n",
       "    }\n",
       "</style>\n",
       "<table border=\"1\" class=\"dataframe\">\n",
       "  <thead>\n",
       "    <tr style=\"text-align: right;\">\n",
       "      <th></th>\n",
       "      <th>mean</th>\n",
       "      <th>sd</th>\n",
       "      <th>hdi_3%</th>\n",
       "      <th>hdi_97%</th>\n",
       "      <th>mcse_mean</th>\n",
       "      <th>mcse_sd</th>\n",
       "      <th>ess_bulk</th>\n",
       "      <th>ess_tail</th>\n",
       "      <th>r_hat</th>\n",
       "    </tr>\n",
       "  </thead>\n",
       "  <tbody>\n",
       "    <tr>\n",
       "      <th>w[0]</th>\n",
       "      <td>2.156</td>\n",
       "      <td>0.275</td>\n",
       "      <td>1.587</td>\n",
       "      <td>2.634</td>\n",
       "      <td>0.010</td>\n",
       "      <td>0.007</td>\n",
       "      <td>695.0</td>\n",
       "      <td>721.0</td>\n",
       "      <td>NaN</td>\n",
       "    </tr>\n",
       "    <tr>\n",
       "      <th>w[1]</th>\n",
       "      <td>2.187</td>\n",
       "      <td>0.319</td>\n",
       "      <td>1.615</td>\n",
       "      <td>2.801</td>\n",
       "      <td>0.011</td>\n",
       "      <td>0.008</td>\n",
       "      <td>879.0</td>\n",
       "      <td>676.0</td>\n",
       "      <td>NaN</td>\n",
       "    </tr>\n",
       "    <tr>\n",
       "      <th>w[2]</th>\n",
       "      <td>1.433</td>\n",
       "      <td>0.031</td>\n",
       "      <td>1.378</td>\n",
       "      <td>1.492</td>\n",
       "      <td>0.001</td>\n",
       "      <td>0.001</td>\n",
       "      <td>825.0</td>\n",
       "      <td>811.0</td>\n",
       "      <td>NaN</td>\n",
       "    </tr>\n",
       "    <tr>\n",
       "      <th>a</th>\n",
       "      <td>-1.322</td>\n",
       "      <td>0.288</td>\n",
       "      <td>-1.862</td>\n",
       "      <td>-0.787</td>\n",
       "      <td>0.013</td>\n",
       "      <td>0.009</td>\n",
       "      <td>505.0</td>\n",
       "      <td>483.0</td>\n",
       "      <td>NaN</td>\n",
       "    </tr>\n",
       "    <tr>\n",
       "      <th>sigma</th>\n",
       "      <td>0.084</td>\n",
       "      <td>0.006</td>\n",
       "      <td>0.074</td>\n",
       "      <td>0.095</td>\n",
       "      <td>0.000</td>\n",
       "      <td>0.000</td>\n",
       "      <td>823.0</td>\n",
       "      <td>695.0</td>\n",
       "      <td>NaN</td>\n",
       "    </tr>\n",
       "    <tr>\n",
       "      <th>hs[0]</th>\n",
       "      <td>4.628</td>\n",
       "      <td>0.103</td>\n",
       "      <td>4.430</td>\n",
       "      <td>4.819</td>\n",
       "      <td>0.005</td>\n",
       "      <td>0.003</td>\n",
       "      <td>511.0</td>\n",
       "      <td>508.0</td>\n",
       "      <td>NaN</td>\n",
       "    </tr>\n",
       "    <tr>\n",
       "      <th>hs[1]</th>\n",
       "      <td>5.394</td>\n",
       "      <td>0.060</td>\n",
       "      <td>5.272</td>\n",
       "      <td>5.500</td>\n",
       "      <td>0.002</td>\n",
       "      <td>0.002</td>\n",
       "      <td>734.0</td>\n",
       "      <td>793.0</td>\n",
       "      <td>NaN</td>\n",
       "    </tr>\n",
       "    <tr>\n",
       "      <th>hs[2]</th>\n",
       "      <td>5.478</td>\n",
       "      <td>0.047</td>\n",
       "      <td>5.390</td>\n",
       "      <td>5.560</td>\n",
       "      <td>0.002</td>\n",
       "      <td>0.001</td>\n",
       "      <td>776.0</td>\n",
       "      <td>762.0</td>\n",
       "      <td>NaN</td>\n",
       "    </tr>\n",
       "  </tbody>\n",
       "</table>\n",
       "</div>"
      ],
      "text/plain": [
       "        mean     sd  hdi_3%  hdi_97%  mcse_mean  mcse_sd  ess_bulk  ess_tail  \\\n",
       "w[0]   2.156  0.275   1.587    2.634      0.010    0.007     695.0     721.0   \n",
       "w[1]   2.187  0.319   1.615    2.801      0.011    0.008     879.0     676.0   \n",
       "w[2]   1.433  0.031   1.378    1.492      0.001    0.001     825.0     811.0   \n",
       "a     -1.322  0.288  -1.862   -0.787      0.013    0.009     505.0     483.0   \n",
       "sigma  0.084  0.006   0.074    0.095      0.000    0.000     823.0     695.0   \n",
       "hs[0]  4.628  0.103   4.430    4.819      0.005    0.003     511.0     508.0   \n",
       "hs[1]  5.394  0.060   5.272    5.500      0.002    0.002     734.0     793.0   \n",
       "hs[2]  5.478  0.047   5.390    5.560      0.002    0.001     776.0     762.0   \n",
       "\n",
       "       r_hat  \n",
       "w[0]     NaN  \n",
       "w[1]     NaN  \n",
       "w[2]     NaN  \n",
       "a        NaN  \n",
       "sigma    NaN  \n",
       "hs[0]    NaN  \n",
       "hs[1]    NaN  \n",
       "hs[2]    NaN  "
      ]
     },
     "execution_count": 115,
     "metadata": {},
     "output_type": "execute_result"
    }
   ],
   "source": [
    "az.summary(trace, var_names=[\"w\",\"a\",\"sigma\",\"hs\"])"
   ]
  },
  {
   "cell_type": "code",
   "execution_count": 193,
   "id": "4ecb5df6-f4b0-4c0e-8c42-1e7eef38e6c8",
   "metadata": {},
   "outputs": [],
   "source": [
    "### BEST YET!\n",
    "## other priors\n",
    "# physixal exponents (w)\n",
    "import pymc as pm\n",
    "from pymc import Model\n",
    "from transforms import LogZTransform\n",
    "\n",
    "import aesara\n",
    "import aesara.tensor as at\n",
    "\n",
    "h_obs = df['stage'].values.reshape(-1,1)\n",
    "    \n",
    "q_obs = df['q'].values.reshape(-1,1)\n",
    "q_transform = LogZTransform(q_obs)\n",
    "y = q_transform.transform(q_obs)\n",
    "\n",
    "\n",
    "\n",
    "segments = 3\n",
    "\n",
    "#ninf = at.constant([np.NINF])\n",
    "#inf = at.constant([np.inf])\n",
    "ninf = at.constant([-10.0])\n",
    "inf = at.constant([10.0])\n",
    "\n",
    "clips_array = np.zeros(segments)\n",
    "clips_array[0] = ninf.eval()\n",
    "clips = at.constant(clips_array) # TODO could be a problem with clips?\n",
    "\n",
    "COORDS = {\"obs\" : np.arange(len(y)), \"splines\":np.arange(segments)}\n",
    "#self.add_coords(COORDS)\n",
    "\n",
    "with Model(coords=COORDS) as model:\n",
    "\n",
    "    h0_offset = np.ones(segments)\n",
    "    h0_offset[0] = 0 #\n",
    "    \n",
    "    #PRIORS\n",
    "    w = pm.Normal(\"w\", mu=2.08, sigma=0.3, dims=\"splines\")\n",
    "    #w = pm.TruncatedNormal(\"w\", mu=2.08, sigma=0.3, lower=0, dims=\"splines\")\n",
    "    a = pm.Normal(\"a\", mu=0, sigma=10)\n",
    "    sigma = pm.HalfCauchy(\"sigma\", beta=1, initval=0.01)\n",
    "    \n",
    "    intervals = pm.HalfCauchy(\"intervals\", beta=3, shape=segments)\n",
    "    hs = pm.Deterministic(\"hs\", intervals.cumsum())\n",
    "    \n",
    "    hsi = at.concatenate([hs, inf])[1:]\n",
    "    \n",
    "    \n",
    "    # MODEL\n",
    "    h0 = hs - h0_offset \n",
    "    b0 = at.switch( at.le(h_obs, hs), clips , at.log(h_obs-h0))\n",
    "    b1 = at.switch( at.le(h_obs, hsi), b0, at.log(hsi-h0))\n",
    "    mu = pm.Deterministic(\"mu\", a + at.dot(b1, w.T))\n",
    "    \n",
    "    D = pm.Normal(\"D\", mu, sigma, observed=y.flatten(), dims=\"obs\") #TODO check flatten"
   ]
  },
  {
   "cell_type": "code",
   "execution_count": 194,
   "id": "4f36f412-c061-45fe-91e5-bbe12e36aa08",
   "metadata": {},
   "outputs": [],
   "source": [
    "#with model:\n",
    "#    mean_field = pm.fit(method=\"advi\", n=30_000)"
   ]
  },
  {
   "cell_type": "code",
   "execution_count": 195,
   "id": "fe4d4d1d-50be-4121-963e-a06dd5d3a9b3",
   "metadata": {},
   "outputs": [
    {
     "name": "stderr",
     "output_type": "stream",
     "text": [
      "Auto-assigning NUTS sampler...\n",
      "Initializing NUTS using jitter+adapt_diag...\n",
      "/home/thodson/.local/miniconda3/envs/pymc/lib/python3.7/site-packages/pymc/aesaraf.py:1010: UserWarning: The parameter 'updates' of aesara.function() expects an OrderedDict, got <class 'dict'>. Using a standard dictionary here results in non-deterministic behavior. You should use an OrderedDict if you are using Python 2.7 (collections.OrderedDict for older python), or use a list of (shared, update) pairs. Do not just convert your dictionary to this type before the call as the conversion will still be non-deterministic.\n",
      "  **kwargs,\n",
      "Sequential sampling (1 chains in 1 job)\n",
      "NUTS: [w, a, intervals, sigma]\n"
     ]
    },
    {
     "data": {
      "text/html": [
       "\n",
       "<style>\n",
       "    /* Turns off some styling */\n",
       "    progress {\n",
       "        /* gets rid of default border in Firefox and Opera. */\n",
       "        border: none;\n",
       "        /* Needs to be in here for Safari polyfill so background images work as expected. */\n",
       "        background-size: auto;\n",
       "    }\n",
       "    .progress-bar-interrupted, .progress-bar-interrupted::-webkit-progress-bar {\n",
       "        background: #F44336;\n",
       "    }\n",
       "</style>\n"
      ],
      "text/plain": [
       "<IPython.core.display.HTML object>"
      ]
     },
     "metadata": {},
     "output_type": "display_data"
    },
    {
     "data": {
      "text/html": [
       "\n",
       "    <div>\n",
       "      <progress value='3000' class='' max='3000' style='width:300px; height:20px; vertical-align: middle;'></progress>\n",
       "      100.00% [3000/3000 05:23<00:00 Sampling chain 0, 6 divergences]\n",
       "    </div>\n",
       "    "
      ],
      "text/plain": [
       "<IPython.core.display.HTML object>"
      ]
     },
     "metadata": {},
     "output_type": "display_data"
    },
    {
     "name": "stderr",
     "output_type": "stream",
     "text": [
      "Sampling 1 chain for 2_000 tune and 1_000 draw iterations (2_000 + 1_000 draws total) took 324 seconds.\n",
      "There were 6 divergences after tuning. Increase `target_accept` or reparameterize.\n",
      "Only one chain was sampled, this makes it impossible to run some convergence checks\n"
     ]
    }
   ],
   "source": [
    "# CompileD XXXX\n",
    "# set inf to 10\n",
    "# inf is hs so could be higher\n",
    "# ninf is y so -10 may be fine\n",
    "with model:\n",
    "    trace = pm.sample(tune=2000, chains=1, target_accept=0.90) #2 minutes before"
   ]
  },
  {
   "cell_type": "code",
   "execution_count": 198,
   "id": "6f8e4792-9b42-4fe4-8682-eed2f49545a3",
   "metadata": {},
   "outputs": [
    {
     "name": "stderr",
     "output_type": "stream",
     "text": [
      "arviz - WARNING - Shape validation failed: input_shape: (1, 1000), minimum_shape: (chains=2, draws=4)\n"
     ]
    },
    {
     "data": {
      "text/html": [
       "<div>\n",
       "<style scoped>\n",
       "    .dataframe tbody tr th:only-of-type {\n",
       "        vertical-align: middle;\n",
       "    }\n",
       "\n",
       "    .dataframe tbody tr th {\n",
       "        vertical-align: top;\n",
       "    }\n",
       "\n",
       "    .dataframe thead th {\n",
       "        text-align: right;\n",
       "    }\n",
       "</style>\n",
       "<table border=\"1\" class=\"dataframe\">\n",
       "  <thead>\n",
       "    <tr style=\"text-align: right;\">\n",
       "      <th></th>\n",
       "      <th>mean</th>\n",
       "      <th>sd</th>\n",
       "      <th>hdi_3%</th>\n",
       "      <th>hdi_97%</th>\n",
       "      <th>mcse_mean</th>\n",
       "      <th>mcse_sd</th>\n",
       "      <th>ess_bulk</th>\n",
       "      <th>ess_tail</th>\n",
       "      <th>r_hat</th>\n",
       "    </tr>\n",
       "  </thead>\n",
       "  <tbody>\n",
       "    <tr>\n",
       "      <th>w[0]</th>\n",
       "      <td>2.107</td>\n",
       "      <td>0.301</td>\n",
       "      <td>1.588</td>\n",
       "      <td>2.693</td>\n",
       "      <td>0.020</td>\n",
       "      <td>0.015</td>\n",
       "      <td>244.0</td>\n",
       "      <td>540.0</td>\n",
       "      <td>NaN</td>\n",
       "    </tr>\n",
       "    <tr>\n",
       "      <th>w[1]</th>\n",
       "      <td>2.111</td>\n",
       "      <td>0.296</td>\n",
       "      <td>1.550</td>\n",
       "      <td>2.638</td>\n",
       "      <td>0.020</td>\n",
       "      <td>0.014</td>\n",
       "      <td>215.0</td>\n",
       "      <td>262.0</td>\n",
       "      <td>NaN</td>\n",
       "    </tr>\n",
       "    <tr>\n",
       "      <th>w[2]</th>\n",
       "      <td>1.866</td>\n",
       "      <td>0.153</td>\n",
       "      <td>1.589</td>\n",
       "      <td>2.155</td>\n",
       "      <td>0.010</td>\n",
       "      <td>0.007</td>\n",
       "      <td>215.0</td>\n",
       "      <td>203.0</td>\n",
       "      <td>NaN</td>\n",
       "    </tr>\n",
       "    <tr>\n",
       "      <th>a</th>\n",
       "      <td>-4.587</td>\n",
       "      <td>1.768</td>\n",
       "      <td>-6.902</td>\n",
       "      <td>-0.559</td>\n",
       "      <td>0.179</td>\n",
       "      <td>0.127</td>\n",
       "      <td>148.0</td>\n",
       "      <td>109.0</td>\n",
       "      <td>NaN</td>\n",
       "    </tr>\n",
       "    <tr>\n",
       "      <th>sigma</th>\n",
       "      <td>0.217</td>\n",
       "      <td>0.016</td>\n",
       "      <td>0.186</td>\n",
       "      <td>0.246</td>\n",
       "      <td>0.001</td>\n",
       "      <td>0.001</td>\n",
       "      <td>458.0</td>\n",
       "      <td>379.0</td>\n",
       "      <td>NaN</td>\n",
       "    </tr>\n",
       "    <tr>\n",
       "      <th>hs[0]</th>\n",
       "      <td>1.943</td>\n",
       "      <td>1.275</td>\n",
       "      <td>0.002</td>\n",
       "      <td>4.323</td>\n",
       "      <td>0.138</td>\n",
       "      <td>0.121</td>\n",
       "      <td>86.0</td>\n",
       "      <td>29.0</td>\n",
       "      <td>NaN</td>\n",
       "    </tr>\n",
       "    <tr>\n",
       "      <th>hs[1]</th>\n",
       "      <td>3.693</td>\n",
       "      <td>1.216</td>\n",
       "      <td>1.539</td>\n",
       "      <td>5.298</td>\n",
       "      <td>0.081</td>\n",
       "      <td>0.063</td>\n",
       "      <td>118.0</td>\n",
       "      <td>46.0</td>\n",
       "      <td>NaN</td>\n",
       "    </tr>\n",
       "    <tr>\n",
       "      <th>hs[2]</th>\n",
       "      <td>5.103</td>\n",
       "      <td>0.219</td>\n",
       "      <td>4.683</td>\n",
       "      <td>5.532</td>\n",
       "      <td>0.014</td>\n",
       "      <td>0.010</td>\n",
       "      <td>220.0</td>\n",
       "      <td>158.0</td>\n",
       "      <td>NaN</td>\n",
       "    </tr>\n",
       "  </tbody>\n",
       "</table>\n",
       "</div>"
      ],
      "text/plain": [
       "        mean     sd  hdi_3%  hdi_97%  mcse_mean  mcse_sd  ess_bulk  ess_tail  \\\n",
       "w[0]   2.107  0.301   1.588    2.693      0.020    0.015     244.0     540.0   \n",
       "w[1]   2.111  0.296   1.550    2.638      0.020    0.014     215.0     262.0   \n",
       "w[2]   1.866  0.153   1.589    2.155      0.010    0.007     215.0     203.0   \n",
       "a     -4.587  1.768  -6.902   -0.559      0.179    0.127     148.0     109.0   \n",
       "sigma  0.217  0.016   0.186    0.246      0.001    0.001     458.0     379.0   \n",
       "hs[0]  1.943  1.275   0.002    4.323      0.138    0.121      86.0      29.0   \n",
       "hs[1]  3.693  1.216   1.539    5.298      0.081    0.063     118.0      46.0   \n",
       "hs[2]  5.103  0.219   4.683    5.532      0.014    0.010     220.0     158.0   \n",
       "\n",
       "       r_hat  \n",
       "w[0]     NaN  \n",
       "w[1]     NaN  \n",
       "w[2]     NaN  \n",
       "a        NaN  \n",
       "sigma    NaN  \n",
       "hs[0]    NaN  \n",
       "hs[1]    NaN  \n",
       "hs[2]    NaN  "
      ]
     },
     "execution_count": 198,
     "metadata": {},
     "output_type": "execute_result"
    }
   ],
   "source": [
    "az.summary(trace, var_names=[\"w\",\"a\",\"sigma\",\"hs\"])"
   ]
  },
  {
   "cell_type": "code",
   "execution_count": 199,
   "id": "eb88c4b6-89b9-46e2-be9d-98b82b3ed7ac",
   "metadata": {},
   "outputs": [
    {
     "data": {
      "image/png": "[encoded data removed]",
      "text/plain": [
       "<Figure size 432x633.6 with 1 Axes>"
      ]
     },
     "metadata": {
      "needs_background": "light"
     },
     "output_type": "display_data"
    }
   ],
   "source": [
    "az.plot_forest(trace, var_names=[\"w\",\"a\",\"sigma\", \"hs\",\"sigma\"], combined=False);"
   ]
  },
  {
   "cell_type": "code",
   "execution_count": 200,
   "id": "b9459d6e-6e3f-4281-9f74-84d49616daf5",
   "metadata": {},
   "outputs": [
    {
     "name": "stderr",
     "output_type": "stream",
     "text": [
      "/home/thodson/.local/miniconda3/envs/pymc/lib/python3.7/site-packages/pymc/aesaraf.py:1010: UserWarning: The parameter 'updates' of aesara.function() expects an OrderedDict, got <class 'dict'>. Using a standard dictionary here results in non-deterministic behavior. You should use an OrderedDict if you are using Python 2.7 (collections.OrderedDict for older python), or use a list of (shared, update) pairs. Do not just convert your dictionary to this type before the call as the conversion will still be non-deterministic.\n",
      "  **kwargs,\n"
     ]
    },
    {
     "data": {
      "text/html": [
       "\n",
       "<style>\n",
       "    /* Turns off some styling */\n",
       "    progress {\n",
       "        /* gets rid of default border in Firefox and Opera. */\n",
       "        border: none;\n",
       "        /* Needs to be in here for Safari polyfill so background images work as expected. */\n",
       "        background-size: auto;\n",
       "    }\n",
       "    .progress-bar-interrupted, .progress-bar-interrupted::-webkit-progress-bar {\n",
       "        background: #F44336;\n",
       "    }\n",
       "</style>\n"
      ],
      "text/plain": [
       "<IPython.core.display.HTML object>"
      ]
     },
     "metadata": {},
     "output_type": "display_data"
    },
    {
     "data": {
      "text/html": [
       "\n",
       "    <div>\n",
       "      <progress value='0' class='' max='30000' style='width:300px; height:20px; vertical-align: middle;'></progress>\n",
       "      0.00% [0/30000 00:00<00:00]\n",
       "    </div>\n",
       "    "
      ],
      "text/plain": [
       "<IPython.core.display.HTML object>"
      ]
     },
     "metadata": {},
     "output_type": "display_data"
    },
    {
     "ename": "FloatingPointError",
     "evalue": "NaN occurred in optimization. \nThe current approximation of RV `a`.ravel()[0] is NaN.\nThe current approximation of RV `intervals_log__`.ravel()[0] is NaN.\nThe current approximation of RV `intervals_log__`.ravel()[1] is NaN.\nThe current approximation of RV `intervals_log__`.ravel()[2] is NaN.\nThe current approximation of RV `w`.ravel()[0] is NaN.\nThe current approximation of RV `w`.ravel()[1] is NaN.\nThe current approximation of RV `w`.ravel()[2] is NaN.\nThe current approximation of RV `sigma_log__`.ravel()[0] is NaN.\nTry tracking this parameter: http://docs.pymc.io/notebooks/variational_api_quickstart.html#Tracking-parameters",
     "output_type": "error",
     "traceback": [
      "\u001b[0;31m---------------------------------------------------------------------------\u001b[0m",
      "\u001b[0;31mFloatingPointError\u001b[0m                        Traceback (most recent call last)",
      "\u001b[0;32m/tmp/ipykernel_95272/939731250.py\u001b[0m in \u001b[0;36m<module>\u001b[0;34m\u001b[0m\n\u001b[1;32m      1\u001b[0m \u001b[0;32mwith\u001b[0m \u001b[0mmodel\u001b[0m\u001b[0;34m:\u001b[0m\u001b[0;34m\u001b[0m\u001b[0;34m\u001b[0m\u001b[0m\n\u001b[0;32m----> 2\u001b[0;31m     \u001b[0mmean_field\u001b[0m \u001b[0;34m=\u001b[0m \u001b[0mpm\u001b[0m\u001b[0;34m.\u001b[0m\u001b[0mfit\u001b[0m\u001b[0;34m(\u001b[0m\u001b[0mmethod\u001b[0m\u001b[0;34m=\u001b[0m\u001b[0;34m\"advi\"\u001b[0m\u001b[0;34m,\u001b[0m \u001b[0mn\u001b[0m\u001b[0;34m=\u001b[0m\u001b[0;36m30_000\u001b[0m\u001b[0;34m)\u001b[0m\u001b[0;34m\u001b[0m\u001b[0;34m\u001b[0m\u001b[0m\n\u001b[0m",
      "\u001b[0;32m~/.local/miniconda3/envs/pymc/lib/python3.7/site-packages/pymc/variational/inference.py\u001b[0m in \u001b[0;36mfit\u001b[0;34m(n, local_rv, method, model, random_seed, start, inf_kwargs, **kwargs)\u001b[0m\n\u001b[1;32m    828\u001b[0m     \u001b[0;32melse\u001b[0m\u001b[0;34m:\u001b[0m\u001b[0;34m\u001b[0m\u001b[0;34m\u001b[0m\u001b[0m\n\u001b[1;32m    829\u001b[0m         \u001b[0;32mraise\u001b[0m \u001b[0mTypeError\u001b[0m\u001b[0;34m(\u001b[0m\u001b[0;34mf\"method should be one of {set(_select.keys())} or Inference instance\"\u001b[0m\u001b[0;34m)\u001b[0m\u001b[0;34m\u001b[0m\u001b[0;34m\u001b[0m\u001b[0m\n\u001b[0;32m--> 830\u001b[0;31m     \u001b[0;32mreturn\u001b[0m \u001b[0minference\u001b[0m\u001b[0;34m.\u001b[0m\u001b[0mfit\u001b[0m\u001b[0;34m(\u001b[0m\u001b[0mn\u001b[0m\u001b[0;34m,\u001b[0m \u001b[0;34m**\u001b[0m\u001b[0mkwargs\u001b[0m\u001b[0;34m)\u001b[0m\u001b[0;34m\u001b[0m\u001b[0;34m\u001b[0m\u001b[0m\n\u001b[0m",
      "\u001b[0;32m~/.local/miniconda3/envs/pymc/lib/python3.7/site-packages/pymc/variational/inference.py\u001b[0m in \u001b[0;36mfit\u001b[0;34m(self, n, score, callbacks, progressbar, **kwargs)\u001b[0m\n\u001b[1;32m    148\u001b[0m             \u001b[0mprogress\u001b[0m \u001b[0;34m=\u001b[0m \u001b[0mrange\u001b[0m\u001b[0;34m(\u001b[0m\u001b[0mn\u001b[0m\u001b[0;34m)\u001b[0m\u001b[0;34m\u001b[0m\u001b[0;34m\u001b[0m\u001b[0m\n\u001b[1;32m    149\u001b[0m         \u001b[0;32mif\u001b[0m \u001b[0mscore\u001b[0m\u001b[0;34m:\u001b[0m\u001b[0;34m\u001b[0m\u001b[0;34m\u001b[0m\u001b[0m\n\u001b[0;32m--> 150\u001b[0;31m             \u001b[0mstate\u001b[0m \u001b[0;34m=\u001b[0m \u001b[0mself\u001b[0m\u001b[0;34m.\u001b[0m\u001b[0m_iterate_with_loss\u001b[0m\u001b[0;34m(\u001b[0m\u001b[0;36m0\u001b[0m\u001b[0;34m,\u001b[0m \u001b[0mn\u001b[0m\u001b[0;34m,\u001b[0m \u001b[0mstep_func\u001b[0m\u001b[0;34m,\u001b[0m \u001b[0mprogress\u001b[0m\u001b[0;34m,\u001b[0m \u001b[0mcallbacks\u001b[0m\u001b[0;34m)\u001b[0m\u001b[0;34m\u001b[0m\u001b[0;34m\u001b[0m\u001b[0m\n\u001b[0m\u001b[1;32m    151\u001b[0m         \u001b[0;32melse\u001b[0m\u001b[0;34m:\u001b[0m\u001b[0;34m\u001b[0m\u001b[0;34m\u001b[0m\u001b[0m\n\u001b[1;32m    152\u001b[0m             \u001b[0mstate\u001b[0m \u001b[0;34m=\u001b[0m \u001b[0mself\u001b[0m\u001b[0;34m.\u001b[0m\u001b[0m_iterate_without_loss\u001b[0m\u001b[0;34m(\u001b[0m\u001b[0;36m0\u001b[0m\u001b[0;34m,\u001b[0m \u001b[0mn\u001b[0m\u001b[0;34m,\u001b[0m \u001b[0mstep_func\u001b[0m\u001b[0;34m,\u001b[0m \u001b[0mprogress\u001b[0m\u001b[0;34m,\u001b[0m \u001b[0mcallbacks\u001b[0m\u001b[0;34m)\u001b[0m\u001b[0;34m\u001b[0m\u001b[0;34m\u001b[0m\u001b[0m\n",
      "\u001b[0;32m~/.local/miniconda3/envs/pymc/lib/python3.7/site-packages/pymc/variational/inference.py\u001b[0m in \u001b[0;36m_iterate_with_loss\u001b[0;34m(self, s, n, step_func, progress, callbacks)\u001b[0m\n\u001b[1;32m    234\u001b[0m                     \u001b[0;32mexcept\u001b[0m \u001b[0mIndexError\u001b[0m\u001b[0;34m:\u001b[0m\u001b[0;34m\u001b[0m\u001b[0;34m\u001b[0m\u001b[0m\n\u001b[1;32m    235\u001b[0m                         \u001b[0;32mpass\u001b[0m\u001b[0;34m\u001b[0m\u001b[0;34m\u001b[0m\u001b[0m\n\u001b[0;32m--> 236\u001b[0;31m                     \u001b[0;32mraise\u001b[0m \u001b[0mFloatingPointError\u001b[0m\u001b[0;34m(\u001b[0m\u001b[0;34m\"\\n\"\u001b[0m\u001b[0;34m.\u001b[0m\u001b[0mjoin\u001b[0m\u001b[0;34m(\u001b[0m\u001b[0merrmsg\u001b[0m\u001b[0;34m)\u001b[0m\u001b[0;34m)\u001b[0m\u001b[0;34m\u001b[0m\u001b[0;34m\u001b[0m\u001b[0m\n\u001b[0m\u001b[1;32m    237\u001b[0m                 \u001b[0mscores\u001b[0m\u001b[0;34m[\u001b[0m\u001b[0mi\u001b[0m\u001b[0;34m]\u001b[0m \u001b[0;34m=\u001b[0m \u001b[0me\u001b[0m\u001b[0;34m\u001b[0m\u001b[0;34m\u001b[0m\u001b[0m\n\u001b[1;32m    238\u001b[0m                 \u001b[0;32mif\u001b[0m \u001b[0mi\u001b[0m \u001b[0;34m%\u001b[0m \u001b[0;36m10\u001b[0m \u001b[0;34m==\u001b[0m \u001b[0;36m0\u001b[0m\u001b[0;34m:\u001b[0m\u001b[0;34m\u001b[0m\u001b[0;34m\u001b[0m\u001b[0m\n",
      "\u001b[0;31mFloatingPointError\u001b[0m: NaN occurred in optimization. \nThe current approximation of RV `a`.ravel()[0] is NaN.\nThe current approximation of RV `intervals_log__`.ravel()[0] is NaN.\nThe current approximation of RV `intervals_log__`.ravel()[1] is NaN.\nThe current approximation of RV `intervals_log__`.ravel()[2] is NaN.\nThe current approximation of RV `w`.ravel()[0] is NaN.\nThe current approximation of RV `w`.ravel()[1] is NaN.\nThe current approximation of RV `w`.ravel()[2] is NaN.\nThe current approximation of RV `sigma_log__`.ravel()[0] is NaN.\nTry tracking this parameter: http://docs.pymc.io/notebooks/variational_api_quickstart.html#Tracking-parameters"
     ]
    }
   ],
   "source": [
    "with model:\n",
    "    mean_field = pm.fit(method=\"advi\", n=30_000)"
   ]
  },
  {
   "cell_type": "code",
   "execution_count": null,
   "id": "87ed8e73-bb46-47e7-ad02-e18e5d8d3388",
   "metadata": {},
   "outputs": [],
   "source": [
    "vi_trace = mean_field.sample(5000)"
   ]
  },
  {
   "cell_type": "code",
   "execution_count": null,
   "id": "9f65441c-39aa-4110-9d37-b3405452dab5",
   "metadata": {},
   "outputs": [],
   "source": [
    "az.summary(vi_trace, var_names=[\"w\",\"a\",\"sigma\",\"hs\"])"
   ]
  },
  {
   "cell_type": "code",
   "execution_count": null,
   "id": "8aaa8778-7c69-4033-a7e0-7e3bd39f5d51",
   "metadata": {},
   "outputs": [],
   "source": []
  },
  {
   "cell_type": "code",
   "execution_count": null,
   "id": "9a63d5a9-9c9d-4c6a-a772-41b45e42c2e1",
   "metadata": {},
   "outputs": [],
   "source": []
  },
  {
   "cell_type": "code",
   "execution_count": null,
   "id": "cece6aa5-f491-49c6-8d28-b1cde375f7dd",
   "metadata": {},
   "outputs": [],
   "source": [
    "def pairplot_divergence(trace, ax=None, divergence=True, color=\"C3\", divergence_color=\"C2\"):\n",
    "    theta = trace.get_values(varname=\"theta\", combine=True)[:, 0]\n",
    "    logtau = trace.get_values(varname=\"tau_log__\", combine=True)\n",
    "    if not ax:\n",
    "        _, ax = plt.subplots(1, 1, figsize=(10, 5))\n",
    "    ax.plot(theta, logtau, \"o\", color=color, alpha=0.5)\n",
    "    if divergence:\n",
    "        divergent = trace[\"diverging\"]\n",
    "        ax.plot(theta[divergent], logtau[divergent], \"o\", color=divergence_color)\n",
    "    ax.set_xlabel(\"theta[0]\")\n",
    "    ax.set_ylabel(\"log(tau)\")\n",
    "    ax.set_title(\"scatter plot between log(tau) and theta[0]\")\n",
    "    return ax\n",
    "\n",
    "\n",
    "pairplot_divergence(short_trace);"
   ]
  },
  {
   "cell_type": "code",
   "execution_count": null,
   "id": "82a62a92-5078-4a7b-8084-61709d8df6bf",
   "metadata": {},
   "outputs": [],
   "source": []
  },
  {
   "cell_type": "code",
   "execution_count": 11,
   "id": "6ec0edc0-1d62-45bf-9695-de19a19dbe51",
   "metadata": {},
   "outputs": [
    {
     "name": "stderr",
     "output_type": "stream",
     "text": [
      "/home/thodson/.local/miniconda3/envs/pymc/lib/python3.7/site-packages/pymc/aesaraf.py:1010: UserWarning: The parameter 'updates' of aesara.function() expects an OrderedDict, got <class 'dict'>. Using a standard dictionary here results in non-deterministic behavior. You should use an OrderedDict if you are using Python 2.7 (collections.OrderedDict for older python), or use a list of (shared, update) pairs. Do not just convert your dictionary to this type before the call as the conversion will still be non-deterministic.\n",
      "  **kwargs,\n"
     ]
    },
    {
     "data": {
      "text/html": [
       "\n",
       "<style>\n",
       "    /* Turns off some styling */\n",
       "    progress {\n",
       "        /* gets rid of default border in Firefox and Opera. */\n",
       "        border: none;\n",
       "        /* Needs to be in here for Safari polyfill so background images work as expected. */\n",
       "        background-size: auto;\n",
       "    }\n",
       "    .progress-bar-interrupted, .progress-bar-interrupted::-webkit-progress-bar {\n",
       "        background: #F44336;\n",
       "    }\n",
       "</style>\n"
      ],
      "text/plain": [
       "<IPython.core.display.HTML object>"
      ]
     },
     "metadata": {},
     "output_type": "display_data"
    },
    {
     "data": {
      "text/html": [
       "\n",
       "    <div>\n",
       "      <progress value='17138' class='' max='30000' style='width:300px; height:20px; vertical-align: middle;'></progress>\n",
       "      57.13% [17138/30000 00:02<00:01 Average Loss = 56.623]\n",
       "    </div>\n",
       "    "
      ],
      "text/plain": [
       "<IPython.core.display.HTML object>"
      ]
     },
     "metadata": {},
     "output_type": "display_data"
    },
    {
     "ename": "FloatingPointError",
     "evalue": "NaN occurred in optimization. \nThe current approximation of RV `sigma_log__`.ravel()[0] is NaN.\nThe current approximation of RV `w`.ravel()[0] is NaN.\nThe current approximation of RV `w`.ravel()[1] is NaN.\nThe current approximation of RV `ints_log__`.ravel()[0] is NaN.\nThe current approximation of RV `a`.ravel()[0] is NaN.\nThe current approximation of RV `hss`.ravel()[0] is NaN.\nTry tracking this parameter: http://docs.pymc.io/notebooks/variational_api_quickstart.html#Tracking-parameters",
     "output_type": "error",
     "traceback": [
      "\u001b[0;31m---------------------------------------------------------------------------\u001b[0m",
      "\u001b[0;31mFloatingPointError\u001b[0m                        Traceback (most recent call last)",
      "\u001b[0;32m/tmp/ipykernel_87790/939731250.py\u001b[0m in \u001b[0;36m<module>\u001b[0;34m\u001b[0m\n\u001b[1;32m      1\u001b[0m \u001b[0;32mwith\u001b[0m \u001b[0mmodel\u001b[0m\u001b[0;34m:\u001b[0m\u001b[0;34m\u001b[0m\u001b[0;34m\u001b[0m\u001b[0m\n\u001b[0;32m----> 2\u001b[0;31m     \u001b[0mmean_field\u001b[0m \u001b[0;34m=\u001b[0m \u001b[0mpm\u001b[0m\u001b[0;34m.\u001b[0m\u001b[0mfit\u001b[0m\u001b[0;34m(\u001b[0m\u001b[0mmethod\u001b[0m\u001b[0;34m=\u001b[0m\u001b[0;34m\"advi\"\u001b[0m\u001b[0;34m,\u001b[0m \u001b[0mn\u001b[0m\u001b[0;34m=\u001b[0m\u001b[0;36m30_000\u001b[0m\u001b[0;34m)\u001b[0m\u001b[0;34m\u001b[0m\u001b[0;34m\u001b[0m\u001b[0m\n\u001b[0m",
      "\u001b[0;32m~/.local/miniconda3/envs/pymc/lib/python3.7/site-packages/pymc/variational/inference.py\u001b[0m in \u001b[0;36mfit\u001b[0;34m(n, local_rv, method, model, random_seed, start, inf_kwargs, **kwargs)\u001b[0m\n\u001b[1;32m    828\u001b[0m     \u001b[0;32melse\u001b[0m\u001b[0;34m:\u001b[0m\u001b[0;34m\u001b[0m\u001b[0;34m\u001b[0m\u001b[0m\n\u001b[1;32m    829\u001b[0m         \u001b[0;32mraise\u001b[0m \u001b[0mTypeError\u001b[0m\u001b[0;34m(\u001b[0m\u001b[0;34mf\"method should be one of {set(_select.keys())} or Inference instance\"\u001b[0m\u001b[0;34m)\u001b[0m\u001b[0;34m\u001b[0m\u001b[0;34m\u001b[0m\u001b[0m\n\u001b[0;32m--> 830\u001b[0;31m     \u001b[0;32mreturn\u001b[0m \u001b[0minference\u001b[0m\u001b[0;34m.\u001b[0m\u001b[0mfit\u001b[0m\u001b[0;34m(\u001b[0m\u001b[0mn\u001b[0m\u001b[0;34m,\u001b[0m \u001b[0;34m**\u001b[0m\u001b[0mkwargs\u001b[0m\u001b[0;34m)\u001b[0m\u001b[0;34m\u001b[0m\u001b[0;34m\u001b[0m\u001b[0m\n\u001b[0m",
      "\u001b[0;32m~/.local/miniconda3/envs/pymc/lib/python3.7/site-packages/pymc/variational/inference.py\u001b[0m in \u001b[0;36mfit\u001b[0;34m(self, n, score, callbacks, progressbar, **kwargs)\u001b[0m\n\u001b[1;32m    148\u001b[0m             \u001b[0mprogress\u001b[0m \u001b[0;34m=\u001b[0m \u001b[0mrange\u001b[0m\u001b[0;34m(\u001b[0m\u001b[0mn\u001b[0m\u001b[0;34m)\u001b[0m\u001b[0;34m\u001b[0m\u001b[0;34m\u001b[0m\u001b[0m\n\u001b[1;32m    149\u001b[0m         \u001b[0;32mif\u001b[0m \u001b[0mscore\u001b[0m\u001b[0;34m:\u001b[0m\u001b[0;34m\u001b[0m\u001b[0;34m\u001b[0m\u001b[0m\n\u001b[0;32m--> 150\u001b[0;31m             \u001b[0mstate\u001b[0m \u001b[0;34m=\u001b[0m \u001b[0mself\u001b[0m\u001b[0;34m.\u001b[0m\u001b[0m_iterate_with_loss\u001b[0m\u001b[0;34m(\u001b[0m\u001b[0;36m0\u001b[0m\u001b[0;34m,\u001b[0m \u001b[0mn\u001b[0m\u001b[0;34m,\u001b[0m \u001b[0mstep_func\u001b[0m\u001b[0;34m,\u001b[0m \u001b[0mprogress\u001b[0m\u001b[0;34m,\u001b[0m \u001b[0mcallbacks\u001b[0m\u001b[0;34m)\u001b[0m\u001b[0;34m\u001b[0m\u001b[0;34m\u001b[0m\u001b[0m\n\u001b[0m\u001b[1;32m    151\u001b[0m         \u001b[0;32melse\u001b[0m\u001b[0;34m:\u001b[0m\u001b[0;34m\u001b[0m\u001b[0;34m\u001b[0m\u001b[0m\n\u001b[1;32m    152\u001b[0m             \u001b[0mstate\u001b[0m \u001b[0;34m=\u001b[0m \u001b[0mself\u001b[0m\u001b[0;34m.\u001b[0m\u001b[0m_iterate_without_loss\u001b[0m\u001b[0;34m(\u001b[0m\u001b[0;36m0\u001b[0m\u001b[0;34m,\u001b[0m \u001b[0mn\u001b[0m\u001b[0;34m,\u001b[0m \u001b[0mstep_func\u001b[0m\u001b[0;34m,\u001b[0m \u001b[0mprogress\u001b[0m\u001b[0;34m,\u001b[0m \u001b[0mcallbacks\u001b[0m\u001b[0;34m)\u001b[0m\u001b[0;34m\u001b[0m\u001b[0;34m\u001b[0m\u001b[0m\n",
      "\u001b[0;32m~/.local/miniconda3/envs/pymc/lib/python3.7/site-packages/pymc/variational/inference.py\u001b[0m in \u001b[0;36m_iterate_with_loss\u001b[0;34m(self, s, n, step_func, progress, callbacks)\u001b[0m\n\u001b[1;32m    234\u001b[0m                     \u001b[0;32mexcept\u001b[0m \u001b[0mIndexError\u001b[0m\u001b[0;34m:\u001b[0m\u001b[0;34m\u001b[0m\u001b[0;34m\u001b[0m\u001b[0m\n\u001b[1;32m    235\u001b[0m                         \u001b[0;32mpass\u001b[0m\u001b[0;34m\u001b[0m\u001b[0;34m\u001b[0m\u001b[0m\n\u001b[0;32m--> 236\u001b[0;31m                     \u001b[0;32mraise\u001b[0m \u001b[0mFloatingPointError\u001b[0m\u001b[0;34m(\u001b[0m\u001b[0;34m\"\\n\"\u001b[0m\u001b[0;34m.\u001b[0m\u001b[0mjoin\u001b[0m\u001b[0;34m(\u001b[0m\u001b[0merrmsg\u001b[0m\u001b[0;34m)\u001b[0m\u001b[0;34m)\u001b[0m\u001b[0;34m\u001b[0m\u001b[0;34m\u001b[0m\u001b[0m\n\u001b[0m\u001b[1;32m    237\u001b[0m                 \u001b[0mscores\u001b[0m\u001b[0;34m[\u001b[0m\u001b[0mi\u001b[0m\u001b[0;34m]\u001b[0m \u001b[0;34m=\u001b[0m \u001b[0me\u001b[0m\u001b[0;34m\u001b[0m\u001b[0;34m\u001b[0m\u001b[0m\n\u001b[1;32m    238\u001b[0m                 \u001b[0;32mif\u001b[0m \u001b[0mi\u001b[0m \u001b[0;34m%\u001b[0m \u001b[0;36m10\u001b[0m \u001b[0;34m==\u001b[0m \u001b[0;36m0\u001b[0m\u001b[0;34m:\u001b[0m\u001b[0;34m\u001b[0m\u001b[0;34m\u001b[0m\u001b[0m\n",
      "\u001b[0;31mFloatingPointError\u001b[0m: NaN occurred in optimization. \nThe current approximation of RV `sigma_log__`.ravel()[0] is NaN.\nThe current approximation of RV `w`.ravel()[0] is NaN.\nThe current approximation of RV `w`.ravel()[1] is NaN.\nThe current approximation of RV `ints_log__`.ravel()[0] is NaN.\nThe current approximation of RV `a`.ravel()[0] is NaN.\nThe current approximation of RV `hss`.ravel()[0] is NaN.\nTry tracking this parameter: http://docs.pymc.io/notebooks/variational_api_quickstart.html#Tracking-parameters"
     ]
    }
   ],
   "source": [
    "with model:\n",
    "    mean_field = pm.fit(method=\"advi\", n=30_000)"
   ]
  },
  {
   "cell_type": "code",
   "execution_count": 19,
   "id": "b517ef3f-0c2f-4e64-a789-f0ab0661897b",
   "metadata": {},
   "outputs": [],
   "source": [
    "vi_trace = mean_field.sample(5000)\n"
   ]
  },
  {
   "cell_type": "code",
   "execution_count": 22,
   "id": "3ac6a497-cc02-43ae-ac89-3ff1d8937c5e",
   "metadata": {},
   "outputs": [
    {
     "data": {
      "image/png": "[encoded data removed]",
      "text/plain": [
       "<Figure size 432x547.2 with 1 Axes>"
      ]
     },
     "metadata": {
      "needs_background": "light"
     },
     "output_type": "display_data"
    }
   ],
   "source": [
    "az.plot_forest(vi_trace, var_names=[\"w\",\"a\",\"sigma\", \"hs\"], combined=False);"
   ]
  },
  {
   "cell_type": "code",
   "execution_count": 25,
   "id": "4100f64a-5273-4e78-9696-7f9df9d06ea0",
   "metadata": {},
   "outputs": [
    {
     "name": "stderr",
     "output_type": "stream",
     "text": [
      "arviz - WARNING - Shape validation failed: input_shape: (1, 5000), minimum_shape: (chains=2, draws=4)\n"
     ]
    },
    {
     "data": {
      "text/html": [
       "<div>\n",
       "<style scoped>\n",
       "    .dataframe tbody tr th:only-of-type {\n",
       "        vertical-align: middle;\n",
       "    }\n",
       "\n",
       "    .dataframe tbody tr th {\n",
       "        vertical-align: top;\n",
       "    }\n",
       "\n",
       "    .dataframe thead th {\n",
       "        text-align: right;\n",
       "    }\n",
       "</style>\n",
       "<table border=\"1\" class=\"dataframe\">\n",
       "  <thead>\n",
       "    <tr style=\"text-align: right;\">\n",
       "      <th></th>\n",
       "      <th>mean</th>\n",
       "      <th>sd</th>\n",
       "      <th>hdi_3%</th>\n",
       "      <th>hdi_97%</th>\n",
       "      <th>mcse_mean</th>\n",
       "      <th>mcse_sd</th>\n",
       "      <th>ess_bulk</th>\n",
       "      <th>ess_tail</th>\n",
       "      <th>r_hat</th>\n",
       "    </tr>\n",
       "  </thead>\n",
       "  <tbody>\n",
       "    <tr>\n",
       "      <th>w[0]</th>\n",
       "      <td>1.785</td>\n",
       "      <td>0.094</td>\n",
       "      <td>1.602</td>\n",
       "      <td>1.947</td>\n",
       "      <td>0.001</td>\n",
       "      <td>0.001</td>\n",
       "      <td>4788.0</td>\n",
       "      <td>4846.0</td>\n",
       "      <td>NaN</td>\n",
       "    </tr>\n",
       "    <tr>\n",
       "      <th>w[1]</th>\n",
       "      <td>1.911</td>\n",
       "      <td>0.313</td>\n",
       "      <td>1.346</td>\n",
       "      <td>2.500</td>\n",
       "      <td>0.004</td>\n",
       "      <td>0.003</td>\n",
       "      <td>4917.0</td>\n",
       "      <td>4527.0</td>\n",
       "      <td>NaN</td>\n",
       "    </tr>\n",
       "    <tr>\n",
       "      <th>a</th>\n",
       "      <td>-3.509</td>\n",
       "      <td>0.214</td>\n",
       "      <td>-3.893</td>\n",
       "      <td>-3.094</td>\n",
       "      <td>0.003</td>\n",
       "      <td>0.002</td>\n",
       "      <td>4863.0</td>\n",
       "      <td>4452.0</td>\n",
       "      <td>NaN</td>\n",
       "    </tr>\n",
       "    <tr>\n",
       "      <th>sigma</th>\n",
       "      <td>0.673</td>\n",
       "      <td>0.131</td>\n",
       "      <td>0.450</td>\n",
       "      <td>0.924</td>\n",
       "      <td>0.002</td>\n",
       "      <td>0.001</td>\n",
       "      <td>4810.0</td>\n",
       "      <td>4561.0</td>\n",
       "      <td>NaN</td>\n",
       "    </tr>\n",
       "    <tr>\n",
       "      <th>hs[0]</th>\n",
       "      <td>1.541</td>\n",
       "      <td>0.820</td>\n",
       "      <td>0.023</td>\n",
       "      <td>3.076</td>\n",
       "      <td>0.012</td>\n",
       "      <td>0.008</td>\n",
       "      <td>4840.0</td>\n",
       "      <td>4795.0</td>\n",
       "      <td>NaN</td>\n",
       "    </tr>\n",
       "    <tr>\n",
       "      <th>hs[1]</th>\n",
       "      <td>34.150</td>\n",
       "      <td>31.218</td>\n",
       "      <td>3.624</td>\n",
       "      <td>82.823</td>\n",
       "      <td>0.460</td>\n",
       "      <td>0.325</td>\n",
       "      <td>4891.0</td>\n",
       "      <td>4621.0</td>\n",
       "      <td>NaN</td>\n",
       "    </tr>\n",
       "  </tbody>\n",
       "</table>\n",
       "</div>"
      ],
      "text/plain": [
       "         mean      sd  hdi_3%  hdi_97%  mcse_mean  mcse_sd  ess_bulk  \\\n",
       "w[0]    1.785   0.094   1.602    1.947      0.001    0.001    4788.0   \n",
       "w[1]    1.911   0.313   1.346    2.500      0.004    0.003    4917.0   \n",
       "a      -3.509   0.214  -3.893   -3.094      0.003    0.002    4863.0   \n",
       "sigma   0.673   0.131   0.450    0.924      0.002    0.001    4810.0   \n",
       "hs[0]   1.541   0.820   0.023    3.076      0.012    0.008    4840.0   \n",
       "hs[1]  34.150  31.218   3.624   82.823      0.460    0.325    4891.0   \n",
       "\n",
       "       ess_tail  r_hat  \n",
       "w[0]     4846.0    NaN  \n",
       "w[1]     4527.0    NaN  \n",
       "a        4452.0    NaN  \n",
       "sigma    4561.0    NaN  \n",
       "hs[0]    4795.0    NaN  \n",
       "hs[1]    4621.0    NaN  "
      ]
     },
     "execution_count": 25,
     "metadata": {},
     "output_type": "execute_result"
    }
   ],
   "source": [
    "az.summary(vi_trace, var_names=[\"w\",\"a\",\"sigma\", \"hs\"])"
   ]
  },
  {
   "cell_type": "code",
   "execution_count": 26,
   "id": "bbb2286e-0d0d-42d2-bc54-e9a83d8d8547",
   "metadata": {},
   "outputs": [
    {
     "name": "stderr",
     "output_type": "stream",
     "text": [
      "Auto-assigning NUTS sampler...\n",
      "Initializing NUTS using jitter+adapt_diag...\n",
      "/home/thodson/.local/miniconda3/envs/pymc/lib/python3.7/site-packages/pymc/aesaraf.py:1010: UserWarning: The parameter 'updates' of aesara.function() expects an OrderedDict, got <class 'dict'>. Using a standard dictionary here results in non-deterministic behavior. You should use an OrderedDict if you are using Python 2.7 (collections.OrderedDict for older python), or use a list of (shared, update) pairs. Do not just convert your dictionary to this type before the call as the conversion will still be non-deterministic.\n",
      "  **kwargs,\n",
      "Sequential sampling (1 chains in 1 job)\n",
      "NUTS: [w, a, hss, ints, sigma]\n"
     ]
    },
    {
     "data": {
      "text/html": [
       "\n",
       "<style>\n",
       "    /* Turns off some styling */\n",
       "    progress {\n",
       "        /* gets rid of default border in Firefox and Opera. */\n",
       "        border: none;\n",
       "        /* Needs to be in here for Safari polyfill so background images work as expected. */\n",
       "        background-size: auto;\n",
       "    }\n",
       "    .progress-bar-interrupted, .progress-bar-interrupted::-webkit-progress-bar {\n",
       "        background: #F44336;\n",
       "    }\n",
       "</style>\n"
      ],
      "text/plain": [
       "<IPython.core.display.HTML object>"
      ]
     },
     "metadata": {},
     "output_type": "display_data"
    },
    {
     "data": {
      "text/html": [
       "\n",
       "    <div>\n",
       "      <progress value='3000' class='' max='3000' style='width:300px; height:20px; vertical-align: middle;'></progress>\n",
       "      100.00% [3000/3000 02:30<00:00 Sampling chain 0, 0 divergences]\n",
       "    </div>\n",
       "    "
      ],
      "text/plain": [
       "<IPython.core.display.HTML object>"
      ]
     },
     "metadata": {},
     "output_type": "display_data"
    },
    {
     "name": "stderr",
     "output_type": "stream",
     "text": [
      "Sampling 1 chain for 2_000 tune and 1_000 draw iterations (2_000 + 1_000 draws total) took 151 seconds.\n",
      "Only one chain was sampled, this makes it impossible to run some convergence checks\n"
     ]
    }
   ],
   "source": [
    "# CompileD XXXX\n",
    "with model:\n",
    "    trace = pm.sample(tune=2000, chains=1, target_accept=0.95)"
   ]
  },
  {
   "cell_type": "code",
   "execution_count": 24,
   "id": "8d526ed6-ead7-49b0-a104-8e416e6f8b02",
   "metadata": {},
   "outputs": [
    {
     "data": {
      "image/png": "[encoded data removed]",
      "text/plain": [
       "<Figure size 432x547.2 with 1 Axes>"
      ]
     },
     "metadata": {
      "needs_background": "light"
     },
     "output_type": "display_data"
    }
   ],
   "source": [
    "import arviz as az\n",
    "\n",
    "az.plot_forest(trace, var_names=[\"hs\",\"a\",\"w\",\"sigma\"], combined=False);"
   ]
  },
  {
   "cell_type": "code",
   "execution_count": 3,
   "id": "50398238-1b05-4b76-941c-213503cb62ed",
   "metadata": {},
   "outputs": [],
   "source": [
    "#https://github.com/aesara-devs/aesara"
   ]
  }
 ],
 "metadata": {
  "kernelspec": {
   "display_name": "Python 3 (ipykernel)",
   "language": "python",
   "name": "python3"
  },
  "language_info": {
   "codemirror_mode": {
    "name": "ipython",
    "version": 3
   },
   "file_extension": ".py",
   "mimetype": "text/x-python",
   "name": "python",
   "nbconvert_exporter": "python",
   "pygments_lexer": "ipython3",
   "version": "3.7.13"
  }
 },
 "nbformat": 4,
 "nbformat_minor": 5
}
