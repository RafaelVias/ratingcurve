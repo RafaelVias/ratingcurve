{
 "cells": [
  {
   "cell_type": "code",
   "execution_count": null,
   "id": "fb924089",
   "metadata": {},
   "outputs": [],
   "source": [
    "from pathlib import Path\n",
    "\n",
    "import arviz as az\n",
    "import matplotlib.pyplot as plt\n",
    "import numpy as np\n",
    "import pandas as pd\n",
    "import pymc3 as pm\n",
    "import statsmodels.api as sm\n",
    "\n",
    "from patsy import dmatrix"
   ]
  },
  {
   "cell_type": "code",
   "execution_count": null,
   "id": "b359a3fb-9ea8-40ac-8e91-912a4017c47a",
   "metadata": {},
   "outputs": [],
   "source": [
    "# https://docs.pymc.io/en/v3/pymc-examples/examples/diagnostics_and_criticism/model_comparison.html"
   ]
  },
  {
   "cell_type": "code",
   "execution_count": null,
   "id": "7a08fcec",
   "metadata": {},
   "outputs": [],
   "source": [
    "%matplotlib inline\n",
    "%config InlineBackend.figure_format = \"retina\"\n",
    "\n",
    "RANDOM_SEED = 8927\n",
    "rng = np.random.default_rng(RANDOM_SEED)\n",
    "az.style.use(\"arviz-darkgrid\")"
   ]
  },
  {
   "cell_type": "code",
   "execution_count": null,
   "id": "fa02a2ce",
   "metadata": {},
   "outputs": [],
   "source": [
    "try:\n",
    "    blossom_data = pd.read_csv(Path(\"..\", \"data\", \"cherry_blossoms.csv\"), sep=\";\")\n",
    "except FileNotFoundError:\n",
    "    blossom_data = pd.read_csv(pm.get_data(\"cherry_blossoms.csv\"), sep=\";\")\n",
    "\n",
    "\n",
    "blossom_data.dropna().describe()"
   ]
  },
  {
   "cell_type": "code",
   "execution_count": null,
   "id": "1c5f4e17",
   "metadata": {},
   "outputs": [],
   "source": [
    "blossom_data = blossom_data.dropna(subset=[\"doy\"]).reset_index(drop=True)\n",
    "blossom_data.head(n=10)"
   ]
  },
  {
   "cell_type": "code",
   "execution_count": null,
   "id": "fcf02351",
   "metadata": {},
   "outputs": [],
   "source": [
    "blossom_data.plot.scatter(\n",
    "    \"year\", \"doy\", color=\"cornflowerblue\", s=10, title=\"Cherry Blossom Data\", ylabel=\"Day of Year\"\n",
    ");"
   ]
  },
  {
   "cell_type": "code",
   "execution_count": null,
   "id": "41ce96aa",
   "metadata": {},
   "outputs": [],
   "source": [
    "num_knots = 15\n",
    "knot_list = np.quantile(blossom_data.year, np.linspace(0, 1, num_knots))\n",
    "knot_list"
   ]
  },
  {
   "cell_type": "code",
   "execution_count": null,
   "id": "e08cd700",
   "metadata": {},
   "outputs": [],
   "source": [
    "B = dmatrix(\n",
    "    \"bs(year, knots=knots, degree=3, include_intercept=True) - 1\",\n",
    "    {\"year\": blossom_data.year.values, \"knots\": knot_list[1:-1]},\n",
    ")\n",
    "B"
   ]
  },
  {
   "cell_type": "code",
   "execution_count": null,
   "id": "7cfef60f",
   "metadata": {},
   "outputs": [],
   "source": [
    "spline_df = (\n",
    "    pd.DataFrame(B)\n",
    "    .assign(year=blossom_data.year.values)\n",
    "    .melt(\"year\", var_name=\"spline_i\", value_name=\"value\")\n",
    ")\n",
    "\n",
    "color = plt.cm.magma(np.linspace(0, 0.80, len(spline_df.spline_i.unique())))\n",
    "\n",
    "fig = plt.figure()\n",
    "for i, c in enumerate(color):\n",
    "    subset = spline_df.query(f\"spline_i == {i}\")\n",
    "    subset.plot(\"year\", \"value\", c=c, ax=plt.gca(), label=i)\n",
    "plt.legend(title=\"Spline Index\", loc=\"upper center\", fontsize=8, ncol=6);"
   ]
  },
  {
   "cell_type": "code",
   "execution_count": null,
   "id": "91fd25cd",
   "metadata": {},
   "outputs": [],
   "source": [
    "B.shape"
   ]
  },
  {
   "cell_type": "code",
   "execution_count": null,
   "id": "61bf5a54-715d-40a0-b201-8ee77bcae570",
   "metadata": {},
   "outputs": [],
   "source": [
    "np.arange(B.shape[1])"
   ]
  },
  {
   "cell_type": "code",
   "execution_count": null,
   "id": "91b17108",
   "metadata": {},
   "outputs": [],
   "source": [
    "COORDS = {\"obs\": np.arange(len(blossom_data.doy)), \"splines\": np.arange(B.shape[1])}\n",
    "with pm.Model(coords=COORDS) as spline_model:\n",
    "    a = pm.Normal(\"a\", 100, 5)\n",
    "    w = pm.Normal(\"w\", mu=0, sd=3, dims=\"splines\")\n",
    "    mu = pm.Deterministic(\"mu\", a + pm.math.dot(np.asarray(B, order=\"F\"), w.T))\n",
    "    sigma = pm.Exponential(\"sigma\", 1)\n",
    "    D = pm.Normal(\"D\", mu, sigma, observed=blossom_data.doy, dims=\"obs\")"
   ]
  },
  {
   "cell_type": "code",
   "execution_count": null,
   "id": "45fee4dc",
   "metadata": {},
   "outputs": [],
   "source": [
    "pm.model_to_graphviz(spline_model)"
   ]
  },
  {
   "cell_type": "code",
   "execution_count": null,
   "id": "701209f0-4756-4ea1-9db6-f805395d3d8c",
   "metadata": {},
   "outputs": [],
   "source": [
    "with spline_model:\n",
    "    prior_pred = pm.sample_prior_predictive(random_seed=RANDOM_SEED)\n",
    "    trace = pm.sample(\n",
    "        draws=1000,\n",
    "        tune=1000,\n",
    "        random_seed=RANDOM_SEED,\n",
    "        chains=4,\n",
    "        return_inferencedata=True,\n",
    "    )\n",
    "    post_pred = pm.sample_posterior_predictive(trace, samples=6000, random_seed=RANDOM_SEED)\n",
    "    trace.extend(az.from_pymc3(prior=prior_pred, posterior_predictive=post_pred))"
   ]
  },
  {
   "cell_type": "code",
   "execution_count": null,
   "id": "c8cd37ed-6968-4f2e-b774-8efa00d75a3f",
   "metadata": {},
   "outputs": [],
   "source": [
    "#trace.posterior['w']"
   ]
  },
  {
   "cell_type": "code",
   "execution_count": null,
   "id": "a50b2b14-1b94-475c-8c7b-b8321f749536",
   "metadata": {},
   "outputs": [],
   "source": [
    "#trace['posterior_predictive'].min(dim='draw').plot.scatter(x='obs',y='D')"
   ]
  },
  {
   "cell_type": "code",
   "execution_count": null,
   "id": "ad18d33f-a310-4865-9f5b-fca4fe0441e3",
   "metadata": {},
   "outputs": [],
   "source": [
    "az.loo(trace, spline_model)"
   ]
  },
  {
   "cell_type": "code",
   "execution_count": null,
   "id": "36fe704f-9824-4c57-9f0a-e6ae2138c41b",
   "metadata": {},
   "outputs": [],
   "source": [
    "az.summary(trace, var_names=[\"a\", \"w\", \"sigma\"])\n"
   ]
  },
  {
   "cell_type": "code",
   "execution_count": null,
   "id": "fdfd162c-9c27-4a81-8424-8d5a7c6ee4ad",
   "metadata": {},
   "outputs": [],
   "source": [
    "az.plot_trace(trace, var_names=[\"a\", \"w\", \"sigma\"]);"
   ]
  },
  {
   "cell_type": "code",
   "execution_count": null,
   "id": "0b68ba1d-a76a-44dc-a823-715590bd88ca",
   "metadata": {},
   "outputs": [],
   "source": [
    "#trace.posterior_predictive.max(dim='draw')\n",
    "#pymc3.sampling.sample_posterior_predictive\n",
    "#post_pred = pm.sampling.sample_posterior_predictive(trace, samples=1000, model=spline_model)\n",
    "#post_pred = post_pred['D']\n",
    "blossom_data_post = blossom_data.copy().reset_index(drop=True)\n",
    "blossom_data_post[\"pred_mean\"] = post_pred.mean(axis=0)\n",
    "blossom_data_post[\"pred_hi\"] = np.quantile(post_pred, 0.975, axis=0)\n",
    "blossom_data_post[\"pred_lo\"] = np.quantile(post_pred, 0.025, axis=0)"
   ]
  },
  {
   "cell_type": "code",
   "execution_count": null,
   "id": "2ff79f04-4105-44c5-af71-8965f3442945",
   "metadata": {},
   "outputs": [],
   "source": [
    "post_pred['D'].mean(axis=0).shape"
   ]
  },
  {
   "cell_type": "code",
   "execution_count": null,
   "id": "4186e4a4-b7f8-4b3f-8569-3ac8b17c0da7",
   "metadata": {},
   "outputs": [],
   "source": [
    "blossom_data.plot.scatter(\n",
    "    \"year\",\n",
    "    \"doy\",\n",
    "    color=\"cornflowerblue\",\n",
    "    s=10,\n",
    "    title=\"Cherry blossom data with posterior predictions\",\n",
    "    ylabel=\"Day of Year\",\n",
    ")\n",
    "for knot in knot_list:\n",
    "    plt.gca().axvline(knot, color=\"grey\", alpha=0.4)\n",
    "\n",
    "blossom_data_post.plot(\"year\", \"pred_mean\", ax=plt.gca(), lw=3, color=\"firebrick\")\n",
    "plt.fill_between(\n",
    "    blossom_data_post.year,\n",
    "    blossom_data_post.pred_hi,\n",
    "    blossom_data_post.pred_lo,\n",
    "    color=\"firebrick\",\n",
    "    alpha=0.4,\n",
    ");"
   ]
  },
  {
   "cell_type": "code",
   "execution_count": null,
   "id": "73824a64-4440-48a3-bb02-b11f5071375d",
   "metadata": {},
   "outputs": [],
   "source": [
    "post_pred = az.summary(trace, var_names=[\"mu\"]).reset_index(drop=True)\n",
    "blossom_data_post = blossom_data.copy().reset_index(drop=True)\n",
    "blossom_data_post[\"pred_mean\"] = post_pred[\"mean\"]\n",
    "blossom_data_post[\"pred_hdi_lower\"] = post_pred[\"hdi_3%\"]\n",
    "blossom_data_post[\"pred_hdi_upper\"] = post_pred[\"hdi_97%\"]"
   ]
  },
  {
   "cell_type": "code",
   "execution_count": null,
   "id": "ff0d93c5-b0e3-420f-99c1-fc4f53f34049",
   "metadata": {},
   "outputs": [],
   "source": [
    "blossom_data.plot.scatter(\n",
    "    \"year\",\n",
    "    \"doy\",\n",
    "    color=\"cornflowerblue\",\n",
    "    s=10,\n",
    "    title=\"Cherry blossom data with posterior predictions\",\n",
    "    ylabel=\"Day of Year\",\n",
    ")\n",
    "for knot in knot_list:\n",
    "    plt.gca().axvline(knot, color=\"grey\", alpha=0.4)\n",
    "\n",
    "blossom_data_post.plot(\"year\", \"pred_mean\", ax=plt.gca(), lw=3, color=\"firebrick\")\n",
    "plt.fill_between(\n",
    "    blossom_data_post.year,\n",
    "    blossom_data_post.pred_hdi_lower,\n",
    "    blossom_data_post.pred_hdi_upper,\n",
    "    color=\"firebrick\",\n",
    "    alpha=0.4,\n",
    ");"
   ]
  },
  {
   "cell_type": "code",
   "execution_count": null,
   "id": "cab1f135-b7a3-4f5f-9bc7-ebc071a4d1c6",
   "metadata": {},
   "outputs": [],
   "source": [
    "post_pred = az.summary(trace, var_names=[\"mu\"]).reset_index(drop=True)\n",
    "blossom_data_post = blossom_data.copy().reset_index(drop=True)\n",
    "blossom_data_post[\"pred_mean\"] = post_pred[\"mean\"]\n",
    "blossom_data_post[\"pred_hdi_lower\"] = post_pred[\"hdi_3%\"]\n",
    "blossom_data_post[\"pred_hdi_upper\"] = post_pred[\"hdi_97%\"]"
   ]
  },
  {
   "cell_type": "code",
   "execution_count": null,
   "id": "a18250ef-dec6-45e4-9cb3-b22700ba27d1",
   "metadata": {},
   "outputs": [],
   "source": [
    "blossom_data_post[\"pred_mean\"]"
   ]
  },
  {
   "cell_type": "code",
   "execution_count": null,
   "id": "6d418c7e-b680-449d-8fb2-98ecbf7c851f",
   "metadata": {},
   "outputs": [],
   "source": [
    "trace['posterior'].mean(dim='draw')"
   ]
  },
  {
   "cell_type": "code",
   "execution_count": null,
   "id": "ad9ab3c0-764b-4626-959f-ca3ee1f005a4",
   "metadata": {},
   "outputs": [],
   "source": [
    "post_pred"
   ]
  },
  {
   "cell_type": "code",
   "execution_count": null,
   "id": "e8cda4c7-e79e-4ce5-848d-9d3aa4ee901a",
   "metadata": {},
   "outputs": [],
   "source": [
    "az.summary?"
   ]
  },
  {
   "cell_type": "code",
   "execution_count": null,
   "id": "55917c53-07d5-48aa-a1aa-f1962fb78804",
   "metadata": {},
   "outputs": [],
   "source": []
  }
 ],
 "metadata": {
  "kernelspec": {
   "display_name": "Python 3 (ipykernel)",
   "language": "python",
   "name": "python3"
  },
  "language_info": {
   "codemirror_mode": {
    "name": "ipython",
    "version": 3
   },
   "file_extension": ".py",
   "mimetype": "text/x-python",
   "name": "python",
   "nbconvert_exporter": "python",
   "pygments_lexer": "ipython3",
   "version": "3.7.12"
  }
 },
 "nbformat": 4,
 "nbformat_minor": 5
}
