{
 "cells": [
  {
   "cell_type": "markdown",
   "id": "a47dcd27-608a-47ee-80a4-b92be776440a",
   "metadata": {},
   "source": [
    "# test spline fit\n",
    "\n",
    "## standardize data\n",
    "## cubic spline\n",
    "## natural cubic spline\n",
    "\"The use of the term “natural” means that the spline is restricted to be linear beyond the boundary knots. This is enforced by requiring the second derivative to be zero at the boundary. This is frequently desirable to control overfitting around the edges of the data.\"\n",
    "## power-law\n",
    "\n",
    "# experiments\n",
    "## convergence\n",
    "1. convergence; run each model and show out of sample predictive performance\n",
    "1. what other performance measures might we use? (decompose into quartiles and show performance in each)\n",
    "1. training data drawn from FDC but test data drawn from uniform?\n",
    "\n",
    "## 2. prior importance\n",
    "\n",
    "## 3. penalization\n",
    "1. rather than specifying a few knots, have many knots with penalization\n",
    "1. could this also work for segmented power law? several segments but have prior at 0 for upper bound\n",
    "\n",
    "# References\n",
    "- https://joshua-nugent.github.io/splines/ (good for splines)\n",
    "- https://bobby.gramacy.com/surrogates/splines.html\n",
    "- https://docs.pymc.io/en/v3/pymc-examples/examples/generalized_linear_models/GLM-out-of-sample-predictions.html\n",
    "- https://docs.pymc.io/en/latest/api/generated/pymc.set_data.html"
   ]
  },
  {
   "cell_type": "code",
   "execution_count": null,
   "id": "16a18fa2-f4b8-41f0-8378-ba9b78b498ae",
   "metadata": {},
   "outputs": [],
   "source": [
    "#covid_obj = COVID_data('US', Population=328.2e6)\n",
    "#covid_obj.get_dates(data_begin='2/1/20', data_end='9/28/20')\n",
    "#sir_model = SIR_model_sunode(covid_obj)\n",
    "#likelihood = {'distribution': 'lognormal', \n",
    "#              'sigma': 2}\n",
    "#prior = {'lam': 1.0, \n",
    "#         'mu': 0.5, \n",
    "#         'lambda_std': 1.0,\n",
    "#         'mu_std': 0.2 }\n",
    "#fig1 = sir_model.run_SIR_model(n_samples=2000, n_tune=1000, likelihood=likelihood, prior=prior)"
   ]
  },
  {
   "cell_type": "code",
   "execution_count": null,
   "id": "9fd9f2b0-3a98-4a57-adc2-90a251de6146",
   "metadata": {
    "jupyter": {
     "source_hidden": true
    },
    "tags": []
   },
   "outputs": [],
   "source": [
    "class ObsData():\n",
    "    pass\n",
    "\n",
    "class RatingModel(Model):\n",
    "    def __init__(self, name='', model=None):\n",
    "        pass\n",
    "    #def __init__(self, name='', model=None):\n",
    "    #    super().__init__(name, model)\n",
    "    \n",
    "    def setup(self, likelihood, prior):\n",
    "        pass\n",
    "    \n",
    "    def fit(self):\n",
    "        with model:\n",
    "            mean_field = pm.fit(method=\"advi\")\n",
    "        # or pm.fit(method, model=self.model)\n",
    "    \n",
    "    def sample(self, n_samples, n_tune):\n",
    "        with model:\n",
    "            trace = pm.sample(50000)\n",
    "\n",
    "class SplineRating(Rating):\n",
    "    def __init__(self, knots, form='bs'):\n",
    "        ''' 'bs' for cubic and 'cr' for natural\n",
    "        Parameters:\n",
    "          knots : array-like\n",
    "        '''\n",
    "        #s_range = #XXX\n",
    "        #lower_range = np.min(knots)\n",
    "        #upper_range = np.max(knots)\n",
    "        #s_range = np.linspace(lower_range, upper_range, 100)\n",
    "        \n",
    "        self.B = dmatrix(\n",
    "            #f\"{form}(log_s, knots=knots, degree=3, include_intercept=True) - 1\",\n",
    "            f\"{form}(log_s, knots=knots, degree=3, include_intercept=True)\", #include intercept, I think\n",
    "            {\"log_s\": s_range, \"knots\": knots[1:-1]},)\n",
    "        \n",
    "class SplineRating(Rating):\n",
    "    def __init__(self, knots, form='bs'):\n",
    "        ''' 'bs' for cubic and 'cr' for natural\n",
    "        Parameters:\n",
    "          knots : array-like\n",
    "        '''\n",
    "        #s_range = #XXX\n",
    "        #lower_range = np.min(knots)\n",
    "        #upper_range = np.max(knots)\n",
    "        #s_range = np.linspace(lower_range, upper_range, 100)\n",
    "        \n",
    "        self.B = dmatrix(\n",
    "            #f\"{form}(log_s, knots=knots, degree=3, include_intercept=True) - 1\",\n",
    "            f\"{form}(log_s, knots=knots, degree=3, include_intercept=True)\", #include intercept, I think\n",
    "            {\"log_s\": s_range, \"knots\": knots[1:-1]},)\n",
    "\n",
    "\n",
    "class PowerLawRating(Rating):\n",
    "    pass\n"
   ]
  },
  {
   "cell_type": "code",
   "execution_count": null,
   "id": "cc04b92e-b96d-4fbd-9696-b53e2f6c0b57",
   "metadata": {},
   "outputs": [],
   "source": [
    "import pymc3 as pm\n",
    "from pymc3 import Model\n",
    "\n",
    "import numpy as np\n",
    "\n",
    "from patsy import dmatrix\n",
    "import patsy\n",
    "\n",
    "\n",
    "\n",
    "class CustomModel(Model):\n",
    "    # 1) override init\n",
    "    def __init__(self, mean=0, sd=1, name='', model=None):\n",
    "        super().__init__(name, model)\n",
    "        pm.Normal('v2', mu=mean, sigma=sd)\n",
    "        pm.Normal('v4', mu=mean, sigma=sd)\n",
    "        \n",
    "class RatingModel(Model):\n",
    "    def __init__(self, name='', model=None):\n",
    "        super().__init__(name, model)\n",
    "    \n",
    "    def setup(self, likelihood, prior):\n",
    "        pass\n",
    "    \n",
    "    def fit(self):\n",
    "        with model:\n",
    "            mean_field = pm.fit(method=\"advi\")\n",
    "        # or pm.fit(method, model=self.model)\n",
    "    \n",
    "    def sample(self, n_samples, n_tune):\n",
    "        with model:\n",
    "            trace = pm.sample(50000)\n",
    "        \n",
    "class SplineRatingModel(RatingModel):\n",
    "    ''' transform y, and compute D untransformed\n",
    "    '''\n",
    "    #def __init__(self, log_q, design, knots=5, mean=0, sd=1, name='', model=None):\n",
    "    def __init__(self, q, dmatrix, knots, mean=0, sd=1, name='', model=None):\n",
    "        super().__init__(name, model)\n",
    "        \n",
    "        # transform q\n",
    "        self.q_obs = q\n",
    "        self.q_transform = LogZTransform(q)\n",
    "        y = self.q_transform.transform(self.q_obs)\n",
    "        \n",
    "        self.knots = knots\n",
    "        self.B = dmatrix\n",
    "        knot_dims = np.arange(self.B.shape[1])\n",
    "        \n",
    "        COORDS = {\"obs\" : np.arange(len(y)), \"splines\": np.arange(self.B.shape[1])}\n",
    "        self.add_coords(COORDS)\n",
    "        #self.add_coord(\"splines\", values=np.arange(self.B.shape[1]))\n",
    "        \n",
    "        #a = pm.Normal(\"a\", 0 , 1)\n",
    "        w = pm.Normal(\"w\", mu=mean, sd=sd, dims=\"splines\")\n",
    "        #mu = pm.Deterministic(\"mu\", a + pm.math.dot(np.asarray(self.B, order=\"F\"), w.T))\n",
    "        mu = pm.Deterministic(\"mu\", pm.math.dot(np.asarray(self.B, order=\"F\"), w.T))\n",
    "        #sigma = pm.Exponential(\"sigma\", 1)\n",
    "        sigma = pm.HalfCauchy(\"sigma\", 1)\n",
    "        D = pm.Normal(\"D\", mu, sigma, observed=y, dims=\"obs\")\n",
    "        \n",
    "    #def compile\n",
    "    #def sample\n",
    "    \n",
    "\n",
    "class Dmatrix():\n",
    "    def __init__(self, knots, degree, form):\n",
    "        self.form = f\"{form}(stage, knots=knots, degree={degree}, include_intercept=True) - 1\"\n",
    "        self.knots = knots\n",
    "    \n",
    "    def transform(self, stage):\n",
    "        return patsy.dmatrix(self.form, {\"stage\": stage, \"knots\": self.knots[1:-1]})\n",
    "        \n",
    "def compute_knots(minimum, maximum, n):\n",
    "    ''' Return list of knots\n",
    "    '''\n",
    "    return np.linspace(minimum, maximum, n)\n",
    "        \n",
    "\n",
    "\n",
    "class Transform:\n",
    "    \"\"\" Transformation class\n",
    "\n",
    "    All children of Transform must have transfom and untransform methods\n",
    "    \"\"\"\n",
    "    pass\n",
    "\n",
    "\n",
    "class ZTransform(Transform):\n",
    "    \"\"\"\n",
    "    \"\"\"\n",
    "    def __init__(self, x):\n",
    "        self._mean = np.nanmean(x, axis=0)\n",
    "        self._std = np.nanstd(x, axis=0)\n",
    "    \n",
    "    def transform(self, x):\n",
    "        return (x - self._mean)/self._std\n",
    "\n",
    "    def untransform(self, x):\n",
    "        return x*self._std + self._mean\n",
    "\n",
    "    \n",
    "class LogZTransform(ZTransform):\n",
    "    \"\"\"\n",
    "    Handle negative values\n",
    "    \"\"\"\n",
    "    def __init__(self, x):\n",
    "\n",
    "        log_x = np.log(x)\n",
    "        super().__init__(log_x)\n",
    "\n",
    "    def transform(self, x):\n",
    "        log_x = np.log(x)\n",
    "        return super().transform(log_x)\n",
    "        \n",
    "\n",
    "    def untransform(self, z=None):\n",
    "        #if x is None:\n",
    "        #    return self._x\n",
    "\n",
    "        #else:\n",
    "        log_x = super().untransform(z)\n",
    "        return np.exp(log_x)"
   ]
  },
  {
   "cell_type": "code",
   "execution_count": null,
   "id": "2c76fc05-79c1-44df-ad26-599363c33099",
   "metadata": {},
   "outputs": [],
   "source": [
    "knots = compute_knots(4, 22, 5)\n",
    "#df['stage']\n",
    "knots"
   ]
  },
  {
   "cell_type": "code",
   "execution_count": null,
   "id": "8ab62572-3baa-466e-b994-29ecd5d7ff6e",
   "metadata": {},
   "outputs": [],
   "source": [
    "import arviz as az"
   ]
  },
  {
   "cell_type": "code",
   "execution_count": null,
   "id": "97309a12-dd17-4495-aa60-b920a34344f7",
   "metadata": {},
   "outputs": [],
   "source": [
    "# How to fit a spline\n",
    "# import rating data\n",
    "import pandas as pd\n",
    "import arviz as az\n",
    "df = pd.read_csv('../data/co_channel.csv')\n",
    "\n",
    "\n",
    "q_transformer = LogZTransform(df['q'])\n",
    "y = q_transformer.transform(df['q'])\n",
    "\n",
    "\n",
    "knots = compute_knots(4, 22, 5)\n",
    "d_transform = Dmatrix(knots, 3, 'bs')\n",
    "#dmatrix = d_transform.transform(df['stage'])\n",
    "dmatrix = d_transform.transform(df['stage'])\n",
    "\n",
    "q=df['q']\n",
    "\n",
    "spline_model = SplineRatingModel(q, dmatrix, knots, mean=0, sd=1, name='', model=None)"
   ]
  },
  {
   "cell_type": "code",
   "execution_count": null,
   "id": "9afbb965-7a55-4773-918b-d35e18dca4f5",
   "metadata": {},
   "outputs": [],
   "source": [
    "with spline_model:\n",
    "    mean_field = pm.fit(method=\"advi\", n=100000)\n",
    "    \n",
    "az.plot_forest(mean_field.sample(2000), var_names=[\"w\"], combined=False);"
   ]
  },
  {
   "cell_type": "code",
   "execution_count": null,
   "id": "f2919bd9-b97c-48a7-af18-4c0446c4a2ff",
   "metadata": {},
   "outputs": [],
   "source": []
  },
  {
   "cell_type": "code",
   "execution_count": null,
   "id": "92f6a285-5777-43a2-b030-cee6ae003127",
   "metadata": {},
   "outputs": [],
   "source": [
    "hierarchical_loo = az.loo(mean_field.sample(2000), spline_model)\n",
    "\n",
    "hierarchical_loo.loo"
   ]
  },
  {
   "cell_type": "code",
   "execution_count": null,
   "id": "cda91dc3-eebf-4646-a800-9b4ef48bcf8e",
   "metadata": {},
   "outputs": [],
   "source": [
    "hierarchical_loo = az.loo(trace, spline_model)\n",
    "\n",
    "hierarchical_loo.loo"
   ]
  },
  {
   "cell_type": "code",
   "execution_count": null,
   "id": "f25c9242-217e-4cac-9771-21002c0db720",
   "metadata": {},
   "outputs": [],
   "source": [
    "#pm.model_to_graphviz(spline_model)"
   ]
  },
  {
   "cell_type": "code",
   "execution_count": null,
   "id": "fd740004-6306-4ad8-a04b-fc7acc40c8a2",
   "metadata": {},
   "outputs": [],
   "source": [
    "RANDOM_SEED = 8927\n",
    "with spline_model:\n",
    "    prior_pred = pm.sample_prior_predictive(random_seed=RANDOM_SEED)\n",
    "    trace = pm.sample(\n",
    "        draws=1000,\n",
    "        tune=1000,\n",
    "        random_seed=RANDOM_SEED,\n",
    "        chains=4,\n",
    "        return_inferencedata=True,\n",
    "        target_accept=0.9\n",
    "    )"
   ]
  },
  {
   "cell_type": "code",
   "execution_count": null,
   "id": "11cab9fe-0d07-4c21-bc88-7e4a36faea2f",
   "metadata": {},
   "outputs": [],
   "source": [
    "az.plot_trace(trace, var_names=[\"w\", \"sigma\"]);"
   ]
  },
  {
   "cell_type": "code",
   "execution_count": null,
   "id": "3efbdc6c-572c-4d2e-8a7f-607fd321e89a",
   "metadata": {},
   "outputs": [],
   "source": [
    "az.plot_forest(trace, var_names=[\"w\"], combined=False);"
   ]
  },
  {
   "cell_type": "code",
   "execution_count": null,
   "id": "b0076793-ce10-4903-bda2-b01f420a3260",
   "metadata": {},
   "outputs": [],
   "source": [
    "import pymc3 as pm\n",
    "#pm.fit?"
   ]
  },
  {
   "cell_type": "code",
   "execution_count": null,
   "id": "07126e2c",
   "metadata": {},
   "outputs": [],
   "source": [
    "from pathlib import Path\n",
    "\n",
    "import arviz as az\n",
    "import matplotlib.pyplot as plt\n",
    "import numpy as np\n",
    "import pandas as pd\n",
    "import pymc3 as pm\n",
    "import statsmodels.api as sm\n",
    "\n",
    "from patsy import dmatrix"
   ]
  },
  {
   "cell_type": "code",
   "execution_count": null,
   "id": "bbb10803",
   "metadata": {},
   "outputs": [],
   "source": [
    "df = pd.read_csv('../data/provo_natural.csv')\n",
    "df['log_q'] = np.log(df['q'])\n",
    "df['log_s'] = np.log(df['stage'])"
   ]
  },
  {
   "cell_type": "code",
   "execution_count": null,
   "id": "995991d0",
   "metadata": {},
   "outputs": [],
   "source": [
    "s_range = np.linspace(df['log_s'].min(), df['log_s'].max(), 100)"
   ]
  },
  {
   "cell_type": "code",
   "execution_count": null,
   "id": "090e0e3b",
   "metadata": {},
   "outputs": [],
   "source": [
    "df.plot.scatter(\"log_s\",\"log_q\")"
   ]
  },
  {
   "cell_type": "code",
   "execution_count": null,
   "id": "00f28998",
   "metadata": {},
   "outputs": [],
   "source": [
    "num_knots = 5\n",
    "#knot_list = np.quantile(blossom_data.year, np.linspace(0, 1, num_knots))\n",
    "knot_list = np.linspace(df['log_s'].min(),df['log_s'].max(), num_knots)"
   ]
  },
  {
   "cell_type": "code",
   "execution_count": null,
   "id": "8fdbedfe",
   "metadata": {},
   "outputs": [],
   "source": [
    "# natural spline uses cr\n",
    "\n",
    "B = dmatrix(\n",
    "    \"bs(log_s, knots=knots, degree=3, include_intercept=True) - 1\",\n",
    "    {\"log_s\": s_range, \"knots\": knot_list[1:-1]},\n",
    ")\n",
    "B"
   ]
  },
  {
   "cell_type": "code",
   "execution_count": null,
   "id": "a0efcfa0",
   "metadata": {},
   "outputs": [],
   "source": []
  },
  {
   "cell_type": "code",
   "execution_count": null,
   "id": "6f306e08",
   "metadata": {},
   "outputs": [],
   "source": [
    "# plot spline\n",
    "spline_df = (\n",
    "    pd.DataFrame(B)\n",
    "    .assign(log_s=s_range)\n",
    "    .melt(\"log_s\", var_name=\"spline_i\", value_name=\"value\")\n",
    ")\n",
    "\n",
    "color = plt.cm.magma(np.linspace(0, 0.80, len(spline_df.spline_i.unique())))\n",
    "\n",
    "fig = plt.figure()\n",
    "for i, c in enumerate(color):\n",
    "    subset = spline_df.query(f\"spline_i == {i}\")\n",
    "    subset.plot(\"log_s\", \"value\", c=c, ax=plt.gca(), label=i)\n",
    "plt.legend(title=\"Spline Index\", loc=\"upper center\", fontsize=8, ncol=6);"
   ]
  },
  {
   "cell_type": "code",
   "execution_count": null,
   "id": "f222a380",
   "metadata": {},
   "outputs": [],
   "source": []
  },
  {
   "cell_type": "code",
   "execution_count": null,
   "id": "42426b8d",
   "metadata": {},
   "outputs": [],
   "source": [
    "subset"
   ]
  },
  {
   "cell_type": "code",
   "execution_count": null,
   "id": "7f8fdfc2",
   "metadata": {},
   "outputs": [],
   "source": [
    "df['log_s']"
   ]
  },
  {
   "cell_type": "code",
   "execution_count": null,
   "id": "9eea6a30",
   "metadata": {},
   "outputs": [],
   "source": []
  }
 ],
 "metadata": {
  "kernelspec": {
   "display_name": "Python 3 (ipykernel)",
   "language": "python",
   "name": "python3"
  },
  "language_info": {
   "codemirror_mode": {
    "name": "ipython",
    "version": 3
   },
   "file_extension": ".py",
   "mimetype": "text/x-python",
   "name": "python",
   "nbconvert_exporter": "python",
   "pygments_lexer": "ipython3",
   "version": "3.7.12"
  }
 },
 "nbformat": 4,
 "nbformat_minor": 5
}
