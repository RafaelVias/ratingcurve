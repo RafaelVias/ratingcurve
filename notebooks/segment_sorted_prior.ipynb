{
 "cells": [
  {
   "cell_type": "code",
   "execution_count": 1,
   "id": "6e7ab539-1fb5-4b1e-aa91-92cae888c3be",
   "metadata": {},
   "outputs": [],
   "source": [
    "import pandas as pd\n",
    "import arviz as az\n",
    "import numpy as np\n",
    "import matplotlib.pyplot as plt"
   ]
  },
  {
   "cell_type": "code",
   "execution_count": 2,
   "id": "7e0a639a-c7e2-43ec-8d77-515627fd12e5",
   "metadata": {},
   "outputs": [],
   "source": [
    "# TODO\n",
    "# try turning off the sort with lots of data to see if that improves speed\n",
    "# tighter prior on sigma or exponential error?"
   ]
  },
  {
   "cell_type": "code",
   "execution_count": 4,
   "id": "a0ad2b9b-45b6-42de-999f-b474e54c8368",
   "metadata": {},
   "outputs": [
    {
     "data": {
      "text/plain": [
       "<AxesSubplot:xlabel='stage', ylabel='q'>"
      ]
     },
     "execution_count": 4,
     "metadata": {},
     "output_type": "execute_result"
    },
    {
     "data": {
      "image/png": "[encoded data removed]",
      "text/plain": [
       "<Figure size 432x288 with 1 Axes>"
      ]
     },
     "metadata": {
      "needs_background": "light"
     },
     "output_type": "display_data"
    }
   ],
   "source": [
    "sim_df = pd.read_csv('../data/simulated_rating.csv')\n",
    "df = sim_df.sample(40)\n",
    "df = df.sort_values(by='q') #XXX sort or plotting goes crazy\n",
    "fig, ax = plt.subplots()\n",
    "sim_df.plot(x='stage',y='q', ax=ax)#, marker='.')\n",
    "df.plot.scatter(x='stage',y='q', marker='o', color='red', ax=ax)"
   ]
  },
  {
   "cell_type": "code",
   "execution_count": 24,
   "id": "034bfbc1-3894-4622-b66f-64590c5d5b7a",
   "metadata": {},
   "outputs": [],
   "source": [
    "## Uniform prior\n",
    "import pymc as pm\n",
    "from pymc import Model\n",
    "import pymc.distributions.transforms as tr\n",
    "\n",
    "from transforms import LogZTransform\n",
    "\n",
    "import aesara\n",
    "import aesara.tensor as at\n",
    "\n",
    "h_obs = df['stage'].values.reshape(-1,1)\n",
    "    \n",
    "q_obs = df['q'].values.reshape(-1,1)\n",
    "q_transform = LogZTransform(q_obs)\n",
    "y = q_transform.transform(q_obs)\n",
    "\n",
    "\n",
    "segments = 2\n",
    "\n",
    "h_max = h_obs.max()\n",
    "h_min = h_obs.min()\n",
    "\n",
    "\n",
    "inf = at.constant([np.inf])\n",
    "\n",
    "clips_array = np.zeros(segments)\n",
    "clips_array[0] = -np.inf\n",
    "# TODO may be unnecessary?\n",
    "clips = at.constant(clips_array)\n",
    "\n",
    "COORDS = {\"obs\" : np.arange(len(y)), \"splines\":np.arange(segments)}\n",
    "#self.add_coords(COORDS)\n",
    "\n",
    "with Model(coords=COORDS) as model:\n",
    "    \n",
    "    h0_offset = np.ones(segments)\n",
    "    h0_offset[0] = 0 #\n",
    "    \n",
    "    #PRIORS\n",
    "    w = pm.Normal(\"w\", mu=2.08, sigma=0.3, dims=\"splines\")\n",
    "    #w = pm.Laplace(\"w\", 2.08, 0.3, dims=\"splines\")\n",
    "    a = pm.Normal(\"a\", mu=0, sigma=10)\n",
    "    \n",
    "    \n",
    "    # for some reason tr.ordered doesnt work\n",
    "    # TODO raise bug\n",
    "    #hs = pm.Uniform('hs',\n",
    "    hs_ = pm.Uniform('hs_', \n",
    "                    lower=0, #XXX\n",
    "                    upper=h_max,\n",
    "                    #transform=tr.ordered,\n",
    "                    shape = segments,\n",
    "                    initval=[0.3, 10.0])\n",
    "                    #initval=[0.3, 5.7, 10.0]) # define a function to compute\n",
    "    \n",
    "    hs = pm.Deterministic('hs', at.sort(hs_))\n",
    "\n",
    "    hsi = at.concatenate([hs, inf])[1:] #can we avoid?\n",
    "\n",
    "    # enforce that \n",
    "    pm.Potential('minimum', at.switch(hs[1]>h_min, 0, -np.inf))\n",
    "    pm.Potential('maximum', at.switch(hs[-1]<h_max, 0, -np.inf)) #REMOVE\n",
    "    \n",
    "\n",
    "    # MODEL\n",
    "    h0 = hs - h0_offset #XXX check this. should it be a tensor?\n",
    "\n",
    "\n",
    "    b0 = at.switch( at.le(h_obs, hs), clips , at.log(h_obs-h0))\n",
    "    b1 = at.switch( at.le(h_obs, hsi), b0, at.log(hsi-h0))\n",
    "\n",
    "    \n",
    "    mu = pm.Deterministic(\"mu\", a + at.dot(b1, w)) # was w.T\n",
    "    sigma = pm.HalfCauchy(\"sigma\", beta=1, initval=0.01)\n",
    "    #sigma = pm.Exponential(\"sigma\", lam=1, initval=0.1)\n",
    "    #D = pm.Normal(\"D\", mu, sigma, observed=y, dims=\"obs\")\n",
    "    D = pm.Normal(\"D\", mu, sigma, observed=y.flatten(), dims=\"obs\") #TODO check flatten"
   ]
  },
  {
   "cell_type": "code",
   "execution_count": 25,
   "id": "426a85b5-7260-4f40-ac23-fdadeb29bdd8",
   "metadata": {},
   "outputs": [
    {
     "name": "stderr",
     "output_type": "stream",
     "text": [
      "Auto-assigning NUTS sampler...\n",
      "Initializing NUTS using jitter+adapt_diag...\n",
      "/home/thodson/.local/miniconda3/envs/pymc/lib/python3.7/site-packages/pymc/aesaraf.py:1010: UserWarning: The parameter 'updates' of aesara.function() expects an OrderedDict, got <class 'dict'>. Using a standard dictionary here results in non-deterministic behavior. You should use an OrderedDict if you are using Python 2.7 (collections.OrderedDict for older python), or use a list of (shared, update) pairs. Do not just convert your dictionary to this type before the call as the conversion will still be non-deterministic.\n",
      "  **kwargs,\n",
      "Multiprocess sampling (4 chains in 4 jobs)\n",
      "NUTS: [w, a, hs_, sigma]\n"
     ]
    },
    {
     "data": {
      "text/html": [
       "\n",
       "<style>\n",
       "    /* Turns off some styling */\n",
       "    progress {\n",
       "        /* gets rid of default border in Firefox and Opera. */\n",
       "        border: none;\n",
       "        /* Needs to be in here for Safari polyfill so background images work as expected. */\n",
       "        background-size: auto;\n",
       "    }\n",
       "    .progress-bar-interrupted, .progress-bar-interrupted::-webkit-progress-bar {\n",
       "        background: #F44336;\n",
       "    }\n",
       "</style>\n"
      ],
      "text/plain": [
       "<IPython.core.display.HTML object>"
      ]
     },
     "metadata": {},
     "output_type": "display_data"
    },
    {
     "data": {
      "text/html": [
       "\n",
       "    <div>\n",
       "      <progress value='10436' class='' max='12000' style='width:300px; height:20px; vertical-align: middle;'></progress>\n",
       "      86.97% [10436/12000 02:31<00:22 Sampling 4 chains, 8 divergences]\n",
       "    </div>\n",
       "    "
      ],
      "text/plain": [
       "<IPython.core.display.HTML object>"
      ]
     },
     "metadata": {},
     "output_type": "display_data"
    },
    {
     "ename": "KeyError",
     "evalue": "0",
     "output_type": "error",
     "traceback": [
      "\u001b[0;31m---------------------------------------------------------------------------\u001b[0m",
      "\u001b[0;31mKeyError\u001b[0m                                  Traceback (most recent call last)",
      "\u001b[0;32m/tmp/ipykernel_52878/1145134212.py\u001b[0m in \u001b[0;36m<module>\u001b[0;34m\u001b[0m\n\u001b[1;32m      3\u001b[0m \u001b[0;34m\u001b[0m\u001b[0m\n\u001b[1;32m      4\u001b[0m \u001b[0;32mwith\u001b[0m \u001b[0mmodel\u001b[0m\u001b[0;34m:\u001b[0m\u001b[0;34m\u001b[0m\u001b[0;34m\u001b[0m\u001b[0m\n\u001b[0;32m----> 5\u001b[0;31m     \u001b[0mtrace\u001b[0m \u001b[0;34m=\u001b[0m \u001b[0mpm\u001b[0m\u001b[0;34m.\u001b[0m\u001b[0msample\u001b[0m\u001b[0;34m(\u001b[0m\u001b[0mtune\u001b[0m\u001b[0;34m=\u001b[0m\u001b[0;36m2000\u001b[0m\u001b[0;34m,\u001b[0m \u001b[0mchains\u001b[0m\u001b[0;34m=\u001b[0m\u001b[0mn\u001b[0m\u001b[0;34m,\u001b[0m \u001b[0mcores\u001b[0m\u001b[0;34m=\u001b[0m\u001b[0mn\u001b[0m\u001b[0;34m,\u001b[0m \u001b[0mtarget_accept\u001b[0m\u001b[0;34m=\u001b[0m\u001b[0;36m0.95\u001b[0m\u001b[0;34m)\u001b[0m\u001b[0;34m\u001b[0m\u001b[0;34m\u001b[0m\u001b[0m\n\u001b[0m",
      "\u001b[0;32m~/.local/miniconda3/envs/pymc/lib/python3.7/site-packages/pymc/sampling.py\u001b[0m in \u001b[0;36msample\u001b[0;34m(draws, step, init, n_init, initvals, trace, chain_idx, chains, cores, tune, progressbar, model, random_seed, discard_tuned_samples, compute_convergence_checks, callback, jitter_max_retries, return_inferencedata, idata_kwargs, mp_ctx, **kwargs)\u001b[0m\n\u001b[1;32m    589\u001b[0m     \u001b[0;31m# ideally via the \"tune\" statistic, but not all samplers record it!\u001b[0m\u001b[0;34m\u001b[0m\u001b[0;34m\u001b[0m\u001b[0;34m\u001b[0m\u001b[0m\n\u001b[1;32m    590\u001b[0m     \u001b[0;32mif\u001b[0m \u001b[0;34m\"tune\"\u001b[0m \u001b[0;32min\u001b[0m \u001b[0mmtrace\u001b[0m\u001b[0;34m.\u001b[0m\u001b[0mstat_names\u001b[0m\u001b[0;34m:\u001b[0m\u001b[0;34m\u001b[0m\u001b[0;34m\u001b[0m\u001b[0m\n\u001b[0;32m--> 591\u001b[0;31m         \u001b[0mstat\u001b[0m \u001b[0;34m=\u001b[0m \u001b[0mmtrace\u001b[0m\u001b[0;34m.\u001b[0m\u001b[0mget_sampler_stats\u001b[0m\u001b[0;34m(\u001b[0m\u001b[0;34m\"tune\"\u001b[0m\u001b[0;34m,\u001b[0m \u001b[0mchains\u001b[0m\u001b[0;34m=\u001b[0m\u001b[0mchain_idx\u001b[0m\u001b[0;34m)\u001b[0m\u001b[0;34m\u001b[0m\u001b[0;34m\u001b[0m\u001b[0m\n\u001b[0m\u001b[1;32m    592\u001b[0m         \u001b[0;31m# when CompoundStep is used, the stat is 2 dimensional!\u001b[0m\u001b[0;34m\u001b[0m\u001b[0;34m\u001b[0m\u001b[0;34m\u001b[0m\u001b[0m\n\u001b[1;32m    593\u001b[0m         \u001b[0;32mif\u001b[0m \u001b[0mlen\u001b[0m\u001b[0;34m(\u001b[0m\u001b[0mstat\u001b[0m\u001b[0;34m.\u001b[0m\u001b[0mshape\u001b[0m\u001b[0;34m)\u001b[0m \u001b[0;34m==\u001b[0m \u001b[0;36m2\u001b[0m\u001b[0;34m:\u001b[0m\u001b[0;34m\u001b[0m\u001b[0;34m\u001b[0m\u001b[0m\n",
      "\u001b[0;32m~/.local/miniconda3/envs/pymc/lib/python3.7/site-packages/pymc/backends/base.py\u001b[0m in \u001b[0;36mget_sampler_stats\u001b[0;34m(self, stat_name, burn, thin, combine, chains, squeeze)\u001b[0m\n\u001b[1;32m    531\u001b[0m \u001b[0;34m\u001b[0m\u001b[0m\n\u001b[1;32m    532\u001b[0m         results = [\n\u001b[0;32m--> 533\u001b[0;31m             \u001b[0mself\u001b[0m\u001b[0;34m.\u001b[0m\u001b[0m_straces\u001b[0m\u001b[0;34m[\u001b[0m\u001b[0mchain\u001b[0m\u001b[0;34m]\u001b[0m\u001b[0;34m.\u001b[0m\u001b[0mget_sampler_stats\u001b[0m\u001b[0;34m(\u001b[0m\u001b[0mstat_name\u001b[0m\u001b[0;34m,\u001b[0m \u001b[0;32mNone\u001b[0m\u001b[0;34m,\u001b[0m \u001b[0mburn\u001b[0m\u001b[0;34m,\u001b[0m \u001b[0mthin\u001b[0m\u001b[0;34m)\u001b[0m \u001b[0;32mfor\u001b[0m \u001b[0mchain\u001b[0m \u001b[0;32min\u001b[0m \u001b[0mchains\u001b[0m\u001b[0;34m\u001b[0m\u001b[0;34m\u001b[0m\u001b[0m\n\u001b[0m\u001b[1;32m    534\u001b[0m         ]\n\u001b[1;32m    535\u001b[0m         \u001b[0;32mreturn\u001b[0m \u001b[0m_squeeze_cat\u001b[0m\u001b[0;34m(\u001b[0m\u001b[0mresults\u001b[0m\u001b[0;34m,\u001b[0m \u001b[0mcombine\u001b[0m\u001b[0;34m,\u001b[0m \u001b[0msqueeze\u001b[0m\u001b[0;34m)\u001b[0m\u001b[0;34m\u001b[0m\u001b[0;34m\u001b[0m\u001b[0m\n",
      "\u001b[0;32m~/.local/miniconda3/envs/pymc/lib/python3.7/site-packages/pymc/backends/base.py\u001b[0m in \u001b[0;36m<listcomp>\u001b[0;34m(.0)\u001b[0m\n\u001b[1;32m    531\u001b[0m \u001b[0;34m\u001b[0m\u001b[0m\n\u001b[1;32m    532\u001b[0m         results = [\n\u001b[0;32m--> 533\u001b[0;31m             \u001b[0mself\u001b[0m\u001b[0;34m.\u001b[0m\u001b[0m_straces\u001b[0m\u001b[0;34m[\u001b[0m\u001b[0mchain\u001b[0m\u001b[0;34m]\u001b[0m\u001b[0;34m.\u001b[0m\u001b[0mget_sampler_stats\u001b[0m\u001b[0;34m(\u001b[0m\u001b[0mstat_name\u001b[0m\u001b[0;34m,\u001b[0m \u001b[0;32mNone\u001b[0m\u001b[0;34m,\u001b[0m \u001b[0mburn\u001b[0m\u001b[0;34m,\u001b[0m \u001b[0mthin\u001b[0m\u001b[0;34m)\u001b[0m \u001b[0;32mfor\u001b[0m \u001b[0mchain\u001b[0m \u001b[0;32min\u001b[0m \u001b[0mchains\u001b[0m\u001b[0;34m\u001b[0m\u001b[0;34m\u001b[0m\u001b[0m\n\u001b[0m\u001b[1;32m    534\u001b[0m         ]\n\u001b[1;32m    535\u001b[0m         \u001b[0;32mreturn\u001b[0m \u001b[0m_squeeze_cat\u001b[0m\u001b[0;34m(\u001b[0m\u001b[0mresults\u001b[0m\u001b[0;34m,\u001b[0m \u001b[0mcombine\u001b[0m\u001b[0;34m,\u001b[0m \u001b[0msqueeze\u001b[0m\u001b[0;34m)\u001b[0m\u001b[0;34m\u001b[0m\u001b[0;34m\u001b[0m\u001b[0m\n",
      "\u001b[0;31mKeyError\u001b[0m: 0"
     ]
    }
   ],
   "source": [
    "# CompileD XXXX\n",
    "n=4\n",
    "\n",
    "with model:\n",
    "    trace = pm.sample(tune=2000, chains=n, cores=n, target_accept=0.95)"
   ]
  },
  {
   "cell_type": "code",
   "execution_count": 26,
   "id": "4311fd7c-d131-4c94-b6c1-76962d36a835",
   "metadata": {},
   "outputs": [
    {
     "data": {
      "image/png": "[encoded data removed]",
      "text/plain": [
       "<Figure size 432x734.4 with 1 Axes>"
      ]
     },
     "metadata": {
      "needs_background": "light"
     },
     "output_type": "display_data"
    }
   ],
   "source": [
    "az.plot_forest(trace, var_names=[\"w\",\"a\",\"sigma\",\"hs\"], combined=False);"
   ]
  },
  {
   "cell_type": "code",
   "execution_count": 8,
   "id": "5de0616c-af7f-4766-b71a-ef8c390ab71b",
   "metadata": {},
   "outputs": [],
   "source": [
    "#with model:\n",
    "#    mean_field = pm.fit(method=\"advi\", n=100_000)"
   ]
  },
  {
   "cell_type": "code",
   "execution_count": null,
   "id": "c6a6649e-349b-4b87-ba11-f4a43ae0e8f0",
   "metadata": {},
   "outputs": [],
   "source": [
    "#vi_trace = mean_field.sample(5000) #was 5\n",
    "#az.summary(vi_trace, var_names=[\"w\",\"a\",\"sigma\",\"hs\"])"
   ]
  },
  {
   "cell_type": "code",
   "execution_count": 19,
   "id": "c6b865a4-ccbb-406c-8586-3ae2ab21116b",
   "metadata": {},
   "outputs": [],
   "source": [
    "## Normal version\n",
    "\n",
    "import pymc as pm\n",
    "from pymc import Model\n",
    "import pymc.distributions.transforms as tr\n",
    "\n",
    "from transforms import LogZTransform\n",
    "\n",
    "import aesara\n",
    "import aesara.tensor as at\n",
    "\n",
    "h_obs = df['stage'].values.reshape(-1,1)\n",
    "    \n",
    "q_obs = df['q'].values.reshape(-1,1)\n",
    "q_transform = LogZTransform(q_obs)\n",
    "y = q_transform.transform(q_obs)\n",
    "\n",
    "breaks = np.array([4., 5., 10.0])\n",
    "breaks_sigma = np.array([3.0, 0.6, 1.0])\n",
    "segments = 3\n",
    "\n",
    "h_max = h_obs.max()\n",
    "h_min = h_obs.min()\n",
    "\n",
    "\n",
    "inf = at.constant([np.inf])\n",
    "\n",
    "\n",
    "clips_array = np.zeros(segments)\n",
    "clips_array[0] = -np.inf\n",
    "# TODO may be unnecessary?\n",
    "clips = at.constant(clips_array) # TODO could be a problem with clips?\n",
    "\n",
    "COORDS = {\"obs\" : np.arange(len(y)), \"splines\":np.arange(segments)}\n",
    "#self.add_coords(COORDS)\n",
    "\n",
    "with Model(coords=COORDS) as model:\n",
    "    \n",
    "    h0_offset = np.ones(segments)\n",
    "    h0_offset[0] = 0 #\n",
    "    \n",
    "    #PRIORS\n",
    "    w = pm.Normal(\"w\", mu=2.08, sigma=0.3, dims=\"splines\")\n",
    "    #w = pm.Normal(\"w\", mu=2.08, sigma=1, dims=\"splines\")\n",
    "    a = pm.Normal(\"a\", mu=0, sigma=10)\n",
    "    \n",
    "    \n",
    "    # for some reason tr.ordered doesnt work\n",
    "    # TODO raise bug\n",
    "    #hs = pm.Uniform('hs',\n",
    "    hs_ = pm.Normal('hs_', \n",
    "                    breaks,\n",
    "                    breaks_sigma,\n",
    "                    #upper=h_max,\n",
    "                    #transform=tr.ordered,\n",
    "                    shape = segments,\n",
    "                    initval=[0.3, 5.0, 10.0]) # define a function to compute\n",
    "    \n",
    "    hs = pm.Deterministic('hs', at.sort(hs_))\n",
    "\n",
    "    hsi = at.concatenate([hs, inf])[1:] #can we avoid?\n",
    "\n",
    "    # enforce that \n",
    "    pm.Potential('minimum', at.switch(hs[1]>h_min, 0, -np.inf))\n",
    "    pm.Potential('maximum', at.switch(hs[-1]<h_max, 0, -np.inf))\n",
    "    \n",
    "\n",
    "    # MODEL\n",
    "    h0 = hs - h0_offset #XXX check this. should it be a tensor?\n",
    "\n",
    "\n",
    "    b0 = at.switch( at.le(h_obs, hs), clips , at.log(h_obs-h0))\n",
    "    b1 = at.switch( at.le(h_obs, hsi), b0, at.log(hsi-h0))\n",
    "\n",
    "    \n",
    "    mu = pm.Deterministic(\"mu\", a + at.dot(b1, w)) # was w.T\n",
    "    sigma = pm.HalfCauchy(\"sigma\", beta=1, initval=0.01)\n",
    "    #D = pm.Normal(\"D\", mu, sigma, observed=y, dims=\"obs\")\n",
    "    D = pm.Normal(\"D\", mu, sigma, observed=y.flatten(), dims=\"obs\") #TODO check flatten"
   ]
  },
  {
   "cell_type": "code",
   "execution_count": null,
   "id": "44cbf310-3b32-4b0a-a3d0-83b85a995fa2",
   "metadata": {},
   "outputs": [],
   "source": []
  },
  {
   "cell_type": "code",
   "execution_count": 20,
   "id": "0374a9ab-b6c6-4b31-b7aa-4185e24f4d0c",
   "metadata": {},
   "outputs": [
    {
     "name": "stderr",
     "output_type": "stream",
     "text": [
      "Auto-assigning NUTS sampler...\n",
      "Initializing NUTS using jitter+adapt_diag...\n",
      "/home/thodson/.local/miniconda3/envs/pymc/lib/python3.7/site-packages/pymc/aesaraf.py:1010: UserWarning: The parameter 'updates' of aesara.function() expects an OrderedDict, got <class 'dict'>. Using a standard dictionary here results in non-deterministic behavior. You should use an OrderedDict if you are using Python 2.7 (collections.OrderedDict for older python), or use a list of (shared, update) pairs. Do not just convert your dictionary to this type before the call as the conversion will still be non-deterministic.\n",
      "  **kwargs,\n",
      "Multiprocess sampling (4 chains in 4 jobs)\n",
      "NUTS: [w, a, hs_, sigma]\n"
     ]
    },
    {
     "data": {
      "text/html": [
       "\n",
       "<style>\n",
       "    /* Turns off some styling */\n",
       "    progress {\n",
       "        /* gets rid of default border in Firefox and Opera. */\n",
       "        border: none;\n",
       "        /* Needs to be in here for Safari polyfill so background images work as expected. */\n",
       "        background-size: auto;\n",
       "    }\n",
       "    .progress-bar-interrupted, .progress-bar-interrupted::-webkit-progress-bar {\n",
       "        background: #F44336;\n",
       "    }\n",
       "</style>\n"
      ],
      "text/plain": [
       "<IPython.core.display.HTML object>"
      ]
     },
     "metadata": {},
     "output_type": "display_data"
    },
    {
     "data": {
      "text/html": [
       "\n",
       "    <div>\n",
       "      <progress value='12000' class='' max='12000' style='width:300px; height:20px; vertical-align: middle;'></progress>\n",
       "      100.00% [12000/12000 02:11<00:00 Sampling 4 chains, 0 divergences]\n",
       "    </div>\n",
       "    "
      ],
      "text/plain": [
       "<IPython.core.display.HTML object>"
      ]
     },
     "metadata": {},
     "output_type": "display_data"
    },
    {
     "name": "stderr",
     "output_type": "stream",
     "text": [
      "Sampling 4 chains for 2_000 tune and 1_000 draw iterations (8_000 + 4_000 draws total) took 131 seconds.\n"
     ]
    }
   ],
   "source": [
    "# CompileD XXXX\n",
    "n=4\n",
    "\n",
    "with model:\n",
    "    trace = pm.sample(tune=2000, chains=n, cores=n, target_accept=0.95)"
   ]
  },
  {
   "cell_type": "code",
   "execution_count": 21,
   "id": "f306ecda-015a-4cc5-b66d-2a795877153f",
   "metadata": {},
   "outputs": [
    {
     "data": {
      "image/png": "[encoded data removed]",
      "text/plain": [
       "<Figure size 432x734.4 with 1 Axes>"
      ]
     },
     "metadata": {
      "needs_background": "light"
     },
     "output_type": "display_data"
    }
   ],
   "source": [
    "az.plot_forest(trace, var_names=[\"w\",\"a\",\"sigma\",\"hs\"], combined=False);"
   ]
  },
  {
   "cell_type": "code",
   "execution_count": 33,
   "id": "5a2c8f76-46f9-42a8-ab4d-2331aa7e02f6",
   "metadata": {},
   "outputs": [
    {
     "data": {
      "text/html": [
       "<div>\n",
       "<style scoped>\n",
       "    .dataframe tbody tr th:only-of-type {\n",
       "        vertical-align: middle;\n",
       "    }\n",
       "\n",
       "    .dataframe tbody tr th {\n",
       "        vertical-align: top;\n",
       "    }\n",
       "\n",
       "    .dataframe thead th {\n",
       "        text-align: right;\n",
       "    }\n",
       "</style>\n",
       "<table border=\"1\" class=\"dataframe\">\n",
       "  <thead>\n",
       "    <tr style=\"text-align: right;\">\n",
       "      <th></th>\n",
       "      <th>mean</th>\n",
       "      <th>sd</th>\n",
       "      <th>hdi_3%</th>\n",
       "      <th>hdi_97%</th>\n",
       "      <th>mcse_mean</th>\n",
       "      <th>mcse_sd</th>\n",
       "      <th>ess_bulk</th>\n",
       "      <th>ess_tail</th>\n",
       "      <th>r_hat</th>\n",
       "    </tr>\n",
       "  </thead>\n",
       "  <tbody>\n",
       "    <tr>\n",
       "      <th>w[0]</th>\n",
       "      <td>1.746</td>\n",
       "      <td>0.148</td>\n",
       "      <td>1.476</td>\n",
       "      <td>2.016</td>\n",
       "      <td>0.005</td>\n",
       "      <td>0.004</td>\n",
       "      <td>947.0</td>\n",
       "      <td>1197.0</td>\n",
       "      <td>1.0</td>\n",
       "    </tr>\n",
       "    <tr>\n",
       "      <th>w[1]</th>\n",
       "      <td>1.369</td>\n",
       "      <td>0.015</td>\n",
       "      <td>1.341</td>\n",
       "      <td>1.396</td>\n",
       "      <td>0.000</td>\n",
       "      <td>0.000</td>\n",
       "      <td>1442.0</td>\n",
       "      <td>1771.0</td>\n",
       "      <td>1.0</td>\n",
       "    </tr>\n",
       "    <tr>\n",
       "      <th>w[2]</th>\n",
       "      <td>0.818</td>\n",
       "      <td>0.007</td>\n",
       "      <td>0.804</td>\n",
       "      <td>0.830</td>\n",
       "      <td>0.000</td>\n",
       "      <td>0.000</td>\n",
       "      <td>2821.0</td>\n",
       "      <td>2359.0</td>\n",
       "      <td>1.0</td>\n",
       "    </tr>\n",
       "    <tr>\n",
       "      <th>a</th>\n",
       "      <td>-1.908</td>\n",
       "      <td>0.089</td>\n",
       "      <td>-2.066</td>\n",
       "      <td>-1.755</td>\n",
       "      <td>0.003</td>\n",
       "      <td>0.002</td>\n",
       "      <td>1033.0</td>\n",
       "      <td>1226.0</td>\n",
       "      <td>1.0</td>\n",
       "    </tr>\n",
       "    <tr>\n",
       "      <th>sigma</th>\n",
       "      <td>0.018</td>\n",
       "      <td>0.001</td>\n",
       "      <td>0.015</td>\n",
       "      <td>0.020</td>\n",
       "      <td>0.000</td>\n",
       "      <td>0.000</td>\n",
       "      <td>3064.0</td>\n",
       "      <td>2634.0</td>\n",
       "      <td>1.0</td>\n",
       "    </tr>\n",
       "    <tr>\n",
       "      <th>hs[0]</th>\n",
       "      <td>4.755</td>\n",
       "      <td>0.052</td>\n",
       "      <td>4.661</td>\n",
       "      <td>4.851</td>\n",
       "      <td>0.002</td>\n",
       "      <td>0.001</td>\n",
       "      <td>973.0</td>\n",
       "      <td>1156.0</td>\n",
       "      <td>1.0</td>\n",
       "    </tr>\n",
       "    <tr>\n",
       "      <th>hs[1]</th>\n",
       "      <td>5.788</td>\n",
       "      <td>0.025</td>\n",
       "      <td>5.741</td>\n",
       "      <td>5.834</td>\n",
       "      <td>0.001</td>\n",
       "      <td>0.000</td>\n",
       "      <td>1328.0</td>\n",
       "      <td>2058.0</td>\n",
       "      <td>1.0</td>\n",
       "    </tr>\n",
       "    <tr>\n",
       "      <th>hs[2]</th>\n",
       "      <td>10.733</td>\n",
       "      <td>0.017</td>\n",
       "      <td>10.700</td>\n",
       "      <td>10.765</td>\n",
       "      <td>0.000</td>\n",
       "      <td>0.000</td>\n",
       "      <td>2966.0</td>\n",
       "      <td>2357.0</td>\n",
       "      <td>1.0</td>\n",
       "    </tr>\n",
       "  </tbody>\n",
       "</table>\n",
       "</div>"
      ],
      "text/plain": [
       "         mean     sd  hdi_3%  hdi_97%  mcse_mean  mcse_sd  ess_bulk  ess_tail  \\\n",
       "w[0]    1.746  0.148   1.476    2.016      0.005    0.004     947.0    1197.0   \n",
       "w[1]    1.369  0.015   1.341    1.396      0.000    0.000    1442.0    1771.0   \n",
       "w[2]    0.818  0.007   0.804    0.830      0.000    0.000    2821.0    2359.0   \n",
       "a      -1.908  0.089  -2.066   -1.755      0.003    0.002    1033.0    1226.0   \n",
       "sigma   0.018  0.001   0.015    0.020      0.000    0.000    3064.0    2634.0   \n",
       "hs[0]   4.755  0.052   4.661    4.851      0.002    0.001     973.0    1156.0   \n",
       "hs[1]   5.788  0.025   5.741    5.834      0.001    0.000    1328.0    2058.0   \n",
       "hs[2]  10.733  0.017  10.700   10.765      0.000    0.000    2966.0    2357.0   \n",
       "\n",
       "       r_hat  \n",
       "w[0]     1.0  \n",
       "w[1]     1.0  \n",
       "w[2]     1.0  \n",
       "a        1.0  \n",
       "sigma    1.0  \n",
       "hs[0]    1.0  \n",
       "hs[1]    1.0  \n",
       "hs[2]    1.0  "
      ]
     },
     "execution_count": 33,
     "metadata": {},
     "output_type": "execute_result"
    }
   ],
   "source": [
    "az.summary(trace, var_names=[\"w\",\"a\",\"sigma\",\"hs\"])"
   ]
  },
  {
   "cell_type": "code",
   "execution_count": 14,
   "id": "ecfe5606-3e03-4996-9974-e5e0dd55a04d",
   "metadata": {},
   "outputs": [
    {
     "data": {
      "text/plain": [
       "12.31"
      ]
     },
     "execution_count": 14,
     "metadata": {},
     "output_type": "execute_result"
    }
   ],
   "source": [
    "h_max"
   ]
  },
  {
   "cell_type": "code",
   "execution_count": 23,
   "id": "0033b54c-7845-415b-a0b7-675687cbabbf",
   "metadata": {},
   "outputs": [
    {
     "name": "stderr",
     "output_type": "stream",
     "text": [
      "/home/thodson/.local/miniconda3/envs/pymc/lib/python3.7/site-packages/pymc/aesaraf.py:1010: UserWarning: The parameter 'updates' of aesara.function() expects an OrderedDict, got <class 'dict'>. Using a standard dictionary here results in non-deterministic behavior. You should use an OrderedDict if you are using Python 2.7 (collections.OrderedDict for older python), or use a list of (shared, update) pairs. Do not just convert your dictionary to this type before the call as the conversion will still be non-deterministic.\n",
      "  **kwargs,\n"
     ]
    },
    {
     "data": {
      "text/html": [
       "\n",
       "<style>\n",
       "    /* Turns off some styling */\n",
       "    progress {\n",
       "        /* gets rid of default border in Firefox and Opera. */\n",
       "        border: none;\n",
       "        /* Needs to be in here for Safari polyfill so background images work as expected. */\n",
       "        background-size: auto;\n",
       "    }\n",
       "    .progress-bar-interrupted, .progress-bar-interrupted::-webkit-progress-bar {\n",
       "        background: #F44336;\n",
       "    }\n",
       "</style>\n"
      ],
      "text/plain": [
       "<IPython.core.display.HTML object>"
      ]
     },
     "metadata": {},
     "output_type": "display_data"
    },
    {
     "data": {
      "text/html": [
       "\n",
       "    <div>\n",
       "      <progress value='24459' class='' max='100000' style='width:300px; height:20px; vertical-align: middle;'></progress>\n",
       "      24.46% [24459/100000 00:03<00:10 Average Loss = 87.569]\n",
       "    </div>\n",
       "    "
      ],
      "text/plain": [
       "<IPython.core.display.HTML object>"
      ]
     },
     "metadata": {},
     "output_type": "display_data"
    },
    {
     "ename": "FloatingPointError",
     "evalue": "NaN occurred in optimization. \nThe current approximation of RV `a`.ravel()[0] is NaN.\nThe current approximation of RV `w`.ravel()[0] is NaN.\nThe current approximation of RV `w`.ravel()[1] is NaN.\nThe current approximation of RV `w`.ravel()[2] is NaN.\nThe current approximation of RV `sigma_log__`.ravel()[0] is NaN.\nThe current approximation of RV `hs_`.ravel()[0] is NaN.\nThe current approximation of RV `hs_`.ravel()[1] is NaN.\nThe current approximation of RV `hs_`.ravel()[2] is NaN.\nTry tracking this parameter: http://docs.pymc.io/notebooks/variational_api_quickstart.html#Tracking-parameters",
     "output_type": "error",
     "traceback": [
      "\u001b[0;31m---------------------------------------------------------------------------\u001b[0m",
      "\u001b[0;31mFloatingPointError\u001b[0m                        Traceback (most recent call last)",
      "\u001b[0;32m/tmp/ipykernel_52878/2584423101.py\u001b[0m in \u001b[0;36m<module>\u001b[0;34m\u001b[0m\n\u001b[1;32m      1\u001b[0m \u001b[0;32mwith\u001b[0m \u001b[0mmodel\u001b[0m\u001b[0;34m:\u001b[0m\u001b[0;34m\u001b[0m\u001b[0;34m\u001b[0m\u001b[0m\n\u001b[0;32m----> 2\u001b[0;31m     \u001b[0mmean_field\u001b[0m \u001b[0;34m=\u001b[0m \u001b[0mpm\u001b[0m\u001b[0;34m.\u001b[0m\u001b[0mfit\u001b[0m\u001b[0;34m(\u001b[0m\u001b[0mmethod\u001b[0m\u001b[0;34m=\u001b[0m\u001b[0;34m\"advi\"\u001b[0m\u001b[0;34m,\u001b[0m \u001b[0mn\u001b[0m\u001b[0;34m=\u001b[0m\u001b[0;36m100_000\u001b[0m\u001b[0;34m)\u001b[0m\u001b[0;34m\u001b[0m\u001b[0;34m\u001b[0m\u001b[0m\n\u001b[0m",
      "\u001b[0;32m~/.local/miniconda3/envs/pymc/lib/python3.7/site-packages/pymc/variational/inference.py\u001b[0m in \u001b[0;36mfit\u001b[0;34m(n, local_rv, method, model, random_seed, start, inf_kwargs, **kwargs)\u001b[0m\n\u001b[1;32m    828\u001b[0m     \u001b[0;32melse\u001b[0m\u001b[0;34m:\u001b[0m\u001b[0;34m\u001b[0m\u001b[0;34m\u001b[0m\u001b[0m\n\u001b[1;32m    829\u001b[0m         \u001b[0;32mraise\u001b[0m \u001b[0mTypeError\u001b[0m\u001b[0;34m(\u001b[0m\u001b[0;34mf\"method should be one of {set(_select.keys())} or Inference instance\"\u001b[0m\u001b[0;34m)\u001b[0m\u001b[0;34m\u001b[0m\u001b[0;34m\u001b[0m\u001b[0m\n\u001b[0;32m--> 830\u001b[0;31m     \u001b[0;32mreturn\u001b[0m \u001b[0minference\u001b[0m\u001b[0;34m.\u001b[0m\u001b[0mfit\u001b[0m\u001b[0;34m(\u001b[0m\u001b[0mn\u001b[0m\u001b[0;34m,\u001b[0m \u001b[0;34m**\u001b[0m\u001b[0mkwargs\u001b[0m\u001b[0;34m)\u001b[0m\u001b[0;34m\u001b[0m\u001b[0;34m\u001b[0m\u001b[0m\n\u001b[0m",
      "\u001b[0;32m~/.local/miniconda3/envs/pymc/lib/python3.7/site-packages/pymc/variational/inference.py\u001b[0m in \u001b[0;36mfit\u001b[0;34m(self, n, score, callbacks, progressbar, **kwargs)\u001b[0m\n\u001b[1;32m    148\u001b[0m             \u001b[0mprogress\u001b[0m \u001b[0;34m=\u001b[0m \u001b[0mrange\u001b[0m\u001b[0;34m(\u001b[0m\u001b[0mn\u001b[0m\u001b[0;34m)\u001b[0m\u001b[0;34m\u001b[0m\u001b[0;34m\u001b[0m\u001b[0m\n\u001b[1;32m    149\u001b[0m         \u001b[0;32mif\u001b[0m \u001b[0mscore\u001b[0m\u001b[0;34m:\u001b[0m\u001b[0;34m\u001b[0m\u001b[0;34m\u001b[0m\u001b[0m\n\u001b[0;32m--> 150\u001b[0;31m             \u001b[0mstate\u001b[0m \u001b[0;34m=\u001b[0m \u001b[0mself\u001b[0m\u001b[0;34m.\u001b[0m\u001b[0m_iterate_with_loss\u001b[0m\u001b[0;34m(\u001b[0m\u001b[0;36m0\u001b[0m\u001b[0;34m,\u001b[0m \u001b[0mn\u001b[0m\u001b[0;34m,\u001b[0m \u001b[0mstep_func\u001b[0m\u001b[0;34m,\u001b[0m \u001b[0mprogress\u001b[0m\u001b[0;34m,\u001b[0m \u001b[0mcallbacks\u001b[0m\u001b[0;34m)\u001b[0m\u001b[0;34m\u001b[0m\u001b[0;34m\u001b[0m\u001b[0m\n\u001b[0m\u001b[1;32m    151\u001b[0m         \u001b[0;32melse\u001b[0m\u001b[0;34m:\u001b[0m\u001b[0;34m\u001b[0m\u001b[0;34m\u001b[0m\u001b[0m\n\u001b[1;32m    152\u001b[0m             \u001b[0mstate\u001b[0m \u001b[0;34m=\u001b[0m \u001b[0mself\u001b[0m\u001b[0;34m.\u001b[0m\u001b[0m_iterate_without_loss\u001b[0m\u001b[0;34m(\u001b[0m\u001b[0;36m0\u001b[0m\u001b[0;34m,\u001b[0m \u001b[0mn\u001b[0m\u001b[0;34m,\u001b[0m \u001b[0mstep_func\u001b[0m\u001b[0;34m,\u001b[0m \u001b[0mprogress\u001b[0m\u001b[0;34m,\u001b[0m \u001b[0mcallbacks\u001b[0m\u001b[0;34m)\u001b[0m\u001b[0;34m\u001b[0m\u001b[0;34m\u001b[0m\u001b[0m\n",
      "\u001b[0;32m~/.local/miniconda3/envs/pymc/lib/python3.7/site-packages/pymc/variational/inference.py\u001b[0m in \u001b[0;36m_iterate_with_loss\u001b[0;34m(self, s, n, step_func, progress, callbacks)\u001b[0m\n\u001b[1;32m    234\u001b[0m                     \u001b[0;32mexcept\u001b[0m \u001b[0mIndexError\u001b[0m\u001b[0;34m:\u001b[0m\u001b[0;34m\u001b[0m\u001b[0;34m\u001b[0m\u001b[0m\n\u001b[1;32m    235\u001b[0m                         \u001b[0;32mpass\u001b[0m\u001b[0;34m\u001b[0m\u001b[0;34m\u001b[0m\u001b[0m\n\u001b[0;32m--> 236\u001b[0;31m                     \u001b[0;32mraise\u001b[0m \u001b[0mFloatingPointError\u001b[0m\u001b[0;34m(\u001b[0m\u001b[0;34m\"\\n\"\u001b[0m\u001b[0;34m.\u001b[0m\u001b[0mjoin\u001b[0m\u001b[0;34m(\u001b[0m\u001b[0merrmsg\u001b[0m\u001b[0;34m)\u001b[0m\u001b[0;34m)\u001b[0m\u001b[0;34m\u001b[0m\u001b[0;34m\u001b[0m\u001b[0m\n\u001b[0m\u001b[1;32m    237\u001b[0m                 \u001b[0mscores\u001b[0m\u001b[0;34m[\u001b[0m\u001b[0mi\u001b[0m\u001b[0;34m]\u001b[0m \u001b[0;34m=\u001b[0m \u001b[0me\u001b[0m\u001b[0;34m\u001b[0m\u001b[0;34m\u001b[0m\u001b[0m\n\u001b[1;32m    238\u001b[0m                 \u001b[0;32mif\u001b[0m \u001b[0mi\u001b[0m \u001b[0;34m%\u001b[0m \u001b[0;36m10\u001b[0m \u001b[0;34m==\u001b[0m \u001b[0;36m0\u001b[0m\u001b[0;34m:\u001b[0m\u001b[0;34m\u001b[0m\u001b[0;34m\u001b[0m\u001b[0m\n",
      "\u001b[0;31mFloatingPointError\u001b[0m: NaN occurred in optimization. \nThe current approximation of RV `a`.ravel()[0] is NaN.\nThe current approximation of RV `w`.ravel()[0] is NaN.\nThe current approximation of RV `w`.ravel()[1] is NaN.\nThe current approximation of RV `w`.ravel()[2] is NaN.\nThe current approximation of RV `sigma_log__`.ravel()[0] is NaN.\nThe current approximation of RV `hs_`.ravel()[0] is NaN.\nThe current approximation of RV `hs_`.ravel()[1] is NaN.\nThe current approximation of RV `hs_`.ravel()[2] is NaN.\nTry tracking this parameter: http://docs.pymc.io/notebooks/variational_api_quickstart.html#Tracking-parameters"
     ]
    }
   ],
   "source": [
    "with model:\n",
    "    mean_field = pm.fit(method=\"advi\", n=100_000)"
   ]
  },
  {
   "cell_type": "code",
   "execution_count": 16,
   "id": "8246b06c-67eb-43fe-a60e-94897be4399a",
   "metadata": {},
   "outputs": [
    {
     "name": "stderr",
     "output_type": "stream",
     "text": [
      "arviz - WARNING - Shape validation failed: input_shape: (1, 5000), minimum_shape: (chains=2, draws=4)\n"
     ]
    },
    {
     "data": {
      "text/html": [
       "<div>\n",
       "<style scoped>\n",
       "    .dataframe tbody tr th:only-of-type {\n",
       "        vertical-align: middle;\n",
       "    }\n",
       "\n",
       "    .dataframe tbody tr th {\n",
       "        vertical-align: top;\n",
       "    }\n",
       "\n",
       "    .dataframe thead th {\n",
       "        text-align: right;\n",
       "    }\n",
       "</style>\n",
       "<table border=\"1\" class=\"dataframe\">\n",
       "  <thead>\n",
       "    <tr style=\"text-align: right;\">\n",
       "      <th></th>\n",
       "      <th>mean</th>\n",
       "      <th>sd</th>\n",
       "      <th>hdi_3%</th>\n",
       "      <th>hdi_97%</th>\n",
       "      <th>mcse_mean</th>\n",
       "      <th>mcse_sd</th>\n",
       "      <th>ess_bulk</th>\n",
       "      <th>ess_tail</th>\n",
       "      <th>r_hat</th>\n",
       "    </tr>\n",
       "  </thead>\n",
       "  <tbody>\n",
       "    <tr>\n",
       "      <th>w[0]</th>\n",
       "      <td>1.980</td>\n",
       "      <td>0.060</td>\n",
       "      <td>1.864</td>\n",
       "      <td>2.089</td>\n",
       "      <td>0.001</td>\n",
       "      <td>0.001</td>\n",
       "      <td>4881.0</td>\n",
       "      <td>4705.0</td>\n",
       "      <td>NaN</td>\n",
       "    </tr>\n",
       "    <tr>\n",
       "      <th>w[1]</th>\n",
       "      <td>1.484</td>\n",
       "      <td>0.030</td>\n",
       "      <td>1.425</td>\n",
       "      <td>1.537</td>\n",
       "      <td>0.000</td>\n",
       "      <td>0.000</td>\n",
       "      <td>4211.0</td>\n",
       "      <td>4670.0</td>\n",
       "      <td>NaN</td>\n",
       "    </tr>\n",
       "    <tr>\n",
       "      <th>a</th>\n",
       "      <td>-3.570</td>\n",
       "      <td>0.045</td>\n",
       "      <td>-3.654</td>\n",
       "      <td>-3.483</td>\n",
       "      <td>0.001</td>\n",
       "      <td>0.000</td>\n",
       "      <td>4225.0</td>\n",
       "      <td>4676.0</td>\n",
       "      <td>NaN</td>\n",
       "    </tr>\n",
       "    <tr>\n",
       "      <th>sigma</th>\n",
       "      <td>0.261</td>\n",
       "      <td>0.033</td>\n",
       "      <td>0.202</td>\n",
       "      <td>0.323</td>\n",
       "      <td>0.000</td>\n",
       "      <td>0.000</td>\n",
       "      <td>5056.0</td>\n",
       "      <td>4983.0</td>\n",
       "      <td>NaN</td>\n",
       "    </tr>\n",
       "    <tr>\n",
       "      <th>hs[0]</th>\n",
       "      <td>2.910</td>\n",
       "      <td>0.051</td>\n",
       "      <td>2.814</td>\n",
       "      <td>3.003</td>\n",
       "      <td>0.001</td>\n",
       "      <td>0.001</td>\n",
       "      <td>4883.0</td>\n",
       "      <td>4974.0</td>\n",
       "      <td>NaN</td>\n",
       "    </tr>\n",
       "    <tr>\n",
       "      <th>hs[1]</th>\n",
       "      <td>5.048</td>\n",
       "      <td>0.067</td>\n",
       "      <td>4.929</td>\n",
       "      <td>5.176</td>\n",
       "      <td>0.001</td>\n",
       "      <td>0.001</td>\n",
       "      <td>4863.0</td>\n",
       "      <td>4815.0</td>\n",
       "      <td>NaN</td>\n",
       "    </tr>\n",
       "  </tbody>\n",
       "</table>\n",
       "</div>"
      ],
      "text/plain": [
       "        mean     sd  hdi_3%  hdi_97%  mcse_mean  mcse_sd  ess_bulk  ess_tail  \\\n",
       "w[0]   1.980  0.060   1.864    2.089      0.001    0.001    4881.0    4705.0   \n",
       "w[1]   1.484  0.030   1.425    1.537      0.000    0.000    4211.0    4670.0   \n",
       "a     -3.570  0.045  -3.654   -3.483      0.001    0.000    4225.0    4676.0   \n",
       "sigma  0.261  0.033   0.202    0.323      0.000    0.000    5056.0    4983.0   \n",
       "hs[0]  2.910  0.051   2.814    3.003      0.001    0.001    4883.0    4974.0   \n",
       "hs[1]  5.048  0.067   4.929    5.176      0.001    0.001    4863.0    4815.0   \n",
       "\n",
       "       r_hat  \n",
       "w[0]     NaN  \n",
       "w[1]     NaN  \n",
       "a        NaN  \n",
       "sigma    NaN  \n",
       "hs[0]    NaN  \n",
       "hs[1]    NaN  "
      ]
     },
     "execution_count": 16,
     "metadata": {},
     "output_type": "execute_result"
    }
   ],
   "source": [
    "vi_trace = mean_field.sample(5000) #was 5\n",
    "az.summary(vi_trace, var_names=[\"w\",\"a\",\"sigma\",\"hs\"])"
   ]
  },
  {
   "cell_type": "code",
   "execution_count": 17,
   "id": "60dd972c-03d6-469d-936f-a6eda7cfc97a",
   "metadata": {},
   "outputs": [
    {
     "name": "stderr",
     "output_type": "stream",
     "text": [
      "arviz - WARNING - Shape validation failed: input_shape: (1, 5000), minimum_shape: (chains=2, draws=4)\n"
     ]
    },
    {
     "data": {
      "text/html": [
       "<div>\n",
       "<style scoped>\n",
       "    .dataframe tbody tr th:only-of-type {\n",
       "        vertical-align: middle;\n",
       "    }\n",
       "\n",
       "    .dataframe tbody tr th {\n",
       "        vertical-align: top;\n",
       "    }\n",
       "\n",
       "    .dataframe thead th {\n",
       "        text-align: right;\n",
       "    }\n",
       "</style>\n",
       "<table border=\"1\" class=\"dataframe\">\n",
       "  <thead>\n",
       "    <tr style=\"text-align: right;\">\n",
       "      <th></th>\n",
       "      <th>mean</th>\n",
       "      <th>sd</th>\n",
       "      <th>hdi_3%</th>\n",
       "      <th>hdi_97%</th>\n",
       "      <th>mcse_mean</th>\n",
       "      <th>mcse_sd</th>\n",
       "      <th>ess_bulk</th>\n",
       "      <th>ess_tail</th>\n",
       "      <th>r_hat</th>\n",
       "    </tr>\n",
       "  </thead>\n",
       "  <tbody>\n",
       "    <tr>\n",
       "      <th>w[0]</th>\n",
       "      <td>1.980</td>\n",
       "      <td>0.060</td>\n",
       "      <td>1.864</td>\n",
       "      <td>2.089</td>\n",
       "      <td>0.001</td>\n",
       "      <td>0.001</td>\n",
       "      <td>4881.0</td>\n",
       "      <td>4705.0</td>\n",
       "      <td>NaN</td>\n",
       "    </tr>\n",
       "    <tr>\n",
       "      <th>w[1]</th>\n",
       "      <td>1.484</td>\n",
       "      <td>0.030</td>\n",
       "      <td>1.425</td>\n",
       "      <td>1.537</td>\n",
       "      <td>0.000</td>\n",
       "      <td>0.000</td>\n",
       "      <td>4211.0</td>\n",
       "      <td>4670.0</td>\n",
       "      <td>NaN</td>\n",
       "    </tr>\n",
       "    <tr>\n",
       "      <th>a</th>\n",
       "      <td>-3.570</td>\n",
       "      <td>0.045</td>\n",
       "      <td>-3.654</td>\n",
       "      <td>-3.483</td>\n",
       "      <td>0.001</td>\n",
       "      <td>0.000</td>\n",
       "      <td>4225.0</td>\n",
       "      <td>4676.0</td>\n",
       "      <td>NaN</td>\n",
       "    </tr>\n",
       "    <tr>\n",
       "      <th>sigma</th>\n",
       "      <td>0.261</td>\n",
       "      <td>0.033</td>\n",
       "      <td>0.202</td>\n",
       "      <td>0.323</td>\n",
       "      <td>0.000</td>\n",
       "      <td>0.000</td>\n",
       "      <td>5056.0</td>\n",
       "      <td>4983.0</td>\n",
       "      <td>NaN</td>\n",
       "    </tr>\n",
       "    <tr>\n",
       "      <th>hs[0]</th>\n",
       "      <td>2.910</td>\n",
       "      <td>0.051</td>\n",
       "      <td>2.814</td>\n",
       "      <td>3.003</td>\n",
       "      <td>0.001</td>\n",
       "      <td>0.001</td>\n",
       "      <td>4883.0</td>\n",
       "      <td>4974.0</td>\n",
       "      <td>NaN</td>\n",
       "    </tr>\n",
       "    <tr>\n",
       "      <th>hs[1]</th>\n",
       "      <td>5.048</td>\n",
       "      <td>0.067</td>\n",
       "      <td>4.929</td>\n",
       "      <td>5.176</td>\n",
       "      <td>0.001</td>\n",
       "      <td>0.001</td>\n",
       "      <td>4863.0</td>\n",
       "      <td>4815.0</td>\n",
       "      <td>NaN</td>\n",
       "    </tr>\n",
       "  </tbody>\n",
       "</table>\n",
       "</div>"
      ],
      "text/plain": [
       "        mean     sd  hdi_3%  hdi_97%  mcse_mean  mcse_sd  ess_bulk  ess_tail  \\\n",
       "w[0]   1.980  0.060   1.864    2.089      0.001    0.001    4881.0    4705.0   \n",
       "w[1]   1.484  0.030   1.425    1.537      0.000    0.000    4211.0    4670.0   \n",
       "a     -3.570  0.045  -3.654   -3.483      0.001    0.000    4225.0    4676.0   \n",
       "sigma  0.261  0.033   0.202    0.323      0.000    0.000    5056.0    4983.0   \n",
       "hs[0]  2.910  0.051   2.814    3.003      0.001    0.001    4883.0    4974.0   \n",
       "hs[1]  5.048  0.067   4.929    5.176      0.001    0.001    4863.0    4815.0   \n",
       "\n",
       "       r_hat  \n",
       "w[0]     NaN  \n",
       "w[1]     NaN  \n",
       "a        NaN  \n",
       "sigma    NaN  \n",
       "hs[0]    NaN  \n",
       "hs[1]    NaN  "
      ]
     },
     "execution_count": 17,
     "metadata": {},
     "output_type": "execute_result"
    }
   ],
   "source": [
    "az.summary(vi_trace, var_names=[\"w\",\"a\",\"sigma\",\"hs\"])"
   ]
  },
  {
   "cell_type": "code",
   "execution_count": 18,
   "id": "59dc1f5c-7d9c-43a4-ad67-9c5c8aa10d3b",
   "metadata": {},
   "outputs": [
    {
     "data": {
      "image/png": "[encoded data removed]",
      "text/plain": [
       "<Figure size 432x547.2 with 1 Axes>"
      ]
     },
     "metadata": {
      "needs_background": "light"
     },
     "output_type": "display_data"
    }
   ],
   "source": [
    "az.plot_forest(vi_trace, var_names=[\"w\",\"a\",\"sigma\",\"hs\"], combined=False);"
   ]
  },
  {
   "cell_type": "markdown",
   "id": "68777775-887b-4227-b48b-31634a77c90b",
   "metadata": {},
   "source": [
    "# vectorized version"
   ]
  },
  {
   "cell_type": "code",
   "execution_count": null,
   "id": "4e53e899-ca5d-463b-9d36-b8145f554b56",
   "metadata": {},
   "outputs": [],
   "source": [
    "mu = at.add(*[rho[i] * stacked_value[ar_order - (i+1): -(i+1)] for i in range(ar_order)])"
   ]
  },
  {
   "cell_type": "code",
   "execution_count": null,
   "id": "a4b10e30-1f1a-4742-9312-65b734948401",
   "metadata": {},
   "outputs": [],
   "source": [
    "## Uniform prior\n",
    "import pymc as pm\n",
    "from pymc import Model\n",
    "import pymc.distributions.transforms as tr\n",
    "\n",
    "from transforms import LogZTransform\n",
    "\n",
    "import aesara\n",
    "import aesara.tensor as at\n",
    "\n",
    "h_obs = df['stage'].values.reshape(-1,1)\n",
    "    \n",
    "q_obs = df['q'].values.reshape(-1,1)\n",
    "q_transform = LogZTransform(q_obs)\n",
    "y = q_transform.transform(q_obs)\n",
    "\n",
    "\n",
    "segments = 2\n",
    "\n",
    "h_max = h_obs.max()\n",
    "h_min = h_obs.min()\n",
    "\n",
    "\n",
    "inf = at.constant([np.inf])\n",
    "\n",
    "clips_array = np.zeros(segments)\n",
    "clips_array[0] = -np.inf\n",
    "# TODO may be unnecessary?\n",
    "clips = at.constant(clips_array)\n",
    "\n",
    "COORDS = {\"obs\" : np.arange(len(y)), \"splines\":np.arange(segments)}\n",
    "#self.add_coords(COORDS)\n",
    "\n",
    "with Model(coords=COORDS) as model:\n",
    "    \n",
    "    h0_offset = np.ones(segments)\n",
    "    h0_offset[0] = 0 #\n",
    "    \n",
    "    #PRIORS\n",
    "    w = pm.Normal(\"w\", mu=2.08, sigma=0.3, dims=\"splines\")\n",
    "    #w = pm.Laplace(\"w\", 2.08, 0.3, dims=\"splines\")\n",
    "    a = pm.Normal(\"a\", mu=0, sigma=10)\n",
    "    \n",
    "    \n",
    "    # for some reason tr.ordered doesnt work\n",
    "    # TODO raise bug\n",
    "    #hs = pm.Uniform('hs',\n",
    "    hs_ = pm.Uniform('hs_', \n",
    "                    lower=0, #XXX\n",
    "                    upper=h_max,\n",
    "                    #transform=tr.ordered,\n",
    "                    shape = segments,\n",
    "                    initval=[0.3, 10.0])\n",
    "                    #initval=[0.3, 5.7, 10.0]) # define a function to compute\n",
    "    \n",
    "    hs = pm.Deterministic('hs', at.sort(hs_))\n",
    "\n",
    "    hsi = at.concatenate([hs, inf])[1:] #can we avoid?\n",
    "\n",
    "    # enforce that \n",
    "    pm.Potential('minimum', at.switch(hs[1]>h_min, 0, -np.inf))\n",
    "    pm.Potential('maximum', at.switch(hs[-1]<h_max, 0, -np.inf)) #REMOVE\n",
    "    \n",
    "\n",
    "    # MODEL\n",
    "    h0 = hs - h0_offset #XXX check this. should it be a tensor?\n",
    "\n",
    "\n",
    "    b0 = at.switch( at.le(h_obs, hs), clips , at.log(h_obs-h0))\n",
    "    b1 = at.switch( at.le(h_obs, hsi), b0, at.log(hsi-h0))\n",
    "\n",
    "    \n",
    "    mu = pm.Deterministic(\"mu\", a + at.dot(b1, w)) # was w.T\n",
    "    sigma = pm.HalfCauchy(\"sigma\", beta=1, initval=0.01)\n",
    "    #sigma = pm.Exponential(\"sigma\", lam=1, initval=0.1)\n",
    "    #D = pm.Normal(\"D\", mu, sigma, observed=y, dims=\"obs\")\n",
    "    D = pm.Normal(\"D\", mu, sigma, observed=y.flatten(), dims=\"obs\") #TODO check flatten"
   ]
  },
  {
   "cell_type": "code",
   "execution_count": 38,
   "id": "0fb8f327-ed82-42e6-bd8e-7a13a7de4298",
   "metadata": {},
   "outputs": [],
   "source": [
    "##fails\n",
    "#with model:\n",
    "#    mean_field = pm.fit(method=\"advi\", n=30_000)\n",
    "\n",
    "#vi_trace = mean_field.sample()\n",
    "#az.plot_forest(vi_trace, var_names=[\"w\",\"a\",\"sigma\",\"hs_\"], combined=False);"
   ]
  },
  {
   "cell_type": "code",
   "execution_count": null,
   "id": "9824999d-328f-4f53-91c5-4957cbf085bb",
   "metadata": {},
   "outputs": [],
   "source": []
  },
  {
   "cell_type": "code",
   "execution_count": null,
   "id": "36e61a02-49be-43c6-8883-a9856da77c5d",
   "metadata": {},
   "outputs": [],
   "source": []
  },
  {
   "cell_type": "code",
   "execution_count": 39,
   "id": "10267e73-f21a-4507-9bec-609b4b8e77e4",
   "metadata": {},
   "outputs": [
    {
     "name": "stderr",
     "output_type": "stream",
     "text": [
      "Auto-assigning NUTS sampler...\n",
      "Initializing NUTS using jitter+adapt_diag...\n",
      "/home/thodson/.local/miniconda3/envs/pymc/lib/python3.7/site-packages/pymc/aesaraf.py:1010: UserWarning: The parameter 'updates' of aesara.function() expects an OrderedDict, got <class 'dict'>. Using a standard dictionary here results in non-deterministic behavior. You should use an OrderedDict if you are using Python 2.7 (collections.OrderedDict for older python), or use a list of (shared, update) pairs. Do not just convert your dictionary to this type before the call as the conversion will still be non-deterministic.\n",
      "  **kwargs,\n",
      "Multiprocess sampling (4 chains in 4 jobs)\n",
      "NUTS: [x0, x1, x2]\n"
     ]
    },
    {
     "data": {
      "text/html": [
       "\n",
       "<style>\n",
       "    /* Turns off some styling */\n",
       "    progress {\n",
       "        /* gets rid of default border in Firefox and Opera. */\n",
       "        border: none;\n",
       "        /* Needs to be in here for Safari polyfill so background images work as expected. */\n",
       "        background-size: auto;\n",
       "    }\n",
       "    .progress-bar-interrupted, .progress-bar-interrupted::-webkit-progress-bar {\n",
       "        background: #F44336;\n",
       "    }\n",
       "</style>\n"
      ],
      "text/plain": [
       "<IPython.core.display.HTML object>"
      ]
     },
     "metadata": {},
     "output_type": "display_data"
    },
    {
     "data": {
      "text/html": [
       "\n",
       "    <div>\n",
       "      <progress value='8000' class='' max='8000' style='width:300px; height:20px; vertical-align: middle;'></progress>\n",
       "      100.00% [8000/8000 00:02<00:00 Sampling 4 chains, 3,134 divergences]\n",
       "    </div>\n",
       "    "
      ],
      "text/plain": [
       "<IPython.core.display.HTML object>"
      ]
     },
     "metadata": {},
     "output_type": "display_data"
    },
    {
     "name": "stderr",
     "output_type": "stream",
     "text": [
      "Sampling 4 chains for 1_000 tune and 1_000 draw iterations (4_000 + 4_000 draws total) took 3 seconds.\n",
      "There were 771 divergences after tuning. Increase `target_accept` or reparameterize.\n",
      "There were 738 divergences after tuning. Increase `target_accept` or reparameterize.\n",
      "There were 874 divergences after tuning. Increase `target_accept` or reparameterize.\n",
      "There were 751 divergences after tuning. Increase `target_accept` or reparameterize.\n",
      "The acceptance probability does not match the target. It is 0.8824, but should be close to 0.8. Try to increase the number of tuning steps.\n"
     ]
    }
   ],
   "source": [
    "#https://discourse.pymc.io/t/sampling-from-simplex-with-inequality-constraints/3285\n",
    "# THis example illustrates that we can convert an RV to a vector using pm.Determinisitic\n",
    "# For example, x is not a proper tensor but a is.\n",
    "\n",
    "import aesara.tensor as tt \n",
    "\n",
    "with pm.Model() as model:\n",
    "    x = [pm.Exponential(f\"x{i}\", lam=1) for i in range(3)]\n",
    "    #x = [pm.Exponential(f\"x[{i}]\", lam=1) for i in range(3)]\n",
    "    a = pm.Deterministic(\"a\", x / tt.sum(x))\n",
    "    c0 = pm.Potential('c0', tt.switch(tt.le(a[0], 0.3), 0, -np.inf))  # require that a0 < 0.3\n",
    "    trace = pm.sample()\n",
    "    \n",
    "#az.plot_forest(trace, combined=False);"
   ]
  },
  {
   "cell_type": "code",
   "execution_count": 38,
   "id": "4d2b0350-f336-4f60-92c7-81727fcee5df",
   "metadata": {},
   "outputs": [],
   "source": [
    "#az.plot_forest(trace, combined=False);"
   ]
  },
  {
   "cell_type": "code",
   "execution_count": 13,
   "id": "a8ff0e02-4689-405b-93a5-2538acbfb28c",
   "metadata": {},
   "outputs": [
    {
     "data": {
      "text/plain": [
       "array([-1.2867288 ,  3.17255177])"
      ]
     },
     "execution_count": 13,
     "metadata": {},
     "output_type": "execute_result"
    }
   ],
   "source": [
    "# # Idea from \"All that likelihood with PyMC3 - Junpeng Lao\"\n",
    "import pymc as pm\n",
    "import pymc.distributions.transforms as tr\n",
    "\n",
    "import aesara\n",
    "import aesara.tensor as at\n",
    "\n",
    "with pm.Model() as test:\n",
    "    mu = pm.Normal('mu',0,2, shape=2, transform=tr.ordered, initval=[0.1,0.2])\n",
    "    \n",
    "##\n",
    "with pm.Model() as test2:\n",
    "    mu_ = pm.Normal('mu_', 0, 2, shape=2)\n",
    "    mu2 = at.sort(mu_)\n",
    "\n",
    "mu2.eval()"
   ]
  },
  {
   "cell_type": "code",
   "execution_count": 38,
   "id": "7be5ee10-c10f-44c8-9458-8469c663149c",
   "metadata": {},
   "outputs": [
    {
     "data": {
      "text/plain": [
       "array([-6.66499266,  1.60145319, -6.18938302])"
      ]
     },
     "execution_count": 38,
     "metadata": {},
     "output_type": "execute_result"
    }
   ],
   "source": [
    "with pm.Model() as test:\n",
    "    segments = 3\n",
    "    hs = pm.Normal('hs', 0, 6,\n",
    "                   transform=tr.ordered,\n",
    "                   shape=segments)\n",
    "hs.eval()"
   ]
  },
  {
   "cell_type": "code",
   "execution_count": 80,
   "id": "adcb9267-679b-4d48-8465-c8d3c0b6720d",
   "metadata": {},
   "outputs": [
    {
     "data": {
      "text/plain": [
       "0.7941092550264335"
      ]
     },
     "execution_count": 80,
     "metadata": {},
     "output_type": "execute_result"
    }
   ],
   "source": [
    "# could use this structure to enforce other arbitrary rules \n",
    "with pm.Model() as test3:\n",
    "    mu = pm.Normal('mu', 0., 5., shape=2)\n",
    "    pm.Potential('order', at.switch(mu[1]<mu[0], -np.inf, 0))"
   ]
  },
  {
   "cell_type": "code",
   "execution_count": null,
   "id": "7ab8dbdb-c02d-4b73-8678-2d862ff64dbd",
   "metadata": {},
   "outputs": [],
   "source": [
    "# another example\n",
    "\n",
    "with pm.Model() as model:\n",
    "    x = [pm.Exponential(f\"x{i}\", lam=1) for i in range(3)]\n",
    "    a = pm.Deterministic(\"a\", x / tt.sum(x))\n",
    "    c0 = pm.Potential('c0', tt.switch(tt.le(a[0], 0.3), 0, -np.inf))  # require that a0 < 0.3\n",
    "    trace = pm.sample()"
   ]
  },
  {
   "cell_type": "code",
   "execution_count": 28,
   "id": "bc70a360-6966-4be5-8199-6fa944f078a3",
   "metadata": {},
   "outputs": [
    {
     "data": {
      "text/plain": [
       "1.0"
      ]
     },
     "execution_count": 28,
     "metadata": {},
     "output_type": "execute_result"
    }
   ],
   "source": [
    "import pymc as pm\n",
    "with pm.Model() as model:\n",
    "    a = pm.Dirichlet('a', [1,1,1])\n",
    "    #a = pm.Bound(pm.Dirichlet, upper=[0.7])('a', a=np.array([1, 1, 1]))\n",
    "    \n",
    "a.eval().sum()"
   ]
  },
  {
   "cell_type": "code",
   "execution_count": 19,
   "id": "c72b58c0-c267-4818-990e-43cf0829d296",
   "metadata": {},
   "outputs": [],
   "source": [
    "## other priors\n",
    "# physixal exponents (w)\n",
    "import pymc as pm\n",
    "from pymc import Model\n",
    "import pymc.distributions.transforms as tr\n",
    "\n",
    "from transforms import LogZTransform\n",
    "\n",
    "import aesara\n",
    "import aesara.tensor as at\n",
    "\n",
    "h_obs = df['stage'].values.reshape(-1,1)\n",
    "    \n",
    "q_obs = df['q'].values.reshape(-1,1)\n",
    "q_transform = LogZTransform(q_obs)\n",
    "y = q_transform.transform(q_obs)\n",
    "\n",
    "\n",
    "segments = 3\n",
    "\n",
    "h_max = h_obs.max()\n",
    "h_min = h_obs.min()\n",
    "\n",
    "#ninf = at.constant([np.NINF])\n",
    "inf = at.constant([np.inf])\n",
    "#ninf = at.constant([-99.0])\n",
    "#inf = at.constant([99.0])\n",
    "\n",
    "clips_array = np.zeros(segments)\n",
    "clips_array[0] = -np.inf\n",
    "# TODO may be unnecessary?\n",
    "clips = at.constant(clips_array) # TODO could be a problem with clips?\n",
    "\n",
    "COORDS = {\"obs\" : np.arange(len(y)), \"splines\":np.arange(segments)}\n",
    "#self.add_coords(COORDS)\n",
    "\n",
    "with Model(coords=COORDS) as model:\n",
    "    \n",
    "    h0_offset = np.ones(segments)\n",
    "    h0_offset[0] = 0 #\n",
    "    \n",
    "    #PRIORS\n",
    "    w = pm.Normal(\"w\", mu=2.08, sigma=0.3, dims=\"splines\")\n",
    "    a = pm.Normal(\"a\", mu=0, sigma=10)\n",
    "    \n",
    "    \n",
    "    # for some reason tr.ordered doesnt work\n",
    "    # TODO raise bug\n",
    "    #hs = pm.Uniform('hs',\n",
    "    hs_ = pm.Uniform('hs_', \n",
    "                    lower=h_min, #XXX\n",
    "                    upper=h_max,\n",
    "    #                transform=tr.ordered,\n",
    "                    shape = segments,\n",
    "                    initval=[0.3, h_min + 2 ,10.0]) # define a function to compute\n",
    "    \n",
    "    hs = at.sort(hs_)\n",
    "\n",
    "    hsi = at.concatenate([hs, inf])[1:] #can we avoid?\n",
    "    \n",
    "    pm.Potential('minimum', at.switch(hs[1]>h_min, 0, -np.inf))\n",
    "    \n",
    "\n",
    "    # MODEL\n",
    "    h0 = hs - h0_offset #XXX check this. should it be a tensor?\n",
    "\n",
    "\n",
    "    b0 = at.switch( at.le(h_obs, hs), clips , at.log(h_obs-h0))\n",
    "    b1 = at.switch( at.le(h_obs, hsi), b0, at.log(hsi-h0))\n",
    "\n",
    "    \n",
    "    mu = pm.Deterministic(\"mu\", a + at.dot(b1, w.T))\n",
    "    sigma = pm.HalfCauchy(\"sigma\", beta=1, initval=0.01)\n",
    "    D = pm.Normal(\"D\", mu, sigma, observed=y.flatten(), dims=\"obs\") #TODO check flatten"
   ]
  },
  {
   "cell_type": "code",
   "execution_count": 20,
   "id": "f38c80da-166a-46c0-9545-0a8fd79978a9",
   "metadata": {},
   "outputs": [
    {
     "data": {
      "text/plain": [
       "array([ 6.2024958 ,  8.11740644, 10.6789696 ])"
      ]
     },
     "execution_count": 20,
     "metadata": {},
     "output_type": "execute_result"
    }
   ],
   "source": [
    "hs.eval()"
   ]
  },
  {
   "cell_type": "code",
   "execution_count": 21,
   "id": "7c500026-3896-4d5f-be47-e60e94e82f88",
   "metadata": {},
   "outputs": [
    {
     "name": "stderr",
     "output_type": "stream",
     "text": [
      "Auto-assigning NUTS sampler...\n",
      "Initializing NUTS using jitter+adapt_diag...\n",
      "/home/thodson/.local/miniconda3/envs/pymc/lib/python3.7/site-packages/pymc/aesaraf.py:1010: UserWarning: The parameter 'updates' of aesara.function() expects an OrderedDict, got <class 'dict'>. Using a standard dictionary here results in non-deterministic behavior. You should use an OrderedDict if you are using Python 2.7 (collections.OrderedDict for older python), or use a list of (shared, update) pairs. Do not just convert your dictionary to this type before the call as the conversion will still be non-deterministic.\n",
      "  **kwargs,\n"
     ]
    },
    {
     "ename": "SamplingError",
     "evalue": "Initial evaluation of model at starting point failed!\nStarting values:\n{'w': array([2.70492759, 2.98608602, 1.17384837]), 'a': array(-0.13268459), 'hs__interval__': array([        nan, -1.73802754,  0.66622457]), 'sigma_log__': array(-4.70603194)}\n\nInitial evaluation results:\n{'w': -10.44, 'a': -3.22, 'hs_': nan, 'sigma': -5.16, 'D': nan, 'minimum': 0.0}",
     "output_type": "error",
     "traceback": [
      "\u001b[0;31m---------------------------------------------------------------------------\u001b[0m",
      "\u001b[0;31mSamplingError\u001b[0m                             Traceback (most recent call last)",
      "\u001b[0;32m/tmp/ipykernel_170877/1601220123.py\u001b[0m in \u001b[0;36m<module>\u001b[0;34m\u001b[0m\n\u001b[1;32m      3\u001b[0m \u001b[0;34m\u001b[0m\u001b[0m\n\u001b[1;32m      4\u001b[0m \u001b[0;32mwith\u001b[0m \u001b[0mmodel\u001b[0m\u001b[0;34m:\u001b[0m\u001b[0;34m\u001b[0m\u001b[0;34m\u001b[0m\u001b[0m\n\u001b[0;32m----> 5\u001b[0;31m     \u001b[0mtrace\u001b[0m \u001b[0;34m=\u001b[0m \u001b[0mpm\u001b[0m\u001b[0;34m.\u001b[0m\u001b[0msample\u001b[0m\u001b[0;34m(\u001b[0m\u001b[0mtune\u001b[0m\u001b[0;34m=\u001b[0m\u001b[0;36m2000\u001b[0m\u001b[0;34m,\u001b[0m \u001b[0mchains\u001b[0m\u001b[0;34m=\u001b[0m\u001b[0mn\u001b[0m\u001b[0;34m,\u001b[0m \u001b[0mcores\u001b[0m\u001b[0;34m=\u001b[0m\u001b[0mn\u001b[0m\u001b[0;34m,\u001b[0m \u001b[0mtarget_accept\u001b[0m\u001b[0;34m=\u001b[0m\u001b[0;36m0.95\u001b[0m\u001b[0;34m)\u001b[0m\u001b[0;34m\u001b[0m\u001b[0;34m\u001b[0m\u001b[0m\n\u001b[0m",
      "\u001b[0;32m~/.local/miniconda3/envs/pymc/lib/python3.7/site-packages/pymc/sampling.py\u001b[0m in \u001b[0;36msample\u001b[0;34m(draws, step, init, n_init, initvals, trace, chain_idx, chains, cores, tune, progressbar, model, random_seed, discard_tuned_samples, compute_convergence_checks, callback, jitter_max_retries, return_inferencedata, idata_kwargs, mp_ctx, **kwargs)\u001b[0m\n\u001b[1;32m    504\u001b[0m     \u001b[0;31m# One final check that shapes and logps at the starting points are okay.\u001b[0m\u001b[0;34m\u001b[0m\u001b[0;34m\u001b[0m\u001b[0;34m\u001b[0m\u001b[0m\n\u001b[1;32m    505\u001b[0m     \u001b[0;32mfor\u001b[0m \u001b[0mip\u001b[0m \u001b[0;32min\u001b[0m \u001b[0minitial_points\u001b[0m\u001b[0;34m:\u001b[0m\u001b[0;34m\u001b[0m\u001b[0;34m\u001b[0m\u001b[0m\n\u001b[0;32m--> 506\u001b[0;31m         \u001b[0mmodel\u001b[0m\u001b[0;34m.\u001b[0m\u001b[0mcheck_start_vals\u001b[0m\u001b[0;34m(\u001b[0m\u001b[0mip\u001b[0m\u001b[0;34m)\u001b[0m\u001b[0;34m\u001b[0m\u001b[0;34m\u001b[0m\u001b[0m\n\u001b[0m\u001b[1;32m    507\u001b[0m         \u001b[0m_check_start_shape\u001b[0m\u001b[0;34m(\u001b[0m\u001b[0mmodel\u001b[0m\u001b[0;34m,\u001b[0m \u001b[0mip\u001b[0m\u001b[0;34m)\u001b[0m\u001b[0;34m\u001b[0m\u001b[0;34m\u001b[0m\u001b[0m\n\u001b[1;32m    508\u001b[0m \u001b[0;34m\u001b[0m\u001b[0m\n",
      "\u001b[0;32m~/.local/miniconda3/envs/pymc/lib/python3.7/site-packages/pymc/model.py\u001b[0m in \u001b[0;36mcheck_start_vals\u001b[0;34m(self, start)\u001b[0m\n\u001b[1;32m   1697\u001b[0m             \u001b[0;32mif\u001b[0m \u001b[0;32mnot\u001b[0m \u001b[0mall\u001b[0m\u001b[0;34m(\u001b[0m\u001b[0mnp\u001b[0m\u001b[0;34m.\u001b[0m\u001b[0misfinite\u001b[0m\u001b[0;34m(\u001b[0m\u001b[0mv\u001b[0m\u001b[0;34m)\u001b[0m \u001b[0;32mfor\u001b[0m \u001b[0mv\u001b[0m \u001b[0;32min\u001b[0m \u001b[0minitial_eval\u001b[0m\u001b[0;34m.\u001b[0m\u001b[0mvalues\u001b[0m\u001b[0;34m(\u001b[0m\u001b[0;34m)\u001b[0m\u001b[0;34m)\u001b[0m\u001b[0;34m:\u001b[0m\u001b[0;34m\u001b[0m\u001b[0;34m\u001b[0m\u001b[0m\n\u001b[1;32m   1698\u001b[0m                 raise SamplingError(\n\u001b[0;32m-> 1699\u001b[0;31m                     \u001b[0;34m\"Initial evaluation of model at starting point failed!\\n\"\u001b[0m\u001b[0;34m\u001b[0m\u001b[0;34m\u001b[0m\u001b[0m\n\u001b[0m\u001b[1;32m   1700\u001b[0m                     \u001b[0;34mf\"Starting values:\\n{elem}\\n\\n\"\u001b[0m\u001b[0;34m\u001b[0m\u001b[0;34m\u001b[0m\u001b[0m\n\u001b[1;32m   1701\u001b[0m                     \u001b[0;34mf\"Initial evaluation results:\\n{initial_eval}\"\u001b[0m\u001b[0;34m\u001b[0m\u001b[0;34m\u001b[0m\u001b[0m\n",
      "\u001b[0;31mSamplingError\u001b[0m: Initial evaluation of model at starting point failed!\nStarting values:\n{'w': array([2.70492759, 2.98608602, 1.17384837]), 'a': array(-0.13268459), 'hs__interval__': array([        nan, -1.73802754,  0.66622457]), 'sigma_log__': array(-4.70603194)}\n\nInitial evaluation results:\n{'w': -10.44, 'a': -3.22, 'hs_': nan, 'sigma': -5.16, 'D': nan, 'minimum': 0.0}"
     ]
    }
   ],
   "source": [
    "# CompileD XXXX\n",
    "n=1\n",
    "\n",
    "with model:\n",
    "    trace = pm.sample(tune=2000, chains=n, cores=n, target_accept=0.95)"
   ]
  },
  {
   "cell_type": "code",
   "execution_count": null,
   "id": "976c4cfa-875b-45c6-99f4-998fceef06d0",
   "metadata": {},
   "outputs": [],
   "source": [
    "az.plot_forest(trace, var_names=[\"w\",\"a\",\"sigma\",\"hs_0\",\"hs_1\", \"hs_2\"], combined=False);"
   ]
  },
  {
   "cell_type": "code",
   "execution_count": null,
   "id": "6a86d04b-ca01-4176-99c7-103ec185c94a",
   "metadata": {},
   "outputs": [],
   "source": [
    "az.summary(trace, var_names=[\"w\",\"a\",\"sigma\",\"hs\"])"
   ]
  },
  {
   "cell_type": "markdown",
   "id": "2e671c55-e9a3-4421-81cb-0b62e0fdbc56",
   "metadata": {},
   "source": [
    "# Scratch"
   ]
  },
  {
   "cell_type": "code",
   "execution_count": 103,
   "id": "1f111c79-2849-4b1a-8636-4fe7febe3649",
   "metadata": {},
   "outputs": [],
   "source": [
    "    #hs_list = []\n",
    "    #hs_list.append(pm.Normal('hs_0', 0, 3))\n",
    "    #hs_list.append(pm.Normal('hs_0', h_min, 3))\n",
    "    #interval_min = \n",
    "    #intervals = pm.Uniform('intervals', \n",
    "    #                       lower=h_min, #XXX\n",
    "    #                       upper=h_max,\n",
    "    #                       transform=tr.ordered,\n",
    "    #                       shape = segments - 1\n",
    "    #                       initval=[5.0,10.0]) # define a function to compute\n",
    "    \n",
    "    # impose that sum is less than h_max\n",
    "    \n",
    "\n",
    "    # XXX continue here\n",
    "    #mu = pm.Normal('mu',0,2, shape=2, transform=tr.ordered, initval=[0.1,0.2])\n",
    "    #for i in range(1,segments):\n",
    "    #    last = at.max([hs_list[i-1], h_min])\n",
    "    #    hs_list.append(pm.Uniform('hs_{}'.format(i), last, h_max))\n",
    "        #hs_list.append(pm.Uniform('hs_{}'.format(i), hs_list[i-1], h_max))\n",
    "        \n",
    "    #hs = at.stack(hs_list)   \n",
    "    #hsi = at.concatenate([hs, inf])[1:]\n"
   ]
  },
  {
   "cell_type": "code",
   "execution_count": 124,
   "id": "a9064125-2bdc-448b-8eb7-db1900fc54cb",
   "metadata": {},
   "outputs": [
    {
     "name": "stderr",
     "output_type": "stream",
     "text": [
      "Auto-assigning NUTS sampler...\n",
      "Initializing NUTS using jitter+adapt_diag...\n",
      "Sequential sampling (1 chains in 1 job)\n",
      "NUTS: [w, a, hs_0, hs_1, hs_2, sigma]\n"
     ]
    },
    {
     "data": {
      "text/html": [
       "\n",
       "<style>\n",
       "    /* Turns off some styling */\n",
       "    progress {\n",
       "        /* gets rid of default border in Firefox and Opera. */\n",
       "        border: none;\n",
       "        /* Needs to be in here for Safari polyfill so background images work as expected. */\n",
       "        background-size: auto;\n",
       "    }\n",
       "    .progress-bar-interrupted, .progress-bar-interrupted::-webkit-progress-bar {\n",
       "        background: #F44336;\n",
       "    }\n",
       "</style>\n"
      ],
      "text/plain": [
       "<IPython.core.display.HTML object>"
      ]
     },
     "metadata": {},
     "output_type": "display_data"
    },
    {
     "data": {
      "text/html": [
       "\n",
       "    <div>\n",
       "      <progress value='3000' class='' max='3000' style='width:300px; height:20px; vertical-align: middle;'></progress>\n",
       "      100.00% [3000/3000 03:39<00:00 Sampling chain 0, 7 divergences]\n",
       "    </div>\n",
       "    "
      ],
      "text/plain": [
       "<IPython.core.display.HTML object>"
      ]
     },
     "metadata": {},
     "output_type": "display_data"
    },
    {
     "name": "stderr",
     "output_type": "stream",
     "text": [
      "Sampling 1 chain for 2_000 tune and 1_000 draw iterations (2_000 + 1_000 draws total) took 220 seconds.\n",
      "There were 7 divergences after tuning. Increase `target_accept` or reparameterize.\n",
      "Only one chain was sampled, this makes it impossible to run some convergence checks\n"
     ]
    }
   ],
   "source": [
    "# CompileD XXXX\n",
    "n=1\n",
    "\n",
    "with model:\n",
    "    trace = pm.sample(tune=2000, chains=n, cores=n, target_accept=0.90)"
   ]
  },
  {
   "cell_type": "code",
   "execution_count": 125,
   "id": "03d9498c-b5d3-493b-b11b-92fe7a402dd8",
   "metadata": {},
   "outputs": [
    {
     "data": {
      "image/png": "[encoded data removed]",
      "text/plain": [
       "<Figure size 432x705.6 with 1 Axes>"
      ]
     },
     "metadata": {
      "needs_background": "light"
     },
     "output_type": "display_data"
    }
   ],
   "source": [
    "# -99 to 99 thresholds finished in 60 sec with no divergences\n",
    "az.plot_forest(trace, var_names=[\"w\",\"a\",\"sigma\",\"hs_0\",\"hs_1\", \"hs_2\"], combined=False);"
   ]
  },
  {
   "cell_type": "code",
   "execution_count": 129,
   "id": "a5f8ddec-9b2e-46ee-bc8f-8786f0fab8ae",
   "metadata": {},
   "outputs": [
    {
     "name": "stderr",
     "output_type": "stream",
     "text": [
      "arviz - WARNING - Shape validation failed: input_shape: (1, 1000), minimum_shape: (chains=2, draws=4)\n"
     ]
    },
    {
     "data": {
      "text/html": [
       "<div>\n",
       "<style scoped>\n",
       "    .dataframe tbody tr th:only-of-type {\n",
       "        vertical-align: middle;\n",
       "    }\n",
       "\n",
       "    .dataframe tbody tr th {\n",
       "        vertical-align: top;\n",
       "    }\n",
       "\n",
       "    .dataframe thead th {\n",
       "        text-align: right;\n",
       "    }\n",
       "</style>\n",
       "<table border=\"1\" class=\"dataframe\">\n",
       "  <thead>\n",
       "    <tr style=\"text-align: right;\">\n",
       "      <th></th>\n",
       "      <th>mean</th>\n",
       "      <th>sd</th>\n",
       "      <th>hdi_3%</th>\n",
       "      <th>hdi_97%</th>\n",
       "      <th>mcse_mean</th>\n",
       "      <th>mcse_sd</th>\n",
       "      <th>ess_bulk</th>\n",
       "      <th>ess_tail</th>\n",
       "      <th>r_hat</th>\n",
       "    </tr>\n",
       "  </thead>\n",
       "  <tbody>\n",
       "    <tr>\n",
       "      <th>w[0]</th>\n",
       "      <td>2.173</td>\n",
       "      <td>0.288</td>\n",
       "      <td>1.633</td>\n",
       "      <td>2.664</td>\n",
       "      <td>0.014</td>\n",
       "      <td>0.010</td>\n",
       "      <td>418.0</td>\n",
       "      <td>579.0</td>\n",
       "      <td>NaN</td>\n",
       "    </tr>\n",
       "    <tr>\n",
       "      <th>w[1]</th>\n",
       "      <td>2.164</td>\n",
       "      <td>0.305</td>\n",
       "      <td>1.635</td>\n",
       "      <td>2.750</td>\n",
       "      <td>0.011</td>\n",
       "      <td>0.008</td>\n",
       "      <td>760.0</td>\n",
       "      <td>529.0</td>\n",
       "      <td>NaN</td>\n",
       "    </tr>\n",
       "    <tr>\n",
       "      <th>w[2]</th>\n",
       "      <td>1.429</td>\n",
       "      <td>0.027</td>\n",
       "      <td>1.377</td>\n",
       "      <td>1.480</td>\n",
       "      <td>0.001</td>\n",
       "      <td>0.001</td>\n",
       "      <td>679.0</td>\n",
       "      <td>565.0</td>\n",
       "      <td>NaN</td>\n",
       "    </tr>\n",
       "    <tr>\n",
       "      <th>a</th>\n",
       "      <td>-1.212</td>\n",
       "      <td>0.202</td>\n",
       "      <td>-1.643</td>\n",
       "      <td>-0.887</td>\n",
       "      <td>0.012</td>\n",
       "      <td>0.008</td>\n",
       "      <td>322.0</td>\n",
       "      <td>284.0</td>\n",
       "      <td>NaN</td>\n",
       "    </tr>\n",
       "    <tr>\n",
       "      <th>sigma</th>\n",
       "      <td>0.080</td>\n",
       "      <td>0.006</td>\n",
       "      <td>0.070</td>\n",
       "      <td>0.091</td>\n",
       "      <td>0.000</td>\n",
       "      <td>0.000</td>\n",
       "      <td>822.0</td>\n",
       "      <td>643.0</td>\n",
       "      <td>NaN</td>\n",
       "    </tr>\n",
       "    <tr>\n",
       "      <th>hs_0</th>\n",
       "      <td>4.665</td>\n",
       "      <td>0.079</td>\n",
       "      <td>4.528</td>\n",
       "      <td>4.817</td>\n",
       "      <td>0.004</td>\n",
       "      <td>0.003</td>\n",
       "      <td>314.0</td>\n",
       "      <td>404.0</td>\n",
       "      <td>NaN</td>\n",
       "    </tr>\n",
       "    <tr>\n",
       "      <th>hs_1</th>\n",
       "      <td>5.361</td>\n",
       "      <td>0.041</td>\n",
       "      <td>5.287</td>\n",
       "      <td>5.444</td>\n",
       "      <td>0.002</td>\n",
       "      <td>0.001</td>\n",
       "      <td>517.0</td>\n",
       "      <td>268.0</td>\n",
       "      <td>NaN</td>\n",
       "    </tr>\n",
       "    <tr>\n",
       "      <th>hs_2</th>\n",
       "      <td>5.419</td>\n",
       "      <td>0.038</td>\n",
       "      <td>5.355</td>\n",
       "      <td>5.499</td>\n",
       "      <td>0.002</td>\n",
       "      <td>0.001</td>\n",
       "      <td>593.0</td>\n",
       "      <td>523.0</td>\n",
       "      <td>NaN</td>\n",
       "    </tr>\n",
       "  </tbody>\n",
       "</table>\n",
       "</div>"
      ],
      "text/plain": [
       "        mean     sd  hdi_3%  hdi_97%  mcse_mean  mcse_sd  ess_bulk  ess_tail  \\\n",
       "w[0]   2.173  0.288   1.633    2.664      0.014    0.010     418.0     579.0   \n",
       "w[1]   2.164  0.305   1.635    2.750      0.011    0.008     760.0     529.0   \n",
       "w[2]   1.429  0.027   1.377    1.480      0.001    0.001     679.0     565.0   \n",
       "a     -1.212  0.202  -1.643   -0.887      0.012    0.008     322.0     284.0   \n",
       "sigma  0.080  0.006   0.070    0.091      0.000    0.000     822.0     643.0   \n",
       "hs_0   4.665  0.079   4.528    4.817      0.004    0.003     314.0     404.0   \n",
       "hs_1   5.361  0.041   5.287    5.444      0.002    0.001     517.0     268.0   \n",
       "hs_2   5.419  0.038   5.355    5.499      0.002    0.001     593.0     523.0   \n",
       "\n",
       "       r_hat  \n",
       "w[0]     NaN  \n",
       "w[1]     NaN  \n",
       "w[2]     NaN  \n",
       "a        NaN  \n",
       "sigma    NaN  \n",
       "hs_0     NaN  \n",
       "hs_1     NaN  \n",
       "hs_2     NaN  "
      ]
     },
     "execution_count": 129,
     "metadata": {},
     "output_type": "execute_result"
    }
   ],
   "source": [
    "az.summary(trace, var_names=[\"w\",\"a\",\"sigma\",\"hs_0\",\"hs_1\", \"hs_2\"])"
   ]
  },
  {
   "cell_type": "code",
   "execution_count": 127,
   "id": "1cb00ce2-f63b-40d1-a6eb-7449bc8d2cca",
   "metadata": {},
   "outputs": [],
   "source": [
    "#mean_field.__getstate__()['model']"
   ]
  },
  {
   "cell_type": "code",
   "execution_count": null,
   "id": "8a02908b-a23d-4d9c-9354-d00bd6383944",
   "metadata": {},
   "outputs": [
    {
     "name": "stderr",
     "output_type": "stream",
     "text": [
      "/home/thodson/.local/miniconda3/envs/pymc/lib/python3.7/site-packages/pymc/aesaraf.py:1010: UserWarning: The parameter 'updates' of aesara.function() expects an OrderedDict, got <class 'dict'>. Using a standard dictionary here results in non-deterministic behavior. You should use an OrderedDict if you are using Python 2.7 (collections.OrderedDict for older python), or use a list of (shared, update) pairs. Do not just convert your dictionary to this type before the call as the conversion will still be non-deterministic.\n",
      "  **kwargs,\n"
     ]
    }
   ],
   "source": [
    "with model:\n",
    "    mean_field = pm.fit(method=\"advi\", n=30_000)"
   ]
  },
  {
   "cell_type": "code",
   "execution_count": 88,
   "id": "47c9a130-3d81-4785-9480-a0ea82811419",
   "metadata": {},
   "outputs": [],
   "source": [
    "vi_trace = mean_field.sample(5000)"
   ]
  },
  {
   "cell_type": "code",
   "execution_count": 89,
   "id": "29116211-ea0e-462d-a235-a98ae8539712",
   "metadata": {},
   "outputs": [
    {
     "name": "stderr",
     "output_type": "stream",
     "text": [
      "arviz - WARNING - Shape validation failed: input_shape: (1, 5000), minimum_shape: (chains=2, draws=4)\n"
     ]
    },
    {
     "data": {
      "text/html": [
       "<div>\n",
       "<style scoped>\n",
       "    .dataframe tbody tr th:only-of-type {\n",
       "        vertical-align: middle;\n",
       "    }\n",
       "\n",
       "    .dataframe tbody tr th {\n",
       "        vertical-align: top;\n",
       "    }\n",
       "\n",
       "    .dataframe thead th {\n",
       "        text-align: right;\n",
       "    }\n",
       "</style>\n",
       "<table border=\"1\" class=\"dataframe\">\n",
       "  <thead>\n",
       "    <tr style=\"text-align: right;\">\n",
       "      <th></th>\n",
       "      <th>mean</th>\n",
       "      <th>sd</th>\n",
       "      <th>hdi_3%</th>\n",
       "      <th>hdi_97%</th>\n",
       "      <th>mcse_mean</th>\n",
       "      <th>mcse_sd</th>\n",
       "      <th>ess_bulk</th>\n",
       "      <th>ess_tail</th>\n",
       "      <th>r_hat</th>\n",
       "    </tr>\n",
       "  </thead>\n",
       "  <tbody>\n",
       "    <tr>\n",
       "      <th>w[0]</th>\n",
       "      <td>0.008</td>\n",
       "      <td>0.002</td>\n",
       "      <td>0.005</td>\n",
       "      <td>0.011</td>\n",
       "      <td>0.000</td>\n",
       "      <td>0.000</td>\n",
       "      <td>5062.0</td>\n",
       "      <td>5111.0</td>\n",
       "      <td>NaN</td>\n",
       "    </tr>\n",
       "    <tr>\n",
       "      <th>w[1]</th>\n",
       "      <td>2.317</td>\n",
       "      <td>0.164</td>\n",
       "      <td>2.018</td>\n",
       "      <td>2.628</td>\n",
       "      <td>0.002</td>\n",
       "      <td>0.002</td>\n",
       "      <td>4691.0</td>\n",
       "      <td>4749.0</td>\n",
       "      <td>NaN</td>\n",
       "    </tr>\n",
       "    <tr>\n",
       "      <th>w[2]</th>\n",
       "      <td>1.579</td>\n",
       "      <td>0.009</td>\n",
       "      <td>1.563</td>\n",
       "      <td>1.596</td>\n",
       "      <td>0.000</td>\n",
       "      <td>0.000</td>\n",
       "      <td>4634.0</td>\n",
       "      <td>4633.0</td>\n",
       "      <td>NaN</td>\n",
       "    </tr>\n",
       "    <tr>\n",
       "      <th>a</th>\n",
       "      <td>-2.342</td>\n",
       "      <td>0.014</td>\n",
       "      <td>-2.368</td>\n",
       "      <td>-2.316</td>\n",
       "      <td>0.000</td>\n",
       "      <td>0.000</td>\n",
       "      <td>4781.0</td>\n",
       "      <td>4592.0</td>\n",
       "      <td>NaN</td>\n",
       "    </tr>\n",
       "    <tr>\n",
       "      <th>sigma</th>\n",
       "      <td>0.108</td>\n",
       "      <td>0.009</td>\n",
       "      <td>0.092</td>\n",
       "      <td>0.125</td>\n",
       "      <td>0.000</td>\n",
       "      <td>0.000</td>\n",
       "      <td>5005.0</td>\n",
       "      <td>4982.0</td>\n",
       "      <td>NaN</td>\n",
       "    </tr>\n",
       "    <tr>\n",
       "      <th>hs_0</th>\n",
       "      <td>5.097</td>\n",
       "      <td>0.018</td>\n",
       "      <td>5.064</td>\n",
       "      <td>5.129</td>\n",
       "      <td>0.000</td>\n",
       "      <td>0.000</td>\n",
       "      <td>4721.0</td>\n",
       "      <td>4432.0</td>\n",
       "      <td>NaN</td>\n",
       "    </tr>\n",
       "    <tr>\n",
       "      <th>hs_1</th>\n",
       "      <td>5.132</td>\n",
       "      <td>0.026</td>\n",
       "      <td>5.086</td>\n",
       "      <td>5.181</td>\n",
       "      <td>0.000</td>\n",
       "      <td>0.000</td>\n",
       "      <td>5314.0</td>\n",
       "      <td>5014.0</td>\n",
       "      <td>NaN</td>\n",
       "    </tr>\n",
       "    <tr>\n",
       "      <th>hs_2</th>\n",
       "      <td>5.217</td>\n",
       "      <td>0.027</td>\n",
       "      <td>5.168</td>\n",
       "      <td>5.268</td>\n",
       "      <td>0.000</td>\n",
       "      <td>0.000</td>\n",
       "      <td>5208.0</td>\n",
       "      <td>4752.0</td>\n",
       "      <td>NaN</td>\n",
       "    </tr>\n",
       "  </tbody>\n",
       "</table>\n",
       "</div>"
      ],
      "text/plain": [
       "        mean     sd  hdi_3%  hdi_97%  mcse_mean  mcse_sd  ess_bulk  ess_tail  \\\n",
       "w[0]   0.008  0.002   0.005    0.011      0.000    0.000    5062.0    5111.0   \n",
       "w[1]   2.317  0.164   2.018    2.628      0.002    0.002    4691.0    4749.0   \n",
       "w[2]   1.579  0.009   1.563    1.596      0.000    0.000    4634.0    4633.0   \n",
       "a     -2.342  0.014  -2.368   -2.316      0.000    0.000    4781.0    4592.0   \n",
       "sigma  0.108  0.009   0.092    0.125      0.000    0.000    5005.0    4982.0   \n",
       "hs_0   5.097  0.018   5.064    5.129      0.000    0.000    4721.0    4432.0   \n",
       "hs_1   5.132  0.026   5.086    5.181      0.000    0.000    5314.0    5014.0   \n",
       "hs_2   5.217  0.027   5.168    5.268      0.000    0.000    5208.0    4752.0   \n",
       "\n",
       "       r_hat  \n",
       "w[0]     NaN  \n",
       "w[1]     NaN  \n",
       "w[2]     NaN  \n",
       "a        NaN  \n",
       "sigma    NaN  \n",
       "hs_0     NaN  \n",
       "hs_1     NaN  \n",
       "hs_2     NaN  "
      ]
     },
     "execution_count": 89,
     "metadata": {},
     "output_type": "execute_result"
    }
   ],
   "source": [
    "az.summary(vi_trace, var_names=[\"w\",\"a\",\"sigma\",\"hs_0\",\"hs_1\", \"hs_2\"])"
   ]
  },
  {
   "cell_type": "code",
   "execution_count": 78,
   "id": "e3b8eab4-77ee-4f2e-8def-81edcc1ec04b",
   "metadata": {},
   "outputs": [
    {
     "data": {
      "image/png": "[encoded data removed]",
      "text/plain": [
       "<Figure size 432x705.6 with 1 Axes>"
      ]
     },
     "metadata": {
      "needs_background": "light"
     },
     "output_type": "display_data"
    }
   ],
   "source": [
    "az.plot_forest(vi_trace, var_names=[\"w\",\"a\",\"sigma\",\"hs_0\",\"hs_1\", \"hs_2\"], combined=False);"
   ]
  },
  {
   "cell_type": "code",
   "execution_count": 81,
   "id": "4ecb5df6-f4b0-4c0e-8c42-1e7eef38e6c8",
   "metadata": {},
   "outputs": [],
   "source": [
    "### BEST YET!\n",
    "## other priors\n",
    "# physixal exponents (w)\n",
    "import pymc as pm\n",
    "from pymc import Model\n",
    "from transforms import LogZTransform\n",
    "\n",
    "import aesara\n",
    "import aesara.tensor as at\n",
    "\n",
    "h_obs = df['stage'].values.reshape(-1,1)\n",
    "    \n",
    "q_obs = df['q'].values.reshape(-1,1)\n",
    "q_transform = LogZTransform(q_obs)\n",
    "y = q_transform.transform(q_obs)\n",
    "\n",
    "\n",
    "\n",
    "segments = 3\n",
    "\n",
    "#ninf = at.constant([np.NINF])\n",
    "#inf = at.constant([np.inf])\n",
    "ninf = at.constant([-99.0])\n",
    "inf = at.constant([99.0]) # needs to be large than largest observed stage\n",
    "\n",
    "clips_array = np.zeros(segments)\n",
    "clips_array[0] = ninf.eval()\n",
    "clips = at.constant(clips_array) # TODO could be a problem with clips?\n",
    "\n",
    "COORDS = {\"obs\" : np.arange(len(y)), \"splines\":np.arange(segments)}\n",
    "#self.add_coords(COORDS)\n",
    "\n",
    "with Model(coords=COORDS) as model:\n",
    "\n",
    "    h0_offset = np.ones(segments)\n",
    "    h0_offset[0] = 0 #\n",
    "    \n",
    "    #PRIORS\n",
    "    w = pm.Normal(\"w\", mu=2.08, sigma=0.3, dims=\"splines\")\n",
    "    #w = pm.TruncatedNormal(\"w\", mu=2.08, sigma=0.3, lower=0, dims=\"splines\")\n",
    "    a = pm.Normal(\"a\", mu=0, sigma=10)\n",
    "    sigma = pm.HalfCauchy(\"sigma\", beta=1, initval=0.01)\n",
    "    \n",
    "    intervals = pm.HalfCauchy(\"intervals\", beta=3.0, shape=segments)\n",
    "    hs = pm.Deterministic(\"hs\", intervals.cumsum())\n",
    "    \n",
    "    hsi = at.concatenate([hs, inf])[1:]\n",
    "    \n",
    "    \n",
    "    # MODEL\n",
    "    h0 = hs - h0_offset \n",
    "    b0 = at.switch( at.le(h_obs, hs), clips , at.log(h_obs-h0))\n",
    "    b1 = at.switch( at.le(h_obs, hsi), b0, at.log(hsi-h0))\n",
    "    mu = pm.Deterministic(\"mu\", a + at.dot(b1, w.T))\n",
    "    \n",
    "    D = pm.Normal(\"D\", mu, sigma, observed=y.flatten(), dims=\"obs\") #TODO check flatten"
   ]
  },
  {
   "cell_type": "code",
   "execution_count": 82,
   "id": "981391d1-f4c1-43e6-9e69-cf987f5904f4",
   "metadata": {},
   "outputs": [
    {
     "data": {
      "text/plain": [
       "array([ 1.75769953, 16.18204194, 26.04096323])"
      ]
     },
     "execution_count": 82,
     "metadata": {},
     "output_type": "execute_result"
    }
   ],
   "source": [
    "hs.eval()"
   ]
  },
  {
   "cell_type": "code",
   "execution_count": 83,
   "id": "af9a9f3d-f527-4763-b64d-779121832887",
   "metadata": {},
   "outputs": [],
   "source": [
    "#df.stage.max()"
   ]
  },
  {
   "cell_type": "code",
   "execution_count": 84,
   "id": "fe4d4d1d-50be-4121-963e-a06dd5d3a9b3",
   "metadata": {},
   "outputs": [
    {
     "name": "stderr",
     "output_type": "stream",
     "text": [
      "Auto-assigning NUTS sampler...\n",
      "Initializing NUTS using jitter+adapt_diag...\n",
      "Sequential sampling (1 chains in 1 job)\n",
      "NUTS: [w, a, sigma, intervals]\n"
     ]
    },
    {
     "data": {
      "text/html": [
       "\n",
       "<style>\n",
       "    /* Turns off some styling */\n",
       "    progress {\n",
       "        /* gets rid of default border in Firefox and Opera. */\n",
       "        border: none;\n",
       "        /* Needs to be in here for Safari polyfill so background images work as expected. */\n",
       "        background-size: auto;\n",
       "    }\n",
       "    .progress-bar-interrupted, .progress-bar-interrupted::-webkit-progress-bar {\n",
       "        background: #F44336;\n",
       "    }\n",
       "</style>\n"
      ],
      "text/plain": [
       "<IPython.core.display.HTML object>"
      ]
     },
     "metadata": {},
     "output_type": "display_data"
    },
    {
     "data": {
      "text/html": [
       "\n",
       "    <div>\n",
       "      <progress value='3000' class='' max='3000' style='width:300px; height:20px; vertical-align: middle;'></progress>\n",
       "      100.00% [3000/3000 00:52<00:00 Sampling chain 0, 0 divergences]\n",
       "    </div>\n",
       "    "
      ],
      "text/plain": [
       "<IPython.core.display.HTML object>"
      ]
     },
     "metadata": {},
     "output_type": "display_data"
    },
    {
     "name": "stderr",
     "output_type": "stream",
     "text": [
      "Sampling 1 chain for 2_000 tune and 1_000 draw iterations (2_000 + 1_000 draws total) took 52 seconds.\n",
      "Only one chain was sampled, this makes it impossible to run some convergence checks\n"
     ]
    }
   ],
   "source": [
    "# CompileD XXXX\n",
    "# set inf to 10\n",
    "# inf is hs so could be higher\n",
    "# ninf is y so -10 may be fine\n",
    "with model:\n",
    "    trace = pm.sample(tune=2000, chains=1, target_accept=0.95) #2 minutes before"
   ]
  },
  {
   "cell_type": "code",
   "execution_count": 85,
   "id": "6f8e4792-9b42-4fe4-8682-eed2f49545a3",
   "metadata": {},
   "outputs": [
    {
     "name": "stderr",
     "output_type": "stream",
     "text": [
      "arviz - WARNING - Shape validation failed: input_shape: (1, 1000), minimum_shape: (chains=2, draws=4)\n"
     ]
    },
    {
     "data": {
      "text/html": [
       "<div>\n",
       "<style scoped>\n",
       "    .dataframe tbody tr th:only-of-type {\n",
       "        vertical-align: middle;\n",
       "    }\n",
       "\n",
       "    .dataframe tbody tr th {\n",
       "        vertical-align: top;\n",
       "    }\n",
       "\n",
       "    .dataframe thead th {\n",
       "        text-align: right;\n",
       "    }\n",
       "</style>\n",
       "<table border=\"1\" class=\"dataframe\">\n",
       "  <thead>\n",
       "    <tr style=\"text-align: right;\">\n",
       "      <th></th>\n",
       "      <th>mean</th>\n",
       "      <th>sd</th>\n",
       "      <th>hdi_3%</th>\n",
       "      <th>hdi_97%</th>\n",
       "      <th>mcse_mean</th>\n",
       "      <th>mcse_sd</th>\n",
       "      <th>ess_bulk</th>\n",
       "      <th>ess_tail</th>\n",
       "      <th>r_hat</th>\n",
       "    </tr>\n",
       "  </thead>\n",
       "  <tbody>\n",
       "    <tr>\n",
       "      <th>w[0]</th>\n",
       "      <td>1.333</td>\n",
       "      <td>0.040</td>\n",
       "      <td>1.262</td>\n",
       "      <td>1.405</td>\n",
       "      <td>0.002</td>\n",
       "      <td>0.001</td>\n",
       "      <td>394.0</td>\n",
       "      <td>430.0</td>\n",
       "      <td>NaN</td>\n",
       "    </tr>\n",
       "    <tr>\n",
       "      <th>w[1]</th>\n",
       "      <td>1.373</td>\n",
       "      <td>0.014</td>\n",
       "      <td>1.346</td>\n",
       "      <td>1.396</td>\n",
       "      <td>0.001</td>\n",
       "      <td>0.001</td>\n",
       "      <td>174.0</td>\n",
       "      <td>312.0</td>\n",
       "      <td>NaN</td>\n",
       "    </tr>\n",
       "    <tr>\n",
       "      <th>w[2]</th>\n",
       "      <td>0.808</td>\n",
       "      <td>0.009</td>\n",
       "      <td>0.791</td>\n",
       "      <td>0.826</td>\n",
       "      <td>0.000</td>\n",
       "      <td>0.000</td>\n",
       "      <td>781.0</td>\n",
       "      <td>770.0</td>\n",
       "      <td>NaN</td>\n",
       "    </tr>\n",
       "    <tr>\n",
       "      <th>a</th>\n",
       "      <td>-1.563</td>\n",
       "      <td>0.008</td>\n",
       "      <td>-1.578</td>\n",
       "      <td>-1.548</td>\n",
       "      <td>0.000</td>\n",
       "      <td>0.000</td>\n",
       "      <td>376.0</td>\n",
       "      <td>617.0</td>\n",
       "      <td>NaN</td>\n",
       "    </tr>\n",
       "    <tr>\n",
       "      <th>sigma</th>\n",
       "      <td>0.018</td>\n",
       "      <td>0.001</td>\n",
       "      <td>0.016</td>\n",
       "      <td>0.021</td>\n",
       "      <td>0.000</td>\n",
       "      <td>0.000</td>\n",
       "      <td>883.0</td>\n",
       "      <td>739.0</td>\n",
       "      <td>NaN</td>\n",
       "    </tr>\n",
       "    <tr>\n",
       "      <th>hs[0]</th>\n",
       "      <td>4.925</td>\n",
       "      <td>0.006</td>\n",
       "      <td>4.913</td>\n",
       "      <td>4.936</td>\n",
       "      <td>0.000</td>\n",
       "      <td>0.000</td>\n",
       "      <td>428.0</td>\n",
       "      <td>439.0</td>\n",
       "      <td>NaN</td>\n",
       "    </tr>\n",
       "    <tr>\n",
       "      <th>hs[1]</th>\n",
       "      <td>5.825</td>\n",
       "      <td>0.023</td>\n",
       "      <td>5.783</td>\n",
       "      <td>5.868</td>\n",
       "      <td>0.002</td>\n",
       "      <td>0.001</td>\n",
       "      <td>166.0</td>\n",
       "      <td>389.0</td>\n",
       "      <td>NaN</td>\n",
       "    </tr>\n",
       "    <tr>\n",
       "      <th>hs[2]</th>\n",
       "      <td>10.703</td>\n",
       "      <td>0.017</td>\n",
       "      <td>10.670</td>\n",
       "      <td>10.731</td>\n",
       "      <td>0.001</td>\n",
       "      <td>0.000</td>\n",
       "      <td>858.0</td>\n",
       "      <td>769.0</td>\n",
       "      <td>NaN</td>\n",
       "    </tr>\n",
       "  </tbody>\n",
       "</table>\n",
       "</div>"
      ],
      "text/plain": [
       "         mean     sd  hdi_3%  hdi_97%  mcse_mean  mcse_sd  ess_bulk  ess_tail  \\\n",
       "w[0]    1.333  0.040   1.262    1.405      0.002    0.001     394.0     430.0   \n",
       "w[1]    1.373  0.014   1.346    1.396      0.001    0.001     174.0     312.0   \n",
       "w[2]    0.808  0.009   0.791    0.826      0.000    0.000     781.0     770.0   \n",
       "a      -1.563  0.008  -1.578   -1.548      0.000    0.000     376.0     617.0   \n",
       "sigma   0.018  0.001   0.016    0.021      0.000    0.000     883.0     739.0   \n",
       "hs[0]   4.925  0.006   4.913    4.936      0.000    0.000     428.0     439.0   \n",
       "hs[1]   5.825  0.023   5.783    5.868      0.002    0.001     166.0     389.0   \n",
       "hs[2]  10.703  0.017  10.670   10.731      0.001    0.000     858.0     769.0   \n",
       "\n",
       "       r_hat  \n",
       "w[0]     NaN  \n",
       "w[1]     NaN  \n",
       "w[2]     NaN  \n",
       "a        NaN  \n",
       "sigma    NaN  \n",
       "hs[0]    NaN  \n",
       "hs[1]    NaN  \n",
       "hs[2]    NaN  "
      ]
     },
     "execution_count": 85,
     "metadata": {},
     "output_type": "execute_result"
    }
   ],
   "source": [
    "az.summary(trace, var_names=[\"w\",\"a\",\"sigma\",\"hs\"])"
   ]
  },
  {
   "cell_type": "code",
   "execution_count": 86,
   "id": "eb88c4b6-89b9-46e2-be9d-98b82b3ed7ac",
   "metadata": {},
   "outputs": [
    {
     "data": {
      "image/png": "[encoded data removed]",
      "text/plain": [
       "<Figure size 432x633.6 with 1 Axes>"
      ]
     },
     "metadata": {
      "needs_background": "light"
     },
     "output_type": "display_data"
    }
   ],
   "source": [
    "az.plot_forest(trace, var_names=[\"w\",\"a\",\"sigma\", \"hs\",\"sigma\"], combined=False);"
   ]
  },
  {
   "cell_type": "code",
   "execution_count": 97,
   "id": "b9459d6e-6e3f-4281-9f74-84d49616daf5",
   "metadata": {},
   "outputs": [
    {
     "name": "stderr",
     "output_type": "stream",
     "text": [
      "/home/thodson/.local/miniconda3/envs/pymc/lib/python3.7/site-packages/pymc/aesaraf.py:1010: UserWarning: The parameter 'updates' of aesara.function() expects an OrderedDict, got <class 'dict'>. Using a standard dictionary here results in non-deterministic behavior. You should use an OrderedDict if you are using Python 2.7 (collections.OrderedDict for older python), or use a list of (shared, update) pairs. Do not just convert your dictionary to this type before the call as the conversion will still be non-deterministic.\n",
      "  **kwargs,\n"
     ]
    },
    {
     "data": {
      "text/html": [
       "\n",
       "<style>\n",
       "    /* Turns off some styling */\n",
       "    progress {\n",
       "        /* gets rid of default border in Firefox and Opera. */\n",
       "        border: none;\n",
       "        /* Needs to be in here for Safari polyfill so background images work as expected. */\n",
       "        background-size: auto;\n",
       "    }\n",
       "    .progress-bar-interrupted, .progress-bar-interrupted::-webkit-progress-bar {\n",
       "        background: #F44336;\n",
       "    }\n",
       "</style>\n"
      ],
      "text/plain": [
       "<IPython.core.display.HTML object>"
      ]
     },
     "metadata": {},
     "output_type": "display_data"
    },
    {
     "data": {
      "text/html": [
       "\n",
       "    <div>\n",
       "      <progress value='100000' class='' max='100000' style='width:300px; height:20px; vertical-align: middle;'></progress>\n",
       "      100.00% [100000/100000 00:12<00:00 Average Loss = 25.195]\n",
       "    </div>\n",
       "    "
      ],
      "text/plain": [
       "<IPython.core.display.HTML object>"
      ]
     },
     "metadata": {},
     "output_type": "display_data"
    },
    {
     "name": "stderr",
     "output_type": "stream",
     "text": [
      "Finished [100%]: Average Loss = 25.251\n"
     ]
    }
   ],
   "source": [
    "with model:\n",
    "    mean_field = pm.fit(method=\"advi\", n=100_000)"
   ]
  },
  {
   "cell_type": "code",
   "execution_count": 98,
   "id": "87ed8e73-bb46-47e7-ad02-e18e5d8d3388",
   "metadata": {},
   "outputs": [],
   "source": [
    "vi_trace = mean_field.sample(5000)"
   ]
  },
  {
   "cell_type": "code",
   "execution_count": 99,
   "id": "9f65441c-39aa-4110-9d37-b3405452dab5",
   "metadata": {},
   "outputs": [
    {
     "name": "stderr",
     "output_type": "stream",
     "text": [
      "arviz - WARNING - Shape validation failed: input_shape: (1, 5000), minimum_shape: (chains=2, draws=4)\n"
     ]
    },
    {
     "data": {
      "text/html": [
       "<div>\n",
       "<style scoped>\n",
       "    .dataframe tbody tr th:only-of-type {\n",
       "        vertical-align: middle;\n",
       "    }\n",
       "\n",
       "    .dataframe tbody tr th {\n",
       "        vertical-align: top;\n",
       "    }\n",
       "\n",
       "    .dataframe thead th {\n",
       "        text-align: right;\n",
       "    }\n",
       "</style>\n",
       "<table border=\"1\" class=\"dataframe\">\n",
       "  <thead>\n",
       "    <tr style=\"text-align: right;\">\n",
       "      <th></th>\n",
       "      <th>mean</th>\n",
       "      <th>sd</th>\n",
       "      <th>hdi_3%</th>\n",
       "      <th>hdi_97%</th>\n",
       "      <th>mcse_mean</th>\n",
       "      <th>mcse_sd</th>\n",
       "      <th>ess_bulk</th>\n",
       "      <th>ess_tail</th>\n",
       "      <th>r_hat</th>\n",
       "    </tr>\n",
       "  </thead>\n",
       "  <tbody>\n",
       "    <tr>\n",
       "      <th>w[0]</th>\n",
       "      <td>1.929</td>\n",
       "      <td>0.006</td>\n",
       "      <td>1.917</td>\n",
       "      <td>1.941</td>\n",
       "      <td>0.000</td>\n",
       "      <td>0.000</td>\n",
       "      <td>5139.0</td>\n",
       "      <td>5124.0</td>\n",
       "      <td>NaN</td>\n",
       "    </tr>\n",
       "    <tr>\n",
       "      <th>w[1]</th>\n",
       "      <td>2.076</td>\n",
       "      <td>0.015</td>\n",
       "      <td>2.046</td>\n",
       "      <td>2.104</td>\n",
       "      <td>0.000</td>\n",
       "      <td>0.000</td>\n",
       "      <td>5054.0</td>\n",
       "      <td>4753.0</td>\n",
       "      <td>NaN</td>\n",
       "    </tr>\n",
       "    <tr>\n",
       "      <th>w[2]</th>\n",
       "      <td>2.095</td>\n",
       "      <td>0.016</td>\n",
       "      <td>2.062</td>\n",
       "      <td>2.124</td>\n",
       "      <td>0.000</td>\n",
       "      <td>0.000</td>\n",
       "      <td>4761.0</td>\n",
       "      <td>4611.0</td>\n",
       "      <td>NaN</td>\n",
       "    </tr>\n",
       "    <tr>\n",
       "      <th>a</th>\n",
       "      <td>1.231</td>\n",
       "      <td>0.025</td>\n",
       "      <td>1.185</td>\n",
       "      <td>1.278</td>\n",
       "      <td>0.000</td>\n",
       "      <td>0.000</td>\n",
       "      <td>4829.0</td>\n",
       "      <td>4814.0</td>\n",
       "      <td>NaN</td>\n",
       "    </tr>\n",
       "    <tr>\n",
       "      <th>sigma</th>\n",
       "      <td>0.224</td>\n",
       "      <td>0.018</td>\n",
       "      <td>0.193</td>\n",
       "      <td>0.262</td>\n",
       "      <td>0.000</td>\n",
       "      <td>0.000</td>\n",
       "      <td>4705.0</td>\n",
       "      <td>4675.0</td>\n",
       "      <td>NaN</td>\n",
       "    </tr>\n",
       "    <tr>\n",
       "      <th>hs[0]</th>\n",
       "      <td>1.010</td>\n",
       "      <td>0.032</td>\n",
       "      <td>0.952</td>\n",
       "      <td>1.072</td>\n",
       "      <td>0.000</td>\n",
       "      <td>0.000</td>\n",
       "      <td>4874.0</td>\n",
       "      <td>5024.0</td>\n",
       "      <td>NaN</td>\n",
       "    </tr>\n",
       "    <tr>\n",
       "      <th>hs[1]</th>\n",
       "      <td>1.029</td>\n",
       "      <td>0.032</td>\n",
       "      <td>0.971</td>\n",
       "      <td>1.090</td>\n",
       "      <td>0.000</td>\n",
       "      <td>0.000</td>\n",
       "      <td>4877.0</td>\n",
       "      <td>5024.0</td>\n",
       "      <td>NaN</td>\n",
       "    </tr>\n",
       "    <tr>\n",
       "      <th>hs[2]</th>\n",
       "      <td>4.992</td>\n",
       "      <td>0.052</td>\n",
       "      <td>4.894</td>\n",
       "      <td>5.086</td>\n",
       "      <td>0.001</td>\n",
       "      <td>0.001</td>\n",
       "      <td>4951.0</td>\n",
       "      <td>4666.0</td>\n",
       "      <td>NaN</td>\n",
       "    </tr>\n",
       "  </tbody>\n",
       "</table>\n",
       "</div>"
      ],
      "text/plain": [
       "        mean     sd  hdi_3%  hdi_97%  mcse_mean  mcse_sd  ess_bulk  ess_tail  \\\n",
       "w[0]   1.929  0.006   1.917    1.941      0.000    0.000    5139.0    5124.0   \n",
       "w[1]   2.076  0.015   2.046    2.104      0.000    0.000    5054.0    4753.0   \n",
       "w[2]   2.095  0.016   2.062    2.124      0.000    0.000    4761.0    4611.0   \n",
       "a      1.231  0.025   1.185    1.278      0.000    0.000    4829.0    4814.0   \n",
       "sigma  0.224  0.018   0.193    0.262      0.000    0.000    4705.0    4675.0   \n",
       "hs[0]  1.010  0.032   0.952    1.072      0.000    0.000    4874.0    5024.0   \n",
       "hs[1]  1.029  0.032   0.971    1.090      0.000    0.000    4877.0    5024.0   \n",
       "hs[2]  4.992  0.052   4.894    5.086      0.001    0.001    4951.0    4666.0   \n",
       "\n",
       "       r_hat  \n",
       "w[0]     NaN  \n",
       "w[1]     NaN  \n",
       "w[2]     NaN  \n",
       "a        NaN  \n",
       "sigma    NaN  \n",
       "hs[0]    NaN  \n",
       "hs[1]    NaN  \n",
       "hs[2]    NaN  "
      ]
     },
     "execution_count": 99,
     "metadata": {},
     "output_type": "execute_result"
    }
   ],
   "source": [
    "az.summary(vi_trace, var_names=[\"w\",\"a\",\"sigma\",\"hs\"])"
   ]
  },
  {
   "cell_type": "code",
   "execution_count": null,
   "id": "daff29d3-66b8-49f2-bb92-2b257091592b",
   "metadata": {},
   "outputs": [],
   "source": []
  },
  {
   "cell_type": "code",
   "execution_count": null,
   "id": "2c4287d3-81cf-4e52-b5ad-df3f5a401a63",
   "metadata": {},
   "outputs": [],
   "source": []
  },
  {
   "cell_type": "code",
   "execution_count": null,
   "id": "0605b5b8-429a-4fc3-a473-4535869d9b1e",
   "metadata": {},
   "outputs": [],
   "source": [
    "# Next task, set prior so hs always less than h_max"
   ]
  },
  {
   "cell_type": "code",
   "execution_count": null,
   "id": "8aaa8778-7c69-4033-a7e0-7e3bd39f5d51",
   "metadata": {},
   "outputs": [],
   "source": []
  },
  {
   "cell_type": "code",
   "execution_count": null,
   "id": "9a63d5a9-9c9d-4c6a-a772-41b45e42c2e1",
   "metadata": {},
   "outputs": [],
   "source": []
  },
  {
   "cell_type": "code",
   "execution_count": null,
   "id": "cece6aa5-f491-49c6-8d28-b1cde375f7dd",
   "metadata": {},
   "outputs": [],
   "source": [
    "def pairplot_divergence(trace, ax=None, divergence=True, color=\"C3\", divergence_color=\"C2\"):\n",
    "    theta = trace.get_values(varname=\"theta\", combine=True)[:, 0]\n",
    "    logtau = trace.get_values(varname=\"tau_log__\", combine=True)\n",
    "    if not ax:\n",
    "        _, ax = plt.subplots(1, 1, figsize=(10, 5))\n",
    "    ax.plot(theta, logtau, \"o\", color=color, alpha=0.5)\n",
    "    if divergence:\n",
    "        divergent = trace[\"diverging\"]\n",
    "        ax.plot(theta[divergent], logtau[divergent], \"o\", color=divergence_color)\n",
    "    ax.set_xlabel(\"theta[0]\")\n",
    "    ax.set_ylabel(\"log(tau)\")\n",
    "    ax.set_title(\"scatter plot between log(tau) and theta[0]\")\n",
    "    return ax\n",
    "\n",
    "\n",
    "pairplot_divergence(short_trace);"
   ]
  },
  {
   "cell_type": "code",
   "execution_count": null,
   "id": "82a62a92-5078-4a7b-8084-61709d8df6bf",
   "metadata": {},
   "outputs": [],
   "source": []
  },
  {
   "cell_type": "code",
   "execution_count": 11,
   "id": "6ec0edc0-1d62-45bf-9695-de19a19dbe51",
   "metadata": {},
   "outputs": [
    {
     "name": "stderr",
     "output_type": "stream",
     "text": [
      "/home/thodson/.local/miniconda3/envs/pymc/lib/python3.7/site-packages/pymc/aesaraf.py:1010: UserWarning: The parameter 'updates' of aesara.function() expects an OrderedDict, got <class 'dict'>. Using a standard dictionary here results in non-deterministic behavior. You should use an OrderedDict if you are using Python 2.7 (collections.OrderedDict for older python), or use a list of (shared, update) pairs. Do not just convert your dictionary to this type before the call as the conversion will still be non-deterministic.\n",
      "  **kwargs,\n"
     ]
    },
    {
     "data": {
      "text/html": [
       "\n",
       "<style>\n",
       "    /* Turns off some styling */\n",
       "    progress {\n",
       "        /* gets rid of default border in Firefox and Opera. */\n",
       "        border: none;\n",
       "        /* Needs to be in here for Safari polyfill so background images work as expected. */\n",
       "        background-size: auto;\n",
       "    }\n",
       "    .progress-bar-interrupted, .progress-bar-interrupted::-webkit-progress-bar {\n",
       "        background: #F44336;\n",
       "    }\n",
       "</style>\n"
      ],
      "text/plain": [
       "<IPython.core.display.HTML object>"
      ]
     },
     "metadata": {},
     "output_type": "display_data"
    },
    {
     "data": {
      "text/html": [
       "\n",
       "    <div>\n",
       "      <progress value='17138' class='' max='30000' style='width:300px; height:20px; vertical-align: middle;'></progress>\n",
       "      57.13% [17138/30000 00:02<00:01 Average Loss = 56.623]\n",
       "    </div>\n",
       "    "
      ],
      "text/plain": [
       "<IPython.core.display.HTML object>"
      ]
     },
     "metadata": {},
     "output_type": "display_data"
    },
    {
     "ename": "FloatingPointError",
     "evalue": "NaN occurred in optimization. \nThe current approximation of RV `sigma_log__`.ravel()[0] is NaN.\nThe current approximation of RV `w`.ravel()[0] is NaN.\nThe current approximation of RV `w`.ravel()[1] is NaN.\nThe current approximation of RV `ints_log__`.ravel()[0] is NaN.\nThe current approximation of RV `a`.ravel()[0] is NaN.\nThe current approximation of RV `hss`.ravel()[0] is NaN.\nTry tracking this parameter: http://docs.pymc.io/notebooks/variational_api_quickstart.html#Tracking-parameters",
     "output_type": "error",
     "traceback": [
      "\u001b[0;31m---------------------------------------------------------------------------\u001b[0m",
      "\u001b[0;31mFloatingPointError\u001b[0m                        Traceback (most recent call last)",
      "\u001b[0;32m/tmp/ipykernel_87790/939731250.py\u001b[0m in \u001b[0;36m<module>\u001b[0;34m\u001b[0m\n\u001b[1;32m      1\u001b[0m \u001b[0;32mwith\u001b[0m \u001b[0mmodel\u001b[0m\u001b[0;34m:\u001b[0m\u001b[0;34m\u001b[0m\u001b[0;34m\u001b[0m\u001b[0m\n\u001b[0;32m----> 2\u001b[0;31m     \u001b[0mmean_field\u001b[0m \u001b[0;34m=\u001b[0m \u001b[0mpm\u001b[0m\u001b[0;34m.\u001b[0m\u001b[0mfit\u001b[0m\u001b[0;34m(\u001b[0m\u001b[0mmethod\u001b[0m\u001b[0;34m=\u001b[0m\u001b[0;34m\"advi\"\u001b[0m\u001b[0;34m,\u001b[0m \u001b[0mn\u001b[0m\u001b[0;34m=\u001b[0m\u001b[0;36m30_000\u001b[0m\u001b[0;34m)\u001b[0m\u001b[0;34m\u001b[0m\u001b[0;34m\u001b[0m\u001b[0m\n\u001b[0m",
      "\u001b[0;32m~/.local/miniconda3/envs/pymc/lib/python3.7/site-packages/pymc/variational/inference.py\u001b[0m in \u001b[0;36mfit\u001b[0;34m(n, local_rv, method, model, random_seed, start, inf_kwargs, **kwargs)\u001b[0m\n\u001b[1;32m    828\u001b[0m     \u001b[0;32melse\u001b[0m\u001b[0;34m:\u001b[0m\u001b[0;34m\u001b[0m\u001b[0;34m\u001b[0m\u001b[0m\n\u001b[1;32m    829\u001b[0m         \u001b[0;32mraise\u001b[0m \u001b[0mTypeError\u001b[0m\u001b[0;34m(\u001b[0m\u001b[0;34mf\"method should be one of {set(_select.keys())} or Inference instance\"\u001b[0m\u001b[0;34m)\u001b[0m\u001b[0;34m\u001b[0m\u001b[0;34m\u001b[0m\u001b[0m\n\u001b[0;32m--> 830\u001b[0;31m     \u001b[0;32mreturn\u001b[0m \u001b[0minference\u001b[0m\u001b[0;34m.\u001b[0m\u001b[0mfit\u001b[0m\u001b[0;34m(\u001b[0m\u001b[0mn\u001b[0m\u001b[0;34m,\u001b[0m \u001b[0;34m**\u001b[0m\u001b[0mkwargs\u001b[0m\u001b[0;34m)\u001b[0m\u001b[0;34m\u001b[0m\u001b[0;34m\u001b[0m\u001b[0m\n\u001b[0m",
      "\u001b[0;32m~/.local/miniconda3/envs/pymc/lib/python3.7/site-packages/pymc/variational/inference.py\u001b[0m in \u001b[0;36mfit\u001b[0;34m(self, n, score, callbacks, progressbar, **kwargs)\u001b[0m\n\u001b[1;32m    148\u001b[0m             \u001b[0mprogress\u001b[0m \u001b[0;34m=\u001b[0m \u001b[0mrange\u001b[0m\u001b[0;34m(\u001b[0m\u001b[0mn\u001b[0m\u001b[0;34m)\u001b[0m\u001b[0;34m\u001b[0m\u001b[0;34m\u001b[0m\u001b[0m\n\u001b[1;32m    149\u001b[0m         \u001b[0;32mif\u001b[0m \u001b[0mscore\u001b[0m\u001b[0;34m:\u001b[0m\u001b[0;34m\u001b[0m\u001b[0;34m\u001b[0m\u001b[0m\n\u001b[0;32m--> 150\u001b[0;31m             \u001b[0mstate\u001b[0m \u001b[0;34m=\u001b[0m \u001b[0mself\u001b[0m\u001b[0;34m.\u001b[0m\u001b[0m_iterate_with_loss\u001b[0m\u001b[0;34m(\u001b[0m\u001b[0;36m0\u001b[0m\u001b[0;34m,\u001b[0m \u001b[0mn\u001b[0m\u001b[0;34m,\u001b[0m \u001b[0mstep_func\u001b[0m\u001b[0;34m,\u001b[0m \u001b[0mprogress\u001b[0m\u001b[0;34m,\u001b[0m \u001b[0mcallbacks\u001b[0m\u001b[0;34m)\u001b[0m\u001b[0;34m\u001b[0m\u001b[0;34m\u001b[0m\u001b[0m\n\u001b[0m\u001b[1;32m    151\u001b[0m         \u001b[0;32melse\u001b[0m\u001b[0;34m:\u001b[0m\u001b[0;34m\u001b[0m\u001b[0;34m\u001b[0m\u001b[0m\n\u001b[1;32m    152\u001b[0m             \u001b[0mstate\u001b[0m \u001b[0;34m=\u001b[0m \u001b[0mself\u001b[0m\u001b[0;34m.\u001b[0m\u001b[0m_iterate_without_loss\u001b[0m\u001b[0;34m(\u001b[0m\u001b[0;36m0\u001b[0m\u001b[0;34m,\u001b[0m \u001b[0mn\u001b[0m\u001b[0;34m,\u001b[0m \u001b[0mstep_func\u001b[0m\u001b[0;34m,\u001b[0m \u001b[0mprogress\u001b[0m\u001b[0;34m,\u001b[0m \u001b[0mcallbacks\u001b[0m\u001b[0;34m)\u001b[0m\u001b[0;34m\u001b[0m\u001b[0;34m\u001b[0m\u001b[0m\n",
      "\u001b[0;32m~/.local/miniconda3/envs/pymc/lib/python3.7/site-packages/pymc/variational/inference.py\u001b[0m in \u001b[0;36m_iterate_with_loss\u001b[0;34m(self, s, n, step_func, progress, callbacks)\u001b[0m\n\u001b[1;32m    234\u001b[0m                     \u001b[0;32mexcept\u001b[0m \u001b[0mIndexError\u001b[0m\u001b[0;34m:\u001b[0m\u001b[0;34m\u001b[0m\u001b[0;34m\u001b[0m\u001b[0m\n\u001b[1;32m    235\u001b[0m                         \u001b[0;32mpass\u001b[0m\u001b[0;34m\u001b[0m\u001b[0;34m\u001b[0m\u001b[0m\n\u001b[0;32m--> 236\u001b[0;31m                     \u001b[0;32mraise\u001b[0m \u001b[0mFloatingPointError\u001b[0m\u001b[0;34m(\u001b[0m\u001b[0;34m\"\\n\"\u001b[0m\u001b[0;34m.\u001b[0m\u001b[0mjoin\u001b[0m\u001b[0;34m(\u001b[0m\u001b[0merrmsg\u001b[0m\u001b[0;34m)\u001b[0m\u001b[0;34m)\u001b[0m\u001b[0;34m\u001b[0m\u001b[0;34m\u001b[0m\u001b[0m\n\u001b[0m\u001b[1;32m    237\u001b[0m                 \u001b[0mscores\u001b[0m\u001b[0;34m[\u001b[0m\u001b[0mi\u001b[0m\u001b[0;34m]\u001b[0m \u001b[0;34m=\u001b[0m \u001b[0me\u001b[0m\u001b[0;34m\u001b[0m\u001b[0;34m\u001b[0m\u001b[0m\n\u001b[1;32m    238\u001b[0m                 \u001b[0;32mif\u001b[0m \u001b[0mi\u001b[0m \u001b[0;34m%\u001b[0m \u001b[0;36m10\u001b[0m \u001b[0;34m==\u001b[0m \u001b[0;36m0\u001b[0m\u001b[0;34m:\u001b[0m\u001b[0;34m\u001b[0m\u001b[0;34m\u001b[0m\u001b[0m\n",
      "\u001b[0;31mFloatingPointError\u001b[0m: NaN occurred in optimization. \nThe current approximation of RV `sigma_log__`.ravel()[0] is NaN.\nThe current approximation of RV `w`.ravel()[0] is NaN.\nThe current approximation of RV `w`.ravel()[1] is NaN.\nThe current approximation of RV `ints_log__`.ravel()[0] is NaN.\nThe current approximation of RV `a`.ravel()[0] is NaN.\nThe current approximation of RV `hss`.ravel()[0] is NaN.\nTry tracking this parameter: http://docs.pymc.io/notebooks/variational_api_quickstart.html#Tracking-parameters"
     ]
    }
   ],
   "source": [
    "with model:\n",
    "    mean_field = pm.fit(method=\"advi\", n=30_000)"
   ]
  },
  {
   "cell_type": "code",
   "execution_count": 19,
   "id": "b517ef3f-0c2f-4e64-a789-f0ab0661897b",
   "metadata": {},
   "outputs": [],
   "source": [
    "vi_trace = mean_field.sample(5000)\n"
   ]
  },
  {
   "cell_type": "code",
   "execution_count": 22,
   "id": "3ac6a497-cc02-43ae-ac89-3ff1d8937c5e",
   "metadata": {},
   "outputs": [
    {
     "data": {
      "image/png": "[encoded data removed]",
      "text/plain": [
       "<Figure size 432x547.2 with 1 Axes>"
      ]
     },
     "metadata": {
      "needs_background": "light"
     },
     "output_type": "display_data"
    }
   ],
   "source": [
    "az.plot_forest(vi_trace, var_names=[\"w\",\"a\",\"sigma\", \"hs\"], combined=False);"
   ]
  },
  {
   "cell_type": "code",
   "execution_count": 25,
   "id": "4100f64a-5273-4e78-9696-7f9df9d06ea0",
   "metadata": {},
   "outputs": [
    {
     "name": "stderr",
     "output_type": "stream",
     "text": [
      "arviz - WARNING - Shape validation failed: input_shape: (1, 5000), minimum_shape: (chains=2, draws=4)\n"
     ]
    },
    {
     "data": {
      "text/html": [
       "<div>\n",
       "<style scoped>\n",
       "    .dataframe tbody tr th:only-of-type {\n",
       "        vertical-align: middle;\n",
       "    }\n",
       "\n",
       "    .dataframe tbody tr th {\n",
       "        vertical-align: top;\n",
       "    }\n",
       "\n",
       "    .dataframe thead th {\n",
       "        text-align: right;\n",
       "    }\n",
       "</style>\n",
       "<table border=\"1\" class=\"dataframe\">\n",
       "  <thead>\n",
       "    <tr style=\"text-align: right;\">\n",
       "      <th></th>\n",
       "      <th>mean</th>\n",
       "      <th>sd</th>\n",
       "      <th>hdi_3%</th>\n",
       "      <th>hdi_97%</th>\n",
       "      <th>mcse_mean</th>\n",
       "      <th>mcse_sd</th>\n",
       "      <th>ess_bulk</th>\n",
       "      <th>ess_tail</th>\n",
       "      <th>r_hat</th>\n",
       "    </tr>\n",
       "  </thead>\n",
       "  <tbody>\n",
       "    <tr>\n",
       "      <th>w[0]</th>\n",
       "      <td>1.785</td>\n",
       "      <td>0.094</td>\n",
       "      <td>1.602</td>\n",
       "      <td>1.947</td>\n",
       "      <td>0.001</td>\n",
       "      <td>0.001</td>\n",
       "      <td>4788.0</td>\n",
       "      <td>4846.0</td>\n",
       "      <td>NaN</td>\n",
       "    </tr>\n",
       "    <tr>\n",
       "      <th>w[1]</th>\n",
       "      <td>1.911</td>\n",
       "      <td>0.313</td>\n",
       "      <td>1.346</td>\n",
       "      <td>2.500</td>\n",
       "      <td>0.004</td>\n",
       "      <td>0.003</td>\n",
       "      <td>4917.0</td>\n",
       "      <td>4527.0</td>\n",
       "      <td>NaN</td>\n",
       "    </tr>\n",
       "    <tr>\n",
       "      <th>a</th>\n",
       "      <td>-3.509</td>\n",
       "      <td>0.214</td>\n",
       "      <td>-3.893</td>\n",
       "      <td>-3.094</td>\n",
       "      <td>0.003</td>\n",
       "      <td>0.002</td>\n",
       "      <td>4863.0</td>\n",
       "      <td>4452.0</td>\n",
       "      <td>NaN</td>\n",
       "    </tr>\n",
       "    <tr>\n",
       "      <th>sigma</th>\n",
       "      <td>0.673</td>\n",
       "      <td>0.131</td>\n",
       "      <td>0.450</td>\n",
       "      <td>0.924</td>\n",
       "      <td>0.002</td>\n",
       "      <td>0.001</td>\n",
       "      <td>4810.0</td>\n",
       "      <td>4561.0</td>\n",
       "      <td>NaN</td>\n",
       "    </tr>\n",
       "    <tr>\n",
       "      <th>hs[0]</th>\n",
       "      <td>1.541</td>\n",
       "      <td>0.820</td>\n",
       "      <td>0.023</td>\n",
       "      <td>3.076</td>\n",
       "      <td>0.012</td>\n",
       "      <td>0.008</td>\n",
       "      <td>4840.0</td>\n",
       "      <td>4795.0</td>\n",
       "      <td>NaN</td>\n",
       "    </tr>\n",
       "    <tr>\n",
       "      <th>hs[1]</th>\n",
       "      <td>34.150</td>\n",
       "      <td>31.218</td>\n",
       "      <td>3.624</td>\n",
       "      <td>82.823</td>\n",
       "      <td>0.460</td>\n",
       "      <td>0.325</td>\n",
       "      <td>4891.0</td>\n",
       "      <td>4621.0</td>\n",
       "      <td>NaN</td>\n",
       "    </tr>\n",
       "  </tbody>\n",
       "</table>\n",
       "</div>"
      ],
      "text/plain": [
       "         mean      sd  hdi_3%  hdi_97%  mcse_mean  mcse_sd  ess_bulk  \\\n",
       "w[0]    1.785   0.094   1.602    1.947      0.001    0.001    4788.0   \n",
       "w[1]    1.911   0.313   1.346    2.500      0.004    0.003    4917.0   \n",
       "a      -3.509   0.214  -3.893   -3.094      0.003    0.002    4863.0   \n",
       "sigma   0.673   0.131   0.450    0.924      0.002    0.001    4810.0   \n",
       "hs[0]   1.541   0.820   0.023    3.076      0.012    0.008    4840.0   \n",
       "hs[1]  34.150  31.218   3.624   82.823      0.460    0.325    4891.0   \n",
       "\n",
       "       ess_tail  r_hat  \n",
       "w[0]     4846.0    NaN  \n",
       "w[1]     4527.0    NaN  \n",
       "a        4452.0    NaN  \n",
       "sigma    4561.0    NaN  \n",
       "hs[0]    4795.0    NaN  \n",
       "hs[1]    4621.0    NaN  "
      ]
     },
     "execution_count": 25,
     "metadata": {},
     "output_type": "execute_result"
    }
   ],
   "source": [
    "az.summary(vi_trace, var_names=[\"w\",\"a\",\"sigma\", \"hs\"])"
   ]
  },
  {
   "cell_type": "code",
   "execution_count": 26,
   "id": "bbb2286e-0d0d-42d2-bc54-e9a83d8d8547",
   "metadata": {},
   "outputs": [
    {
     "name": "stderr",
     "output_type": "stream",
     "text": [
      "Auto-assigning NUTS sampler...\n",
      "Initializing NUTS using jitter+adapt_diag...\n",
      "/home/thodson/.local/miniconda3/envs/pymc/lib/python3.7/site-packages/pymc/aesaraf.py:1010: UserWarning: The parameter 'updates' of aesara.function() expects an OrderedDict, got <class 'dict'>. Using a standard dictionary here results in non-deterministic behavior. You should use an OrderedDict if you are using Python 2.7 (collections.OrderedDict for older python), or use a list of (shared, update) pairs. Do not just convert your dictionary to this type before the call as the conversion will still be non-deterministic.\n",
      "  **kwargs,\n",
      "Sequential sampling (1 chains in 1 job)\n",
      "NUTS: [w, a, hss, ints, sigma]\n"
     ]
    },
    {
     "data": {
      "text/html": [
       "\n",
       "<style>\n",
       "    /* Turns off some styling */\n",
       "    progress {\n",
       "        /* gets rid of default border in Firefox and Opera. */\n",
       "        border: none;\n",
       "        /* Needs to be in here for Safari polyfill so background images work as expected. */\n",
       "        background-size: auto;\n",
       "    }\n",
       "    .progress-bar-interrupted, .progress-bar-interrupted::-webkit-progress-bar {\n",
       "        background: #F44336;\n",
       "    }\n",
       "</style>\n"
      ],
      "text/plain": [
       "<IPython.core.display.HTML object>"
      ]
     },
     "metadata": {},
     "output_type": "display_data"
    },
    {
     "data": {
      "text/html": [
       "\n",
       "    <div>\n",
       "      <progress value='3000' class='' max='3000' style='width:300px; height:20px; vertical-align: middle;'></progress>\n",
       "      100.00% [3000/3000 02:30<00:00 Sampling chain 0, 0 divergences]\n",
       "    </div>\n",
       "    "
      ],
      "text/plain": [
       "<IPython.core.display.HTML object>"
      ]
     },
     "metadata": {},
     "output_type": "display_data"
    },
    {
     "name": "stderr",
     "output_type": "stream",
     "text": [
      "Sampling 1 chain for 2_000 tune and 1_000 draw iterations (2_000 + 1_000 draws total) took 151 seconds.\n",
      "Only one chain was sampled, this makes it impossible to run some convergence checks\n"
     ]
    }
   ],
   "source": [
    "# CompileD XXXX\n",
    "with model:\n",
    "    trace = pm.sample(tune=2000, chains=1, target_accept=0.95)"
   ]
  },
  {
   "cell_type": "code",
   "execution_count": 24,
   "id": "8d526ed6-ead7-49b0-a104-8e416e6f8b02",
   "metadata": {},
   "outputs": [
    {
     "data": {
      "image/png": "[encoded data removed]",
      "text/plain": [
       "<Figure size 432x547.2 with 1 Axes>"
      ]
     },
     "metadata": {
      "needs_background": "light"
     },
     "output_type": "display_data"
    }
   ],
   "source": [
    "import arviz as az\n",
    "\n",
    "az.plot_forest(trace, var_names=[\"hs\",\"a\",\"w\",\"sigma\"], combined=False);"
   ]
  },
  {
   "cell_type": "code",
   "execution_count": 3,
   "id": "50398238-1b05-4b76-941c-213503cb62ed",
   "metadata": {},
   "outputs": [],
   "source": [
    "#https://github.com/aesara-devs/aesara"
   ]
  }
 ],
 "metadata": {
  "kernelspec": {
   "display_name": "Python 3 (ipykernel)",
   "language": "python",
   "name": "python3"
  },
  "language_info": {
   "codemirror_mode": {
    "name": "ipython",
    "version": 3
   },
   "file_extension": ".py",
   "mimetype": "text/x-python",
   "name": "python",
   "nbconvert_exporter": "python",
   "pygments_lexer": "ipython3",
   "version": "3.7.13"
  }
 },
 "nbformat": 4,
 "nbformat_minor": 5
}
